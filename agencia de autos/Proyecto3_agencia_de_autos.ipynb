{
  "cells": [
    {
      "cell_type": "markdown",
      "metadata": {
        "id": "ey9ZhQ_8meg0"
      },
      "source": [
        "# Proyecto: agencia de autos\n",
        "\n",
        "Analizaré los datos recopilados durante los últimos años por la agencia de autos para detreminar que factores influyen en el precio del vehículo.\n"
      ]
    },
    {
      "cell_type": "markdown",
      "metadata": {
        "id": "ZLLzh9Wymeg3"
      },
      "source": [
        "Para comenzar, importaré las librerías y la base de datos con la que trabajaré durante este proyecto. "
      ]
    },
    {
      "cell_type": "markdown",
      "metadata": {
        "id": "GLA4fBF3meg3"
      },
      "source": [
        "## Inicialización"
      ]
    },
    {
      "cell_type": "code",
      "execution_count": null,
      "metadata": {
        "id": "rKbNEJlkmeg4"
      },
      "outputs": [],
      "source": [
        "# Cargar todas las librerías\n",
        "import pandas as pd\n",
        "import matplotlib.pyplot as plt\n"
      ]
    },
    {
      "cell_type": "markdown",
      "metadata": {
        "id": "b1SnVpflmeg4"
      },
      "source": [
        "### Cargar datos"
      ]
    },
    {
      "cell_type": "code",
      "execution_count": null,
      "metadata": {
        "id": "h6NqLMbomeg4"
      },
      "outputs": [],
      "source": [
        "# Carga el archivo de datos en un DataFrame\n",
        "\n",
        "df= pd.read_csv('/datasets/vehicles_us.csv')"
      ]
    },
    {
      "cell_type": "markdown",
      "metadata": {
        "id": "1N-xCMqfmeg5"
      },
      "source": [
        "### Explorar datos iniciales"
      ]
    },
    {
      "cell_type": "markdown",
      "metadata": {
        "id": "UUZ574MHmeg5"
      },
      "source": [
        "El dataset contiene los siguientes campos:\n",
        "- `price`\n",
        "- `model_year`\n",
        "- `model`\n",
        "- `condition`\n",
        "- `cylinders`\n",
        "- `fuel` — gasolina, diesel, etc.\n",
        "- `odometer` — el millaje del vehículo cuando el anuncio fue publicado\n",
        "- `transmission`\n",
        "- `paint_color`\n",
        "- `is_4wd` — si el vehículo tiene tracción a las 4 ruedas (tipo Booleano)\n",
        "- `date_posted` — la fecha en la que el anuncio fue publicado\n",
        "- `days_listed` — desde la publicación hasta que se elimina\n",
        "\n"
      ]
    },
    {
      "cell_type": "code",
      "execution_count": null,
      "metadata": {
        "id": "vBdtk8MQmeg5",
        "outputId": "56044de8-4bda-4cfc-9ef6-ee5aab623659"
      },
      "outputs": [
        {
          "name": "stdout",
          "output_type": "stream",
          "text": [
            "<class 'pandas.core.frame.DataFrame'>\n",
            "RangeIndex: 51525 entries, 0 to 51524\n",
            "Data columns (total 13 columns):\n",
            " #   Column        Non-Null Count  Dtype  \n",
            "---  ------        --------------  -----  \n",
            " 0   price         51525 non-null  int64  \n",
            " 1   model_year    47906 non-null  float64\n",
            " 2   model         51525 non-null  object \n",
            " 3   condition     51525 non-null  object \n",
            " 4   cylinders     46265 non-null  float64\n",
            " 5   fuel          51525 non-null  object \n",
            " 6   odometer      43633 non-null  float64\n",
            " 7   transmission  51525 non-null  object \n",
            " 8   type          51525 non-null  object \n",
            " 9   paint_color   42258 non-null  object \n",
            " 10  is_4wd        25572 non-null  float64\n",
            " 11  date_posted   51525 non-null  object \n",
            " 12  days_listed   51525 non-null  int64  \n",
            "dtypes: float64(4), int64(2), object(7)\n",
            "memory usage: 5.1+ MB\n"
          ]
        }
      ],
      "source": [
        "# imprime la información general/resumida sobre el DataFrame\n",
        "\n",
        "df.info()"
      ]
    },
    {
      "cell_type": "code",
      "execution_count": null,
      "metadata": {
        "id": "jlBU8x0Cmeg6",
        "outputId": "0683a7ac-2c86-44f9-8878-ea2a63f571f0"
      },
      "outputs": [
        {
          "data": {
            "text/html": [
              "<div>\n",
              "<style scoped>\n",
              "    .dataframe tbody tr th:only-of-type {\n",
              "        vertical-align: middle;\n",
              "    }\n",
              "\n",
              "    .dataframe tbody tr th {\n",
              "        vertical-align: top;\n",
              "    }\n",
              "\n",
              "    .dataframe thead th {\n",
              "        text-align: right;\n",
              "    }\n",
              "</style>\n",
              "<table border=\"1\" class=\"dataframe\">\n",
              "  <thead>\n",
              "    <tr style=\"text-align: right;\">\n",
              "      <th></th>\n",
              "      <th>price</th>\n",
              "      <th>model_year</th>\n",
              "      <th>model</th>\n",
              "      <th>condition</th>\n",
              "      <th>cylinders</th>\n",
              "      <th>fuel</th>\n",
              "      <th>odometer</th>\n",
              "      <th>transmission</th>\n",
              "      <th>type</th>\n",
              "      <th>paint_color</th>\n",
              "      <th>is_4wd</th>\n",
              "      <th>date_posted</th>\n",
              "      <th>days_listed</th>\n",
              "    </tr>\n",
              "  </thead>\n",
              "  <tbody>\n",
              "    <tr>\n",
              "      <th>0</th>\n",
              "      <td>9400</td>\n",
              "      <td>2011.0</td>\n",
              "      <td>bmw x5</td>\n",
              "      <td>good</td>\n",
              "      <td>6.0</td>\n",
              "      <td>gas</td>\n",
              "      <td>145000.0</td>\n",
              "      <td>automatic</td>\n",
              "      <td>SUV</td>\n",
              "      <td>NaN</td>\n",
              "      <td>1.0</td>\n",
              "      <td>2018-06-23</td>\n",
              "      <td>19</td>\n",
              "    </tr>\n",
              "    <tr>\n",
              "      <th>1</th>\n",
              "      <td>25500</td>\n",
              "      <td>NaN</td>\n",
              "      <td>ford f-150</td>\n",
              "      <td>good</td>\n",
              "      <td>6.0</td>\n",
              "      <td>gas</td>\n",
              "      <td>88705.0</td>\n",
              "      <td>automatic</td>\n",
              "      <td>pickup</td>\n",
              "      <td>white</td>\n",
              "      <td>1.0</td>\n",
              "      <td>2018-10-19</td>\n",
              "      <td>50</td>\n",
              "    </tr>\n",
              "    <tr>\n",
              "      <th>2</th>\n",
              "      <td>5500</td>\n",
              "      <td>2013.0</td>\n",
              "      <td>hyundai sonata</td>\n",
              "      <td>like new</td>\n",
              "      <td>4.0</td>\n",
              "      <td>gas</td>\n",
              "      <td>110000.0</td>\n",
              "      <td>automatic</td>\n",
              "      <td>sedan</td>\n",
              "      <td>red</td>\n",
              "      <td>NaN</td>\n",
              "      <td>2019-02-07</td>\n",
              "      <td>79</td>\n",
              "    </tr>\n",
              "    <tr>\n",
              "      <th>3</th>\n",
              "      <td>1500</td>\n",
              "      <td>2003.0</td>\n",
              "      <td>ford f-150</td>\n",
              "      <td>fair</td>\n",
              "      <td>8.0</td>\n",
              "      <td>gas</td>\n",
              "      <td>NaN</td>\n",
              "      <td>automatic</td>\n",
              "      <td>pickup</td>\n",
              "      <td>NaN</td>\n",
              "      <td>NaN</td>\n",
              "      <td>2019-03-22</td>\n",
              "      <td>9</td>\n",
              "    </tr>\n",
              "    <tr>\n",
              "      <th>4</th>\n",
              "      <td>14900</td>\n",
              "      <td>2017.0</td>\n",
              "      <td>chrysler 200</td>\n",
              "      <td>excellent</td>\n",
              "      <td>4.0</td>\n",
              "      <td>gas</td>\n",
              "      <td>80903.0</td>\n",
              "      <td>automatic</td>\n",
              "      <td>sedan</td>\n",
              "      <td>black</td>\n",
              "      <td>NaN</td>\n",
              "      <td>2019-04-02</td>\n",
              "      <td>28</td>\n",
              "    </tr>\n",
              "    <tr>\n",
              "      <th>5</th>\n",
              "      <td>14990</td>\n",
              "      <td>2014.0</td>\n",
              "      <td>chrysler 300</td>\n",
              "      <td>excellent</td>\n",
              "      <td>6.0</td>\n",
              "      <td>gas</td>\n",
              "      <td>57954.0</td>\n",
              "      <td>automatic</td>\n",
              "      <td>sedan</td>\n",
              "      <td>black</td>\n",
              "      <td>1.0</td>\n",
              "      <td>2018-06-20</td>\n",
              "      <td>15</td>\n",
              "    </tr>\n",
              "    <tr>\n",
              "      <th>6</th>\n",
              "      <td>12990</td>\n",
              "      <td>2015.0</td>\n",
              "      <td>toyota camry</td>\n",
              "      <td>excellent</td>\n",
              "      <td>4.0</td>\n",
              "      <td>gas</td>\n",
              "      <td>79212.0</td>\n",
              "      <td>automatic</td>\n",
              "      <td>sedan</td>\n",
              "      <td>white</td>\n",
              "      <td>NaN</td>\n",
              "      <td>2018-12-27</td>\n",
              "      <td>73</td>\n",
              "    </tr>\n",
              "    <tr>\n",
              "      <th>7</th>\n",
              "      <td>15990</td>\n",
              "      <td>2013.0</td>\n",
              "      <td>honda pilot</td>\n",
              "      <td>excellent</td>\n",
              "      <td>6.0</td>\n",
              "      <td>gas</td>\n",
              "      <td>109473.0</td>\n",
              "      <td>automatic</td>\n",
              "      <td>SUV</td>\n",
              "      <td>black</td>\n",
              "      <td>1.0</td>\n",
              "      <td>2019-01-07</td>\n",
              "      <td>68</td>\n",
              "    </tr>\n",
              "    <tr>\n",
              "      <th>8</th>\n",
              "      <td>11500</td>\n",
              "      <td>2012.0</td>\n",
              "      <td>kia sorento</td>\n",
              "      <td>excellent</td>\n",
              "      <td>4.0</td>\n",
              "      <td>gas</td>\n",
              "      <td>104174.0</td>\n",
              "      <td>automatic</td>\n",
              "      <td>SUV</td>\n",
              "      <td>NaN</td>\n",
              "      <td>1.0</td>\n",
              "      <td>2018-07-16</td>\n",
              "      <td>19</td>\n",
              "    </tr>\n",
              "    <tr>\n",
              "      <th>9</th>\n",
              "      <td>9200</td>\n",
              "      <td>2008.0</td>\n",
              "      <td>honda pilot</td>\n",
              "      <td>excellent</td>\n",
              "      <td>NaN</td>\n",
              "      <td>gas</td>\n",
              "      <td>147191.0</td>\n",
              "      <td>automatic</td>\n",
              "      <td>SUV</td>\n",
              "      <td>blue</td>\n",
              "      <td>1.0</td>\n",
              "      <td>2019-02-15</td>\n",
              "      <td>17</td>\n",
              "    </tr>\n",
              "    <tr>\n",
              "      <th>10</th>\n",
              "      <td>19500</td>\n",
              "      <td>2011.0</td>\n",
              "      <td>chevrolet silverado 1500</td>\n",
              "      <td>excellent</td>\n",
              "      <td>8.0</td>\n",
              "      <td>gas</td>\n",
              "      <td>128413.0</td>\n",
              "      <td>automatic</td>\n",
              "      <td>pickup</td>\n",
              "      <td>black</td>\n",
              "      <td>1.0</td>\n",
              "      <td>2018-09-17</td>\n",
              "      <td>38</td>\n",
              "    </tr>\n",
              "    <tr>\n",
              "      <th>11</th>\n",
              "      <td>8990</td>\n",
              "      <td>2012.0</td>\n",
              "      <td>honda accord</td>\n",
              "      <td>excellent</td>\n",
              "      <td>4.0</td>\n",
              "      <td>gas</td>\n",
              "      <td>111142.0</td>\n",
              "      <td>automatic</td>\n",
              "      <td>sedan</td>\n",
              "      <td>grey</td>\n",
              "      <td>NaN</td>\n",
              "      <td>2019-03-28</td>\n",
              "      <td>29</td>\n",
              "    </tr>\n",
              "    <tr>\n",
              "      <th>12</th>\n",
              "      <td>18990</td>\n",
              "      <td>2012.0</td>\n",
              "      <td>ram 1500</td>\n",
              "      <td>excellent</td>\n",
              "      <td>8.0</td>\n",
              "      <td>gas</td>\n",
              "      <td>140742.0</td>\n",
              "      <td>automatic</td>\n",
              "      <td>pickup</td>\n",
              "      <td>NaN</td>\n",
              "      <td>1.0</td>\n",
              "      <td>2019-04-02</td>\n",
              "      <td>37</td>\n",
              "    </tr>\n",
              "    <tr>\n",
              "      <th>13</th>\n",
              "      <td>16500</td>\n",
              "      <td>2018.0</td>\n",
              "      <td>hyundai sonata</td>\n",
              "      <td>excellent</td>\n",
              "      <td>4.0</td>\n",
              "      <td>gas</td>\n",
              "      <td>22104.0</td>\n",
              "      <td>automatic</td>\n",
              "      <td>sedan</td>\n",
              "      <td>silver</td>\n",
              "      <td>NaN</td>\n",
              "      <td>2019-01-14</td>\n",
              "      <td>29</td>\n",
              "    </tr>\n",
              "    <tr>\n",
              "      <th>14</th>\n",
              "      <td>12990</td>\n",
              "      <td>2009.0</td>\n",
              "      <td>gmc yukon</td>\n",
              "      <td>excellent</td>\n",
              "      <td>8.0</td>\n",
              "      <td>gas</td>\n",
              "      <td>132285.0</td>\n",
              "      <td>automatic</td>\n",
              "      <td>SUV</td>\n",
              "      <td>black</td>\n",
              "      <td>1.0</td>\n",
              "      <td>2019-01-31</td>\n",
              "      <td>24</td>\n",
              "    </tr>\n",
              "    <tr>\n",
              "      <th>15</th>\n",
              "      <td>17990</td>\n",
              "      <td>2013.0</td>\n",
              "      <td>ram 1500</td>\n",
              "      <td>excellent</td>\n",
              "      <td>8.0</td>\n",
              "      <td>gas</td>\n",
              "      <td>NaN</td>\n",
              "      <td>automatic</td>\n",
              "      <td>pickup</td>\n",
              "      <td>red</td>\n",
              "      <td>1.0</td>\n",
              "      <td>2018-05-15</td>\n",
              "      <td>111</td>\n",
              "    </tr>\n",
              "    <tr>\n",
              "      <th>16</th>\n",
              "      <td>14990</td>\n",
              "      <td>2010.0</td>\n",
              "      <td>ram 1500</td>\n",
              "      <td>excellent</td>\n",
              "      <td>8.0</td>\n",
              "      <td>gas</td>\n",
              "      <td>130725.0</td>\n",
              "      <td>automatic</td>\n",
              "      <td>pickup</td>\n",
              "      <td>red</td>\n",
              "      <td>1.0</td>\n",
              "      <td>2018-12-30</td>\n",
              "      <td>13</td>\n",
              "    </tr>\n",
              "    <tr>\n",
              "      <th>17</th>\n",
              "      <td>13990</td>\n",
              "      <td>2014.0</td>\n",
              "      <td>jeep cherokee</td>\n",
              "      <td>excellent</td>\n",
              "      <td>6.0</td>\n",
              "      <td>gas</td>\n",
              "      <td>100669.0</td>\n",
              "      <td>automatic</td>\n",
              "      <td>SUV</td>\n",
              "      <td>red</td>\n",
              "      <td>1.0</td>\n",
              "      <td>2018-08-16</td>\n",
              "      <td>25</td>\n",
              "    </tr>\n",
              "    <tr>\n",
              "      <th>18</th>\n",
              "      <td>12500</td>\n",
              "      <td>2013.0</td>\n",
              "      <td>chevrolet traverse</td>\n",
              "      <td>excellent</td>\n",
              "      <td>6.0</td>\n",
              "      <td>gas</td>\n",
              "      <td>128325.0</td>\n",
              "      <td>automatic</td>\n",
              "      <td>SUV</td>\n",
              "      <td>white</td>\n",
              "      <td>1.0</td>\n",
              "      <td>2019-04-09</td>\n",
              "      <td>13</td>\n",
              "    </tr>\n",
              "    <tr>\n",
              "      <th>19</th>\n",
              "      <td>13990</td>\n",
              "      <td>2018.0</td>\n",
              "      <td>hyundai elantra</td>\n",
              "      <td>excellent</td>\n",
              "      <td>4.0</td>\n",
              "      <td>gas</td>\n",
              "      <td>31932.0</td>\n",
              "      <td>automatic</td>\n",
              "      <td>sedan</td>\n",
              "      <td>red</td>\n",
              "      <td>NaN</td>\n",
              "      <td>2018-08-25</td>\n",
              "      <td>27</td>\n",
              "    </tr>\n",
              "  </tbody>\n",
              "</table>\n",
              "</div>"
            ],
            "text/plain": [
              "    price  model_year                     model  condition  cylinders fuel  \\\n",
              "0    9400      2011.0                    bmw x5       good        6.0  gas   \n",
              "1   25500         NaN                ford f-150       good        6.0  gas   \n",
              "2    5500      2013.0            hyundai sonata   like new        4.0  gas   \n",
              "3    1500      2003.0                ford f-150       fair        8.0  gas   \n",
              "4   14900      2017.0              chrysler 200  excellent        4.0  gas   \n",
              "5   14990      2014.0              chrysler 300  excellent        6.0  gas   \n",
              "6   12990      2015.0              toyota camry  excellent        4.0  gas   \n",
              "7   15990      2013.0               honda pilot  excellent        6.0  gas   \n",
              "8   11500      2012.0               kia sorento  excellent        4.0  gas   \n",
              "9    9200      2008.0               honda pilot  excellent        NaN  gas   \n",
              "10  19500      2011.0  chevrolet silverado 1500  excellent        8.0  gas   \n",
              "11   8990      2012.0              honda accord  excellent        4.0  gas   \n",
              "12  18990      2012.0                  ram 1500  excellent        8.0  gas   \n",
              "13  16500      2018.0            hyundai sonata  excellent        4.0  gas   \n",
              "14  12990      2009.0                 gmc yukon  excellent        8.0  gas   \n",
              "15  17990      2013.0                  ram 1500  excellent        8.0  gas   \n",
              "16  14990      2010.0                  ram 1500  excellent        8.0  gas   \n",
              "17  13990      2014.0             jeep cherokee  excellent        6.0  gas   \n",
              "18  12500      2013.0        chevrolet traverse  excellent        6.0  gas   \n",
              "19  13990      2018.0           hyundai elantra  excellent        4.0  gas   \n",
              "\n",
              "    odometer transmission    type paint_color  is_4wd date_posted  days_listed  \n",
              "0   145000.0    automatic     SUV         NaN     1.0  2018-06-23           19  \n",
              "1    88705.0    automatic  pickup       white     1.0  2018-10-19           50  \n",
              "2   110000.0    automatic   sedan         red     NaN  2019-02-07           79  \n",
              "3        NaN    automatic  pickup         NaN     NaN  2019-03-22            9  \n",
              "4    80903.0    automatic   sedan       black     NaN  2019-04-02           28  \n",
              "5    57954.0    automatic   sedan       black     1.0  2018-06-20           15  \n",
              "6    79212.0    automatic   sedan       white     NaN  2018-12-27           73  \n",
              "7   109473.0    automatic     SUV       black     1.0  2019-01-07           68  \n",
              "8   104174.0    automatic     SUV         NaN     1.0  2018-07-16           19  \n",
              "9   147191.0    automatic     SUV        blue     1.0  2019-02-15           17  \n",
              "10  128413.0    automatic  pickup       black     1.0  2018-09-17           38  \n",
              "11  111142.0    automatic   sedan        grey     NaN  2019-03-28           29  \n",
              "12  140742.0    automatic  pickup         NaN     1.0  2019-04-02           37  \n",
              "13   22104.0    automatic   sedan      silver     NaN  2019-01-14           29  \n",
              "14  132285.0    automatic     SUV       black     1.0  2019-01-31           24  \n",
              "15       NaN    automatic  pickup         red     1.0  2018-05-15          111  \n",
              "16  130725.0    automatic  pickup         red     1.0  2018-12-30           13  \n",
              "17  100669.0    automatic     SUV         red     1.0  2018-08-16           25  \n",
              "18  128325.0    automatic     SUV       white     1.0  2019-04-09           13  \n",
              "19   31932.0    automatic   sedan         red     NaN  2018-08-25           27  "
            ]
          },
          "execution_count": 4,
          "metadata": {},
          "output_type": "execute_result"
        }
      ],
      "source": [
        "# imprimir una muestra de datos\n",
        "\n",
        "df.head(20)"
      ]
    },
    {
      "cell_type": "markdown",
      "metadata": {
        "id": "jfrOI0DRmeg6"
      },
      "source": [
        "Con la descripción del dataset brindada y la muestra de datos que tenemos podemos observar que hay algunas columnas a las cuales se les va a tener que hacer un cambio de tipo de dato. También se ven valores ausentes en 5 de las columnas teniendo la mayor cantidad de valores ausentes la columna 'is_4wd'. En la descripción, ésta columna es de tipo booleana con lo cual podríamos pensar que los valores ausentes en realidad no son ausentes sino que los vehículos no tienen tracción en las 4 ruedas. "
      ]
    },
    {
      "cell_type": "markdown",
      "metadata": {
        "id": "iKBLaTeemeg7"
      },
      "source": [
        "### Conclusiones y siguientes pasos\n",
        "\n",
        "Para concluir el análisis inicial de los datos, hay columnas a las cuales le voy a cambiar el tipo de dato. La columna 'model_year' la voy a pasar a int porque los años son números enteros. La columna 'is_4wd' la voy a pasar a tipo de dato booleano y a la columna 'date_posted', la voy a transformar en datetime.\n",
        "Con respecto a los valores ausentes, la que columna que tiene mayor cantidad de valores ausentes es 'is_4wd'. Al ser una columna booleana es probable que todos los valores catalogados como ausentes, en realidad sean valores falsos. Voy a corregir eso. Con el resto de las columnas invetsigaré un poco más para ver si hay algun valor ausente que pueda ser reemplazado por otro o quedarán como valores ausentes.\n",
        "Cada anuncio representa un vehículo. Estos, tienen distintas características particulares de cada uno y no es lo mismo que tenga un valor u otro.     \n",
        "Puede que tenga que hacer alguna otra modificación a lo largo de la investigación para facilitar cálculos y/o análisis."
      ]
    },
    {
      "cell_type": "markdown",
      "metadata": {
        "id": "ksiAIoPJmeg7"
      },
      "source": [
        "## Tratar los valores ausentes (si hay)"
      ]
    },
    {
      "cell_type": "code",
      "execution_count": null,
      "metadata": {
        "id": "Sa1mbhyfmeg7",
        "outputId": "d9a5906a-dee1-4446-ec63-b636916b0a1a"
      },
      "outputs": [
        {
          "data": {
            "text/plain": [
              "0"
            ]
          },
          "execution_count": 5,
          "metadata": {},
          "output_type": "execute_result"
        }
      ],
      "source": [
        "df['is_4wd'].isna().sum() \n",
        "df['is_4wd']= df['is_4wd'].fillna(0.0)\n",
        "df['is_4wd'].isna().sum()"
      ]
    },
    {
      "cell_type": "code",
      "execution_count": null,
      "metadata": {
        "id": "ghfVZ_0Ymeg7",
        "outputId": "efdd8979-966c-47e5-da98-95300e42a8a4"
      },
      "outputs": [
        {
          "data": {
            "text/plain": [
              "0"
            ]
          },
          "execution_count": 6,
          "metadata": {},
          "output_type": "execute_result"
        }
      ],
      "source": [
        "df['model_year']= df['model_year'].fillna(0)\n",
        "df['model_year'].isna().sum()\n"
      ]
    },
    {
      "cell_type": "code",
      "execution_count": null,
      "metadata": {
        "id": "kc5F5_tSmeg8"
      },
      "outputs": [],
      "source": [
        "df['paint_color']= df['paint_color'].fillna('unknown')"
      ]
    },
    {
      "cell_type": "markdown",
      "metadata": {
        "id": "DojnMjiGmeg8"
      },
      "source": [
        "## Corregir los tipos de datos"
      ]
    },
    {
      "cell_type": "code",
      "execution_count": null,
      "metadata": {
        "id": "5WNdUJ4Ymeg8"
      },
      "outputs": [],
      "source": [
        "df['model_year']= df['model_year'].astype('int')\n"
      ]
    },
    {
      "cell_type": "code",
      "execution_count": null,
      "metadata": {
        "id": "-NyIgtNImeg8"
      },
      "outputs": [],
      "source": [
        "df['is_4wd']= df['is_4wd'].astype('bool')"
      ]
    },
    {
      "cell_type": "code",
      "execution_count": null,
      "metadata": {
        "id": "ZWv7Fqfvmeg8"
      },
      "outputs": [],
      "source": [
        "df['date_posted']= pd.to_datetime(df['date_posted'], format= '%Y-%m-%d')\n"
      ]
    },
    {
      "cell_type": "markdown",
      "metadata": {
        "id": "URHqu_nrmeg9"
      },
      "source": [
        "## Enriquecer datos"
      ]
    },
    {
      "cell_type": "code",
      "execution_count": null,
      "metadata": {
        "id": "EE8AQ4IQmeg9",
        "outputId": "526a7705-01de-4949-fd60-1b94ee029a7f"
      },
      "outputs": [
        {
          "data": {
            "text/html": [
              "<div>\n",
              "<style scoped>\n",
              "    .dataframe tbody tr th:only-of-type {\n",
              "        vertical-align: middle;\n",
              "    }\n",
              "\n",
              "    .dataframe tbody tr th {\n",
              "        vertical-align: top;\n",
              "    }\n",
              "\n",
              "    .dataframe thead th {\n",
              "        text-align: right;\n",
              "    }\n",
              "</style>\n",
              "<table border=\"1\" class=\"dataframe\">\n",
              "  <thead>\n",
              "    <tr style=\"text-align: right;\">\n",
              "      <th></th>\n",
              "      <th>price</th>\n",
              "      <th>model_year</th>\n",
              "      <th>model</th>\n",
              "      <th>condition</th>\n",
              "      <th>cylinders</th>\n",
              "      <th>fuel</th>\n",
              "      <th>odometer</th>\n",
              "      <th>transmission</th>\n",
              "      <th>type</th>\n",
              "      <th>paint_color</th>\n",
              "      <th>is_4wd</th>\n",
              "      <th>date_posted</th>\n",
              "      <th>days_listed</th>\n",
              "      <th>antiguedad_auto</th>\n",
              "    </tr>\n",
              "  </thead>\n",
              "  <tbody>\n",
              "    <tr>\n",
              "      <th>0</th>\n",
              "      <td>9400</td>\n",
              "      <td>2011</td>\n",
              "      <td>bmw x5</td>\n",
              "      <td>good</td>\n",
              "      <td>6.0</td>\n",
              "      <td>gas</td>\n",
              "      <td>145000.0</td>\n",
              "      <td>automatic</td>\n",
              "      <td>SUV</td>\n",
              "      <td>unknown</td>\n",
              "      <td>True</td>\n",
              "      <td>2018-06-23</td>\n",
              "      <td>19</td>\n",
              "      <td>7</td>\n",
              "    </tr>\n",
              "    <tr>\n",
              "      <th>1</th>\n",
              "      <td>25500</td>\n",
              "      <td>0</td>\n",
              "      <td>ford f-150</td>\n",
              "      <td>good</td>\n",
              "      <td>6.0</td>\n",
              "      <td>gas</td>\n",
              "      <td>88705.0</td>\n",
              "      <td>automatic</td>\n",
              "      <td>pickup</td>\n",
              "      <td>white</td>\n",
              "      <td>True</td>\n",
              "      <td>2018-10-19</td>\n",
              "      <td>50</td>\n",
              "      <td>2018</td>\n",
              "    </tr>\n",
              "    <tr>\n",
              "      <th>2</th>\n",
              "      <td>5500</td>\n",
              "      <td>2013</td>\n",
              "      <td>hyundai sonata</td>\n",
              "      <td>like new</td>\n",
              "      <td>4.0</td>\n",
              "      <td>gas</td>\n",
              "      <td>110000.0</td>\n",
              "      <td>automatic</td>\n",
              "      <td>sedan</td>\n",
              "      <td>red</td>\n",
              "      <td>False</td>\n",
              "      <td>2019-02-07</td>\n",
              "      <td>79</td>\n",
              "      <td>6</td>\n",
              "    </tr>\n",
              "    <tr>\n",
              "      <th>3</th>\n",
              "      <td>1500</td>\n",
              "      <td>2003</td>\n",
              "      <td>ford f-150</td>\n",
              "      <td>fair</td>\n",
              "      <td>8.0</td>\n",
              "      <td>gas</td>\n",
              "      <td>NaN</td>\n",
              "      <td>automatic</td>\n",
              "      <td>pickup</td>\n",
              "      <td>unknown</td>\n",
              "      <td>False</td>\n",
              "      <td>2019-03-22</td>\n",
              "      <td>9</td>\n",
              "      <td>16</td>\n",
              "    </tr>\n",
              "    <tr>\n",
              "      <th>4</th>\n",
              "      <td>14900</td>\n",
              "      <td>2017</td>\n",
              "      <td>chrysler 200</td>\n",
              "      <td>excellent</td>\n",
              "      <td>4.0</td>\n",
              "      <td>gas</td>\n",
              "      <td>80903.0</td>\n",
              "      <td>automatic</td>\n",
              "      <td>sedan</td>\n",
              "      <td>black</td>\n",
              "      <td>False</td>\n",
              "      <td>2019-04-02</td>\n",
              "      <td>28</td>\n",
              "      <td>2</td>\n",
              "    </tr>\n",
              "  </tbody>\n",
              "</table>\n",
              "</div>"
            ],
            "text/plain": [
              "   price  model_year           model  condition  cylinders fuel  odometer  \\\n",
              "0   9400        2011          bmw x5       good        6.0  gas  145000.0   \n",
              "1  25500           0      ford f-150       good        6.0  gas   88705.0   \n",
              "2   5500        2013  hyundai sonata   like new        4.0  gas  110000.0   \n",
              "3   1500        2003      ford f-150       fair        8.0  gas       NaN   \n",
              "4  14900        2017    chrysler 200  excellent        4.0  gas   80903.0   \n",
              "\n",
              "  transmission    type paint_color  is_4wd date_posted  days_listed  \\\n",
              "0    automatic     SUV     unknown    True  2018-06-23           19   \n",
              "1    automatic  pickup       white    True  2018-10-19           50   \n",
              "2    automatic   sedan         red   False  2019-02-07           79   \n",
              "3    automatic  pickup     unknown   False  2019-03-22            9   \n",
              "4    automatic   sedan       black   False  2019-04-02           28   \n",
              "\n",
              "   antiguedad_auto  \n",
              "0                7  \n",
              "1             2018  \n",
              "2                6  \n",
              "3               16  \n",
              "4                2  "
            ]
          },
          "execution_count": 11,
          "metadata": {},
          "output_type": "execute_result"
        }
      ],
      "source": [
        "# Agrega los años del vehículo cuando el anuncio se colocó\n",
        "año_posteo= df['date_posted'].dt.year\n",
        "año_auto= df['model_year']\n",
        "df['antiguedad_auto']= año_posteo - año_auto\n",
        "df['antiguedad_auto']\n",
        "df.head()\n"
      ]
    },
    {
      "cell_type": "code",
      "execution_count": null,
      "metadata": {
        "id": "d7Eap48imeg9",
        "outputId": "09685574-3856-46fd-e51e-9869de25f609"
      },
      "outputs": [
        {
          "data": {
            "text/plain": [
              "0        20714.3\n",
              "1           44.0\n",
              "2        18333.3\n",
              "3            NaN\n",
              "4        40451.5\n",
              "          ...   \n",
              "51520    17627.2\n",
              "51521    11343.8\n",
              "51522    14222.2\n",
              "51523    27914.6\n",
              "51524        NaN\n",
              "Name: millaje_prom_por_año, Length: 51525, dtype: float64"
            ]
          },
          "execution_count": 12,
          "metadata": {},
          "output_type": "execute_result"
        }
      ],
      "source": [
        "# Agrega el millaje promedio del vehículo por año\n",
        " \n",
        "df['millaje_prom_por_año']= round(df['odometer']/ df['antiguedad_auto'],1)\n",
        "df['millaje_prom_por_año']\n"
      ]
    },
    {
      "cell_type": "code",
      "execution_count": null,
      "metadata": {
        "id": "ddPuxJApmeg9"
      },
      "outputs": [],
      "source": [
        "# Podría ser útil reemplazar los valores de condición con algo que se pueda manipular más fácilmente\n",
        "\n",
        "df['condition']= df['condition'].replace({'new':5,'like new':4,'excellent':3,'good':2,'fair':1,'salvage':0})\n"
      ]
    },
    {
      "cell_type": "code",
      "execution_count": null,
      "metadata": {
        "id": "3_POPf1Umeg9",
        "outputId": "47eca28b-ddd3-456e-da35-f8f3a178cd53"
      },
      "outputs": [
        {
          "data": {
            "text/plain": [
              "0"
            ]
          },
          "execution_count": 14,
          "metadata": {},
          "output_type": "execute_result"
        }
      ],
      "source": [
        "df.duplicated().sum()"
      ]
    },
    {
      "cell_type": "code",
      "execution_count": null,
      "metadata": {
        "id": "LwoUyZJxmeg9"
      },
      "outputs": [],
      "source": [
        "df=df.dropna()"
      ]
    },
    {
      "cell_type": "markdown",
      "metadata": {
        "id": "TVeozIuxmeg-"
      },
      "source": [
        "## Comprobar datos limpios"
      ]
    },
    {
      "cell_type": "code",
      "execution_count": null,
      "metadata": {
        "id": "XAkSH0symeg-",
        "outputId": "f81c29b3-500f-4d8c-ae29-3cd067c023cd"
      },
      "outputs": [
        {
          "name": "stdout",
          "output_type": "stream",
          "text": [
            "<class 'pandas.core.frame.DataFrame'>\n",
            "Int64Index: 39184 entries, 0 to 51523\n",
            "Data columns (total 15 columns):\n",
            " #   Column                Non-Null Count  Dtype         \n",
            "---  ------                --------------  -----         \n",
            " 0   price                 39184 non-null  int64         \n",
            " 1   model_year            39184 non-null  int64         \n",
            " 2   model                 39184 non-null  object        \n",
            " 3   condition             39184 non-null  int64         \n",
            " 4   cylinders             39184 non-null  float64       \n",
            " 5   fuel                  39184 non-null  object        \n",
            " 6   odometer              39184 non-null  float64       \n",
            " 7   transmission          39184 non-null  object        \n",
            " 8   type                  39184 non-null  object        \n",
            " 9   paint_color           39184 non-null  object        \n",
            " 10  is_4wd                39184 non-null  bool          \n",
            " 11  date_posted           39184 non-null  datetime64[ns]\n",
            " 12  days_listed           39184 non-null  int64         \n",
            " 13  antiguedad_auto       39184 non-null  int64         \n",
            " 14  millaje_prom_por_año  39184 non-null  float64       \n",
            "dtypes: bool(1), datetime64[ns](1), float64(3), int64(5), object(5)\n",
            "memory usage: 4.5+ MB\n"
          ]
        }
      ],
      "source": [
        "# imprime la información general/resumida sobre el DataFrame\n",
        "\n",
        "df.info()"
      ]
    },
    {
      "cell_type": "code",
      "execution_count": null,
      "metadata": {
        "id": "5ko2L56lmeg-",
        "outputId": "366af5fd-6d35-4dd0-e04a-c2ee6a9b0113"
      },
      "outputs": [
        {
          "data": {
            "text/html": [
              "<div>\n",
              "<style scoped>\n",
              "    .dataframe tbody tr th:only-of-type {\n",
              "        vertical-align: middle;\n",
              "    }\n",
              "\n",
              "    .dataframe tbody tr th {\n",
              "        vertical-align: top;\n",
              "    }\n",
              "\n",
              "    .dataframe thead th {\n",
              "        text-align: right;\n",
              "    }\n",
              "</style>\n",
              "<table border=\"1\" class=\"dataframe\">\n",
              "  <thead>\n",
              "    <tr style=\"text-align: right;\">\n",
              "      <th></th>\n",
              "      <th>price</th>\n",
              "      <th>model_year</th>\n",
              "      <th>model</th>\n",
              "      <th>condition</th>\n",
              "      <th>cylinders</th>\n",
              "      <th>fuel</th>\n",
              "      <th>odometer</th>\n",
              "      <th>transmission</th>\n",
              "      <th>type</th>\n",
              "      <th>paint_color</th>\n",
              "      <th>is_4wd</th>\n",
              "      <th>date_posted</th>\n",
              "      <th>days_listed</th>\n",
              "      <th>antiguedad_auto</th>\n",
              "      <th>millaje_prom_por_año</th>\n",
              "    </tr>\n",
              "  </thead>\n",
              "  <tbody>\n",
              "    <tr>\n",
              "      <th>0</th>\n",
              "      <td>9400</td>\n",
              "      <td>2011</td>\n",
              "      <td>bmw x5</td>\n",
              "      <td>2</td>\n",
              "      <td>6.0</td>\n",
              "      <td>gas</td>\n",
              "      <td>145000.0</td>\n",
              "      <td>automatic</td>\n",
              "      <td>SUV</td>\n",
              "      <td>unknown</td>\n",
              "      <td>True</td>\n",
              "      <td>2018-06-23</td>\n",
              "      <td>19</td>\n",
              "      <td>7</td>\n",
              "      <td>20714.3</td>\n",
              "    </tr>\n",
              "    <tr>\n",
              "      <th>1</th>\n",
              "      <td>25500</td>\n",
              "      <td>0</td>\n",
              "      <td>ford f-150</td>\n",
              "      <td>2</td>\n",
              "      <td>6.0</td>\n",
              "      <td>gas</td>\n",
              "      <td>88705.0</td>\n",
              "      <td>automatic</td>\n",
              "      <td>pickup</td>\n",
              "      <td>white</td>\n",
              "      <td>True</td>\n",
              "      <td>2018-10-19</td>\n",
              "      <td>50</td>\n",
              "      <td>2018</td>\n",
              "      <td>44.0</td>\n",
              "    </tr>\n",
              "    <tr>\n",
              "      <th>2</th>\n",
              "      <td>5500</td>\n",
              "      <td>2013</td>\n",
              "      <td>hyundai sonata</td>\n",
              "      <td>4</td>\n",
              "      <td>4.0</td>\n",
              "      <td>gas</td>\n",
              "      <td>110000.0</td>\n",
              "      <td>automatic</td>\n",
              "      <td>sedan</td>\n",
              "      <td>red</td>\n",
              "      <td>False</td>\n",
              "      <td>2019-02-07</td>\n",
              "      <td>79</td>\n",
              "      <td>6</td>\n",
              "      <td>18333.3</td>\n",
              "    </tr>\n",
              "    <tr>\n",
              "      <th>4</th>\n",
              "      <td>14900</td>\n",
              "      <td>2017</td>\n",
              "      <td>chrysler 200</td>\n",
              "      <td>3</td>\n",
              "      <td>4.0</td>\n",
              "      <td>gas</td>\n",
              "      <td>80903.0</td>\n",
              "      <td>automatic</td>\n",
              "      <td>sedan</td>\n",
              "      <td>black</td>\n",
              "      <td>False</td>\n",
              "      <td>2019-04-02</td>\n",
              "      <td>28</td>\n",
              "      <td>2</td>\n",
              "      <td>40451.5</td>\n",
              "    </tr>\n",
              "    <tr>\n",
              "      <th>5</th>\n",
              "      <td>14990</td>\n",
              "      <td>2014</td>\n",
              "      <td>chrysler 300</td>\n",
              "      <td>3</td>\n",
              "      <td>6.0</td>\n",
              "      <td>gas</td>\n",
              "      <td>57954.0</td>\n",
              "      <td>automatic</td>\n",
              "      <td>sedan</td>\n",
              "      <td>black</td>\n",
              "      <td>True</td>\n",
              "      <td>2018-06-20</td>\n",
              "      <td>15</td>\n",
              "      <td>4</td>\n",
              "      <td>14488.5</td>\n",
              "    </tr>\n",
              "  </tbody>\n",
              "</table>\n",
              "</div>"
            ],
            "text/plain": [
              "   price  model_year           model  condition  cylinders fuel  odometer  \\\n",
              "0   9400        2011          bmw x5          2        6.0  gas  145000.0   \n",
              "1  25500           0      ford f-150          2        6.0  gas   88705.0   \n",
              "2   5500        2013  hyundai sonata          4        4.0  gas  110000.0   \n",
              "4  14900        2017    chrysler 200          3        4.0  gas   80903.0   \n",
              "5  14990        2014    chrysler 300          3        6.0  gas   57954.0   \n",
              "\n",
              "  transmission    type paint_color  is_4wd date_posted  days_listed  \\\n",
              "0    automatic     SUV     unknown    True  2018-06-23           19   \n",
              "1    automatic  pickup       white    True  2018-10-19           50   \n",
              "2    automatic   sedan         red   False  2019-02-07           79   \n",
              "4    automatic   sedan       black   False  2019-04-02           28   \n",
              "5    automatic   sedan       black    True  2018-06-20           15   \n",
              "\n",
              "   antiguedad_auto  millaje_prom_por_año  \n",
              "0                7               20714.3  \n",
              "1             2018                  44.0  \n",
              "2                6               18333.3  \n",
              "4                2               40451.5  \n",
              "5                4               14488.5  "
            ]
          },
          "execution_count": 17,
          "metadata": {},
          "output_type": "execute_result"
        }
      ],
      "source": [
        "# imprimir una muestra de datos\n",
        "df.head()\n"
      ]
    },
    {
      "cell_type": "markdown",
      "metadata": {
        "id": "NzAOdEQGmeg-"
      },
      "source": [
        "## Estudiar parámetros principales\n",
        "\n",
        "Los parámetros son:\n",
        "- Precio\n",
        "- Los años del vehículo cuando el anuncio se colocó\n",
        "- Millaje\n",
        "- Número de cilindros\n",
        "- Estado"
      ]
    },
    {
      "cell_type": "code",
      "execution_count": null,
      "metadata": {
        "id": "lgvTlWwameg-",
        "outputId": "4328c990-333d-4874-c0d1-36db8e3a6a7c"
      },
      "outputs": [
        {
          "data": {
            "text/plain": [
              "<AxesSubplot:title={'center':'Precio'}, ylabel='Frequency'>"
            ]
          },
          "execution_count": 18,
          "metadata": {},
          "output_type": "execute_result"
        },
        {
          "data": {
            "image/png": "[encoded data removed]",
            "text/plain": [
              "<Figure size 720x360 with 1 Axes>"
            ]
          },
          "metadata": {
            "needs_background": "light"
          },
          "output_type": "display_data"
        }
      ],
      "source": [
        "df.plot(kind='hist',y='price',figsize=(10,5),bins= 100,range=(0,80000), title='Precio')\n"
      ]
    },
    {
      "cell_type": "markdown",
      "metadata": {
        "id": "Rka7VHf2meg-"
      },
      "source": [
        "En este histograma de la columna 'price' podemos observar que los precios son muy variados. Hay muchos precios bajos y también precios muy altos aunque en menor cantidad. La mayor concentración se encuentra entre los 5000 y los 10000. Los precios atípicos seran tratados más adelante."
      ]
    },
    {
      "cell_type": "code",
      "execution_count": null,
      "metadata": {
        "id": "7QySBW3mmeg_",
        "outputId": "8be24ada-127e-440d-991d-abceca9a4793"
      },
      "outputs": [
        {
          "data": {
            "text/plain": [
              "<AxesSubplot:title={'center':'Antiguedad de los autos'}, ylabel='Frequency'>"
            ]
          },
          "execution_count": 19,
          "metadata": {},
          "output_type": "execute_result"
        },
        {
          "data": {
            "image/png": "[encoded data removed]",
            "text/plain": [
              "<Figure size 720x360 with 1 Axes>"
            ]
          },
          "metadata": {
            "needs_background": "light"
          },
          "output_type": "display_data"
        }
      ],
      "source": [
        "df.plot(kind='hist',y='antiguedad_auto',bins=100, figsize=(10,5), title='Antiguedad de los autos')\n"
      ]
    },
    {
      "cell_type": "markdown",
      "metadata": {
        "id": "wxQIOJ2cmeg_"
      },
      "source": [
        "En el histograma de la columna 'antiguedad_auto', podemos observar que tenemos un conjunto de datos muy ceerca del cero y otros mucho más pequeños en el 2000. Esto se debe a que había autos que no tenian cargado el año; tomo como antiguedad el año de publicación. Los valores que estan cerca de 0, son autos más nuevos. Cabe recordar que la antiguedad del auto fue calculado según se pedía, es decir la antiguedad del auto al momento de carga de artículo en la página web. Estos datos atípicos serán tratados más adelante."
      ]
    },
    {
      "cell_type": "code",
      "execution_count": null,
      "metadata": {
        "id": "6W1uHNQlmeg_",
        "outputId": "7382f6fb-252c-4ffe-ce75-9f79d593eb35"
      },
      "outputs": [
        {
          "data": {
            "text/plain": [
              "<AxesSubplot:title={'center':'Millas que tienen los autos'}, ylabel='Frequency'>"
            ]
          },
          "execution_count": 20,
          "metadata": {},
          "output_type": "execute_result"
        },
        {
          "data": {
            "image/png": "[encoded data removed]",
            "text/plain": [
              "<Figure size 720x360 with 1 Axes>"
            ]
          },
          "metadata": {
            "needs_background": "light"
          },
          "output_type": "display_data"
        }
      ],
      "source": [
        "df.plot(kind='hist',y='odometer',bins=100, figsize=(10,5), title='Millas que tienen los autos')"
      ]
    },
    {
      "cell_type": "markdown",
      "metadata": {
        "id": "ho7afEMFmeg_"
      },
      "source": [
        "El histograma para la columna 'odometer', muestra que casi todos los autos tienen entre 0 y 300000 millas. Hay datos mucho mayores pero en el gráfico no se ven bien. Por otro lado, hay muchos autos que dicen que tienen 0 millas pero son autos viejos con lo cual esos datos tambien serán excluidos ya que no son representaticos. "
      ]
    },
    {
      "cell_type": "code",
      "execution_count": null,
      "metadata": {
        "id": "ME-G6i_Imeg_",
        "outputId": "8db6a3c2-e66e-4d6c-ccc0-eabd2fc6b136"
      },
      "outputs": [
        {
          "data": {
            "text/plain": [
              "<AxesSubplot:title={'center':'Cantidad de cilindros'}, ylabel='Frequency'>"
            ]
          },
          "execution_count": 21,
          "metadata": {},
          "output_type": "execute_result"
        },
        {
          "data": {
            "image/png": "[encoded data removed]",
            "text/plain": [
              "<Figure size 720x360 with 1 Axes>"
            ]
          },
          "metadata": {
            "needs_background": "light"
          },
          "output_type": "display_data"
        }
      ],
      "source": [
        "df.plot(kind='hist',y='cylinders',bins=100, figsize=(10,5), title='Cantidad de cilindros' )"
      ]
    },
    {
      "cell_type": "markdown",
      "metadata": {
        "id": "TZ9totrJmeg_"
      },
      "source": [
        "Del histograma de la columna 'cylinder' podemos observar que la mayoría de los autos tienen 4, 6 y 8 cilindros siendo 8 y 6 los más populares. Unos pocos tienen 3, 5 o 10."
      ]
    },
    {
      "cell_type": "code",
      "execution_count": null,
      "metadata": {
        "id": "VMoqT7nemeg_",
        "outputId": "47f78b46-4d6c-49ba-9959-4f6339d6b9f3"
      },
      "outputs": [
        {
          "data": {
            "text/plain": [
              "<AxesSubplot:title={'center':'Estado del auto'}, ylabel='Frequency'>"
            ]
          },
          "execution_count": 22,
          "metadata": {},
          "output_type": "execute_result"
        },
        {
          "data": {
            "image/png": "[encoded data removed]",
            "text/plain": [
              "<Figure size 720x360 with 1 Axes>"
            ]
          },
          "metadata": {
            "needs_background": "light"
          },
          "output_type": "display_data"
        }
      ],
      "source": [
        "df.plot(kind='hist',y='condition',bins=100, figsize=(10,5), title='Estado del auto')\n"
      ]
    },
    {
      "cell_type": "markdown",
      "metadata": {
        "id": "GJzru1UNmehA"
      },
      "source": [
        "De este histograma de la columna 'condition' podemos observar que los autos que estan a la venta en este sitio web alegan estar en excelentes condiciones y otro tanto en buenas condiciones.\n",
        "\n"
      ]
    },
    {
      "cell_type": "markdown",
      "metadata": {
        "id": "swBsOHA9mehA"
      },
      "source": [
        "## Estudiar y tratar valores atípicos\n",
        "\n"
      ]
    },
    {
      "cell_type": "code",
      "execution_count": null,
      "metadata": {
        "scrolled": true,
        "id": "-Fl53ybgmehA",
        "outputId": "2edf8d3c-ba70-4e4d-fe60-4111d0b4ecd4"
      },
      "outputs": [
        {
          "data": {
            "text/html": [
              "<div>\n",
              "<style scoped>\n",
              "    .dataframe tbody tr th:only-of-type {\n",
              "        vertical-align: middle;\n",
              "    }\n",
              "\n",
              "    .dataframe tbody tr th {\n",
              "        vertical-align: top;\n",
              "    }\n",
              "\n",
              "    .dataframe thead th {\n",
              "        text-align: right;\n",
              "    }\n",
              "</style>\n",
              "<table border=\"1\" class=\"dataframe\">\n",
              "  <thead>\n",
              "    <tr style=\"text-align: right;\">\n",
              "      <th></th>\n",
              "      <th>price</th>\n",
              "      <th>model_year</th>\n",
              "      <th>model</th>\n",
              "      <th>condition</th>\n",
              "      <th>cylinders</th>\n",
              "      <th>fuel</th>\n",
              "      <th>odometer</th>\n",
              "      <th>transmission</th>\n",
              "      <th>type</th>\n",
              "      <th>paint_color</th>\n",
              "      <th>is_4wd</th>\n",
              "      <th>date_posted</th>\n",
              "      <th>days_listed</th>\n",
              "      <th>antiguedad_auto</th>\n",
              "      <th>millaje_prom_por_año</th>\n",
              "    </tr>\n",
              "  </thead>\n",
              "  <tbody>\n",
              "    <tr>\n",
              "      <th>0</th>\n",
              "      <td>9400</td>\n",
              "      <td>2011</td>\n",
              "      <td>bmw x5</td>\n",
              "      <td>2</td>\n",
              "      <td>6.0</td>\n",
              "      <td>gas</td>\n",
              "      <td>145000.0</td>\n",
              "      <td>automatic</td>\n",
              "      <td>SUV</td>\n",
              "      <td>unknown</td>\n",
              "      <td>True</td>\n",
              "      <td>2018-06-23</td>\n",
              "      <td>19</td>\n",
              "      <td>7</td>\n",
              "      <td>20714.3</td>\n",
              "    </tr>\n",
              "    <tr>\n",
              "      <th>2</th>\n",
              "      <td>5500</td>\n",
              "      <td>2013</td>\n",
              "      <td>hyundai sonata</td>\n",
              "      <td>4</td>\n",
              "      <td>4.0</td>\n",
              "      <td>gas</td>\n",
              "      <td>110000.0</td>\n",
              "      <td>automatic</td>\n",
              "      <td>sedan</td>\n",
              "      <td>red</td>\n",
              "      <td>False</td>\n",
              "      <td>2019-02-07</td>\n",
              "      <td>79</td>\n",
              "      <td>6</td>\n",
              "      <td>18333.3</td>\n",
              "    </tr>\n",
              "    <tr>\n",
              "      <th>4</th>\n",
              "      <td>14900</td>\n",
              "      <td>2017</td>\n",
              "      <td>chrysler 200</td>\n",
              "      <td>3</td>\n",
              "      <td>4.0</td>\n",
              "      <td>gas</td>\n",
              "      <td>80903.0</td>\n",
              "      <td>automatic</td>\n",
              "      <td>sedan</td>\n",
              "      <td>black</td>\n",
              "      <td>False</td>\n",
              "      <td>2019-04-02</td>\n",
              "      <td>28</td>\n",
              "      <td>2</td>\n",
              "      <td>40451.5</td>\n",
              "    </tr>\n",
              "    <tr>\n",
              "      <th>5</th>\n",
              "      <td>14990</td>\n",
              "      <td>2014</td>\n",
              "      <td>chrysler 300</td>\n",
              "      <td>3</td>\n",
              "      <td>6.0</td>\n",
              "      <td>gas</td>\n",
              "      <td>57954.0</td>\n",
              "      <td>automatic</td>\n",
              "      <td>sedan</td>\n",
              "      <td>black</td>\n",
              "      <td>True</td>\n",
              "      <td>2018-06-20</td>\n",
              "      <td>15</td>\n",
              "      <td>4</td>\n",
              "      <td>14488.5</td>\n",
              "    </tr>\n",
              "    <tr>\n",
              "      <th>6</th>\n",
              "      <td>12990</td>\n",
              "      <td>2015</td>\n",
              "      <td>toyota camry</td>\n",
              "      <td>3</td>\n",
              "      <td>4.0</td>\n",
              "      <td>gas</td>\n",
              "      <td>79212.0</td>\n",
              "      <td>automatic</td>\n",
              "      <td>sedan</td>\n",
              "      <td>white</td>\n",
              "      <td>False</td>\n",
              "      <td>2018-12-27</td>\n",
              "      <td>73</td>\n",
              "      <td>3</td>\n",
              "      <td>26404.0</td>\n",
              "    </tr>\n",
              "    <tr>\n",
              "      <th>...</th>\n",
              "      <td>...</td>\n",
              "      <td>...</td>\n",
              "      <td>...</td>\n",
              "      <td>...</td>\n",
              "      <td>...</td>\n",
              "      <td>...</td>\n",
              "      <td>...</td>\n",
              "      <td>...</td>\n",
              "      <td>...</td>\n",
              "      <td>...</td>\n",
              "      <td>...</td>\n",
              "      <td>...</td>\n",
              "      <td>...</td>\n",
              "      <td>...</td>\n",
              "      <td>...</td>\n",
              "    </tr>\n",
              "    <tr>\n",
              "      <th>51518</th>\n",
              "      <td>3750</td>\n",
              "      <td>2005</td>\n",
              "      <td>ford taurus</td>\n",
              "      <td>3</td>\n",
              "      <td>6.0</td>\n",
              "      <td>gas</td>\n",
              "      <td>110200.0</td>\n",
              "      <td>automatic</td>\n",
              "      <td>sedan</td>\n",
              "      <td>silver</td>\n",
              "      <td>False</td>\n",
              "      <td>2018-08-10</td>\n",
              "      <td>63</td>\n",
              "      <td>13</td>\n",
              "      <td>8476.9</td>\n",
              "    </tr>\n",
              "    <tr>\n",
              "      <th>51520</th>\n",
              "      <td>9249</td>\n",
              "      <td>2013</td>\n",
              "      <td>nissan maxima</td>\n",
              "      <td>4</td>\n",
              "      <td>6.0</td>\n",
              "      <td>gas</td>\n",
              "      <td>88136.0</td>\n",
              "      <td>automatic</td>\n",
              "      <td>sedan</td>\n",
              "      <td>black</td>\n",
              "      <td>False</td>\n",
              "      <td>2018-10-03</td>\n",
              "      <td>37</td>\n",
              "      <td>5</td>\n",
              "      <td>17627.2</td>\n",
              "    </tr>\n",
              "    <tr>\n",
              "      <th>51521</th>\n",
              "      <td>2700</td>\n",
              "      <td>2002</td>\n",
              "      <td>honda civic</td>\n",
              "      <td>0</td>\n",
              "      <td>4.0</td>\n",
              "      <td>gas</td>\n",
              "      <td>181500.0</td>\n",
              "      <td>automatic</td>\n",
              "      <td>sedan</td>\n",
              "      <td>white</td>\n",
              "      <td>False</td>\n",
              "      <td>2018-11-14</td>\n",
              "      <td>22</td>\n",
              "      <td>16</td>\n",
              "      <td>11343.8</td>\n",
              "    </tr>\n",
              "    <tr>\n",
              "      <th>51522</th>\n",
              "      <td>3950</td>\n",
              "      <td>2009</td>\n",
              "      <td>hyundai sonata</td>\n",
              "      <td>3</td>\n",
              "      <td>4.0</td>\n",
              "      <td>gas</td>\n",
              "      <td>128000.0</td>\n",
              "      <td>automatic</td>\n",
              "      <td>sedan</td>\n",
              "      <td>blue</td>\n",
              "      <td>False</td>\n",
              "      <td>2018-11-15</td>\n",
              "      <td>32</td>\n",
              "      <td>9</td>\n",
              "      <td>14222.2</td>\n",
              "    </tr>\n",
              "    <tr>\n",
              "      <th>51523</th>\n",
              "      <td>7455</td>\n",
              "      <td>2013</td>\n",
              "      <td>toyota corolla</td>\n",
              "      <td>2</td>\n",
              "      <td>4.0</td>\n",
              "      <td>gas</td>\n",
              "      <td>139573.0</td>\n",
              "      <td>automatic</td>\n",
              "      <td>sedan</td>\n",
              "      <td>black</td>\n",
              "      <td>False</td>\n",
              "      <td>2018-07-02</td>\n",
              "      <td>71</td>\n",
              "      <td>5</td>\n",
              "      <td>27914.6</td>\n",
              "    </tr>\n",
              "  </tbody>\n",
              "</table>\n",
              "<p>31260 rows × 15 columns</p>\n",
              "</div>"
            ],
            "text/plain": [
              "       price  model_year           model  condition  cylinders fuel  odometer  \\\n",
              "0       9400        2011          bmw x5          2        6.0  gas  145000.0   \n",
              "2       5500        2013  hyundai sonata          4        4.0  gas  110000.0   \n",
              "4      14900        2017    chrysler 200          3        4.0  gas   80903.0   \n",
              "5      14990        2014    chrysler 300          3        6.0  gas   57954.0   \n",
              "6      12990        2015    toyota camry          3        4.0  gas   79212.0   \n",
              "...      ...         ...             ...        ...        ...  ...       ...   \n",
              "51518   3750        2005     ford taurus          3        6.0  gas  110200.0   \n",
              "51520   9249        2013   nissan maxima          4        6.0  gas   88136.0   \n",
              "51521   2700        2002     honda civic          0        4.0  gas  181500.0   \n",
              "51522   3950        2009  hyundai sonata          3        4.0  gas  128000.0   \n",
              "51523   7455        2013  toyota corolla          2        4.0  gas  139573.0   \n",
              "\n",
              "      transmission   type paint_color  is_4wd date_posted  days_listed  \\\n",
              "0        automatic    SUV     unknown    True  2018-06-23           19   \n",
              "2        automatic  sedan         red   False  2019-02-07           79   \n",
              "4        automatic  sedan       black   False  2019-04-02           28   \n",
              "5        automatic  sedan       black    True  2018-06-20           15   \n",
              "6        automatic  sedan       white   False  2018-12-27           73   \n",
              "...            ...    ...         ...     ...         ...          ...   \n",
              "51518    automatic  sedan      silver   False  2018-08-10           63   \n",
              "51520    automatic  sedan       black   False  2018-10-03           37   \n",
              "51521    automatic  sedan       white   False  2018-11-14           22   \n",
              "51522    automatic  sedan        blue   False  2018-11-15           32   \n",
              "51523    automatic  sedan       black   False  2018-07-02           71   \n",
              "\n",
              "       antiguedad_auto  millaje_prom_por_año  \n",
              "0                    7               20714.3  \n",
              "2                    6               18333.3  \n",
              "4                    2               40451.5  \n",
              "5                    4               14488.5  \n",
              "6                    3               26404.0  \n",
              "...                ...                   ...  \n",
              "51518               13                8476.9  \n",
              "51520                5               17627.2  \n",
              "51521               16               11343.8  \n",
              "51522                9               14222.2  \n",
              "51523                5               27914.6  \n",
              "\n",
              "[31260 rows x 15 columns]"
            ]
          },
          "execution_count": 23,
          "metadata": {},
          "output_type": "execute_result"
        }
      ],
      "source": [
        "df.query('price > 1000 and price < 20000')\n"
      ]
    },
    {
      "cell_type": "code",
      "execution_count": null,
      "metadata": {
        "id": "Vaudw1qvmehA",
        "outputId": "41e5cf0f-0efa-4b0b-dbc4-002f716a6dbb"
      },
      "outputs": [
        {
          "data": {
            "text/html": [
              "<div>\n",
              "<style scoped>\n",
              "    .dataframe tbody tr th:only-of-type {\n",
              "        vertical-align: middle;\n",
              "    }\n",
              "\n",
              "    .dataframe tbody tr th {\n",
              "        vertical-align: top;\n",
              "    }\n",
              "\n",
              "    .dataframe thead th {\n",
              "        text-align: right;\n",
              "    }\n",
              "</style>\n",
              "<table border=\"1\" class=\"dataframe\">\n",
              "  <thead>\n",
              "    <tr style=\"text-align: right;\">\n",
              "      <th></th>\n",
              "      <th>price</th>\n",
              "      <th>model_year</th>\n",
              "      <th>model</th>\n",
              "      <th>condition</th>\n",
              "      <th>cylinders</th>\n",
              "      <th>fuel</th>\n",
              "      <th>odometer</th>\n",
              "      <th>transmission</th>\n",
              "      <th>type</th>\n",
              "      <th>paint_color</th>\n",
              "      <th>is_4wd</th>\n",
              "      <th>date_posted</th>\n",
              "      <th>days_listed</th>\n",
              "      <th>antiguedad_auto</th>\n",
              "      <th>millaje_prom_por_año</th>\n",
              "    </tr>\n",
              "  </thead>\n",
              "  <tbody>\n",
              "    <tr>\n",
              "      <th>0</th>\n",
              "      <td>9400</td>\n",
              "      <td>2011</td>\n",
              "      <td>bmw x5</td>\n",
              "      <td>2</td>\n",
              "      <td>6.0</td>\n",
              "      <td>gas</td>\n",
              "      <td>145000.0</td>\n",
              "      <td>automatic</td>\n",
              "      <td>SUV</td>\n",
              "      <td>unknown</td>\n",
              "      <td>True</td>\n",
              "      <td>2018-06-23</td>\n",
              "      <td>19</td>\n",
              "      <td>7</td>\n",
              "      <td>20714.3</td>\n",
              "    </tr>\n",
              "    <tr>\n",
              "      <th>2</th>\n",
              "      <td>5500</td>\n",
              "      <td>2013</td>\n",
              "      <td>hyundai sonata</td>\n",
              "      <td>4</td>\n",
              "      <td>4.0</td>\n",
              "      <td>gas</td>\n",
              "      <td>110000.0</td>\n",
              "      <td>automatic</td>\n",
              "      <td>sedan</td>\n",
              "      <td>red</td>\n",
              "      <td>False</td>\n",
              "      <td>2019-02-07</td>\n",
              "      <td>79</td>\n",
              "      <td>6</td>\n",
              "      <td>18333.3</td>\n",
              "    </tr>\n",
              "    <tr>\n",
              "      <th>4</th>\n",
              "      <td>14900</td>\n",
              "      <td>2017</td>\n",
              "      <td>chrysler 200</td>\n",
              "      <td>3</td>\n",
              "      <td>4.0</td>\n",
              "      <td>gas</td>\n",
              "      <td>80903.0</td>\n",
              "      <td>automatic</td>\n",
              "      <td>sedan</td>\n",
              "      <td>black</td>\n",
              "      <td>False</td>\n",
              "      <td>2019-04-02</td>\n",
              "      <td>28</td>\n",
              "      <td>2</td>\n",
              "      <td>40451.5</td>\n",
              "    </tr>\n",
              "    <tr>\n",
              "      <th>5</th>\n",
              "      <td>14990</td>\n",
              "      <td>2014</td>\n",
              "      <td>chrysler 300</td>\n",
              "      <td>3</td>\n",
              "      <td>6.0</td>\n",
              "      <td>gas</td>\n",
              "      <td>57954.0</td>\n",
              "      <td>automatic</td>\n",
              "      <td>sedan</td>\n",
              "      <td>black</td>\n",
              "      <td>True</td>\n",
              "      <td>2018-06-20</td>\n",
              "      <td>15</td>\n",
              "      <td>4</td>\n",
              "      <td>14488.5</td>\n",
              "    </tr>\n",
              "    <tr>\n",
              "      <th>6</th>\n",
              "      <td>12990</td>\n",
              "      <td>2015</td>\n",
              "      <td>toyota camry</td>\n",
              "      <td>3</td>\n",
              "      <td>4.0</td>\n",
              "      <td>gas</td>\n",
              "      <td>79212.0</td>\n",
              "      <td>automatic</td>\n",
              "      <td>sedan</td>\n",
              "      <td>white</td>\n",
              "      <td>False</td>\n",
              "      <td>2018-12-27</td>\n",
              "      <td>73</td>\n",
              "      <td>3</td>\n",
              "      <td>26404.0</td>\n",
              "    </tr>\n",
              "    <tr>\n",
              "      <th>...</th>\n",
              "      <td>...</td>\n",
              "      <td>...</td>\n",
              "      <td>...</td>\n",
              "      <td>...</td>\n",
              "      <td>...</td>\n",
              "      <td>...</td>\n",
              "      <td>...</td>\n",
              "      <td>...</td>\n",
              "      <td>...</td>\n",
              "      <td>...</td>\n",
              "      <td>...</td>\n",
              "      <td>...</td>\n",
              "      <td>...</td>\n",
              "      <td>...</td>\n",
              "      <td>...</td>\n",
              "    </tr>\n",
              "    <tr>\n",
              "      <th>51518</th>\n",
              "      <td>3750</td>\n",
              "      <td>2005</td>\n",
              "      <td>ford taurus</td>\n",
              "      <td>3</td>\n",
              "      <td>6.0</td>\n",
              "      <td>gas</td>\n",
              "      <td>110200.0</td>\n",
              "      <td>automatic</td>\n",
              "      <td>sedan</td>\n",
              "      <td>silver</td>\n",
              "      <td>False</td>\n",
              "      <td>2018-08-10</td>\n",
              "      <td>63</td>\n",
              "      <td>13</td>\n",
              "      <td>8476.9</td>\n",
              "    </tr>\n",
              "    <tr>\n",
              "      <th>51520</th>\n",
              "      <td>9249</td>\n",
              "      <td>2013</td>\n",
              "      <td>nissan maxima</td>\n",
              "      <td>4</td>\n",
              "      <td>6.0</td>\n",
              "      <td>gas</td>\n",
              "      <td>88136.0</td>\n",
              "      <td>automatic</td>\n",
              "      <td>sedan</td>\n",
              "      <td>black</td>\n",
              "      <td>False</td>\n",
              "      <td>2018-10-03</td>\n",
              "      <td>37</td>\n",
              "      <td>5</td>\n",
              "      <td>17627.2</td>\n",
              "    </tr>\n",
              "    <tr>\n",
              "      <th>51521</th>\n",
              "      <td>2700</td>\n",
              "      <td>2002</td>\n",
              "      <td>honda civic</td>\n",
              "      <td>0</td>\n",
              "      <td>4.0</td>\n",
              "      <td>gas</td>\n",
              "      <td>181500.0</td>\n",
              "      <td>automatic</td>\n",
              "      <td>sedan</td>\n",
              "      <td>white</td>\n",
              "      <td>False</td>\n",
              "      <td>2018-11-14</td>\n",
              "      <td>22</td>\n",
              "      <td>16</td>\n",
              "      <td>11343.8</td>\n",
              "    </tr>\n",
              "    <tr>\n",
              "      <th>51522</th>\n",
              "      <td>3950</td>\n",
              "      <td>2009</td>\n",
              "      <td>hyundai sonata</td>\n",
              "      <td>3</td>\n",
              "      <td>4.0</td>\n",
              "      <td>gas</td>\n",
              "      <td>128000.0</td>\n",
              "      <td>automatic</td>\n",
              "      <td>sedan</td>\n",
              "      <td>blue</td>\n",
              "      <td>False</td>\n",
              "      <td>2018-11-15</td>\n",
              "      <td>32</td>\n",
              "      <td>9</td>\n",
              "      <td>14222.2</td>\n",
              "    </tr>\n",
              "    <tr>\n",
              "      <th>51523</th>\n",
              "      <td>7455</td>\n",
              "      <td>2013</td>\n",
              "      <td>toyota corolla</td>\n",
              "      <td>2</td>\n",
              "      <td>4.0</td>\n",
              "      <td>gas</td>\n",
              "      <td>139573.0</td>\n",
              "      <td>automatic</td>\n",
              "      <td>sedan</td>\n",
              "      <td>black</td>\n",
              "      <td>False</td>\n",
              "      <td>2018-07-02</td>\n",
              "      <td>71</td>\n",
              "      <td>5</td>\n",
              "      <td>27914.6</td>\n",
              "    </tr>\n",
              "  </tbody>\n",
              "</table>\n",
              "<p>34839 rows × 15 columns</p>\n",
              "</div>"
            ],
            "text/plain": [
              "       price  model_year           model  condition  cylinders fuel  odometer  \\\n",
              "0       9400        2011          bmw x5          2        6.0  gas  145000.0   \n",
              "2       5500        2013  hyundai sonata          4        4.0  gas  110000.0   \n",
              "4      14900        2017    chrysler 200          3        4.0  gas   80903.0   \n",
              "5      14990        2014    chrysler 300          3        6.0  gas   57954.0   \n",
              "6      12990        2015    toyota camry          3        4.0  gas   79212.0   \n",
              "...      ...         ...             ...        ...        ...  ...       ...   \n",
              "51518   3750        2005     ford taurus          3        6.0  gas  110200.0   \n",
              "51520   9249        2013   nissan maxima          4        6.0  gas   88136.0   \n",
              "51521   2700        2002     honda civic          0        4.0  gas  181500.0   \n",
              "51522   3950        2009  hyundai sonata          3        4.0  gas  128000.0   \n",
              "51523   7455        2013  toyota corolla          2        4.0  gas  139573.0   \n",
              "\n",
              "      transmission   type paint_color  is_4wd date_posted  days_listed  \\\n",
              "0        automatic    SUV     unknown    True  2018-06-23           19   \n",
              "2        automatic  sedan         red   False  2019-02-07           79   \n",
              "4        automatic  sedan       black   False  2019-04-02           28   \n",
              "5        automatic  sedan       black    True  2018-06-20           15   \n",
              "6        automatic  sedan       white   False  2018-12-27           73   \n",
              "...            ...    ...         ...     ...         ...          ...   \n",
              "51518    automatic  sedan      silver   False  2018-08-10           63   \n",
              "51520    automatic  sedan       black   False  2018-10-03           37   \n",
              "51521    automatic  sedan       white   False  2018-11-14           22   \n",
              "51522    automatic  sedan        blue   False  2018-11-15           32   \n",
              "51523    automatic  sedan       black   False  2018-07-02           71   \n",
              "\n",
              "       antiguedad_auto  millaje_prom_por_año  \n",
              "0                    7               20714.3  \n",
              "2                    6               18333.3  \n",
              "4                    2               40451.5  \n",
              "5                    4               14488.5  \n",
              "6                    3               26404.0  \n",
              "...                ...                   ...  \n",
              "51518               13                8476.9  \n",
              "51520                5               17627.2  \n",
              "51521               16               11343.8  \n",
              "51522                9               14222.2  \n",
              "51523                5               27914.6  \n",
              "\n",
              "[34839 rows x 15 columns]"
            ]
          },
          "execution_count": 24,
          "metadata": {},
          "output_type": "execute_result"
        }
      ],
      "source": [
        "df.query('antiguedad_auto <20')\n"
      ]
    },
    {
      "cell_type": "code",
      "execution_count": null,
      "metadata": {
        "id": "Y9Ohd5uAmehA",
        "outputId": "fb7955d2-085c-4c2f-9b5e-eefc28680604"
      },
      "outputs": [
        {
          "data": {
            "text/html": [
              "<div>\n",
              "<style scoped>\n",
              "    .dataframe tbody tr th:only-of-type {\n",
              "        vertical-align: middle;\n",
              "    }\n",
              "\n",
              "    .dataframe tbody tr th {\n",
              "        vertical-align: top;\n",
              "    }\n",
              "\n",
              "    .dataframe thead th {\n",
              "        text-align: right;\n",
              "    }\n",
              "</style>\n",
              "<table border=\"1\" class=\"dataframe\">\n",
              "  <thead>\n",
              "    <tr style=\"text-align: right;\">\n",
              "      <th></th>\n",
              "      <th>price</th>\n",
              "      <th>model_year</th>\n",
              "      <th>model</th>\n",
              "      <th>condition</th>\n",
              "      <th>cylinders</th>\n",
              "      <th>fuel</th>\n",
              "      <th>odometer</th>\n",
              "      <th>transmission</th>\n",
              "      <th>type</th>\n",
              "      <th>paint_color</th>\n",
              "      <th>is_4wd</th>\n",
              "      <th>date_posted</th>\n",
              "      <th>days_listed</th>\n",
              "      <th>antiguedad_auto</th>\n",
              "      <th>millaje_prom_por_año</th>\n",
              "    </tr>\n",
              "  </thead>\n",
              "  <tbody>\n",
              "    <tr>\n",
              "      <th>0</th>\n",
              "      <td>9400</td>\n",
              "      <td>2011</td>\n",
              "      <td>bmw x5</td>\n",
              "      <td>2</td>\n",
              "      <td>6.0</td>\n",
              "      <td>gas</td>\n",
              "      <td>145000.0</td>\n",
              "      <td>automatic</td>\n",
              "      <td>SUV</td>\n",
              "      <td>unknown</td>\n",
              "      <td>True</td>\n",
              "      <td>2018-06-23</td>\n",
              "      <td>19</td>\n",
              "      <td>7</td>\n",
              "      <td>20714.3</td>\n",
              "    </tr>\n",
              "    <tr>\n",
              "      <th>1</th>\n",
              "      <td>25500</td>\n",
              "      <td>0</td>\n",
              "      <td>ford f-150</td>\n",
              "      <td>2</td>\n",
              "      <td>6.0</td>\n",
              "      <td>gas</td>\n",
              "      <td>88705.0</td>\n",
              "      <td>automatic</td>\n",
              "      <td>pickup</td>\n",
              "      <td>white</td>\n",
              "      <td>True</td>\n",
              "      <td>2018-10-19</td>\n",
              "      <td>50</td>\n",
              "      <td>2018</td>\n",
              "      <td>44.0</td>\n",
              "    </tr>\n",
              "    <tr>\n",
              "      <th>2</th>\n",
              "      <td>5500</td>\n",
              "      <td>2013</td>\n",
              "      <td>hyundai sonata</td>\n",
              "      <td>4</td>\n",
              "      <td>4.0</td>\n",
              "      <td>gas</td>\n",
              "      <td>110000.0</td>\n",
              "      <td>automatic</td>\n",
              "      <td>sedan</td>\n",
              "      <td>red</td>\n",
              "      <td>False</td>\n",
              "      <td>2019-02-07</td>\n",
              "      <td>79</td>\n",
              "      <td>6</td>\n",
              "      <td>18333.3</td>\n",
              "    </tr>\n",
              "    <tr>\n",
              "      <th>4</th>\n",
              "      <td>14900</td>\n",
              "      <td>2017</td>\n",
              "      <td>chrysler 200</td>\n",
              "      <td>3</td>\n",
              "      <td>4.0</td>\n",
              "      <td>gas</td>\n",
              "      <td>80903.0</td>\n",
              "      <td>automatic</td>\n",
              "      <td>sedan</td>\n",
              "      <td>black</td>\n",
              "      <td>False</td>\n",
              "      <td>2019-04-02</td>\n",
              "      <td>28</td>\n",
              "      <td>2</td>\n",
              "      <td>40451.5</td>\n",
              "    </tr>\n",
              "    <tr>\n",
              "      <th>5</th>\n",
              "      <td>14990</td>\n",
              "      <td>2014</td>\n",
              "      <td>chrysler 300</td>\n",
              "      <td>3</td>\n",
              "      <td>6.0</td>\n",
              "      <td>gas</td>\n",
              "      <td>57954.0</td>\n",
              "      <td>automatic</td>\n",
              "      <td>sedan</td>\n",
              "      <td>black</td>\n",
              "      <td>True</td>\n",
              "      <td>2018-06-20</td>\n",
              "      <td>15</td>\n",
              "      <td>4</td>\n",
              "      <td>14488.5</td>\n",
              "    </tr>\n",
              "    <tr>\n",
              "      <th>...</th>\n",
              "      <td>...</td>\n",
              "      <td>...</td>\n",
              "      <td>...</td>\n",
              "      <td>...</td>\n",
              "      <td>...</td>\n",
              "      <td>...</td>\n",
              "      <td>...</td>\n",
              "      <td>...</td>\n",
              "      <td>...</td>\n",
              "      <td>...</td>\n",
              "      <td>...</td>\n",
              "      <td>...</td>\n",
              "      <td>...</td>\n",
              "      <td>...</td>\n",
              "      <td>...</td>\n",
              "    </tr>\n",
              "    <tr>\n",
              "      <th>51518</th>\n",
              "      <td>3750</td>\n",
              "      <td>2005</td>\n",
              "      <td>ford taurus</td>\n",
              "      <td>3</td>\n",
              "      <td>6.0</td>\n",
              "      <td>gas</td>\n",
              "      <td>110200.0</td>\n",
              "      <td>automatic</td>\n",
              "      <td>sedan</td>\n",
              "      <td>silver</td>\n",
              "      <td>False</td>\n",
              "      <td>2018-08-10</td>\n",
              "      <td>63</td>\n",
              "      <td>13</td>\n",
              "      <td>8476.9</td>\n",
              "    </tr>\n",
              "    <tr>\n",
              "      <th>51520</th>\n",
              "      <td>9249</td>\n",
              "      <td>2013</td>\n",
              "      <td>nissan maxima</td>\n",
              "      <td>4</td>\n",
              "      <td>6.0</td>\n",
              "      <td>gas</td>\n",
              "      <td>88136.0</td>\n",
              "      <td>automatic</td>\n",
              "      <td>sedan</td>\n",
              "      <td>black</td>\n",
              "      <td>False</td>\n",
              "      <td>2018-10-03</td>\n",
              "      <td>37</td>\n",
              "      <td>5</td>\n",
              "      <td>17627.2</td>\n",
              "    </tr>\n",
              "    <tr>\n",
              "      <th>51521</th>\n",
              "      <td>2700</td>\n",
              "      <td>2002</td>\n",
              "      <td>honda civic</td>\n",
              "      <td>0</td>\n",
              "      <td>4.0</td>\n",
              "      <td>gas</td>\n",
              "      <td>181500.0</td>\n",
              "      <td>automatic</td>\n",
              "      <td>sedan</td>\n",
              "      <td>white</td>\n",
              "      <td>False</td>\n",
              "      <td>2018-11-14</td>\n",
              "      <td>22</td>\n",
              "      <td>16</td>\n",
              "      <td>11343.8</td>\n",
              "    </tr>\n",
              "    <tr>\n",
              "      <th>51522</th>\n",
              "      <td>3950</td>\n",
              "      <td>2009</td>\n",
              "      <td>hyundai sonata</td>\n",
              "      <td>3</td>\n",
              "      <td>4.0</td>\n",
              "      <td>gas</td>\n",
              "      <td>128000.0</td>\n",
              "      <td>automatic</td>\n",
              "      <td>sedan</td>\n",
              "      <td>blue</td>\n",
              "      <td>False</td>\n",
              "      <td>2018-11-15</td>\n",
              "      <td>32</td>\n",
              "      <td>9</td>\n",
              "      <td>14222.2</td>\n",
              "    </tr>\n",
              "    <tr>\n",
              "      <th>51523</th>\n",
              "      <td>7455</td>\n",
              "      <td>2013</td>\n",
              "      <td>toyota corolla</td>\n",
              "      <td>2</td>\n",
              "      <td>4.0</td>\n",
              "      <td>gas</td>\n",
              "      <td>139573.0</td>\n",
              "      <td>automatic</td>\n",
              "      <td>sedan</td>\n",
              "      <td>black</td>\n",
              "      <td>False</td>\n",
              "      <td>2018-07-02</td>\n",
              "      <td>71</td>\n",
              "      <td>5</td>\n",
              "      <td>27914.6</td>\n",
              "    </tr>\n",
              "  </tbody>\n",
              "</table>\n",
              "<p>34228 rows × 15 columns</p>\n",
              "</div>"
            ],
            "text/plain": [
              "       price  model_year           model  condition  cylinders fuel  odometer  \\\n",
              "0       9400        2011          bmw x5          2        6.0  gas  145000.0   \n",
              "1      25500           0      ford f-150          2        6.0  gas   88705.0   \n",
              "2       5500        2013  hyundai sonata          4        4.0  gas  110000.0   \n",
              "4      14900        2017    chrysler 200          3        4.0  gas   80903.0   \n",
              "5      14990        2014    chrysler 300          3        6.0  gas   57954.0   \n",
              "...      ...         ...             ...        ...        ...  ...       ...   \n",
              "51518   3750        2005     ford taurus          3        6.0  gas  110200.0   \n",
              "51520   9249        2013   nissan maxima          4        6.0  gas   88136.0   \n",
              "51521   2700        2002     honda civic          0        4.0  gas  181500.0   \n",
              "51522   3950        2009  hyundai sonata          3        4.0  gas  128000.0   \n",
              "51523   7455        2013  toyota corolla          2        4.0  gas  139573.0   \n",
              "\n",
              "      transmission    type paint_color  is_4wd date_posted  days_listed  \\\n",
              "0        automatic     SUV     unknown    True  2018-06-23           19   \n",
              "1        automatic  pickup       white    True  2018-10-19           50   \n",
              "2        automatic   sedan         red   False  2019-02-07           79   \n",
              "4        automatic   sedan       black   False  2019-04-02           28   \n",
              "5        automatic   sedan       black    True  2018-06-20           15   \n",
              "...            ...     ...         ...     ...         ...          ...   \n",
              "51518    automatic   sedan      silver   False  2018-08-10           63   \n",
              "51520    automatic   sedan       black   False  2018-10-03           37   \n",
              "51521    automatic   sedan       white   False  2018-11-14           22   \n",
              "51522    automatic   sedan        blue   False  2018-11-15           32   \n",
              "51523    automatic   sedan       black   False  2018-07-02           71   \n",
              "\n",
              "       antiguedad_auto  millaje_prom_por_año  \n",
              "0                    7               20714.3  \n",
              "1                 2018                  44.0  \n",
              "2                    6               18333.3  \n",
              "4                    2               40451.5  \n",
              "5                    4               14488.5  \n",
              "...                ...                   ...  \n",
              "51518               13                8476.9  \n",
              "51520                5               17627.2  \n",
              "51521               16               11343.8  \n",
              "51522                9               14222.2  \n",
              "51523                5               27914.6  \n",
              "\n",
              "[34228 rows x 15 columns]"
            ]
          },
          "execution_count": 25,
          "metadata": {},
          "output_type": "execute_result"
        }
      ],
      "source": [
        "df.query('odometer >10000 and odometer < 200000')\n"
      ]
    },
    {
      "cell_type": "markdown",
      "metadata": {
        "id": "_-3nKYRqmehB"
      },
      "source": [
        "## Estudiar parámetros principales sin valores atípicos"
      ]
    },
    {
      "cell_type": "code",
      "execution_count": null,
      "metadata": {
        "id": "6LlQn5qUmehB",
        "outputId": "630992cc-38de-4d8f-b667-56cf1d5cd9dd"
      },
      "outputs": [
        {
          "data": {
            "text/plain": [
              "<AxesSubplot:title={'center':'Precio autos'}, ylabel='Frequency'>"
            ]
          },
          "execution_count": 26,
          "metadata": {},
          "output_type": "execute_result"
        },
        {
          "data": {
            "image/png": "[encoded data removed]",
            "text/plain": [
              "<Figure size 720x360 with 1 Axes>"
            ]
          },
          "metadata": {
            "needs_background": "light"
          },
          "output_type": "display_data"
        }
      ],
      "source": [
        "df.plot(kind='hist',y='price',figsize=(10,5),bins= 100,range=(1000,20000), title='Precio autos')"
      ]
    },
    {
      "cell_type": "markdown",
      "metadata": {
        "id": "W6i3I-rNmehB"
      },
      "source": [
        "Al sacarle los valores muy altos y muy bajos podemos ver como cambio la forma del histograma. Podemos observar que la mayor cantidad de datos esta hasta los 10 000. Hay mucha varación de precios. Hay precios que destacan más ya que tienen mayor frecuencia y entremedio de esos precios hay muchos precios distintos con poca cantidad de autos por precio."
      ]
    },
    {
      "cell_type": "code",
      "execution_count": null,
      "metadata": {
        "scrolled": true,
        "id": "qwQV-97TmehB",
        "outputId": "1833cba9-f136-402d-d851-4df1d5551f99"
      },
      "outputs": [
        {
          "data": {
            "text/plain": [
              "<AxesSubplot:title={'center':'Antiguedad de los autos'}, ylabel='Frequency'>"
            ]
          },
          "execution_count": 27,
          "metadata": {},
          "output_type": "execute_result"
        },
        {
          "data": {
            "image/png": "[encoded data removed]",
            "text/plain": [
              "<Figure size 720x360 with 1 Axes>"
            ]
          },
          "metadata": {
            "needs_background": "light"
          },
          "output_type": "display_data"
        }
      ],
      "source": [
        "df.plot(kind='hist',y='antiguedad_auto',bins=100, figsize=(10,5), range= (0,20), title='Antiguedad de los autos')\n",
        "\n"
      ]
    },
    {
      "cell_type": "markdown",
      "metadata": {
        "id": "Mj_kqsO7mehB"
      },
      "source": [
        "Este histograma muestra mucho mejor la distribución de la antiguedad de los autos publicados. El rango etario mas popular de los autos es entre 4 y 7 años de antiguedad. A partir de los 11 años de antiguedad, la cantidad de autos comienza a disminuir. "
      ]
    },
    {
      "cell_type": "code",
      "execution_count": null,
      "metadata": {
        "id": "6yMhqotvmehB",
        "outputId": "9315a72e-603b-4ceb-f06e-f315bd46a6ee"
      },
      "outputs": [
        {
          "data": {
            "text/plain": [
              "<AxesSubplot:title={'center':'Millas que tiene los autos'}, ylabel='Frequency'>"
            ]
          },
          "execution_count": 28,
          "metadata": {},
          "output_type": "execute_result"
        },
        {
          "data": {
            "image/png": "[encoded data removed]",
            "text/plain": [
              "<Figure size 720x360 with 1 Axes>"
            ]
          },
          "metadata": {
            "needs_background": "light"
          },
          "output_type": "display_data"
        }
      ],
      "source": [
        "\n",
        "df.plot(kind='hist',y='odometer',bins=100, figsize=(10,5), range=(10000,200000), title='Millas que tiene los autos')\n"
      ]
    },
    {
      "cell_type": "markdown",
      "metadata": {
        "id": "xI6DCaVOmehB"
      },
      "source": [
        "En comparación con el otro Histograma de la columna 'odometer', se puede observar mejor la distribución de los datos. Se puede ver como va aumentando la cantidad de millas que tienen los vehículos publicados, llegando al pico de los 100 000. A partir de las 125000 millas, a medida que aumentan las millas que tienen un vehículo, baja la cantidad de vehívulos ofrecidos."
      ]
    },
    {
      "cell_type": "markdown",
      "metadata": {
        "id": "1VpjF1YtmehC"
      },
      "source": [
        "## Periodo de colocación de los anuncios\n",
        "\n"
      ]
    },
    {
      "cell_type": "code",
      "execution_count": null,
      "metadata": {
        "id": "gK4oGXq2mehC",
        "outputId": "5f401767-08ea-437c-97a7-f16025e8cf14"
      },
      "outputs": [
        {
          "data": {
            "text/plain": [
              "count    39184.000000\n",
              "mean        39.620126\n",
              "std         28.111703\n",
              "min          0.000000\n",
              "25%         19.000000\n",
              "50%         33.000000\n",
              "75%         53.000000\n",
              "max        271.000000\n",
              "Name: days_listed, dtype: float64"
            ]
          },
          "execution_count": 29,
          "metadata": {},
          "output_type": "execute_result"
        }
      ],
      "source": [
        "df['days_listed'].describe()\n"
      ]
    },
    {
      "cell_type": "code",
      "execution_count": null,
      "metadata": {
        "id": "kWpHFehSmehC",
        "outputId": "e40bc351-9b7c-4b61-af6c-5943e4c2bf61"
      },
      "outputs": [
        {
          "data": {
            "text/plain": [
              "<AxesSubplot:>"
            ]
          },
          "execution_count": 30,
          "metadata": {},
          "output_type": "execute_result"
        },
        {
          "data": {
            "image/png": "[encoded data removed]",
            "text/plain": [
              "<Figure size 720x360 with 1 Axes>"
            ]
          },
          "metadata": {
            "needs_background": "light"
          },
          "output_type": "display_data"
        }
      ],
      "source": [
        "df['days_listed'].hist(bins=100, figsize=(10,5))\n"
      ]
    },
    {
      "cell_type": "code",
      "execution_count": null,
      "metadata": {
        "id": "H7bHQKT0mehC",
        "outputId": "b0794731-c65a-47e7-ccf6-66bd2be41563"
      },
      "outputs": [
        {
          "data": {
            "text/plain": [
              "<AxesSubplot:>"
            ]
          },
          "execution_count": 31,
          "metadata": {},
          "output_type": "execute_result"
        },
        {
          "data": {
            "image/png": "[encoded data removed]",
            "text/plain": [
              "<Figure size 432x288 with 1 Axes>"
            ]
          },
          "metadata": {
            "needs_background": "light"
          },
          "output_type": "display_data"
        }
      ],
      "source": [
        "df['days_listed'].hist(bins=100, range=(0,80))"
      ]
    },
    {
      "cell_type": "code",
      "execution_count": null,
      "metadata": {
        "id": "R6786EmMmehC",
        "outputId": "035daf4e-aa8e-4d0a-9be6-195688aecf7c"
      },
      "outputs": [
        {
          "data": {
            "text/plain": [
              "<AxesSubplot:>"
            ]
          },
          "execution_count": 32,
          "metadata": {},
          "output_type": "execute_result"
        },
        {
          "data": {
            "image/png": "[encoded data removed]",
            "text/plain": [
              "<Figure size 720x360 with 1 Axes>"
            ]
          },
          "metadata": {
            "needs_background": "light"
          },
          "output_type": "display_data"
        }
      ],
      "source": [
        "df['days_listed'].hist(bins=100, range=(80,300), figsize=(10,5))"
      ]
    },
    {
      "cell_type": "markdown",
      "metadata": {
        "id": "t9yk1AR5mehC"
      },
      "source": [
        "Los períodos de publicación son muy variados. Van desde los 0 días hasta los 267 días. El promedio de días que los autos estan publicados es de 39 días mientras que la mediana es de 33 días. Si bien hay muchas publicaciones que estan cerca de la mediana, tenemos varias publicaciones que exceden ese tiempo considerablemente haciendo que aumente el promedio. Hay varios factores que pueden influir en la cantidad de días de una publicación. Los autos en esas publicaciones tienen muchas millas y algunos precios muy altos. Otros estan en malas condiciones y tienen muchas millas lo cual también puede ser un factor para que esten tanto tiempo publicados. Otra posibilidad es que haya habido un error en la carga de los datos, con lo cual el posteo aparece pero es rápidamente eliminado."
      ]
    },
    {
      "cell_type": "markdown",
      "metadata": {
        "id": "b8STg8hjmehC"
      },
      "source": [
        "## Precio promedio por cada tipo de vehículo"
      ]
    },
    {
      "cell_type": "code",
      "execution_count": null,
      "metadata": {
        "id": "vFqo48G6mehC",
        "outputId": "32e61bc1-f131-48d0-a623-6b3bb6eb2415"
      },
      "outputs": [
        {
          "data": {
            "text/html": [
              "<div>\n",
              "<style scoped>\n",
              "    .dataframe tbody tr th:only-of-type {\n",
              "        vertical-align: middle;\n",
              "    }\n",
              "\n",
              "    .dataframe tbody tr th {\n",
              "        vertical-align: top;\n",
              "    }\n",
              "\n",
              "    .dataframe thead th {\n",
              "        text-align: right;\n",
              "    }\n",
              "</style>\n",
              "<table border=\"1\" class=\"dataframe\">\n",
              "  <thead>\n",
              "    <tr style=\"text-align: right;\">\n",
              "      <th></th>\n",
              "      <th>price</th>\n",
              "    </tr>\n",
              "    <tr>\n",
              "      <th>model</th>\n",
              "      <th></th>\n",
              "    </tr>\n",
              "  </thead>\n",
              "  <tbody>\n",
              "    <tr>\n",
              "      <th>chevrolet trailblazer</th>\n",
              "      <td>4211.469072</td>\n",
              "    </tr>\n",
              "    <tr>\n",
              "      <th>ford taurus</th>\n",
              "      <td>4588.253275</td>\n",
              "    </tr>\n",
              "    <tr>\n",
              "      <th>dodge dakota</th>\n",
              "      <td>4714.646465</td>\n",
              "    </tr>\n",
              "    <tr>\n",
              "      <th>nissan versa</th>\n",
              "      <td>5406.232673</td>\n",
              "    </tr>\n",
              "    <tr>\n",
              "      <th>jeep liberty</th>\n",
              "      <td>5485.432331</td>\n",
              "    </tr>\n",
              "    <tr>\n",
              "      <th>...</th>\n",
              "      <td>...</td>\n",
              "    </tr>\n",
              "    <tr>\n",
              "      <th>jeep wrangler unlimited</th>\n",
              "      <td>23496.959420</td>\n",
              "    </tr>\n",
              "    <tr>\n",
              "      <th>ford f150 supercrew cab xlt</th>\n",
              "      <td>24838.696850</td>\n",
              "    </tr>\n",
              "    <tr>\n",
              "      <th>ford mustang gt coupe 2d</th>\n",
              "      <td>25032.800905</td>\n",
              "    </tr>\n",
              "    <tr>\n",
              "      <th>chevrolet silverado 3500hd</th>\n",
              "      <td>25316.142857</td>\n",
              "    </tr>\n",
              "    <tr>\n",
              "      <th>chevrolet silverado 1500 crew</th>\n",
              "      <td>29299.152542</td>\n",
              "    </tr>\n",
              "  </tbody>\n",
              "</table>\n",
              "<p>99 rows × 1 columns</p>\n",
              "</div>"
            ],
            "text/plain": [
              "                                      price\n",
              "model                                      \n",
              "chevrolet trailblazer           4211.469072\n",
              "ford taurus                     4588.253275\n",
              "dodge dakota                    4714.646465\n",
              "nissan versa                    5406.232673\n",
              "jeep liberty                    5485.432331\n",
              "...                                     ...\n",
              "jeep wrangler unlimited        23496.959420\n",
              "ford f150 supercrew cab xlt    24838.696850\n",
              "ford mustang gt coupe 2d       25032.800905\n",
              "chevrolet silverado 3500hd     25316.142857\n",
              "chevrolet silverado 1500 crew  29299.152542\n",
              "\n",
              "[99 rows x 1 columns]"
            ]
          },
          "execution_count": 33,
          "metadata": {},
          "output_type": "execute_result"
        }
      ],
      "source": [
        "#calculamos el precio promedio por cada modelo de vehículo\n",
        "\n",
        "precio_prom= df.pivot_table(index='model', values='price',aggfunc='mean')\n",
        "precio_prom.sort_values(by='price')\n"
      ]
    },
    {
      "cell_type": "code",
      "execution_count": null,
      "metadata": {
        "id": "9ffk8HyMmehD",
        "outputId": "ad005f7e-99b6-4c48-f5dd-d654bd0930e3"
      },
      "outputs": [
        {
          "data": {
            "text/plain": [
              "ford f-150                  2121\n",
              "chevrolet silverado 1500    1644\n",
              "ram 1500                    1321\n",
              "chevrolet silverado          959\n",
              "jeep wrangler                851\n",
              "                            ... \n",
              "ford f-250 super duty        180\n",
              "chrysler 200                 179\n",
              "acura tl                     178\n",
              "nissan murano                176\n",
              "kia sorento                  172\n",
              "Name: model, Length: 99, dtype: int64"
            ]
          },
          "execution_count": 34,
          "metadata": {},
          "output_type": "execute_result"
        }
      ],
      "source": [
        "#calculamos la cantidad de anuncios por modelo de vehículo\n",
        "\n",
        "cant_anuncios= df['model'].value_counts()\n",
        "cant_anuncios\n"
      ]
    },
    {
      "cell_type": "code",
      "execution_count": null,
      "metadata": {
        "id": "__3FjoNumehD",
        "outputId": "0ba94f86-b6e2-4480-8890-14c39894fdf9"
      },
      "outputs": [
        {
          "data": {
            "text/html": [
              "<div>\n",
              "<style scoped>\n",
              "    .dataframe tbody tr th:only-of-type {\n",
              "        vertical-align: middle;\n",
              "    }\n",
              "\n",
              "    .dataframe tbody tr th {\n",
              "        vertical-align: top;\n",
              "    }\n",
              "\n",
              "    .dataframe thead th {\n",
              "        text-align: right;\n",
              "    }\n",
              "</style>\n",
              "<table border=\"1\" class=\"dataframe\">\n",
              "  <thead>\n",
              "    <tr style=\"text-align: right;\">\n",
              "      <th></th>\n",
              "      <th>price</th>\n",
              "    </tr>\n",
              "    <tr>\n",
              "      <th>model</th>\n",
              "      <th></th>\n",
              "    </tr>\n",
              "  </thead>\n",
              "  <tbody>\n",
              "    <tr>\n",
              "      <th>chevrolet silverado 1500</th>\n",
              "      <td>15878.832117</td>\n",
              "    </tr>\n",
              "    <tr>\n",
              "      <th>ford f-150</th>\n",
              "      <td>14103.669496</td>\n",
              "    </tr>\n",
              "  </tbody>\n",
              "</table>\n",
              "</div>"
            ],
            "text/plain": [
              "                                 price\n",
              "model                                 \n",
              "chevrolet silverado 1500  15878.832117\n",
              "ford f-150                14103.669496"
            ]
          },
          "execution_count": 35,
          "metadata": {},
          "output_type": "execute_result"
        }
      ],
      "source": [
        "# averiguamos el precio para los dos modelos más populares\n",
        "\n",
        "precio_modelos_populares= precio_prom.query('model in(\"chevrolet silverado 1500\",\"ford f-150\")')\n",
        "precio_modelos_populares"
      ]
    },
    {
      "cell_type": "markdown",
      "metadata": {
        "id": "qaVMMXYHmehD"
      },
      "source": [
        "Podmeos observar que el modelo de vehículo con mayor cantidad de anuncios es la ford f-150, seguida por el chevrolet silverado 1500."
      ]
    },
    {
      "cell_type": "code",
      "execution_count": null,
      "metadata": {
        "id": "4bzNvDw6mehD",
        "outputId": "e882bcd4-20f8-4900-bf3e-0a12fc63af2b"
      },
      "outputs": [
        {
          "data": {
            "text/plain": [
              "<AxesSubplot:title={'center':'Cantidad de anuncios por modelo'}>"
            ]
          },
          "execution_count": 36,
          "metadata": {},
          "output_type": "execute_result"
        },
        {
          "data": {
            "image/png": "[encoded data removed]",
            "text/plain": [
              "<Figure size 1080x576 with 1 Axes>"
            ]
          },
          "metadata": {
            "needs_background": "light"
          },
          "output_type": "display_data"
        }
      ],
      "source": [
        "\n",
        "cant_anuncios.plot(kind='bar', x='model', figsize=(15,8), title='Cantidad de anuncios por modelo')"
      ]
    },
    {
      "cell_type": "markdown",
      "metadata": {
        "id": "a_p-qMiMmehD"
      },
      "source": [
        "## Factores de precio"
      ]
    },
    {
      "cell_type": "code",
      "execution_count": null,
      "metadata": {
        "scrolled": true,
        "id": "QJFn0TP-mehD",
        "outputId": "0d6184b6-dcbf-4f13-81b7-b1d180898f68"
      },
      "outputs": [
        {
          "name": "stdout",
          "output_type": "stream",
          "text": [
            "                 antiguedad_auto  condition  odometer     price\n",
            "antiguedad_auto         1.000000   0.186705  0.179304 -0.101789\n",
            "condition               0.186705   1.000000  0.151732 -0.391285\n",
            "odometer                0.179304   0.151732  1.000000 -0.242578\n",
            "price                  -0.101789  -0.391285 -0.242578  1.000000\n"
          ]
        }
      ],
      "source": [
        "relacion= df.pivot_table(index='model', values=['price','antiguedad_auto','odometer','condition'])\n",
        "print(relacion.corr())"
      ]
    },
    {
      "cell_type": "markdown",
      "metadata": {
        "id": "Mlm8eMdymehD"
      },
      "source": [
        "Como podemos observar, el factor que más influye en el precio es la condición. Si bien ninguno de los factores tiene una correlación muy marcada ya sea positiva o negativa, la condición es la que mayor incidencia tiene sobre el precio."
      ]
    },
    {
      "cell_type": "code",
      "execution_count": null,
      "metadata": {
        "id": "fP9ZlsgrmehD",
        "outputId": "778a55c4-10b6-4a7b-b5a2-46b791f7651c"
      },
      "outputs": [
        {
          "data": {
            "text/plain": [
              "array([[<AxesSubplot:xlabel='antiguedad_auto', ylabel='antiguedad_auto'>,\n",
              "        <AxesSubplot:xlabel='condition', ylabel='antiguedad_auto'>,\n",
              "        <AxesSubplot:xlabel='odometer', ylabel='antiguedad_auto'>,\n",
              "        <AxesSubplot:xlabel='price', ylabel='antiguedad_auto'>],\n",
              "       [<AxesSubplot:xlabel='antiguedad_auto', ylabel='condition'>,\n",
              "        <AxesSubplot:xlabel='condition', ylabel='condition'>,\n",
              "        <AxesSubplot:xlabel='odometer', ylabel='condition'>,\n",
              "        <AxesSubplot:xlabel='price', ylabel='condition'>],\n",
              "       [<AxesSubplot:xlabel='antiguedad_auto', ylabel='odometer'>,\n",
              "        <AxesSubplot:xlabel='condition', ylabel='odometer'>,\n",
              "        <AxesSubplot:xlabel='odometer', ylabel='odometer'>,\n",
              "        <AxesSubplot:xlabel='price', ylabel='odometer'>],\n",
              "       [<AxesSubplot:xlabel='antiguedad_auto', ylabel='price'>,\n",
              "        <AxesSubplot:xlabel='condition', ylabel='price'>,\n",
              "        <AxesSubplot:xlabel='odometer', ylabel='price'>,\n",
              "        <AxesSubplot:xlabel='price', ylabel='price'>]], dtype=object)"
            ]
          },
          "execution_count": 38,
          "metadata": {},
          "output_type": "execute_result"
        },
        {
          "data": {
            "image/png": "[encoded data removed]",
            "text/plain": [
              "<Figure size 720x720 with 16 Axes>"
            ]
          },
          "metadata": {
            "needs_background": "light"
          },
          "output_type": "display_data"
        }
      ],
      "source": [
        "pd.plotting.scatter_matrix(relacion, figsize=(10,10))"
      ]
    },
    {
      "cell_type": "code",
      "execution_count": null,
      "metadata": {
        "id": "Nd-W_4ovmehE",
        "outputId": "b52c8852-3cc1-4d58-e651-6d1dbe3a1e42"
      },
      "outputs": [
        {
          "data": {
            "text/plain": [
              "<AxesSubplot:xlabel='transmission'>"
            ]
          },
          "execution_count": 39,
          "metadata": {},
          "output_type": "execute_result"
        },
        {
          "data": {
            "image/png": "[encoded data removed]",
            "text/plain": [
              "<Figure size 432x288 with 1 Axes>"
            ]
          },
          "metadata": {
            "needs_background": "light"
          },
          "output_type": "display_data"
        }
      ],
      "source": [
        "df.query('transmission!= \"other\"').pivot_table(index='transmission', values='price').plot(kind='bar')\n"
      ]
    },
    {
      "cell_type": "markdown",
      "metadata": {
        "id": "js_6sZ9pmehE"
      },
      "source": [
        "En este gráfico de barras, podemos observar que los vehículos automáticos son un poco mas caros que los vehículos manuales."
      ]
    },
    {
      "cell_type": "code",
      "execution_count": null,
      "metadata": {
        "id": "Wp1YmJH6mehE",
        "outputId": "8c75c2e8-f3da-4273-d65f-d4f370dd4629"
      },
      "outputs": [
        {
          "data": {
            "text/plain": [
              "<AxesSubplot:xlabel='paint_color'>"
            ]
          },
          "execution_count": 40,
          "metadata": {},
          "output_type": "execute_result"
        },
        {
          "data": {
            "image/png": "[encoded data removed]",
            "text/plain": [
              "<Figure size 432x288 with 1 Axes>"
            ]
          },
          "metadata": {
            "needs_background": "light"
          },
          "output_type": "display_data"
        }
      ],
      "source": [
        "df.pivot_table(index='paint_color', values='price').plot(kind='bar')"
      ]
    },
    {
      "cell_type": "markdown",
      "metadata": {
        "id": "3zY6NLelmehE"
      },
      "source": [
        "En este gráfico de barras, podemos observar que los autos más caros son aquellos que son de color amarillo y naranja. Si bien no son los colores más comunes, puede ser que sea el color de autos más exclusivos o preparados especialmente y sean más caros. "
      ]
    },
    {
      "cell_type": "markdown",
      "metadata": {
        "id": "3Hov8YtemehE"
      },
      "source": [
        "## Conclusión general\n",
        "\n"
      ]
    },
    {
      "cell_type": "markdown",
      "metadata": {
        "id": "lVDgG1_PmehE"
      },
      "source": [
        "Para concluir el análisis, las publicaciones de los vehículos eran muy variadas. No había ningún factor que sea claramente determinante en el precio del vehículo. Había vehículos en malas condiciones con precios muy altos y otros acorde a su condición, vehículos con muchas millas y precios acorde a su millaje y otros con precios muy altos. Al final,el factor que influye un poco más en el precio es la condición seguido por las millas que tiene el auto.El precio de los vehículos automáticos es un poco más elevado que los vehículos con caja manual.  \n",
        "Con respecto a los colores en los autos, no diría que es un factor que influye en el precio del vehículo directamente, sino más bien, una característica de los autos más caros que tienen un color poco común. Puede que sean autos más 'exclusivos' que no importa el año, millaje, color siempre van a ser más caros; lo que vale es la marca.\n",
        "Con respecto a la base de datos en general, había bastantes datos ausentes. Algunos era conveniente reemplazarlos y otros no ya que las características son muy particulares de cada anuncio.   \n"
      ]
    }
  ],
  "metadata": {
    "ExecuteTimeLog": [
      {
        "duration": 828,
        "start_time": "2021-11-16T09:21:11.304Z"
      },
      {
        "duration": 893,
        "start_time": "2021-11-16T09:21:17.728Z"
      },
      {
        "duration": 1150,
        "start_time": "2021-11-16T09:21:29.568Z"
      },
      {
        "duration": 3,
        "start_time": "2021-11-16T09:24:14.495Z"
      },
      {
        "duration": 120,
        "start_time": "2021-11-16T09:24:46.630Z"
      },
      {
        "duration": 3,
        "start_time": "2021-11-16T09:28:27.882Z"
      },
      {
        "duration": 4,
        "start_time": "2021-11-16T09:29:54.281Z"
      },
      {
        "duration": 3,
        "start_time": "2021-11-16T09:30:45.936Z"
      },
      {
        "duration": 4,
        "start_time": "2021-11-16T09:31:06.300Z"
      },
      {
        "duration": 113,
        "start_time": "2021-11-16T09:31:37.208Z"
      },
      {
        "duration": 143,
        "start_time": "2021-11-16T09:31:48.656Z"
      },
      {
        "duration": 98,
        "start_time": "2021-11-16T09:31:55.678Z"
      },
      {
        "duration": 3,
        "start_time": "2021-11-16T09:32:08.535Z"
      },
      {
        "duration": 111,
        "start_time": "2021-11-16T09:32:10.120Z"
      },
      {
        "duration": 3,
        "start_time": "2021-11-16T09:32:15.732Z"
      },
      {
        "duration": 4,
        "start_time": "2021-11-16T09:32:29.423Z"
      },
      {
        "duration": 3,
        "start_time": "2021-11-16T10:03:03.074Z"
      },
      {
        "duration": 3,
        "start_time": "2021-11-16T10:10:01.288Z"
      },
      {
        "duration": 3,
        "start_time": "2021-11-16T10:10:46.923Z"
      },
      {
        "duration": 121,
        "start_time": "2021-11-16T10:37:46.494Z"
      },
      {
        "duration": 125,
        "start_time": "2021-11-16T10:38:20.632Z"
      },
      {
        "duration": 112,
        "start_time": "2021-11-16T10:46:53.001Z"
      },
      {
        "duration": 110,
        "start_time": "2021-11-16T10:48:25.775Z"
      },
      {
        "duration": 3,
        "start_time": "2021-11-16T10:50:18.720Z"
      },
      {
        "duration": 4,
        "start_time": "2021-11-16T10:50:37.649Z"
      },
      {
        "duration": 2,
        "start_time": "2021-11-16T10:50:51.884Z"
      },
      {
        "duration": 3,
        "start_time": "2021-11-16T10:51:56.237Z"
      },
      {
        "duration": 101,
        "start_time": "2021-11-16T10:53:13.791Z"
      },
      {
        "duration": 3,
        "start_time": "2021-11-16T10:55:59.186Z"
      },
      {
        "duration": 3,
        "start_time": "2021-11-16T10:56:10.751Z"
      },
      {
        "duration": 3,
        "start_time": "2021-11-16T10:56:49.038Z"
      },
      {
        "duration": 3,
        "start_time": "2021-11-16T10:56:49.174Z"
      },
      {
        "duration": 4,
        "start_time": "2021-11-16T10:56:49.414Z"
      },
      {
        "duration": 3,
        "start_time": "2021-11-16T10:56:49.680Z"
      },
      {
        "duration": 3,
        "start_time": "2021-11-16T10:56:50.370Z"
      },
      {
        "duration": 114,
        "start_time": "2021-11-16T10:59:34.518Z"
      },
      {
        "duration": 3,
        "start_time": "2021-11-16T11:01:41.201Z"
      },
      {
        "duration": 116,
        "start_time": "2021-11-16T11:01:48.754Z"
      },
      {
        "duration": 3,
        "start_time": "2021-11-16T11:02:16.685Z"
      },
      {
        "duration": 3,
        "start_time": "2021-11-16T11:02:19.479Z"
      },
      {
        "duration": 3,
        "start_time": "2021-11-16T11:02:47.067Z"
      },
      {
        "duration": 3,
        "start_time": "2021-11-16T11:02:49.353Z"
      },
      {
        "duration": 3,
        "start_time": "2021-11-16T11:03:07.835Z"
      },
      {
        "duration": 3,
        "start_time": "2021-11-16T11:03:07.953Z"
      },
      {
        "duration": 112,
        "start_time": "2021-11-16T11:07:52.072Z"
      },
      {
        "duration": 187,
        "start_time": "2021-11-16T11:09:23.468Z"
      },
      {
        "duration": 4,
        "start_time": "2021-11-16T11:10:01.455Z"
      },
      {
        "duration": 3,
        "start_time": "2021-11-16T11:10:05.069Z"
      },
      {
        "duration": 4,
        "start_time": "2021-11-16T11:10:13.376Z"
      },
      {
        "duration": 3,
        "start_time": "2021-11-16T11:10:14.434Z"
      },
      {
        "duration": 3,
        "start_time": "2021-11-16T11:10:22.853Z"
      },
      {
        "duration": 4,
        "start_time": "2021-11-16T11:27:29.279Z"
      },
      {
        "duration": 4,
        "start_time": "2021-11-16T11:29:08.919Z"
      },
      {
        "duration": 118,
        "start_time": "2021-11-16T11:29:46.703Z"
      },
      {
        "duration": 437,
        "start_time": "2021-11-16T11:36:02.181Z"
      },
      {
        "duration": 157,
        "start_time": "2021-11-16T11:36:14.388Z"
      },
      {
        "duration": 207,
        "start_time": "2021-11-16T11:47:15.898Z"
      },
      {
        "duration": 3,
        "start_time": "2021-11-16T11:53:52.092Z"
      },
      {
        "duration": 3,
        "start_time": "2021-11-16T11:53:52.236Z"
      },
      {
        "duration": 3,
        "start_time": "2021-11-16T11:59:12.005Z"
      },
      {
        "duration": 112,
        "start_time": "2021-11-16T12:00:33.446Z"
      },
      {
        "duration": 3,
        "start_time": "2021-11-16T12:02:14.453Z"
      },
      {
        "duration": 3,
        "start_time": "2021-11-16T12:02:39.512Z"
      },
      {
        "duration": 106,
        "start_time": "2021-11-16T12:03:03.460Z"
      }
    ],
    "kernelspec": {
      "display_name": "Python 3 (ipykernel)",
      "language": "python",
      "name": "python3"
    },
    "language_info": {
      "codemirror_mode": {
        "name": "ipython",
        "version": 3
      },
      "file_extension": ".py",
      "mimetype": "text/x-python",
      "name": "python",
      "nbconvert_exporter": "python",
      "pygments_lexer": "ipython3",
      "version": "3.9.5"
    },
    "toc": {
      "base_numbering": 1,
      "nav_menu": {},
      "number_sections": true,
      "sideBar": true,
      "skip_h1_title": false,
      "title_cell": "Table of Contents",
      "title_sidebar": "Contents",
      "toc_cell": false,
      "toc_position": {},
      "toc_section_display": true,
      "toc_window_display": false
    },
    "colab": {
      "provenance": []
    }
  },
  "nbformat": 4,
  "nbformat_minor": 0
}