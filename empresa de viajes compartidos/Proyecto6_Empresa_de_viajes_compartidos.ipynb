{
 "cells": [
  {
   "cell_type": "markdown",
   "metadata": {
    "id": "E-aBmrp8931c"
   },
   "source": [
    "# Proyecto empresa de viajes compartidos"
   ]
  },
  {
   "cell_type": "markdown",
   "metadata": {
    "id": "uEJABzxG931c"
   },
   "source": [
    "### Descripción del proyecto\n",
    "\n",
    "Durante este proyecto analizaré datos para una nueva empresa de viajes compartidos que se esta lanzando en Chicago. El objetivo será encontrar patrones en los datos y entender las preferencias de los pasajeros y el impacto de los factores externos en los viajes.\n",
    "\n",
    "#### Descripción de los datos\n",
    "\n",
    " Tabla 1: contiene datos sobre la cantidad de viajes que realizó cada compañía.\n",
    "- company_name: nombre de la empresa de taxis\n",
    "- trips_amount: el número de viajes de cada compañía de taxis el 15 y 16 de noviembre de 2017.\n",
    "\n",
    "Tabla 2: contiene datos sobre la finalización de los viajes \n",
    "- dropoff_location_name: barrios de Chicago donde finalizaron los viajes\n",
    "- average_trips: el promedio de viajes que terminaron en cada barrio en noviembre de 2017.\n",
    "\n",
    "Tabla 3:\n",
    "Contiene datos sobre viajes desde el Loop hasta el Aeropuerto Internacional O'Hare. \n",
    "- start_ts: fecha y hora de la recogida\n",
    "- weather_conditions: condiciones climáticas en el momento en el que comenzó el viaje\n",
    "- duration_seconds: duración del viaje en segundos"
   ]
  },
  {
   "cell_type": "markdown",
   "metadata": {
    "id": "1G-R9FNe931c"
   },
   "source": [
    "### Análisis exploratorio de datos"
   ]
  },
  {
   "cell_type": "code",
   "execution_count": null,
   "metadata": {
    "id": "PZCA0wo3931c"
   },
   "outputs": [],
   "source": [
    "# Importación de librerías a utilizar\n",
    "\n",
    "import pandas as pd\n",
    "from scipy import stats as st\n",
    "from scipy.stats import levene\n",
    "import matplotlib.pyplot as  plt\n",
    "from seaborn import boxplot"
   ]
  },
  {
   "cell_type": "code",
   "execution_count": null,
   "metadata": {
    "id": "r3wEulH9931d",
    "outputId": "1375e687-549f-4792-8c56-1ebfe3ff3c0f"
   },
   "outputs": [
    {
     "name": "stdout",
     "output_type": "stream",
     "text": [
      "<class 'pandas.core.frame.DataFrame'>\n",
      "RangeIndex: 64 entries, 0 to 63\n",
      "Data columns (total 2 columns):\n",
      " #   Column        Non-Null Count  Dtype \n",
      "---  ------        --------------  ----- \n",
      " 0   company_name  64 non-null     object\n",
      " 1   trips_amount  64 non-null     int64 \n",
      "dtypes: int64(1), object(1)\n",
      "memory usage: 1.1+ KB\n"
     ]
    },
    {
     "data": {
      "text/html": [
       "<div>\n",
       "<style scoped>\n",
       "    .dataframe tbody tr th:only-of-type {\n",
       "        vertical-align: middle;\n",
       "    }\n",
       "\n",
       "    .dataframe tbody tr th {\n",
       "        vertical-align: top;\n",
       "    }\n",
       "\n",
       "    .dataframe thead th {\n",
       "        text-align: right;\n",
       "    }\n",
       "</style>\n",
       "<table border=\"1\" class=\"dataframe\">\n",
       "  <thead>\n",
       "    <tr style=\"text-align: right;\">\n",
       "      <th></th>\n",
       "      <th>company_name</th>\n",
       "      <th>trips_amount</th>\n",
       "    </tr>\n",
       "  </thead>\n",
       "  <tbody>\n",
       "    <tr>\n",
       "      <th>0</th>\n",
       "      <td>Flash Cab</td>\n",
       "      <td>19558</td>\n",
       "    </tr>\n",
       "    <tr>\n",
       "      <th>1</th>\n",
       "      <td>Taxi Affiliation Services</td>\n",
       "      <td>11422</td>\n",
       "    </tr>\n",
       "    <tr>\n",
       "      <th>2</th>\n",
       "      <td>Medallion Leasing</td>\n",
       "      <td>10367</td>\n",
       "    </tr>\n",
       "    <tr>\n",
       "      <th>3</th>\n",
       "      <td>Yellow Cab</td>\n",
       "      <td>9888</td>\n",
       "    </tr>\n",
       "    <tr>\n",
       "      <th>4</th>\n",
       "      <td>Taxi Affiliation Service Yellow</td>\n",
       "      <td>9299</td>\n",
       "    </tr>\n",
       "  </tbody>\n",
       "</table>\n",
       "</div>"
      ],
      "text/plain": [
       "                      company_name  trips_amount\n",
       "0                        Flash Cab         19558\n",
       "1        Taxi Affiliation Services         11422\n",
       "2                Medallion Leasing         10367\n",
       "3                       Yellow Cab          9888\n",
       "4  Taxi Affiliation Service Yellow          9299"
      ]
     },
     "execution_count": 2,
     "metadata": {},
     "output_type": "execute_result"
    }
   ],
   "source": [
    "# Importación de archivo 1: número de viajes por compañia\n",
    "\n",
    "companies_trips= pd.read_csv('/datasets/project_sql_result_01.csv')\n",
    "companies_trips.info()\n",
    "companies_trips.head()\n"
   ]
  },
  {
   "cell_type": "code",
   "execution_count": null,
   "metadata": {
    "id": "MA1CVDmo931d",
    "outputId": "0d2dabbc-9c46-4fb2-e35a-d36d79ab3335"
   },
   "outputs": [
    {
     "data": {
      "text/plain": [
       "company_name    0\n",
       "trips_amount    0\n",
       "dtype: int64"
      ]
     },
     "execution_count": 3,
     "metadata": {},
     "output_type": "execute_result"
    }
   ],
   "source": [
    "# Chequeo de valores ausentes\n",
    "\n",
    "companies_trips.isna().sum()"
   ]
  },
  {
   "cell_type": "code",
   "execution_count": null,
   "metadata": {
    "id": "UVq55dyy931d",
    "outputId": "9735fac2-c40f-4ee0-8c3e-73d4238f734d"
   },
   "outputs": [
    {
     "data": {
      "text/plain": [
       "0"
      ]
     },
     "execution_count": 4,
     "metadata": {},
     "output_type": "execute_result"
    }
   ],
   "source": [
    "# Chequeo de valores duplicados\n",
    "\n",
    "companies_trips.duplicated().sum()"
   ]
  },
  {
   "cell_type": "code",
   "execution_count": null,
   "metadata": {
    "id": "Bio8N7b7931d",
    "outputId": "01191f13-de81-4e3f-bc49-83e4a9496fa8"
   },
   "outputs": [
    {
     "name": "stdout",
     "output_type": "stream",
     "text": [
      "<class 'pandas.core.frame.DataFrame'>\n",
      "RangeIndex: 94 entries, 0 to 93\n",
      "Data columns (total 2 columns):\n",
      " #   Column                 Non-Null Count  Dtype  \n",
      "---  ------                 --------------  -----  \n",
      " 0   dropoff_location_name  94 non-null     object \n",
      " 1   average_trips          94 non-null     float64\n",
      "dtypes: float64(1), object(1)\n",
      "memory usage: 1.6+ KB\n"
     ]
    },
    {
     "data": {
      "text/html": [
       "<div>\n",
       "<style scoped>\n",
       "    .dataframe tbody tr th:only-of-type {\n",
       "        vertical-align: middle;\n",
       "    }\n",
       "\n",
       "    .dataframe tbody tr th {\n",
       "        vertical-align: top;\n",
       "    }\n",
       "\n",
       "    .dataframe thead th {\n",
       "        text-align: right;\n",
       "    }\n",
       "</style>\n",
       "<table border=\"1\" class=\"dataframe\">\n",
       "  <thead>\n",
       "    <tr style=\"text-align: right;\">\n",
       "      <th></th>\n",
       "      <th>dropoff_location_name</th>\n",
       "      <th>average_trips</th>\n",
       "    </tr>\n",
       "  </thead>\n",
       "  <tbody>\n",
       "    <tr>\n",
       "      <th>0</th>\n",
       "      <td>Loop</td>\n",
       "      <td>10727.466667</td>\n",
       "    </tr>\n",
       "    <tr>\n",
       "      <th>1</th>\n",
       "      <td>River North</td>\n",
       "      <td>9523.666667</td>\n",
       "    </tr>\n",
       "    <tr>\n",
       "      <th>2</th>\n",
       "      <td>Streeterville</td>\n",
       "      <td>6664.666667</td>\n",
       "    </tr>\n",
       "    <tr>\n",
       "      <th>3</th>\n",
       "      <td>West Loop</td>\n",
       "      <td>5163.666667</td>\n",
       "    </tr>\n",
       "    <tr>\n",
       "      <th>4</th>\n",
       "      <td>O'Hare</td>\n",
       "      <td>2546.900000</td>\n",
       "    </tr>\n",
       "  </tbody>\n",
       "</table>\n",
       "</div>"
      ],
      "text/plain": [
       "  dropoff_location_name  average_trips\n",
       "0                  Loop   10727.466667\n",
       "1           River North    9523.666667\n",
       "2         Streeterville    6664.666667\n",
       "3             West Loop    5163.666667\n",
       "4                O'Hare    2546.900000"
      ]
     },
     "execution_count": 5,
     "metadata": {},
     "output_type": "execute_result"
    }
   ],
   "source": [
    "# Importación de archivo 2: promedio de viajes por barrio \n",
    "\n",
    "dropoff_location= pd.read_csv('/datasets/project_sql_result_04.csv')\n",
    "dropoff_location.info()\n",
    "dropoff_location.head()"
   ]
  },
  {
   "cell_type": "code",
   "execution_count": null,
   "metadata": {
    "id": "VfGtzMP-931e",
    "outputId": "c6356ec7-0873-41da-c118-50a4d1e55f63"
   },
   "outputs": [
    {
     "data": {
      "text/plain": [
       "dropoff_location_name    0\n",
       "average_trips            0\n",
       "dtype: int64"
      ]
     },
     "execution_count": 6,
     "metadata": {},
     "output_type": "execute_result"
    }
   ],
   "source": [
    "# Chequeo de valores ausentes \n",
    "\n",
    "dropoff_location.isna().sum()"
   ]
  },
  {
   "cell_type": "code",
   "execution_count": null,
   "metadata": {
    "id": "bYD1uV96931e",
    "outputId": "1d75298f-3319-4eb2-818a-4e3f4d0a2a96"
   },
   "outputs": [
    {
     "data": {
      "text/plain": [
       "0"
      ]
     },
     "execution_count": 7,
     "metadata": {},
     "output_type": "execute_result"
    }
   ],
   "source": [
    "# Chequeo de valores duplicados\n",
    "\n",
    "dropoff_location.duplicated().sum()"
   ]
  },
  {
   "cell_type": "code",
   "execution_count": null,
   "metadata": {
    "id": "8aHq5XT-931e",
    "outputId": "384087f9-8cea-4f88-e3a1-f5c338d36c98"
   },
   "outputs": [
    {
     "data": {
      "text/html": [
       "<div>\n",
       "<style scoped>\n",
       "    .dataframe tbody tr th:only-of-type {\n",
       "        vertical-align: middle;\n",
       "    }\n",
       "\n",
       "    .dataframe tbody tr th {\n",
       "        vertical-align: top;\n",
       "    }\n",
       "\n",
       "    .dataframe thead th {\n",
       "        text-align: right;\n",
       "    }\n",
       "</style>\n",
       "<table border=\"1\" class=\"dataframe\">\n",
       "  <thead>\n",
       "    <tr style=\"text-align: right;\">\n",
       "      <th></th>\n",
       "      <th>dropoff_location_name</th>\n",
       "      <th>average_trips</th>\n",
       "    </tr>\n",
       "  </thead>\n",
       "  <tbody>\n",
       "    <tr>\n",
       "      <th>0</th>\n",
       "      <td>Loop</td>\n",
       "      <td>10727.466667</td>\n",
       "    </tr>\n",
       "    <tr>\n",
       "      <th>1</th>\n",
       "      <td>River North</td>\n",
       "      <td>9523.666667</td>\n",
       "    </tr>\n",
       "    <tr>\n",
       "      <th>2</th>\n",
       "      <td>Streeterville</td>\n",
       "      <td>6664.666667</td>\n",
       "    </tr>\n",
       "    <tr>\n",
       "      <th>3</th>\n",
       "      <td>West Loop</td>\n",
       "      <td>5163.666667</td>\n",
       "    </tr>\n",
       "    <tr>\n",
       "      <th>4</th>\n",
       "      <td>O'Hare</td>\n",
       "      <td>2546.900000</td>\n",
       "    </tr>\n",
       "    <tr>\n",
       "      <th>5</th>\n",
       "      <td>Lake View</td>\n",
       "      <td>2420.966667</td>\n",
       "    </tr>\n",
       "    <tr>\n",
       "      <th>6</th>\n",
       "      <td>Grant Park</td>\n",
       "      <td>2068.533333</td>\n",
       "    </tr>\n",
       "    <tr>\n",
       "      <th>7</th>\n",
       "      <td>Museum Campus</td>\n",
       "      <td>1510.000000</td>\n",
       "    </tr>\n",
       "    <tr>\n",
       "      <th>8</th>\n",
       "      <td>Gold Coast</td>\n",
       "      <td>1364.233333</td>\n",
       "    </tr>\n",
       "    <tr>\n",
       "      <th>9</th>\n",
       "      <td>Sheffield &amp; DePaul</td>\n",
       "      <td>1259.766667</td>\n",
       "    </tr>\n",
       "  </tbody>\n",
       "</table>\n",
       "</div>"
      ],
      "text/plain": [
       "  dropoff_location_name  average_trips\n",
       "0                  Loop   10727.466667\n",
       "1           River North    9523.666667\n",
       "2         Streeterville    6664.666667\n",
       "3             West Loop    5163.666667\n",
       "4                O'Hare    2546.900000\n",
       "5             Lake View    2420.966667\n",
       "6            Grant Park    2068.533333\n",
       "7         Museum Campus    1510.000000\n",
       "8            Gold Coast    1364.233333\n",
       "9    Sheffield & DePaul    1259.766667"
      ]
     },
     "execution_count": 8,
     "metadata": {},
     "output_type": "execute_result"
    }
   ],
   "source": [
    "# Identificar los 10 principales barrios en términos de finalización del recorrido\n",
    "\n",
    "dropoff_location.sort_values(by= 'average_trips',ascending= False).head(10)"
   ]
  },
  {
   "cell_type": "code",
   "execution_count": null,
   "metadata": {
    "id": "LdV71Unp931e",
    "outputId": "5da0eaf9-c0e7-4ef7-f5c7-d51006a0a7ba"
   },
   "outputs": [
    {
     "data": {
      "text/plain": [
       "<AxesSubplot:title={'center':'Viajes por empresa de taxi'}, xlabel='company_name', ylabel='trips_amount'>"
      ]
     },
     "execution_count": 9,
     "metadata": {},
     "output_type": "execute_result"
    },
    {
     "data": {
      "image/png": "[encoded data removed]",
      "text/plain": [
       "<Figure size 1440x720 with 1 Axes>"
      ]
     },
     "metadata": {
      "needs_background": "light"
     },
     "output_type": "display_data"
    }
   ],
   "source": [
    "#Gráfico: empresas de taxis y número de viajes\n",
    "\n",
    "companies_trips.plot(kind='bar',x='company_name', y='trips_amount', ylabel='trips_amount', figsize=(20,10), title='Viajes por empresa de taxi')"
   ]
  },
  {
   "cell_type": "markdown",
   "metadata": {
    "id": "shnqBODc931e"
   },
   "source": [
    "Como podemos observar en el gráfico de arriba, la empresa de taxis más usada los días 15 y 16 de noviembre fue Flash Cab. Ésta realizó casi el doble de viajes que la empresa que le sigue: Taxi Affiliation Services. \n",
    "\n",
    "A su vez, dejando de lado Flash Cab que fue sin dudas la más poplar, podemos observar que hay pequeños grupos de compañías en los cuales no difiere tanto la cantidad de viajes realizados. Por ejemplo, las otras 5 copañías principales de taxis realizaron entre 9180 a 11400 viajes.\n",
    "\n",
    "Por otro lado, podemos observar que la mitad de las compañías de taxis tuvieron muy pocos viajes esos días. "
   ]
  },
  {
   "cell_type": "code",
   "execution_count": null,
   "metadata": {
    "id": "bzjPAp8R931e",
    "outputId": "4031eafb-cf1d-4fc0-d3f1-73c5e893dc32"
   },
   "outputs": [
    {
     "data": {
      "text/plain": [
       "<AxesSubplot:title={'center':'Principales barrios'}, xlabel='dropoff_location_name', ylabel='Trips amount'>"
      ]
     },
     "execution_count": 10,
     "metadata": {},
     "output_type": "execute_result"
    },
    {
     "data": {
      "image/png": "[encoded data removed]",
      "text/plain": [
       "<Figure size 1440x720 with 1 Axes>"
      ]
     },
     "metadata": {
      "needs_background": "light"
     },
     "output_type": "display_data"
    }
   ],
   "source": [
    "# Gráfico 10 barrios principales por número de finalizaciones\n",
    "\n",
    "dropoff_location.sort_values(by= 'average_trips',ascending= False).head(10).plot(kind='bar',x='dropoff_location_name', y='average_trips', ylabel='Trips amount', figsize=(20,10), title='Principales barrios')"
   ]
  },
  {
   "cell_type": "markdown",
   "metadata": {
    "id": "Hl0_zDu_931f"
   },
   "source": [
    "Como podemos observar en el gráfico de arriba, se muestran los 10 barrios principales hacia los cuales se dirigieron los taxis  (destino final). El barrio con más viajes fue Loop con un promedio de 10727 viajes en el mes de noviembre seguido por River North con un promedio de 9523 viajes.\n",
    "\n",
    "Después se encuentran Streeterville\ty West Loop con un promedio de viajes de 6664 y 5163 respectivamente y por último un tercer grupo en la tabla con barrios con un promedio de viajes entre 1260 a 2420 en el mes de noviembre. "
   ]
  },
  {
   "cell_type": "markdown",
   "metadata": {
    "id": "ibJP9mHu931f"
   },
   "source": [
    "### Prueba de hipótesis"
   ]
  },
  {
   "cell_type": "markdown",
   "metadata": {
    "id": "9qceopHk931f"
   },
   "source": [
    "A continuación voy a importar el archivo con los datos que usare para hacer la prueba de hipótesis."
   ]
  },
  {
   "cell_type": "code",
   "execution_count": null,
   "metadata": {
    "id": "Mj53hprj931f",
    "outputId": "216d861a-a20e-40c7-bfca-172a9615cafb"
   },
   "outputs": [
    {
     "name": "stdout",
     "output_type": "stream",
     "text": [
      "<class 'pandas.core.frame.DataFrame'>\n",
      "RangeIndex: 1068 entries, 0 to 1067\n",
      "Data columns (total 3 columns):\n",
      " #   Column              Non-Null Count  Dtype  \n",
      "---  ------              --------------  -----  \n",
      " 0   start_ts            1068 non-null   object \n",
      " 1   weather_conditions  1068 non-null   object \n",
      " 2   duration_seconds    1068 non-null   float64\n",
      "dtypes: float64(1), object(2)\n",
      "memory usage: 25.2+ KB\n"
     ]
    },
    {
     "data": {
      "text/html": [
       "<div>\n",
       "<style scoped>\n",
       "    .dataframe tbody tr th:only-of-type {\n",
       "        vertical-align: middle;\n",
       "    }\n",
       "\n",
       "    .dataframe tbody tr th {\n",
       "        vertical-align: top;\n",
       "    }\n",
       "\n",
       "    .dataframe thead th {\n",
       "        text-align: right;\n",
       "    }\n",
       "</style>\n",
       "<table border=\"1\" class=\"dataframe\">\n",
       "  <thead>\n",
       "    <tr style=\"text-align: right;\">\n",
       "      <th></th>\n",
       "      <th>start_ts</th>\n",
       "      <th>weather_conditions</th>\n",
       "      <th>duration_seconds</th>\n",
       "    </tr>\n",
       "  </thead>\n",
       "  <tbody>\n",
       "    <tr>\n",
       "      <th>0</th>\n",
       "      <td>2017-11-25 16:00:00</td>\n",
       "      <td>Good</td>\n",
       "      <td>2410.0</td>\n",
       "    </tr>\n",
       "    <tr>\n",
       "      <th>1</th>\n",
       "      <td>2017-11-25 14:00:00</td>\n",
       "      <td>Good</td>\n",
       "      <td>1920.0</td>\n",
       "    </tr>\n",
       "    <tr>\n",
       "      <th>2</th>\n",
       "      <td>2017-11-25 12:00:00</td>\n",
       "      <td>Good</td>\n",
       "      <td>1543.0</td>\n",
       "    </tr>\n",
       "    <tr>\n",
       "      <th>3</th>\n",
       "      <td>2017-11-04 10:00:00</td>\n",
       "      <td>Good</td>\n",
       "      <td>2512.0</td>\n",
       "    </tr>\n",
       "    <tr>\n",
       "      <th>4</th>\n",
       "      <td>2017-11-11 07:00:00</td>\n",
       "      <td>Good</td>\n",
       "      <td>1440.0</td>\n",
       "    </tr>\n",
       "  </tbody>\n",
       "</table>\n",
       "</div>"
      ],
      "text/plain": [
       "              start_ts weather_conditions  duration_seconds\n",
       "0  2017-11-25 16:00:00               Good            2410.0\n",
       "1  2017-11-25 14:00:00               Good            1920.0\n",
       "2  2017-11-25 12:00:00               Good            1543.0\n",
       "3  2017-11-04 10:00:00               Good            2512.0\n",
       "4  2017-11-11 07:00:00               Good            1440.0"
      ]
     },
     "execution_count": 11,
     "metadata": {},
     "output_type": "execute_result"
    }
   ],
   "source": [
    "# Importación de archivo para trabajar sobre la hipótesis\n",
    "\n",
    "archivo_hipotesis = pd.read_csv('/datasets/project_sql_result_07.csv')\n",
    "archivo_hipotesis.info()\n",
    "archivo_hipotesis.head()"
   ]
  },
  {
   "cell_type": "code",
   "execution_count": null,
   "metadata": {
    "id": "nT7L8FIk931f",
    "outputId": "04025974-4c5f-4a5f-84e1-3c46cf2c3852"
   },
   "outputs": [
    {
     "data": {
      "text/plain": [
       "start_ts              0\n",
       "weather_conditions    0\n",
       "duration_seconds      0\n",
       "dtype: int64"
      ]
     },
     "execution_count": 12,
     "metadata": {},
     "output_type": "execute_result"
    }
   ],
   "source": [
    "# Chequeo de valores ausentes\n",
    "\n",
    "archivo_hipotesis.isna().sum()"
   ]
  },
  {
   "cell_type": "code",
   "execution_count": null,
   "metadata": {
    "id": "ZqMuqgQS931f",
    "outputId": "9b37c186-3558-4c3a-b90c-d3e53abca6f5"
   },
   "outputs": [
    {
     "data": {
      "text/plain": [
       "197"
      ]
     },
     "execution_count": 13,
     "metadata": {},
     "output_type": "execute_result"
    }
   ],
   "source": [
    "# Chequeo de valores duplicados\n",
    "\n",
    "archivo_hipotesis.duplicated().sum()"
   ]
  },
  {
   "cell_type": "code",
   "execution_count": null,
   "metadata": {
    "id": "2gIJlz-9931f",
    "outputId": "7e2315d2-3169-427a-c706-8443f22436e4"
   },
   "outputs": [
    {
     "data": {
      "text/plain": [
       "start_ts             weather_conditions  duration_seconds\n",
       "2017-11-11 08:00:00  Good                1380.0              8\n",
       "2017-11-11 06:00:00  Good                1260.0              8\n",
       "                                         1380.0              7\n",
       "2017-11-11 16:00:00  Good                2400.0              6\n",
       "2017-11-11 08:00:00  Good                1200.0              6\n",
       "                                                            ..\n",
       "2017-11-11 04:00:00  Good                1380.0              1\n",
       "                                         1477.0              1\n",
       "                                         1491.0              1\n",
       "                                         1620.0              1\n",
       "2017-11-25 23:00:00  Good                1500.0              1\n",
       "Length: 871, dtype: int64"
      ]
     },
     "execution_count": 14,
     "metadata": {},
     "output_type": "execute_result"
    }
   ],
   "source": [
    "archivo_hipotesis.value_counts()"
   ]
  },
  {
   "cell_type": "markdown",
   "metadata": {
    "id": "aygBH6hT931f"
   },
   "source": [
    "Como podemos observar, en el archivo que nos dieron para hacer la prueba de hipótesis tenemos valores duplicados. Estos pueden deberse a que el archivo contiene los datos sobre viajes desde el Loop hasta el Aeropuerto Internacional O'Hare. Puede que haya determinadas paradas en Loop con destino hacia el aeropuerto. Al ser un punto fijo es posible que en condiciones normales, el recorrido dure siempre lo mismo; todos los los viajes que salgan de ahi a una determnada hora van a tardar lo mismo generando que haya varios datos con os mismos tiempos."
   ]
  },
  {
   "cell_type": "code",
   "execution_count": null,
   "metadata": {
    "id": "fb9UZ9-Q931f",
    "outputId": "128662bf-d6f4-403b-9c56-d506f9680a7d"
   },
   "outputs": [
    {
     "data": {
      "text/plain": [
       "<AxesSubplot:xlabel='duration_seconds', ylabel='weather_conditions'>"
      ]
     },
     "execution_count": 15,
     "metadata": {},
     "output_type": "execute_result"
    },
    {
     "data": {
      "image/png": "[encoded data removed]",
      "text/plain": [
       "<Figure size 432x288 with 1 Axes>"
      ]
     },
     "metadata": {
      "needs_background": "light"
     },
     "output_type": "display_data"
    }
   ],
   "source": [
    "boxplot(data= archivo_hipotesis, x=\"duration_seconds\", y=\"weather_conditions\")"
   ]
  },
  {
   "cell_type": "markdown",
   "metadata": {
    "id": "OxVmL-Y2931g"
   },
   "source": [
    "Voy a probar la hipótesis de que la duración promedio de los viajes desde el Loop hasta el Aeropuerto Internacional O'Hare cambia los sábados lluviosos.\n",
    "\n",
    "Hipótesis nula: la duración promedio de los viajes desde el Loop hasta el Aeropuerto Internacional de O'Hare no difiere los sábados lluviosos. \n",
    "\n",
    "Hipótesis alternativa: la duración promedio de los viajes desde el Loop hasta el Aeropuerto Internacional O'Hare difiere los sábados lluviosos.\n",
    "\n",
    "Previo a la prueba de hipótesis voy a realizar la prueba de levene para ver si las varianzas son iguales. Usaré como hipótesis nula: las varianzas son iguales y como hipótesis alternativa las varianzas no son iguales."
   ]
  },
  {
   "cell_type": "code",
   "execution_count": null,
   "metadata": {
    "id": "3sY6DdYD931g",
    "outputId": "a465661a-30aa-4dd3-92e3-eb7b9dee7791",
    "scrolled": true
   },
   "outputs": [
    {
     "name": "stdout",
     "output_type": "stream",
     "text": [
      "P_value: 0.6687312920630069\n",
      "No rechazo la hipótesis nula\n"
     ]
    }
   ],
   "source": [
    "# Prueba de hipotesis nula levene: varianzas son iguales \n",
    "\n",
    "datos_lluvia= archivo_hipotesis.query('weather_conditions == \"Bad\" and duration_seconds >0')\n",
    "datos_good= archivo_hipotesis.query('weather_conditions ==\"Good\"and duration_seconds >0')\n",
    "\n",
    "lluvia= datos_lluvia['duration_seconds']\n",
    "good= datos_good['duration_seconds']\n",
    "\n",
    "alpha= 0.05\n",
    "\n",
    "stat,results= levene(lluvia, good)\n",
    "print('P_value:', results)\n",
    "\n",
    "if results < alpha:\n",
    "    print('Rechazo la hipótesis nula')\n",
    "else:\n",
    "    print('No rechazo la hipótesis nula')"
   ]
  },
  {
   "cell_type": "markdown",
   "metadata": {
    "id": "huB3ekYd931g"
   },
   "source": [
    "Como podemos observar de la prueba de Levene realizada arriba, no rechazamos la hipótesis nula que indica que las varianzas son iguales. \n",
    "\n",
    "A continuación realizare la prueba de hipótesis."
   ]
  },
  {
   "cell_type": "code",
   "execution_count": null,
   "metadata": {
    "id": "ABv0Xklx931g",
    "outputId": "7198fbf1-68b8-4240-bb38-b4164b0464f5"
   },
   "outputs": [
    {
     "name": "stdout",
     "output_type": "stream",
     "text": [
      "P_value: 1.3318772977743245e-11\n",
      "Rechazo la hipótesis nula\n"
     ]
    }
   ],
   "source": [
    "# Ho: la duración promedio de los viajes desde el Loop hasta el Aeropuerto Internacional de O'Hare no difiere los sábados lluviosos.\n",
    "\n",
    "alpha= 0.05\n",
    "results= st.ttest_ind(lluvia,good, equal_var= True)\n",
    "print('P_value:', results.pvalue)\n",
    "\n",
    "if results.pvalue < alpha:\n",
    "    print('Rechazo la hipótesis nula')\n",
    "else: \n",
    "    print('No rechazo hipótesis nula')"
   ]
  },
  {
   "cell_type": "markdown",
   "metadata": {
    "id": "Ns2N_ZTw931g"
   },
   "source": [
    "De acuerdo con los datos con los que contamos, rechazo la hipótesis nula. La duración promedio de los viajes desde el Loop hasta el aeropuerto de O'Hare cambia los sábados lluviosos."
   ]
  },
  {
   "cell_type": "markdown",
   "metadata": {
    "id": "dtnLXksI931g"
   },
   "source": [
    "## Conclusión \n",
    "\n",
    "Para concluir, podemos decir que la empresa de taxis más utilizada es Flash Cab seguida por Taxi Affiliation Services, teniendo la primera casi el doble de viajes que la segunda. Esta diferencia puede deberse a que Flash Cab sea una empresa mucho más grande que las otras; al tener una flota de autos más grande en la calle le permite tener el doble de viajes que su competidor más cercano. \n",
    "\n",
    "Con respecto a los detinos finales de los viajes, Loop resulto el más concurrido seguido de cerca por River North.\n",
    "\n",
    "Por último la duración promedio de los viajes difiere un día lluvioso en comparación a un día de buen tiempo. Esta diferencia puede deberse principalmente al factor climático. Los días de mal tiempo puede que haya más tránsito porque la gente decide salir con sus autos y se genera más congestión. También la gente anda un poco más despacio impactando en la duración pormedio de los viajes.  "
   ]
  }
 ],
 "metadata": {
  "colab": {
   "provenance": []
  },
  "kernelspec": {
   "display_name": "Python 3 (ipykernel)",
   "language": "python",
   "name": "python3"
  },
  "language_info": {
   "codemirror_mode": {
    "name": "ipython",
    "version": 3
   },
   "file_extension": ".py",
   "mimetype": "text/x-python",
   "name": "python",
   "nbconvert_exporter": "python",
   "pygments_lexer": "ipython3",
   "version": "3.9.13"
  },
  "toc": {
   "base_numbering": 1,
   "nav_menu": {},
   "number_sections": true,
   "sideBar": true,
   "skip_h1_title": true,
   "title_cell": "Table of Contents",
   "title_sidebar": "Contents",
   "toc_cell": true,
   "toc_position": {
    "height": "calc(100% - 180px)",
    "left": "10px",
    "top": "150px",
    "width": "286.075px"
   },
   "toc_section_display": true,
   "toc_window_display": false
  }
 },
 "nbformat": 4,
 "nbformat_minor": 1
}
