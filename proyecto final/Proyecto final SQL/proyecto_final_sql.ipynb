{
  "cells": [
    {
      "cell_type": "markdown",
      "metadata": {
        "toc": true,
        "id": "DWB0FvkcnMn7"
      },
      "source": [
        "<h1>Table of Contents<span class=\"tocSkip\"></span></h1>\n",
        "<div class=\"toc\"><ul class=\"toc-item\"><li><span><a href=\"#Descripción-del-proyecto\" data-toc-modified-id=\"Descripción-del-proyecto-1\"><span class=\"toc-item-num\">1&nbsp;&nbsp;</span>Descripción del proyecto</a></span><ul class=\"toc-item\"><li><span><a href=\"#Descrpcion-de-los-datos\" data-toc-modified-id=\"Descrpcion-de-los-datos-1.1\"><span class=\"toc-item-num\">1.1&nbsp;&nbsp;</span>Descrpcion de los datos</a></span></li><li><span><a href=\"#Diagrama-de-datos\" data-toc-modified-id=\"Diagrama-de-datos-1.2\"><span class=\"toc-item-num\">1.2&nbsp;&nbsp;</span>Diagrama de datos</a></span></li></ul></li><li><span><a href=\"#Importación-de-librerías-y-conexión-a-la-base-de-datos\" data-toc-modified-id=\"Importación-de-librerías-y-conexión-a-la-base-de-datos-2\"><span class=\"toc-item-num\">2&nbsp;&nbsp;</span>Importación de librerías y conexión a la base de datos</a></span></li><li><span><a href=\"#Estudio-de-tablas.\" data-toc-modified-id=\"Estudio-de-tablas.-3\"><span class=\"toc-item-num\">3&nbsp;&nbsp;</span>Estudio de tablas.</a></span><ul class=\"toc-item\"><li><span><a href=\"#Tabla-books\" data-toc-modified-id=\"Tabla-books-3.1\"><span class=\"toc-item-num\">3.1&nbsp;&nbsp;</span>Tabla books</a></span></li><li><span><a href=\"#Tabla-authors\" data-toc-modified-id=\"Tabla-authors-3.2\"><span class=\"toc-item-num\">3.2&nbsp;&nbsp;</span>Tabla authors</a></span></li><li><span><a href=\"#Tabla-publishers\" data-toc-modified-id=\"Tabla-publishers-3.3\"><span class=\"toc-item-num\">3.3&nbsp;&nbsp;</span>Tabla publishers</a></span></li><li><span><a href=\"#Tabla-ratings\" data-toc-modified-id=\"Tabla-ratings-3.4\"><span class=\"toc-item-num\">3.4&nbsp;&nbsp;</span>Tabla ratings</a></span></li><li><span><a href=\"#Tabla-review\" data-toc-modified-id=\"Tabla-review-3.5\"><span class=\"toc-item-num\">3.5&nbsp;&nbsp;</span>Tabla review</a></span></li></ul></li><li><span><a href=\"#Ejercicios\" data-toc-modified-id=\"Ejercicios-4\"><span class=\"toc-item-num\">4&nbsp;&nbsp;</span>Ejercicios</a></span><ul class=\"toc-item\"><li><span><a href=\"#Busco-número-de-libros-publicados-después-del-1-de-enero-de-2000.\" data-toc-modified-id=\"Busco-número-de-libros-publicados-después-del-1-de-enero-de-2000.-4.1\"><span class=\"toc-item-num\">4.1&nbsp;&nbsp;</span>Busco número de libros publicados después del 1 de enero de 2000.</a></span></li><li><span><a href=\"#Busco-el-número-de-reseñas-de-usuarios-y-la-calificación-promedio-para-cada-libro.\" data-toc-modified-id=\"Busco-el-número-de-reseñas-de-usuarios-y-la-calificación-promedio-para-cada-libro.-4.2\"><span class=\"toc-item-num\">4.2&nbsp;&nbsp;</span>Busco el número de reseñas de usuarios y la calificación promedio para cada libro.</a></span></li><li><span><a href=\"#Busco-la-editorial-que-ha-publicado-el-mayor-número-de-libros-con-más-de-50-páginas.\" data-toc-modified-id=\"Busco-la-editorial-que-ha-publicado-el-mayor-número-de-libros-con-más-de-50-páginas.-4.3\"><span class=\"toc-item-num\">4.3&nbsp;&nbsp;</span>Busco la editorial que ha publicado el mayor número de libros con más de 50 páginas.</a></span></li><li><span><a href=\"#Identifico-al-autor-que-tiene-la-más-alta-calificación-promedio-:-miro-solo-los-libros-con-al-menos-50-calificaciones.\" data-toc-modified-id=\"Identifico-al-autor-que-tiene-la-más-alta-calificación-promedio-:-miro-solo-los-libros-con-al-menos-50-calificaciones.-4.4\"><span class=\"toc-item-num\">4.4&nbsp;&nbsp;</span>Identifico al autor que tiene la más alta calificación promedio : miro solo los libros con al menos 50 calificaciones.</a></span></li><li><span><a href=\"#Encuentra-el-número-promedio-de-reseñas-de-texto-entre-los-usuarios-que-calificaron-más-de-50-libros.\" data-toc-modified-id=\"Encuentra-el-número-promedio-de-reseñas-de-texto-entre-los-usuarios-que-calificaron-más-de-50-libros.-4.5\"><span class=\"toc-item-num\">4.5&nbsp;&nbsp;</span>Encuentra el número promedio de reseñas de texto entre los usuarios que calificaron más de 50 libros.</a></span></li></ul></li><li><span><a href=\"#Conclusiones\" data-toc-modified-id=\"Conclusiones-5\"><span class=\"toc-item-num\">5&nbsp;&nbsp;</span>Conclusiones</a></span></li></ul></div>"
      ]
    },
    {
      "cell_type": "markdown",
      "metadata": {
        "id": "vjJNLnywnMoH"
      },
      "source": [
        "# Proyecto  final SQL\n",
        "\n",
        "## Descripción del proyecto\n",
        "\n",
        "El coronavirus tomó al mundo entero por sorpresa, cambiando la rutina y hábitos diarios de las personas. Los habitantes de las ciudades ya no pasaban su tiempo libre fuera yendo a cafés y centros comerciales sino que comenzaron a desarrollar nuevas actividades en sus casas, entre ellas la lectura. Eso atrajo la atención de las startups que se apresuraron a desarrollar nuevas aplicaciones para los amantes de los libros.\n",
        "\n",
        "En este proyecto trabajaré con una base de datos de uno de los servicios que compiten en el mercado analizando su actividad. Este dataset, contiene datos sobre libros, editoriales, autores y calificaciones de clientes y reseñas de libros.\n",
        "\n",
        "### Descrpcion de los datos\n",
        "\n",
        "Tabla **books**\n",
        "\n",
        "Contiene datos sobre libros:\n",
        "\n",
        "- `book_id`: identificación del libro\n",
        "- `author_id`: identificación del autor o autora\n",
        "- `title`: título\n",
        "- `num_pages`: número de páginas\n",
        "- `publication_date`: fecha de la publicación\n",
        "- `publisher_id`: identificación de la editorial\n",
        "\n",
        "Tabla **authors**\n",
        "\n",
        "Contiene datos sobre autores:\n",
        "\n",
        "- `author_id`: identificación del autor o autora\n",
        "- `author`: el autor o la autora\n",
        "\n",
        "Tabla **publishers**\n",
        "\n",
        "Contiene datos sobre editoriales:\n",
        "\n",
        "- `publisher_id`: identificación de la editorial\n",
        "- `publisher`: la editorial\n",
        "\n",
        "Tabla **ratings**\n",
        "\n",
        "Contiene datos sobre las calificaciones de usuarios:\n",
        "\n",
        "- `rating_id`: identificación de la calificación\n",
        "- `book_id`: identificación del libro\n",
        "- `username`: el nombre del usuario que revisó el libro\n",
        "- `rating`: calificación\n",
        "\n",
        "Tabla **reviews**\n",
        "\n",
        "Contiene datos sobre las reseñas de los y las clientes:\n",
        "\n",
        "- `review_id`: identificación de la reseña\n",
        "- `book_id`: identificación del libro\n",
        "- `username`: el nombre del usuario que revisó el libro\n",
        "- `text`: el texto de la reseña\n",
        "\n",
        "### Diagrama de datos\n",
        "\n",
        "\n",
        "![der](https://concrete-web-bad.notion.site/image/https%3A%2F%2Fs3-us-west-2.amazonaws.com%2Fsecure.notion-static.com%2F5a5cff26-7d06-45cb-8333-37837bbd1a81%2FUntitled.png?id=e1f8ab17-67c0-49e7-9a68-bc20d5ce977c&table=block&spaceId=9e4bd47b-c6e6-4ca3-bcee-279794b47315&width=1640&userId=&cache=v2)\n",
        "\n",
        "\n",
        "A continuación comenzaré con la importacón de las librerías y conexión con la base de datos.\n",
        "    \n",
        "    \n",
        "## Importación de librerías y conexión a la base de datos "
      ]
    },
    {
      "cell_type": "code",
      "execution_count": null,
      "metadata": {
        "id": "5dzSxRPWnMoI"
      },
      "outputs": [],
      "source": [
        "# importar librerías\n",
        "\n",
        "import pandas as pd\n",
        "from sqlalchemy import create_engine"
      ]
    },
    {
      "cell_type": "code",
      "execution_count": null,
      "metadata": {
        "id": "7RvhNqiinMoK"
      },
      "outputs": [],
      "source": [
        "# Conexión a la base de datos\n",
        "\n",
        "db_config = {'user': 'practicum_student',         # nombre de usuario\n",
        "             'pwd': 's65BlTKV3faNIGhmvJVzOqhs', # contraseña\n",
        "             'host': 'rc1b-wcoijxj3yxfsf3fs.mdb.yandexcloud.net',\n",
        "             'port': 6432,              # puerto de conexión\n",
        "             'db': 'data-analyst-final-project-db'}          # nombre de la base de datos\n",
        "\n",
        "connection_string = 'postgresql://{}:{}@{}:{}/{}'.format(db_config['user'],\n",
        "                                                                     db_config['pwd'],\n",
        "                                                                       db_config['host'],\n",
        "                                                                       db_config['port'],\n",
        "                                                                       db_config['db'])\n",
        "\n",
        "engine = create_engine(connection_string, connect_args={'sslmode':'require'})"
      ]
    },
    {
      "cell_type": "markdown",
      "metadata": {
        "id": "fkKRrOuonMoL"
      },
      "source": [
        "## Estudio de tablas.\n",
        "\n",
        "A continuación procederé a estudiar las tablas de la base de datos.\n",
        "\n",
        "### Tabla books"
      ]
    },
    {
      "cell_type": "code",
      "execution_count": null,
      "metadata": {
        "id": "pubiOAOpnMoL",
        "outputId": "ebd5eec1-7835-4289-cfb9-94dc37c8ca6d"
      },
      "outputs": [
        {
          "data": {
            "text/html": [
              "<div>\n",
              "<style scoped>\n",
              "    .dataframe tbody tr th:only-of-type {\n",
              "        vertical-align: middle;\n",
              "    }\n",
              "\n",
              "    .dataframe tbody tr th {\n",
              "        vertical-align: top;\n",
              "    }\n",
              "\n",
              "    .dataframe thead th {\n",
              "        text-align: right;\n",
              "    }\n",
              "</style>\n",
              "<table border=\"1\" class=\"dataframe\">\n",
              "  <thead>\n",
              "    <tr style=\"text-align: right;\">\n",
              "      <th></th>\n",
              "      <th>book_id</th>\n",
              "      <th>author_id</th>\n",
              "      <th>title</th>\n",
              "      <th>num_pages</th>\n",
              "      <th>publication_date</th>\n",
              "      <th>publisher_id</th>\n",
              "    </tr>\n",
              "  </thead>\n",
              "  <tbody>\n",
              "    <tr>\n",
              "      <th>0</th>\n",
              "      <td>1</td>\n",
              "      <td>546</td>\n",
              "      <td>'Salem's Lot</td>\n",
              "      <td>594</td>\n",
              "      <td>2005-11-01</td>\n",
              "      <td>93</td>\n",
              "    </tr>\n",
              "    <tr>\n",
              "      <th>1</th>\n",
              "      <td>2</td>\n",
              "      <td>465</td>\n",
              "      <td>1 000 Places to See Before You Die</td>\n",
              "      <td>992</td>\n",
              "      <td>2003-05-22</td>\n",
              "      <td>336</td>\n",
              "    </tr>\n",
              "    <tr>\n",
              "      <th>2</th>\n",
              "      <td>3</td>\n",
              "      <td>407</td>\n",
              "      <td>13 Little Blue Envelopes (Little Blue Envelope...</td>\n",
              "      <td>322</td>\n",
              "      <td>2010-12-21</td>\n",
              "      <td>135</td>\n",
              "    </tr>\n",
              "    <tr>\n",
              "      <th>3</th>\n",
              "      <td>4</td>\n",
              "      <td>82</td>\n",
              "      <td>1491: New Revelations of the Americas Before C...</td>\n",
              "      <td>541</td>\n",
              "      <td>2006-10-10</td>\n",
              "      <td>309</td>\n",
              "    </tr>\n",
              "    <tr>\n",
              "      <th>4</th>\n",
              "      <td>5</td>\n",
              "      <td>125</td>\n",
              "      <td>1776</td>\n",
              "      <td>386</td>\n",
              "      <td>2006-07-04</td>\n",
              "      <td>268</td>\n",
              "    </tr>\n",
              "  </tbody>\n",
              "</table>\n",
              "</div>"
            ],
            "text/plain": [
              "   book_id  author_id                                              title  \\\n",
              "0        1        546                                       'Salem's Lot   \n",
              "1        2        465                 1 000 Places to See Before You Die   \n",
              "2        3        407  13 Little Blue Envelopes (Little Blue Envelope...   \n",
              "3        4         82  1491: New Revelations of the Americas Before C...   \n",
              "4        5        125                                               1776   \n",
              "\n",
              "   num_pages publication_date  publisher_id  \n",
              "0        594       2005-11-01            93  \n",
              "1        992       2003-05-22           336  \n",
              "2        322       2010-12-21           135  \n",
              "3        541       2006-10-10           309  \n",
              "4        386       2006-07-04           268  "
            ]
          },
          "execution_count": 3,
          "metadata": {},
          "output_type": "execute_result"
        }
      ],
      "source": [
        "# Estudio tabla books\n",
        "\n",
        "query= ''' select *\n",
        "           from books\n",
        "           limit 5'''\n",
        "\n",
        "books= pd.io.sql.read_sql(query, con = engine)\n",
        "books"
      ]
    },
    {
      "cell_type": "code",
      "execution_count": null,
      "metadata": {
        "id": "D-IETDkznMoO",
        "outputId": "6a5fb8c6-c378-451d-8ab4-fe8951368b56"
      },
      "outputs": [
        {
          "data": {
            "text/html": [
              "<div>\n",
              "<style scoped>\n",
              "    .dataframe tbody tr th:only-of-type {\n",
              "        vertical-align: middle;\n",
              "    }\n",
              "\n",
              "    .dataframe tbody tr th {\n",
              "        vertical-align: top;\n",
              "    }\n",
              "\n",
              "    .dataframe thead th {\n",
              "        text-align: right;\n",
              "    }\n",
              "</style>\n",
              "<table border=\"1\" class=\"dataframe\">\n",
              "  <thead>\n",
              "    <tr style=\"text-align: right;\">\n",
              "      <th></th>\n",
              "      <th>number_of_books</th>\n",
              "      <th>authors</th>\n",
              "      <th>titles</th>\n",
              "      <th>first_publication_date</th>\n",
              "      <th>last_publication_date</th>\n",
              "      <th>publishers</th>\n",
              "    </tr>\n",
              "  </thead>\n",
              "  <tbody>\n",
              "    <tr>\n",
              "      <th>0</th>\n",
              "      <td>1000</td>\n",
              "      <td>636</td>\n",
              "      <td>999</td>\n",
              "      <td>1952-12-01</td>\n",
              "      <td>2020-03-31</td>\n",
              "      <td>340</td>\n",
              "    </tr>\n",
              "  </tbody>\n",
              "</table>\n",
              "</div>"
            ],
            "text/plain": [
              "   number_of_books  authors  titles first_publication_date  \\\n",
              "0             1000      636     999             1952-12-01   \n",
              "\n",
              "  last_publication_date  publishers  \n",
              "0            2020-03-31         340  "
            ]
          },
          "execution_count": 4,
          "metadata": {},
          "output_type": "execute_result"
        }
      ],
      "source": [
        "# Analizo tabla books\n",
        "\n",
        "query= ''' select count(book_id) as number_of_books,\n",
        "                  count(distinct author_id) as authors,\n",
        "                  count(distinct title) as titles,\n",
        "                  min(publication_date) as first_publication_date,\n",
        "                  max(publication_date) as last_publication_date,\n",
        "                  count(distinct publisher_id) as publishers\n",
        "           from books\n",
        "           '''\n",
        "\n",
        "b1= pd.io.sql.read_sql(query, con = engine)\n",
        "b1"
      ]
    },
    {
      "cell_type": "code",
      "execution_count": null,
      "metadata": {
        "id": "AOfAgb3GnMoP",
        "outputId": "808a731e-f4e1-454c-a42a-5c83a9f202b3"
      },
      "outputs": [
        {
          "data": {
            "text/html": [
              "<div>\n",
              "<style scoped>\n",
              "    .dataframe tbody tr th:only-of-type {\n",
              "        vertical-align: middle;\n",
              "    }\n",
              "\n",
              "    .dataframe tbody tr th {\n",
              "        vertical-align: top;\n",
              "    }\n",
              "\n",
              "    .dataframe thead th {\n",
              "        text-align: right;\n",
              "    }\n",
              "</style>\n",
              "<table border=\"1\" class=\"dataframe\">\n",
              "  <thead>\n",
              "    <tr style=\"text-align: right;\">\n",
              "      <th></th>\n",
              "      <th>title</th>\n",
              "      <th>book_amount</th>\n",
              "    </tr>\n",
              "  </thead>\n",
              "  <tbody>\n",
              "    <tr>\n",
              "      <th>0</th>\n",
              "      <td>Memoirs of a Geisha</td>\n",
              "      <td>2</td>\n",
              "    </tr>\n",
              "  </tbody>\n",
              "</table>\n",
              "</div>"
            ],
            "text/plain": [
              "                 title  book_amount\n",
              "0  Memoirs of a Geisha            2"
            ]
          },
          "execution_count": 5,
          "metadata": {},
          "output_type": "execute_result"
        }
      ],
      "source": [
        "# Busco título duplicado \n",
        "\n",
        "query= ''' select title,\n",
        "                  count(title) as book_amount\n",
        "           from books\n",
        "           group by title\n",
        "           having count(title) > 1\n",
        "           '''\n",
        "\n",
        "b2= pd.io.sql.read_sql(query, con = engine)\n",
        "b2"
      ]
    },
    {
      "cell_type": "code",
      "execution_count": null,
      "metadata": {
        "id": "nMpEj7WHnMoR",
        "outputId": "74a79a8b-12cc-4f61-cdf3-c0e9e65f4173"
      },
      "outputs": [
        {
          "data": {
            "text/html": [
              "<div>\n",
              "<style scoped>\n",
              "    .dataframe tbody tr th:only-of-type {\n",
              "        vertical-align: middle;\n",
              "    }\n",
              "\n",
              "    .dataframe tbody tr th {\n",
              "        vertical-align: top;\n",
              "    }\n",
              "\n",
              "    .dataframe thead th {\n",
              "        text-align: right;\n",
              "    }\n",
              "</style>\n",
              "<table border=\"1\" class=\"dataframe\">\n",
              "  <thead>\n",
              "    <tr style=\"text-align: right;\">\n",
              "      <th></th>\n",
              "      <th>book_id</th>\n",
              "      <th>title</th>\n",
              "      <th>author_id</th>\n",
              "      <th>publisher_id</th>\n",
              "      <th>publication_date</th>\n",
              "    </tr>\n",
              "  </thead>\n",
              "  <tbody>\n",
              "    <tr>\n",
              "      <th>0</th>\n",
              "      <td>426</td>\n",
              "      <td>Memoirs of a Geisha</td>\n",
              "      <td>39</td>\n",
              "      <td>241</td>\n",
              "      <td>2005-11-15</td>\n",
              "    </tr>\n",
              "    <tr>\n",
              "      <th>1</th>\n",
              "      <td>427</td>\n",
              "      <td>Memoirs of a Geisha</td>\n",
              "      <td>39</td>\n",
              "      <td>311</td>\n",
              "      <td>2005-11-22</td>\n",
              "    </tr>\n",
              "  </tbody>\n",
              "</table>\n",
              "</div>"
            ],
            "text/plain": [
              "   book_id                title  author_id  publisher_id publication_date\n",
              "0      426  Memoirs of a Geisha         39           241       2005-11-15\n",
              "1      427  Memoirs of a Geisha         39           311       2005-11-22"
            ]
          },
          "execution_count": 6,
          "metadata": {},
          "output_type": "execute_result"
        }
      ],
      "source": [
        "# Busco más información del libro Memoirs of a Geisha\n",
        "\n",
        "query= ''' select book_id,\n",
        "                  title,\n",
        "                  author_id,\n",
        "                  publisher_id,\n",
        "                  publication_date\n",
        "           from books\n",
        "           where title = 'Memoirs of a Geisha'\n",
        "           group by book_id,\n",
        "                    title,\n",
        "                    author_id,\n",
        "                    publisher_id,\n",
        "                    publication_date\n",
        "          \n",
        "           '''\n",
        "\n",
        "b3= pd.io.sql.read_sql(query, con = engine)\n",
        "b3"
      ]
    },
    {
      "cell_type": "markdown",
      "metadata": {
        "id": "g1NNDmc4nMoS"
      },
      "source": [
        "De la tabla **books** podemos conocer que el servicio de lectura cuenta con una variedad de 999 títulos diferentes pertenecientes a 636 autores.\n",
        "\n",
        "Las fechas de publicación de los ejemplares van desde 01-12-1952 hasta el 31-01-2020 pertenecientes a 340 editoriales distintas.\n",
        "\n",
        "Podemos observar que el número de libros que aparece es de 1000 porque tenemos un libro (Memoirs of a Geisha) que fue publicado por dos editoriales diferentes en distinta fecha.\n",
        "\n",
        "\n",
        "### Tabla authors"
      ]
    },
    {
      "cell_type": "code",
      "execution_count": null,
      "metadata": {
        "id": "5oVHeNmSnMoS",
        "outputId": "3be79ab6-9174-4a67-de5c-a94a790027ec"
      },
      "outputs": [
        {
          "data": {
            "text/html": [
              "<div>\n",
              "<style scoped>\n",
              "    .dataframe tbody tr th:only-of-type {\n",
              "        vertical-align: middle;\n",
              "    }\n",
              "\n",
              "    .dataframe tbody tr th {\n",
              "        vertical-align: top;\n",
              "    }\n",
              "\n",
              "    .dataframe thead th {\n",
              "        text-align: right;\n",
              "    }\n",
              "</style>\n",
              "<table border=\"1\" class=\"dataframe\">\n",
              "  <thead>\n",
              "    <tr style=\"text-align: right;\">\n",
              "      <th></th>\n",
              "      <th>author_id</th>\n",
              "      <th>author</th>\n",
              "    </tr>\n",
              "  </thead>\n",
              "  <tbody>\n",
              "    <tr>\n",
              "      <th>0</th>\n",
              "      <td>1</td>\n",
              "      <td>A.S. Byatt</td>\n",
              "    </tr>\n",
              "    <tr>\n",
              "      <th>1</th>\n",
              "      <td>2</td>\n",
              "      <td>Aesop/Laura Harris/Laura Gibbs</td>\n",
              "    </tr>\n",
              "    <tr>\n",
              "      <th>2</th>\n",
              "      <td>3</td>\n",
              "      <td>Agatha Christie</td>\n",
              "    </tr>\n",
              "    <tr>\n",
              "      <th>3</th>\n",
              "      <td>4</td>\n",
              "      <td>Alan Brennert</td>\n",
              "    </tr>\n",
              "    <tr>\n",
              "      <th>4</th>\n",
              "      <td>5</td>\n",
              "      <td>Alan Moore/David   Lloyd</td>\n",
              "    </tr>\n",
              "  </tbody>\n",
              "</table>\n",
              "</div>"
            ],
            "text/plain": [
              "   author_id                          author\n",
              "0          1                      A.S. Byatt\n",
              "1          2  Aesop/Laura Harris/Laura Gibbs\n",
              "2          3                 Agatha Christie\n",
              "3          4                   Alan Brennert\n",
              "4          5        Alan Moore/David   Lloyd"
            ]
          },
          "execution_count": 7,
          "metadata": {},
          "output_type": "execute_result"
        }
      ],
      "source": [
        "# Estudio tabla authors\n",
        "\n",
        "query= ''' select *\n",
        "           from authors\n",
        "           limit 5'''\n",
        "\n",
        "\n",
        "authors = pd.io.sql.read_sql(query, con = engine)\n",
        "authors"
      ]
    },
    {
      "cell_type": "code",
      "execution_count": null,
      "metadata": {
        "id": "OmPweaNbnMoT",
        "outputId": "2e1d4cb8-6d78-4859-8dff-5708379a7160"
      },
      "outputs": [
        {
          "data": {
            "text/html": [
              "<div>\n",
              "<style scoped>\n",
              "    .dataframe tbody tr th:only-of-type {\n",
              "        vertical-align: middle;\n",
              "    }\n",
              "\n",
              "    .dataframe tbody tr th {\n",
              "        vertical-align: top;\n",
              "    }\n",
              "\n",
              "    .dataframe thead th {\n",
              "        text-align: right;\n",
              "    }\n",
              "</style>\n",
              "<table border=\"1\" class=\"dataframe\">\n",
              "  <thead>\n",
              "    <tr style=\"text-align: right;\">\n",
              "      <th></th>\n",
              "      <th>number_of_authors</th>\n",
              "      <th>authors</th>\n",
              "    </tr>\n",
              "  </thead>\n",
              "  <tbody>\n",
              "    <tr>\n",
              "      <th>0</th>\n",
              "      <td>636</td>\n",
              "      <td>636</td>\n",
              "    </tr>\n",
              "  </tbody>\n",
              "</table>\n",
              "</div>"
            ],
            "text/plain": [
              "   number_of_authors  authors\n",
              "0                636      636"
            ]
          },
          "execution_count": 8,
          "metadata": {},
          "output_type": "execute_result"
        }
      ],
      "source": [
        "# Busco la cantidad de autores\n",
        "\n",
        "query= ''' select count(author_id) as number_of_authors,\n",
        "                  count(distinct authors) as authors\n",
        "           from authors\n",
        "           '''\n",
        "\n",
        "\n",
        "a1 = pd.io.sql.read_sql(query, con = engine)\n",
        "a1"
      ]
    },
    {
      "cell_type": "markdown",
      "metadata": {
        "id": "X_l7vxFGnMoT"
      },
      "source": [
        "La tabla **authors** muestra los nombres de los autores (636) de los libros.\n",
        "\n",
        "### Tabla publishers"
      ]
    },
    {
      "cell_type": "code",
      "execution_count": null,
      "metadata": {
        "id": "I6_D6LbVnMoU",
        "outputId": "df0e6081-0fec-4595-f877-180afd737652"
      },
      "outputs": [
        {
          "data": {
            "text/html": [
              "<div>\n",
              "<style scoped>\n",
              "    .dataframe tbody tr th:only-of-type {\n",
              "        vertical-align: middle;\n",
              "    }\n",
              "\n",
              "    .dataframe tbody tr th {\n",
              "        vertical-align: top;\n",
              "    }\n",
              "\n",
              "    .dataframe thead th {\n",
              "        text-align: right;\n",
              "    }\n",
              "</style>\n",
              "<table border=\"1\" class=\"dataframe\">\n",
              "  <thead>\n",
              "    <tr style=\"text-align: right;\">\n",
              "      <th></th>\n",
              "      <th>publisher_id</th>\n",
              "      <th>publisher</th>\n",
              "    </tr>\n",
              "  </thead>\n",
              "  <tbody>\n",
              "    <tr>\n",
              "      <th>0</th>\n",
              "      <td>1</td>\n",
              "      <td>Ace</td>\n",
              "    </tr>\n",
              "    <tr>\n",
              "      <th>1</th>\n",
              "      <td>2</td>\n",
              "      <td>Ace Book</td>\n",
              "    </tr>\n",
              "    <tr>\n",
              "      <th>2</th>\n",
              "      <td>3</td>\n",
              "      <td>Ace Books</td>\n",
              "    </tr>\n",
              "    <tr>\n",
              "      <th>3</th>\n",
              "      <td>4</td>\n",
              "      <td>Ace Hardcover</td>\n",
              "    </tr>\n",
              "    <tr>\n",
              "      <th>4</th>\n",
              "      <td>5</td>\n",
              "      <td>Addison Wesley Publishing Company</td>\n",
              "    </tr>\n",
              "  </tbody>\n",
              "</table>\n",
              "</div>"
            ],
            "text/plain": [
              "   publisher_id                          publisher\n",
              "0             1                                Ace\n",
              "1             2                           Ace Book\n",
              "2             3                          Ace Books\n",
              "3             4                      Ace Hardcover\n",
              "4             5  Addison Wesley Publishing Company"
            ]
          },
          "execution_count": 9,
          "metadata": {},
          "output_type": "execute_result"
        }
      ],
      "source": [
        "# Estudio tabla publishers\n",
        "\n",
        "query= ''' select *\n",
        "           from publishers\n",
        "           limit 5'''\n",
        "\n",
        "\n",
        "publishers = pd.io.sql.read_sql(query, con = engine)\n",
        "publishers\n"
      ]
    },
    {
      "cell_type": "code",
      "execution_count": null,
      "metadata": {
        "id": "51mhToQBnMoU",
        "outputId": "76b92111-5eb7-419f-c321-fcd9a3ddb865"
      },
      "outputs": [
        {
          "data": {
            "text/html": [
              "<div>\n",
              "<style scoped>\n",
              "    .dataframe tbody tr th:only-of-type {\n",
              "        vertical-align: middle;\n",
              "    }\n",
              "\n",
              "    .dataframe tbody tr th {\n",
              "        vertical-align: top;\n",
              "    }\n",
              "\n",
              "    .dataframe thead th {\n",
              "        text-align: right;\n",
              "    }\n",
              "</style>\n",
              "<table border=\"1\" class=\"dataframe\">\n",
              "  <thead>\n",
              "    <tr style=\"text-align: right;\">\n",
              "      <th></th>\n",
              "      <th>number_of_publishers</th>\n",
              "    </tr>\n",
              "  </thead>\n",
              "  <tbody>\n",
              "    <tr>\n",
              "      <th>0</th>\n",
              "      <td>340</td>\n",
              "    </tr>\n",
              "  </tbody>\n",
              "</table>\n",
              "</div>"
            ],
            "text/plain": [
              "   number_of_publishers\n",
              "0                   340"
            ]
          },
          "execution_count": 10,
          "metadata": {},
          "output_type": "execute_result"
        }
      ],
      "source": [
        "# Busco cantidad de editoriales\n",
        "\n",
        "query= ''' select count(publisher_id) as number_of_publishers\n",
        "           from publishers\n",
        "           '''\n",
        "\n",
        "\n",
        "p1 = pd.io.sql.read_sql(query, con = engine)\n",
        "p1"
      ]
    },
    {
      "cell_type": "markdown",
      "metadata": {
        "id": "j2ItnOOGnMoV"
      },
      "source": [
        "La tabla **publisher** muestra los nombres de las 340 editoriales que publicaron los libros mencionados en la tabla **books**.\n",
        "\n",
        "### Tabla ratings"
      ]
    },
    {
      "cell_type": "code",
      "execution_count": null,
      "metadata": {
        "id": "FzrdnPL8nMoV",
        "outputId": "04dc8948-abfe-40c4-a74b-c197e91ccd4d"
      },
      "outputs": [
        {
          "data": {
            "text/html": [
              "<div>\n",
              "<style scoped>\n",
              "    .dataframe tbody tr th:only-of-type {\n",
              "        vertical-align: middle;\n",
              "    }\n",
              "\n",
              "    .dataframe tbody tr th {\n",
              "        vertical-align: top;\n",
              "    }\n",
              "\n",
              "    .dataframe thead th {\n",
              "        text-align: right;\n",
              "    }\n",
              "</style>\n",
              "<table border=\"1\" class=\"dataframe\">\n",
              "  <thead>\n",
              "    <tr style=\"text-align: right;\">\n",
              "      <th></th>\n",
              "      <th>rating_id</th>\n",
              "      <th>book_id</th>\n",
              "      <th>username</th>\n",
              "      <th>rating</th>\n",
              "    </tr>\n",
              "  </thead>\n",
              "  <tbody>\n",
              "    <tr>\n",
              "      <th>0</th>\n",
              "      <td>1</td>\n",
              "      <td>1</td>\n",
              "      <td>ryanfranco</td>\n",
              "      <td>4</td>\n",
              "    </tr>\n",
              "    <tr>\n",
              "      <th>1</th>\n",
              "      <td>2</td>\n",
              "      <td>1</td>\n",
              "      <td>grantpatricia</td>\n",
              "      <td>2</td>\n",
              "    </tr>\n",
              "    <tr>\n",
              "      <th>2</th>\n",
              "      <td>3</td>\n",
              "      <td>1</td>\n",
              "      <td>brandtandrea</td>\n",
              "      <td>5</td>\n",
              "    </tr>\n",
              "    <tr>\n",
              "      <th>3</th>\n",
              "      <td>4</td>\n",
              "      <td>2</td>\n",
              "      <td>lorichen</td>\n",
              "      <td>3</td>\n",
              "    </tr>\n",
              "    <tr>\n",
              "      <th>4</th>\n",
              "      <td>5</td>\n",
              "      <td>2</td>\n",
              "      <td>mariokeller</td>\n",
              "      <td>2</td>\n",
              "    </tr>\n",
              "  </tbody>\n",
              "</table>\n",
              "</div>"
            ],
            "text/plain": [
              "   rating_id  book_id       username  rating\n",
              "0          1        1     ryanfranco       4\n",
              "1          2        1  grantpatricia       2\n",
              "2          3        1   brandtandrea       5\n",
              "3          4        2       lorichen       3\n",
              "4          5        2    mariokeller       2"
            ]
          },
          "execution_count": 11,
          "metadata": {},
          "output_type": "execute_result"
        }
      ],
      "source": [
        "# Estudio tabla ratings\n",
        "\n",
        "query= ''' select *\n",
        "           from ratings\n",
        "           limit 5'''\n",
        "\n",
        "\n",
        "ratings = pd.io.sql.read_sql(query, con = engine)\n",
        "ratings"
      ]
    },
    {
      "cell_type": "code",
      "execution_count": null,
      "metadata": {
        "id": "y-wN4JLvnMoW",
        "outputId": "718d9db6-4052-4424-9b0c-124d93cb6334"
      },
      "outputs": [
        {
          "data": {
            "text/html": [
              "<div>\n",
              "<style scoped>\n",
              "    .dataframe tbody tr th:only-of-type {\n",
              "        vertical-align: middle;\n",
              "    }\n",
              "\n",
              "    .dataframe tbody tr th {\n",
              "        vertical-align: top;\n",
              "    }\n",
              "\n",
              "    .dataframe thead th {\n",
              "        text-align: right;\n",
              "    }\n",
              "</style>\n",
              "<table border=\"1\" class=\"dataframe\">\n",
              "  <thead>\n",
              "    <tr style=\"text-align: right;\">\n",
              "      <th></th>\n",
              "      <th>number_of_ratings</th>\n",
              "      <th>rated_books</th>\n",
              "      <th>number_of_users</th>\n",
              "      <th>max_rating_number</th>\n",
              "      <th>min_rating_number</th>\n",
              "    </tr>\n",
              "  </thead>\n",
              "  <tbody>\n",
              "    <tr>\n",
              "      <th>0</th>\n",
              "      <td>6456</td>\n",
              "      <td>1000</td>\n",
              "      <td>160</td>\n",
              "      <td>5</td>\n",
              "      <td>1</td>\n",
              "    </tr>\n",
              "  </tbody>\n",
              "</table>\n",
              "</div>"
            ],
            "text/plain": [
              "   number_of_ratings  rated_books  number_of_users  max_rating_number  \\\n",
              "0               6456         1000              160                  5   \n",
              "\n",
              "   min_rating_number  \n",
              "0                  1  "
            ]
          },
          "execution_count": 12,
          "metadata": {},
          "output_type": "execute_result"
        }
      ],
      "source": [
        "# Analizo la tabla ratings\n",
        "\n",
        "query= ''' select count(rating_id) as number_of_ratings,\n",
        "                  count(distinct book_id) as rated_books,\n",
        "                  count(distinct username) as number_of_users,\n",
        "                  max(rating) as max_rating_number,\n",
        "                  min(rating) as min_rating_number\n",
        "           from ratings\n",
        "           '''\n",
        "\n",
        "r1 = pd.io.sql.read_sql(query, con = engine)\n",
        "r1"
      ]
    },
    {
      "cell_type": "markdown",
      "metadata": {
        "id": "G4oazqNGnMoX"
      },
      "source": [
        "La tabla ratings nos muestra que se hicieron 6456 calificaiones. Las mismas fueron realizadas por 160 personas distintas. Todos los libros presentes en la plataforma del servicio fueron evaluados. Estas calificaciones van desde 1 a 5. \n",
        "\n",
        "### Tabla review"
      ]
    },
    {
      "cell_type": "code",
      "execution_count": null,
      "metadata": {
        "id": "hD--eEbbnMoX",
        "outputId": "0003eba8-ce4d-42e9-f891-cf7c43961ad3"
      },
      "outputs": [
        {
          "data": {
            "text/html": [
              "<div>\n",
              "<style scoped>\n",
              "    .dataframe tbody tr th:only-of-type {\n",
              "        vertical-align: middle;\n",
              "    }\n",
              "\n",
              "    .dataframe tbody tr th {\n",
              "        vertical-align: top;\n",
              "    }\n",
              "\n",
              "    .dataframe thead th {\n",
              "        text-align: right;\n",
              "    }\n",
              "</style>\n",
              "<table border=\"1\" class=\"dataframe\">\n",
              "  <thead>\n",
              "    <tr style=\"text-align: right;\">\n",
              "      <th></th>\n",
              "      <th>review_id</th>\n",
              "      <th>book_id</th>\n",
              "      <th>username</th>\n",
              "      <th>text</th>\n",
              "    </tr>\n",
              "  </thead>\n",
              "  <tbody>\n",
              "    <tr>\n",
              "      <th>0</th>\n",
              "      <td>1</td>\n",
              "      <td>1</td>\n",
              "      <td>brandtandrea</td>\n",
              "      <td>Mention society tell send professor analysis. ...</td>\n",
              "    </tr>\n",
              "    <tr>\n",
              "      <th>1</th>\n",
              "      <td>2</td>\n",
              "      <td>1</td>\n",
              "      <td>ryanfranco</td>\n",
              "      <td>Foot glass pretty audience hit themselves. Amo...</td>\n",
              "    </tr>\n",
              "    <tr>\n",
              "      <th>2</th>\n",
              "      <td>3</td>\n",
              "      <td>2</td>\n",
              "      <td>lorichen</td>\n",
              "      <td>Listen treat keep worry. Miss husband tax but ...</td>\n",
              "    </tr>\n",
              "    <tr>\n",
              "      <th>3</th>\n",
              "      <td>4</td>\n",
              "      <td>3</td>\n",
              "      <td>johnsonamanda</td>\n",
              "      <td>Finally month interesting blue could nature cu...</td>\n",
              "    </tr>\n",
              "    <tr>\n",
              "      <th>4</th>\n",
              "      <td>5</td>\n",
              "      <td>3</td>\n",
              "      <td>scotttamara</td>\n",
              "      <td>Nation purpose heavy give wait song will. List...</td>\n",
              "    </tr>\n",
              "  </tbody>\n",
              "</table>\n",
              "</div>"
            ],
            "text/plain": [
              "   review_id  book_id       username  \\\n",
              "0          1        1   brandtandrea   \n",
              "1          2        1     ryanfranco   \n",
              "2          3        2       lorichen   \n",
              "3          4        3  johnsonamanda   \n",
              "4          5        3    scotttamara   \n",
              "\n",
              "                                                text  \n",
              "0  Mention society tell send professor analysis. ...  \n",
              "1  Foot glass pretty audience hit themselves. Amo...  \n",
              "2  Listen treat keep worry. Miss husband tax but ...  \n",
              "3  Finally month interesting blue could nature cu...  \n",
              "4  Nation purpose heavy give wait song will. List...  "
            ]
          },
          "execution_count": 13,
          "metadata": {},
          "output_type": "execute_result"
        }
      ],
      "source": [
        "# Estudio tabla reviews\n",
        "\n",
        "query= ''' select *\n",
        "           from reviews\n",
        "           limit 5'''\n",
        "\n",
        "\n",
        "reviews = pd.io.sql.read_sql(query, con = engine)\n",
        "reviews"
      ]
    },
    {
      "cell_type": "code",
      "execution_count": null,
      "metadata": {
        "id": "qNU3tnLsnMoY",
        "outputId": "47c70383-8243-4ffb-f551-f84bd12dd52e"
      },
      "outputs": [
        {
          "data": {
            "text/html": [
              "<div>\n",
              "<style scoped>\n",
              "    .dataframe tbody tr th:only-of-type {\n",
              "        vertical-align: middle;\n",
              "    }\n",
              "\n",
              "    .dataframe tbody tr th {\n",
              "        vertical-align: top;\n",
              "    }\n",
              "\n",
              "    .dataframe thead th {\n",
              "        text-align: right;\n",
              "    }\n",
              "</style>\n",
              "<table border=\"1\" class=\"dataframe\">\n",
              "  <thead>\n",
              "    <tr style=\"text-align: right;\">\n",
              "      <th></th>\n",
              "      <th>number_of_reviews</th>\n",
              "      <th>books_reviwed</th>\n",
              "      <th>reviewers</th>\n",
              "    </tr>\n",
              "  </thead>\n",
              "  <tbody>\n",
              "    <tr>\n",
              "      <th>0</th>\n",
              "      <td>2793</td>\n",
              "      <td>994</td>\n",
              "      <td>160</td>\n",
              "    </tr>\n",
              "  </tbody>\n",
              "</table>\n",
              "</div>"
            ],
            "text/plain": [
              "   number_of_reviews  books_reviwed  reviewers\n",
              "0               2793            994        160"
            ]
          },
          "execution_count": 14,
          "metadata": {},
          "output_type": "execute_result"
        }
      ],
      "source": [
        "# Analizo tabla reviews\n",
        "\n",
        "query= ''' select count(review_id) as number_of_reviews,\n",
        "                  count(distinct book_id) as books_reviwed,\n",
        "                  count(distinct username) as reviewers\n",
        "           from reviews\n",
        "           '''\n",
        "\n",
        "\n",
        "r1 = pd.io.sql.read_sql(query, con = engine)\n",
        "r1"
      ]
    },
    {
      "cell_type": "markdown",
      "metadata": {
        "id": "ilw0rbXBnMoY"
      },
      "source": [
        "La tabla reviews nos muestra que se realizaron 2793 reseñas sobre 994 libros. Esas reseñas fueron realizadas por 160 usuarios. De los 1000 libros presentes en el servicio, solo 6 no recibieron una reseña. "
      ]
    },
    {
      "cell_type": "markdown",
      "metadata": {
        "id": "lyuv2KO0nMoZ"
      },
      "source": [
        "## Ejercicios\n",
        "\n",
        "### Busco número de libros publicados después del 1 de enero de 2000."
      ]
    },
    {
      "cell_type": "code",
      "execution_count": null,
      "metadata": {
        "id": "GESC08VSnMoZ",
        "outputId": "df8ceb04-c6ed-41c3-ab22-b76b31b47404"
      },
      "outputs": [
        {
          "data": {
            "text/html": [
              "<div>\n",
              "<style scoped>\n",
              "    .dataframe tbody tr th:only-of-type {\n",
              "        vertical-align: middle;\n",
              "    }\n",
              "\n",
              "    .dataframe tbody tr th {\n",
              "        vertical-align: top;\n",
              "    }\n",
              "\n",
              "    .dataframe thead th {\n",
              "        text-align: right;\n",
              "    }\n",
              "</style>\n",
              "<table border=\"1\" class=\"dataframe\">\n",
              "  <thead>\n",
              "    <tr style=\"text-align: right;\">\n",
              "      <th></th>\n",
              "      <th>cantidad_de_libros</th>\n",
              "    </tr>\n",
              "  </thead>\n",
              "  <tbody>\n",
              "    <tr>\n",
              "      <th>0</th>\n",
              "      <td>819</td>\n",
              "    </tr>\n",
              "  </tbody>\n",
              "</table>\n",
              "</div>"
            ],
            "text/plain": [
              "   cantidad_de_libros\n",
              "0                 819"
            ]
          },
          "execution_count": 15,
          "metadata": {},
          "output_type": "execute_result"
        }
      ],
      "source": [
        "# Encuentro el número de libros publicados después del 1 de enero de 2000.\n",
        "\n",
        "query= '''select count(book_id) as cantidad_de_libros\n",
        "          from books\n",
        "          where publication_date > '2000-01-1'\n",
        "'''\n",
        "\n",
        "\n",
        "ej_1 = pd.io.sql.read_sql(query, con = engine)\n",
        "ej_1"
      ]
    },
    {
      "cell_type": "markdown",
      "metadata": {
        "id": "r7wb2yGqnMoa"
      },
      "source": [
        "Después del 1 de enero de 2000 se publicaron 819 libros en total.\n",
        "\n",
        "### Busco el número de reseñas de usuarios y la calificación promedio para cada libro."
      ]
    },
    {
      "cell_type": "code",
      "execution_count": null,
      "metadata": {
        "id": "ODlcafVNnMoa",
        "outputId": "2899db64-9858-4f79-be4d-19cc968abc40"
      },
      "outputs": [
        {
          "data": {
            "text/html": [
              "<div>\n",
              "<style scoped>\n",
              "    .dataframe tbody tr th:only-of-type {\n",
              "        vertical-align: middle;\n",
              "    }\n",
              "\n",
              "    .dataframe tbody tr th {\n",
              "        vertical-align: top;\n",
              "    }\n",
              "\n",
              "    .dataframe thead th {\n",
              "        text-align: right;\n",
              "    }\n",
              "</style>\n",
              "<table border=\"1\" class=\"dataframe\">\n",
              "  <thead>\n",
              "    <tr style=\"text-align: right;\">\n",
              "      <th></th>\n",
              "      <th>book_id</th>\n",
              "      <th>author</th>\n",
              "      <th>title</th>\n",
              "      <th>review</th>\n",
              "      <th>avg_ratings</th>\n",
              "    </tr>\n",
              "  </thead>\n",
              "  <tbody>\n",
              "    <tr>\n",
              "      <th>0</th>\n",
              "      <td>86</td>\n",
              "      <td>Mercedes Lackey</td>\n",
              "      <td>Arrows of the Queen (Heralds of Valdemar  #1)</td>\n",
              "      <td>2</td>\n",
              "      <td>5.0</td>\n",
              "    </tr>\n",
              "    <tr>\n",
              "      <th>1</th>\n",
              "      <td>901</td>\n",
              "      <td>Robert Kirkman/Tony Moore/Charlie Adlard/Cliff...</td>\n",
              "      <td>The Walking Dead  Book One (The Walking Dead #...</td>\n",
              "      <td>2</td>\n",
              "      <td>5.0</td>\n",
              "    </tr>\n",
              "    <tr>\n",
              "      <th>2</th>\n",
              "      <td>390</td>\n",
              "      <td>William Faulkner</td>\n",
              "      <td>Light in August</td>\n",
              "      <td>2</td>\n",
              "      <td>5.0</td>\n",
              "    </tr>\n",
              "    <tr>\n",
              "      <th>3</th>\n",
              "      <td>972</td>\n",
              "      <td>Jon Kabat-Zinn</td>\n",
              "      <td>Wherever You Go  There You Are: Mindfulness Me...</td>\n",
              "      <td>2</td>\n",
              "      <td>5.0</td>\n",
              "    </tr>\n",
              "    <tr>\n",
              "      <th>4</th>\n",
              "      <td>136</td>\n",
              "      <td>John Eldredge/Stasi Eldredge</td>\n",
              "      <td>Captivating: Unveiling the Mystery of a Woman'...</td>\n",
              "      <td>2</td>\n",
              "      <td>5.0</td>\n",
              "    </tr>\n",
              "  </tbody>\n",
              "</table>\n",
              "</div>"
            ],
            "text/plain": [
              "   book_id                                             author  \\\n",
              "0       86                                    Mercedes Lackey   \n",
              "1      901  Robert Kirkman/Tony Moore/Charlie Adlard/Cliff...   \n",
              "2      390                                   William Faulkner   \n",
              "3      972                                     Jon Kabat-Zinn   \n",
              "4      136                       John Eldredge/Stasi Eldredge   \n",
              "\n",
              "                                               title  review  avg_ratings  \n",
              "0      Arrows of the Queen (Heralds of Valdemar  #1)       2          5.0  \n",
              "1  The Walking Dead  Book One (The Walking Dead #...       2          5.0  \n",
              "2                                    Light in August       2          5.0  \n",
              "3  Wherever You Go  There You Are: Mindfulness Me...       2          5.0  \n",
              "4  Captivating: Unveiling the Mystery of a Woman'...       2          5.0  "
            ]
          },
          "execution_count": 16,
          "metadata": {},
          "output_type": "execute_result"
        }
      ],
      "source": [
        "# Encuentro el número de reseñas de usuarios y la calificación promedio para cada libro.\n",
        "\n",
        "query= ''' select books.book_id,\n",
        "                  authors.author,\n",
        "                  books.title,\n",
        "                  count(distinct reviews.review_id) as review,\n",
        "                  round(avg(ratings.rating),2) as avg_ratings \n",
        "           from books\n",
        "                left join authors on books.author_id = authors.author_id\n",
        "                left join reviews on reviews.book_id = books.book_id\n",
        "                left join ratings on ratings.book_id = books.book_id\n",
        "          group by books.book_id, authors.author_id\n",
        "          order by avg_ratings desc\n",
        "'''\n",
        "\n",
        "\n",
        "ej_2 = pd.io.sql.read_sql(query, con = engine)\n",
        "ej_2.head()"
      ]
    },
    {
      "cell_type": "markdown",
      "metadata": {
        "id": "UlyBfpN-nMoc"
      },
      "source": [
        "### Busco la editorial que ha publicado el mayor número de libros con más de 50 páginas."
      ]
    },
    {
      "cell_type": "code",
      "execution_count": null,
      "metadata": {
        "id": "XH44BxPPnMoc",
        "outputId": "686c4c6c-67a1-42e9-eb38-16772e447fd4"
      },
      "outputs": [
        {
          "data": {
            "text/html": [
              "<div>\n",
              "<style scoped>\n",
              "    .dataframe tbody tr th:only-of-type {\n",
              "        vertical-align: middle;\n",
              "    }\n",
              "\n",
              "    .dataframe tbody tr th {\n",
              "        vertical-align: top;\n",
              "    }\n",
              "\n",
              "    .dataframe thead th {\n",
              "        text-align: right;\n",
              "    }\n",
              "</style>\n",
              "<table border=\"1\" class=\"dataframe\">\n",
              "  <thead>\n",
              "    <tr style=\"text-align: right;\">\n",
              "      <th></th>\n",
              "      <th>publisher_id</th>\n",
              "      <th>publisher</th>\n",
              "      <th>number_of_books</th>\n",
              "    </tr>\n",
              "  </thead>\n",
              "  <tbody>\n",
              "    <tr>\n",
              "      <th>0</th>\n",
              "      <td>212</td>\n",
              "      <td>Penguin Books</td>\n",
              "      <td>42</td>\n",
              "    </tr>\n",
              "  </tbody>\n",
              "</table>\n",
              "</div>"
            ],
            "text/plain": [
              "   publisher_id      publisher  number_of_books\n",
              "0           212  Penguin Books               42"
            ]
          },
          "execution_count": 17,
          "metadata": {},
          "output_type": "execute_result"
        }
      ],
      "source": [
        "#Identifico la editorial que ha publicado el mayor número de libros con más de 50 páginas \n",
        "\n",
        "query= ''' \n",
        "               select publishers.publisher_id,\n",
        "                      publishers.publisher,\n",
        "                      count(books.title) as number_of_books\n",
        "                from publishers\n",
        "                  left join books on books.publisher_id = publishers.publisher_id\n",
        "                where num_pages > 50\n",
        "                group by publishers.publisher_id\n",
        "                order by number_of_books desc\n",
        "                limit 1\n",
        "'''\n",
        "\n",
        "\n",
        "ej_3 = pd.io.sql.read_sql(query, con = engine)\n",
        "ej_3"
      ]
    },
    {
      "cell_type": "markdown",
      "metadata": {
        "id": "CehOVZWNnMoe"
      },
      "source": [
        "Podemos observar que la editorial que publicó el mayor número de libros con más de 50 páginas fue Penguin Books. Publicó un total de 42 libros.\n",
        "\n",
        "### Identifico al autor que tiene la más alta calificación promedio : miro solo los libros con al menos 50 calificaciones."
      ]
    },
    {
      "cell_type": "code",
      "execution_count": null,
      "metadata": {
        "id": "k5dxoIdNnMoe",
        "outputId": "7c1d8576-9e34-4dec-84cf-a2b410f1628f"
      },
      "outputs": [
        {
          "data": {
            "text/html": [
              "<div>\n",
              "<style scoped>\n",
              "    .dataframe tbody tr th:only-of-type {\n",
              "        vertical-align: middle;\n",
              "    }\n",
              "\n",
              "    .dataframe tbody tr th {\n",
              "        vertical-align: top;\n",
              "    }\n",
              "\n",
              "    .dataframe thead th {\n",
              "        text-align: right;\n",
              "    }\n",
              "</style>\n",
              "<table border=\"1\" class=\"dataframe\">\n",
              "  <thead>\n",
              "    <tr style=\"text-align: right;\">\n",
              "      <th></th>\n",
              "      <th>author_id</th>\n",
              "      <th>author</th>\n",
              "      <th>avg_rating</th>\n",
              "    </tr>\n",
              "  </thead>\n",
              "  <tbody>\n",
              "    <tr>\n",
              "      <th>0</th>\n",
              "      <td>236</td>\n",
              "      <td>J.K. Rowling/Mary GrandPré</td>\n",
              "      <td>4.29</td>\n",
              "    </tr>\n",
              "  </tbody>\n",
              "</table>\n",
              "</div>"
            ],
            "text/plain": [
              "   author_id                      author  avg_rating\n",
              "0        236  J.K. Rowling/Mary GrandPré        4.29"
            ]
          },
          "execution_count": 18,
          "metadata": {},
          "output_type": "execute_result"
        }
      ],
      "source": [
        "# Busco el autor que tiene la mayor calificación promedio\n",
        "\n",
        "query= '''select l.author_id,\n",
        "                 l.author,\n",
        "                 round(avg(ratings.rating),2) as avg_rating                \n",
        "          from(select books.author_id,\n",
        "                      authors.author,\n",
        "                      ratings.book_id,\n",
        "                      count(ratings.rating) as number_of_ratings\n",
        "               from ratings\n",
        "                  left join books on books.book_id = ratings.book_id\n",
        "                  inner join authors on books.author_id = authors.author_id\n",
        "               group by ratings.book_id,\n",
        "                        books.author_id,\n",
        "                        authors.author\n",
        "               having count(ratings.rating) >= 50) as l\n",
        "             left join ratings on l.book_id = ratings.book_id\n",
        "         group by  l.author_id,\n",
        "                   l.author\n",
        "         order by avg_rating desc\n",
        "         limit 1\n",
        "'''\n",
        "\n",
        "ej_4 = pd.io.sql.read_sql(query, con = engine)\n",
        "ej_4"
      ]
    },
    {
      "cell_type": "markdown",
      "metadata": {
        "id": "LTt6dEU5nMof"
      },
      "source": [
        "Las autoras que tienen la calificación promedio más alta son J.K. Rowling/Mary GrandPré. Recibieron una calificación promedio de 4.29.\t\n",
        "\n",
        "### Encuentra el número promedio de reseñas de texto entre los usuarios que calificaron más de 50 libros."
      ]
    },
    {
      "cell_type": "code",
      "execution_count": null,
      "metadata": {
        "id": "fuHyqTnYnMof",
        "outputId": "96a32f15-dc7e-447a-ae1d-23b758822f1b"
      },
      "outputs": [
        {
          "data": {
            "text/html": [
              "<div>\n",
              "<style scoped>\n",
              "    .dataframe tbody tr th:only-of-type {\n",
              "        vertical-align: middle;\n",
              "    }\n",
              "\n",
              "    .dataframe tbody tr th {\n",
              "        vertical-align: top;\n",
              "    }\n",
              "\n",
              "    .dataframe thead th {\n",
              "        text-align: right;\n",
              "    }\n",
              "</style>\n",
              "<table border=\"1\" class=\"dataframe\">\n",
              "  <thead>\n",
              "    <tr style=\"text-align: right;\">\n",
              "      <th></th>\n",
              "      <th>avg_text_reviews</th>\n",
              "    </tr>\n",
              "  </thead>\n",
              "  <tbody>\n",
              "    <tr>\n",
              "      <th>0</th>\n",
              "      <td>24.0</td>\n",
              "    </tr>\n",
              "  </tbody>\n",
              "</table>\n",
              "</div>"
            ],
            "text/plain": [
              "   avg_text_reviews\n",
              "0              24.0"
            ]
          },
          "execution_count": 19,
          "metadata": {},
          "output_type": "execute_result"
        }
      ],
      "source": [
        "# Busco número promedio de reseñas entre los usuarios que calificaron más de 50 libros\n",
        "\n",
        "query= ''' select round(avg(m.text)) as avg_text_reviews   -- Saco promedio de reseñas\n",
        "           from (select q.username,                          --Busco las reseñas realizadas por los usuarios que calificaron más de 50 veces.\n",
        "                        count(reviews.text) as text\n",
        "                 from (select username,                      --Busco usuarios que calificaron más de 50 libros\n",
        "                              count(book_id) as graded_books\n",
        "                       from ratings\n",
        "                       group by username\n",
        "                       having count(book_id) > 50) as q\n",
        "                    left join reviews on reviews.username= q.username\n",
        "                group by q.username) as m\n",
        "'''\n",
        "\n",
        "\n",
        "ej_5 = pd.io.sql.read_sql(query, con = engine)\n",
        "ej_5"
      ]
    },
    {
      "cell_type": "markdown",
      "metadata": {
        "id": "b8C__9-6nMog"
      },
      "source": [
        "El número promedio de reseñas de texto entre los usuarios que calificaron más de 50 libros es de 24 reseñas.\n",
        "\n",
        "## Conclusiones\n",
        "\n",
        "Para concluir, esta plataforma de servicios ofrece 1000 libros con 999 títulos diferentes (hay un libro llamado **Memoirs of a Geisha** que aparece en el servicio publicado por dos editoriales diferentes) , 636 autores y 340 editoriales diferentes.\n",
        "\n",
        "Del total de libros, 819 fueron publicados después del 1 de enero de 2020. La editorial que publicó el mayor número de libros con más de 50 páginas fue Penguin Books con un total de 42 libros. Las autoras que tienen la calificación promedio más alta son J.K. Rowling/Mary GrandPré; recibieron una calificación promedio de 4.29. El número promedio de reseñas de texto entre los usuarios que calificaron más de 50 libros es de 24 reseñas.\n"
      ]
    },
    {
      "cell_type": "code",
      "execution_count": null,
      "metadata": {
        "id": "U36wsERHnMoh"
      },
      "outputs": [],
      "source": []
    }
  ],
  "metadata": {
    "kernelspec": {
      "display_name": "Python 3 (ipykernel)",
      "language": "python",
      "name": "python3"
    },
    "language_info": {
      "codemirror_mode": {
        "name": "ipython",
        "version": 3
      },
      "file_extension": ".py",
      "mimetype": "text/x-python",
      "name": "python",
      "nbconvert_exporter": "python",
      "pygments_lexer": "ipython3",
      "version": "3.9.5"
    },
    "toc": {
      "base_numbering": 1,
      "nav_menu": {},
      "number_sections": true,
      "sideBar": true,
      "skip_h1_title": true,
      "title_cell": "Table of Contents",
      "title_sidebar": "Contents",
      "toc_cell": true,
      "toc_position": {},
      "toc_section_display": true,
      "toc_window_display": false
    },
    "colab": {
      "provenance": []
    }
  },
  "nbformat": 4,
  "nbformat_minor": 0
}