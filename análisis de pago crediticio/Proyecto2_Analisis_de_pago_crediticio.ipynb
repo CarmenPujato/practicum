{
 "cells": [
  {
   "cell_type": "markdown",
   "metadata": {
    "id": "UPkena2JfWOl"
   },
   "source": [
    "# Análisis del riesgo de incumplimiento de los prestatarios\n",
    "\n",
    "El proyecto consiste en preparar un informe para la división de préstamos de un banco. Averiguaré si el estado civil, el número de hijos de un cliente, ingresos, propósito por el que piden el crédito tienen un impacto en el incumplimiento de pago de un préstamo. El banco ya tiene algunos datos sobre la solvencia crediticia de los clientes.\n",
    "\n",
    "El informe se tendrá en cuenta al momento de crear una **puntuación de crédito** para un cliente potencial. La **puntuación de crédito** se utiliza para evaluar la capacidad de un prestatario potencial para pagar su préstamo.\n",
    "\n",
    "\n",
    "\n"
   ]
  },
  {
   "cell_type": "code",
   "execution_count": null,
   "metadata": {
    "id": "pUZ7aG7EfWOl"
   },
   "outputs": [],
   "source": [
    "# Cargar todas las librerías\n",
    "\n",
    "import pandas as pd\n",
    "\n",
    "# Descarga de datos\n",
    "\n",
    "df= pd.read_csv('/datasets/credit_scoring_eng.csv')\n",
    "\n",
    "\n"
   ]
  },
  {
   "cell_type": "markdown",
   "metadata": {
    "id": "VVVKrbaTfWOm"
   },
   "source": [
    "## Ejercicio 1. Exploración de datos\n",
    "\n",
    "**Descripción de los datos**\n",
    "- `children` - el número de hijos en la familia\n",
    "- `days_employed` - experiencia laboral en días\n",
    "- `dob_years` - la edad del cliente en años\n",
    "- `education` - la educación del cliente\n",
    "- `education_id` - identificador de educación\n",
    "- `family_status` - estado civil\n",
    "- `family_status_id` - identificador de estado civil\n",
    "- `gender` - género del cliente\n",
    "- `income_type` - tipo de empleo\n",
    "- `debt` - ¿había alguna deuda en el pago de un préstamo?\n",
    "- `total_income` - ingreso mensual\n",
    "- `purpose` - el propósito de obtener un préstamo\n",
    "\n"
   ]
  },
  {
   "cell_type": "code",
   "execution_count": null,
   "metadata": {
    "id": "DoQwSMBIfWOm",
    "outputId": "bbc31215-28eb-4f86-8861-0672c921c6a6"
   },
   "outputs": [
    {
     "data": {
      "text/plain": [
       "(21525, 12)"
      ]
     },
     "execution_count": 2,
     "metadata": {},
     "output_type": "execute_result"
    }
   ],
   "source": [
    "# Vamos a ver cuántas filas y columnas tiene nuestro conjunto de datos\n",
    "df.shape\n"
   ]
  },
  {
   "cell_type": "code",
   "execution_count": null,
   "metadata": {
    "id": "X5yJq_V2fWOm",
    "outputId": "e13e5ca5-7f30-4812-d87b-ba0bec2aa4b6",
    "scrolled": true
   },
   "outputs": [
    {
     "data": {
      "text/html": [
       "<div>\n",
       "<style scoped>\n",
       "    .dataframe tbody tr th:only-of-type {\n",
       "        vertical-align: middle;\n",
       "    }\n",
       "\n",
       "    .dataframe tbody tr th {\n",
       "        vertical-align: top;\n",
       "    }\n",
       "\n",
       "    .dataframe thead th {\n",
       "        text-align: right;\n",
       "    }\n",
       "</style>\n",
       "<table border=\"1\" class=\"dataframe\">\n",
       "  <thead>\n",
       "    <tr style=\"text-align: right;\">\n",
       "      <th></th>\n",
       "      <th>children</th>\n",
       "      <th>days_employed</th>\n",
       "      <th>dob_years</th>\n",
       "      <th>education</th>\n",
       "      <th>education_id</th>\n",
       "      <th>family_status</th>\n",
       "      <th>family_status_id</th>\n",
       "      <th>gender</th>\n",
       "      <th>income_type</th>\n",
       "      <th>debt</th>\n",
       "      <th>total_income</th>\n",
       "      <th>purpose</th>\n",
       "    </tr>\n",
       "  </thead>\n",
       "  <tbody>\n",
       "    <tr>\n",
       "      <th>0</th>\n",
       "      <td>1</td>\n",
       "      <td>-8437.673028</td>\n",
       "      <td>42</td>\n",
       "      <td>bachelor's degree</td>\n",
       "      <td>0</td>\n",
       "      <td>married</td>\n",
       "      <td>0</td>\n",
       "      <td>F</td>\n",
       "      <td>employee</td>\n",
       "      <td>0</td>\n",
       "      <td>40620.102</td>\n",
       "      <td>purchase of the house</td>\n",
       "    </tr>\n",
       "    <tr>\n",
       "      <th>1</th>\n",
       "      <td>1</td>\n",
       "      <td>-4024.803754</td>\n",
       "      <td>36</td>\n",
       "      <td>secondary education</td>\n",
       "      <td>1</td>\n",
       "      <td>married</td>\n",
       "      <td>0</td>\n",
       "      <td>F</td>\n",
       "      <td>employee</td>\n",
       "      <td>0</td>\n",
       "      <td>17932.802</td>\n",
       "      <td>car purchase</td>\n",
       "    </tr>\n",
       "    <tr>\n",
       "      <th>2</th>\n",
       "      <td>0</td>\n",
       "      <td>-5623.422610</td>\n",
       "      <td>33</td>\n",
       "      <td>Secondary Education</td>\n",
       "      <td>1</td>\n",
       "      <td>married</td>\n",
       "      <td>0</td>\n",
       "      <td>M</td>\n",
       "      <td>employee</td>\n",
       "      <td>0</td>\n",
       "      <td>23341.752</td>\n",
       "      <td>purchase of the house</td>\n",
       "    </tr>\n",
       "    <tr>\n",
       "      <th>3</th>\n",
       "      <td>3</td>\n",
       "      <td>-4124.747207</td>\n",
       "      <td>32</td>\n",
       "      <td>secondary education</td>\n",
       "      <td>1</td>\n",
       "      <td>married</td>\n",
       "      <td>0</td>\n",
       "      <td>M</td>\n",
       "      <td>employee</td>\n",
       "      <td>0</td>\n",
       "      <td>42820.568</td>\n",
       "      <td>supplementary education</td>\n",
       "    </tr>\n",
       "    <tr>\n",
       "      <th>4</th>\n",
       "      <td>0</td>\n",
       "      <td>340266.072047</td>\n",
       "      <td>53</td>\n",
       "      <td>secondary education</td>\n",
       "      <td>1</td>\n",
       "      <td>civil partnership</td>\n",
       "      <td>1</td>\n",
       "      <td>F</td>\n",
       "      <td>retiree</td>\n",
       "      <td>0</td>\n",
       "      <td>25378.572</td>\n",
       "      <td>to have a wedding</td>\n",
       "    </tr>\n",
       "    <tr>\n",
       "      <th>5</th>\n",
       "      <td>0</td>\n",
       "      <td>-926.185831</td>\n",
       "      <td>27</td>\n",
       "      <td>bachelor's degree</td>\n",
       "      <td>0</td>\n",
       "      <td>civil partnership</td>\n",
       "      <td>1</td>\n",
       "      <td>M</td>\n",
       "      <td>business</td>\n",
       "      <td>0</td>\n",
       "      <td>40922.170</td>\n",
       "      <td>purchase of the house</td>\n",
       "    </tr>\n",
       "    <tr>\n",
       "      <th>6</th>\n",
       "      <td>0</td>\n",
       "      <td>-2879.202052</td>\n",
       "      <td>43</td>\n",
       "      <td>bachelor's degree</td>\n",
       "      <td>0</td>\n",
       "      <td>married</td>\n",
       "      <td>0</td>\n",
       "      <td>F</td>\n",
       "      <td>business</td>\n",
       "      <td>0</td>\n",
       "      <td>38484.156</td>\n",
       "      <td>housing transactions</td>\n",
       "    </tr>\n",
       "    <tr>\n",
       "      <th>7</th>\n",
       "      <td>0</td>\n",
       "      <td>-152.779569</td>\n",
       "      <td>50</td>\n",
       "      <td>SECONDARY EDUCATION</td>\n",
       "      <td>1</td>\n",
       "      <td>married</td>\n",
       "      <td>0</td>\n",
       "      <td>M</td>\n",
       "      <td>employee</td>\n",
       "      <td>0</td>\n",
       "      <td>21731.829</td>\n",
       "      <td>education</td>\n",
       "    </tr>\n",
       "    <tr>\n",
       "      <th>8</th>\n",
       "      <td>2</td>\n",
       "      <td>-6929.865299</td>\n",
       "      <td>35</td>\n",
       "      <td>BACHELOR'S DEGREE</td>\n",
       "      <td>0</td>\n",
       "      <td>civil partnership</td>\n",
       "      <td>1</td>\n",
       "      <td>F</td>\n",
       "      <td>employee</td>\n",
       "      <td>0</td>\n",
       "      <td>15337.093</td>\n",
       "      <td>having a wedding</td>\n",
       "    </tr>\n",
       "    <tr>\n",
       "      <th>9</th>\n",
       "      <td>0</td>\n",
       "      <td>-2188.756445</td>\n",
       "      <td>41</td>\n",
       "      <td>secondary education</td>\n",
       "      <td>1</td>\n",
       "      <td>married</td>\n",
       "      <td>0</td>\n",
       "      <td>M</td>\n",
       "      <td>employee</td>\n",
       "      <td>0</td>\n",
       "      <td>23108.150</td>\n",
       "      <td>purchase of the house for my family</td>\n",
       "    </tr>\n",
       "    <tr>\n",
       "      <th>10</th>\n",
       "      <td>2</td>\n",
       "      <td>-4171.483647</td>\n",
       "      <td>36</td>\n",
       "      <td>bachelor's degree</td>\n",
       "      <td>0</td>\n",
       "      <td>married</td>\n",
       "      <td>0</td>\n",
       "      <td>M</td>\n",
       "      <td>business</td>\n",
       "      <td>0</td>\n",
       "      <td>18230.959</td>\n",
       "      <td>buy real estate</td>\n",
       "    </tr>\n",
       "    <tr>\n",
       "      <th>11</th>\n",
       "      <td>0</td>\n",
       "      <td>-792.701887</td>\n",
       "      <td>40</td>\n",
       "      <td>secondary education</td>\n",
       "      <td>1</td>\n",
       "      <td>married</td>\n",
       "      <td>0</td>\n",
       "      <td>F</td>\n",
       "      <td>employee</td>\n",
       "      <td>0</td>\n",
       "      <td>12331.077</td>\n",
       "      <td>buy commercial real estate</td>\n",
       "    </tr>\n",
       "    <tr>\n",
       "      <th>12</th>\n",
       "      <td>0</td>\n",
       "      <td>NaN</td>\n",
       "      <td>65</td>\n",
       "      <td>secondary education</td>\n",
       "      <td>1</td>\n",
       "      <td>civil partnership</td>\n",
       "      <td>1</td>\n",
       "      <td>M</td>\n",
       "      <td>retiree</td>\n",
       "      <td>0</td>\n",
       "      <td>NaN</td>\n",
       "      <td>to have a wedding</td>\n",
       "    </tr>\n",
       "    <tr>\n",
       "      <th>13</th>\n",
       "      <td>0</td>\n",
       "      <td>-1846.641941</td>\n",
       "      <td>54</td>\n",
       "      <td>some college</td>\n",
       "      <td>2</td>\n",
       "      <td>married</td>\n",
       "      <td>0</td>\n",
       "      <td>F</td>\n",
       "      <td>employee</td>\n",
       "      <td>0</td>\n",
       "      <td>20873.317</td>\n",
       "      <td>car purchase</td>\n",
       "    </tr>\n",
       "    <tr>\n",
       "      <th>14</th>\n",
       "      <td>0</td>\n",
       "      <td>-1844.956182</td>\n",
       "      <td>56</td>\n",
       "      <td>bachelor's degree</td>\n",
       "      <td>0</td>\n",
       "      <td>civil partnership</td>\n",
       "      <td>1</td>\n",
       "      <td>F</td>\n",
       "      <td>business</td>\n",
       "      <td>1</td>\n",
       "      <td>26420.466</td>\n",
       "      <td>buy residential real estate</td>\n",
       "    </tr>\n",
       "  </tbody>\n",
       "</table>\n",
       "</div>"
      ],
      "text/plain": [
       "    children  days_employed  dob_years            education  education_id  \\\n",
       "0          1   -8437.673028         42    bachelor's degree             0   \n",
       "1          1   -4024.803754         36  secondary education             1   \n",
       "2          0   -5623.422610         33  Secondary Education             1   \n",
       "3          3   -4124.747207         32  secondary education             1   \n",
       "4          0  340266.072047         53  secondary education             1   \n",
       "5          0    -926.185831         27    bachelor's degree             0   \n",
       "6          0   -2879.202052         43    bachelor's degree             0   \n",
       "7          0    -152.779569         50  SECONDARY EDUCATION             1   \n",
       "8          2   -6929.865299         35    BACHELOR'S DEGREE             0   \n",
       "9          0   -2188.756445         41  secondary education             1   \n",
       "10         2   -4171.483647         36    bachelor's degree             0   \n",
       "11         0    -792.701887         40  secondary education             1   \n",
       "12         0            NaN         65  secondary education             1   \n",
       "13         0   -1846.641941         54         some college             2   \n",
       "14         0   -1844.956182         56    bachelor's degree             0   \n",
       "\n",
       "        family_status  family_status_id gender income_type  debt  \\\n",
       "0             married                 0      F    employee     0   \n",
       "1             married                 0      F    employee     0   \n",
       "2             married                 0      M    employee     0   \n",
       "3             married                 0      M    employee     0   \n",
       "4   civil partnership                 1      F     retiree     0   \n",
       "5   civil partnership                 1      M    business     0   \n",
       "6             married                 0      F    business     0   \n",
       "7             married                 0      M    employee     0   \n",
       "8   civil partnership                 1      F    employee     0   \n",
       "9             married                 0      M    employee     0   \n",
       "10            married                 0      M    business     0   \n",
       "11            married                 0      F    employee     0   \n",
       "12  civil partnership                 1      M     retiree     0   \n",
       "13            married                 0      F    employee     0   \n",
       "14  civil partnership                 1      F    business     1   \n",
       "\n",
       "    total_income                              purpose  \n",
       "0      40620.102                purchase of the house  \n",
       "1      17932.802                         car purchase  \n",
       "2      23341.752                purchase of the house  \n",
       "3      42820.568              supplementary education  \n",
       "4      25378.572                    to have a wedding  \n",
       "5      40922.170                purchase of the house  \n",
       "6      38484.156                 housing transactions  \n",
       "7      21731.829                            education  \n",
       "8      15337.093                     having a wedding  \n",
       "9      23108.150  purchase of the house for my family  \n",
       "10     18230.959                      buy real estate  \n",
       "11     12331.077           buy commercial real estate  \n",
       "12           NaN                    to have a wedding  \n",
       "13     20873.317                         car purchase  \n",
       "14     26420.466          buy residential real estate  "
      ]
     },
     "execution_count": 3,
     "metadata": {},
     "output_type": "execute_result"
    }
   ],
   "source": [
    "# vamos a mostrar las primeras filas N\n",
    "\n",
    "df.head(15)"
   ]
  },
  {
   "cell_type": "markdown",
   "metadata": {
    "id": "r1TUDLQ6fWOn"
   },
   "source": [
    "Algunos de los datos de 'days_employed' aparecen como número negativo y los números positivos son demasiado altos como para ser reales( dice que trabajo durante 900 años. No tiene lógica. En la columna 'education', aparecen datos escritos en mayúscula y otros en minúscula. Aparecen valores ausentes en dos de las columnas,'days_employed' y 'total_income'. En la columna 'purpose', hay varios propósitos que se repiten. En caso de ser necesarios podrian agruparse o armar una columna nueva con un id correspondiente para cada propósito."
   ]
  },
  {
   "cell_type": "code",
   "execution_count": null,
   "metadata": {
    "id": "deShajMTfWOn",
    "outputId": "cf43883e-8998-4414-fcfb-832008d43288",
    "scrolled": false
   },
   "outputs": [
    {
     "name": "stdout",
     "output_type": "stream",
     "text": [
      "<class 'pandas.core.frame.DataFrame'>\n",
      "RangeIndex: 21525 entries, 0 to 21524\n",
      "Data columns (total 12 columns):\n",
      " #   Column            Non-Null Count  Dtype  \n",
      "---  ------            --------------  -----  \n",
      " 0   children          21525 non-null  int64  \n",
      " 1   days_employed     19351 non-null  float64\n",
      " 2   dob_years         21525 non-null  int64  \n",
      " 3   education         21525 non-null  object \n",
      " 4   education_id      21525 non-null  int64  \n",
      " 5   family_status     21525 non-null  object \n",
      " 6   family_status_id  21525 non-null  int64  \n",
      " 7   gender            21525 non-null  object \n",
      " 8   income_type       21525 non-null  object \n",
      " 9   debt              21525 non-null  int64  \n",
      " 10  total_income      19351 non-null  float64\n",
      " 11  purpose           21525 non-null  object \n",
      "dtypes: float64(2), int64(5), object(5)\n",
      "memory usage: 2.0+ MB\n"
     ]
    }
   ],
   "source": [
    "# Obtener información sobre los datos\n",
    "\n",
    "df.info()"
   ]
  },
  {
   "cell_type": "markdown",
   "metadata": {
    "id": "pgqLtbJffWOn"
   },
   "source": [
    "Como podemos observar, hay valores ausentes en dos de las columnas, 'days_employed' y 'total_income'"
   ]
  },
  {
   "cell_type": "code",
   "execution_count": null,
   "metadata": {
    "id": "h-gfOVmCfWOn",
    "outputId": "5540828d-0366-4a02-d3fc-bfa745a549e5",
    "scrolled": true
   },
   "outputs": [
    {
     "data": {
      "text/html": [
       "<div>\n",
       "<style scoped>\n",
       "    .dataframe tbody tr th:only-of-type {\n",
       "        vertical-align: middle;\n",
       "    }\n",
       "\n",
       "    .dataframe tbody tr th {\n",
       "        vertical-align: top;\n",
       "    }\n",
       "\n",
       "    .dataframe thead th {\n",
       "        text-align: right;\n",
       "    }\n",
       "</style>\n",
       "<table border=\"1\" class=\"dataframe\">\n",
       "  <thead>\n",
       "    <tr style=\"text-align: right;\">\n",
       "      <th></th>\n",
       "      <th>children</th>\n",
       "      <th>days_employed</th>\n",
       "      <th>dob_years</th>\n",
       "      <th>education</th>\n",
       "      <th>education_id</th>\n",
       "      <th>family_status</th>\n",
       "      <th>family_status_id</th>\n",
       "      <th>gender</th>\n",
       "      <th>income_type</th>\n",
       "      <th>debt</th>\n",
       "      <th>total_income</th>\n",
       "      <th>purpose</th>\n",
       "    </tr>\n",
       "  </thead>\n",
       "  <tbody>\n",
       "    <tr>\n",
       "      <th>12</th>\n",
       "      <td>0</td>\n",
       "      <td>NaN</td>\n",
       "      <td>65</td>\n",
       "      <td>secondary education</td>\n",
       "      <td>1</td>\n",
       "      <td>civil partnership</td>\n",
       "      <td>1</td>\n",
       "      <td>M</td>\n",
       "      <td>retiree</td>\n",
       "      <td>0</td>\n",
       "      <td>NaN</td>\n",
       "      <td>to have a wedding</td>\n",
       "    </tr>\n",
       "    <tr>\n",
       "      <th>26</th>\n",
       "      <td>0</td>\n",
       "      <td>NaN</td>\n",
       "      <td>41</td>\n",
       "      <td>secondary education</td>\n",
       "      <td>1</td>\n",
       "      <td>married</td>\n",
       "      <td>0</td>\n",
       "      <td>M</td>\n",
       "      <td>civil servant</td>\n",
       "      <td>0</td>\n",
       "      <td>NaN</td>\n",
       "      <td>education</td>\n",
       "    </tr>\n",
       "    <tr>\n",
       "      <th>29</th>\n",
       "      <td>0</td>\n",
       "      <td>NaN</td>\n",
       "      <td>63</td>\n",
       "      <td>secondary education</td>\n",
       "      <td>1</td>\n",
       "      <td>unmarried</td>\n",
       "      <td>4</td>\n",
       "      <td>F</td>\n",
       "      <td>retiree</td>\n",
       "      <td>0</td>\n",
       "      <td>NaN</td>\n",
       "      <td>building a real estate</td>\n",
       "    </tr>\n",
       "    <tr>\n",
       "      <th>41</th>\n",
       "      <td>0</td>\n",
       "      <td>NaN</td>\n",
       "      <td>50</td>\n",
       "      <td>secondary education</td>\n",
       "      <td>1</td>\n",
       "      <td>married</td>\n",
       "      <td>0</td>\n",
       "      <td>F</td>\n",
       "      <td>civil servant</td>\n",
       "      <td>0</td>\n",
       "      <td>NaN</td>\n",
       "      <td>second-hand car purchase</td>\n",
       "    </tr>\n",
       "    <tr>\n",
       "      <th>55</th>\n",
       "      <td>0</td>\n",
       "      <td>NaN</td>\n",
       "      <td>54</td>\n",
       "      <td>secondary education</td>\n",
       "      <td>1</td>\n",
       "      <td>civil partnership</td>\n",
       "      <td>1</td>\n",
       "      <td>F</td>\n",
       "      <td>retiree</td>\n",
       "      <td>1</td>\n",
       "      <td>NaN</td>\n",
       "      <td>to have a wedding</td>\n",
       "    </tr>\n",
       "    <tr>\n",
       "      <th>...</th>\n",
       "      <td>...</td>\n",
       "      <td>...</td>\n",
       "      <td>...</td>\n",
       "      <td>...</td>\n",
       "      <td>...</td>\n",
       "      <td>...</td>\n",
       "      <td>...</td>\n",
       "      <td>...</td>\n",
       "      <td>...</td>\n",
       "      <td>...</td>\n",
       "      <td>...</td>\n",
       "      <td>...</td>\n",
       "    </tr>\n",
       "    <tr>\n",
       "      <th>21489</th>\n",
       "      <td>2</td>\n",
       "      <td>NaN</td>\n",
       "      <td>47</td>\n",
       "      <td>Secondary Education</td>\n",
       "      <td>1</td>\n",
       "      <td>married</td>\n",
       "      <td>0</td>\n",
       "      <td>M</td>\n",
       "      <td>business</td>\n",
       "      <td>0</td>\n",
       "      <td>NaN</td>\n",
       "      <td>purchase of a car</td>\n",
       "    </tr>\n",
       "    <tr>\n",
       "      <th>21495</th>\n",
       "      <td>1</td>\n",
       "      <td>NaN</td>\n",
       "      <td>50</td>\n",
       "      <td>secondary education</td>\n",
       "      <td>1</td>\n",
       "      <td>civil partnership</td>\n",
       "      <td>1</td>\n",
       "      <td>F</td>\n",
       "      <td>employee</td>\n",
       "      <td>0</td>\n",
       "      <td>NaN</td>\n",
       "      <td>wedding ceremony</td>\n",
       "    </tr>\n",
       "    <tr>\n",
       "      <th>21497</th>\n",
       "      <td>0</td>\n",
       "      <td>NaN</td>\n",
       "      <td>48</td>\n",
       "      <td>BACHELOR'S DEGREE</td>\n",
       "      <td>0</td>\n",
       "      <td>married</td>\n",
       "      <td>0</td>\n",
       "      <td>F</td>\n",
       "      <td>business</td>\n",
       "      <td>0</td>\n",
       "      <td>NaN</td>\n",
       "      <td>building a property</td>\n",
       "    </tr>\n",
       "    <tr>\n",
       "      <th>21502</th>\n",
       "      <td>1</td>\n",
       "      <td>NaN</td>\n",
       "      <td>42</td>\n",
       "      <td>secondary education</td>\n",
       "      <td>1</td>\n",
       "      <td>married</td>\n",
       "      <td>0</td>\n",
       "      <td>F</td>\n",
       "      <td>employee</td>\n",
       "      <td>0</td>\n",
       "      <td>NaN</td>\n",
       "      <td>building a real estate</td>\n",
       "    </tr>\n",
       "    <tr>\n",
       "      <th>21510</th>\n",
       "      <td>2</td>\n",
       "      <td>NaN</td>\n",
       "      <td>28</td>\n",
       "      <td>secondary education</td>\n",
       "      <td>1</td>\n",
       "      <td>married</td>\n",
       "      <td>0</td>\n",
       "      <td>F</td>\n",
       "      <td>employee</td>\n",
       "      <td>0</td>\n",
       "      <td>NaN</td>\n",
       "      <td>car purchase</td>\n",
       "    </tr>\n",
       "  </tbody>\n",
       "</table>\n",
       "<p>2174 rows × 12 columns</p>\n",
       "</div>"
      ],
      "text/plain": [
       "       children  days_employed  dob_years            education  education_id  \\\n",
       "12            0            NaN         65  secondary education             1   \n",
       "26            0            NaN         41  secondary education             1   \n",
       "29            0            NaN         63  secondary education             1   \n",
       "41            0            NaN         50  secondary education             1   \n",
       "55            0            NaN         54  secondary education             1   \n",
       "...         ...            ...        ...                  ...           ...   \n",
       "21489         2            NaN         47  Secondary Education             1   \n",
       "21495         1            NaN         50  secondary education             1   \n",
       "21497         0            NaN         48    BACHELOR'S DEGREE             0   \n",
       "21502         1            NaN         42  secondary education             1   \n",
       "21510         2            NaN         28  secondary education             1   \n",
       "\n",
       "           family_status  family_status_id gender    income_type  debt  \\\n",
       "12     civil partnership                 1      M        retiree     0   \n",
       "26               married                 0      M  civil servant     0   \n",
       "29             unmarried                 4      F        retiree     0   \n",
       "41               married                 0      F  civil servant     0   \n",
       "55     civil partnership                 1      F        retiree     1   \n",
       "...                  ...               ...    ...            ...   ...   \n",
       "21489            married                 0      M       business     0   \n",
       "21495  civil partnership                 1      F       employee     0   \n",
       "21497            married                 0      F       business     0   \n",
       "21502            married                 0      F       employee     0   \n",
       "21510            married                 0      F       employee     0   \n",
       "\n",
       "       total_income                   purpose  \n",
       "12              NaN         to have a wedding  \n",
       "26              NaN                 education  \n",
       "29              NaN    building a real estate  \n",
       "41              NaN  second-hand car purchase  \n",
       "55              NaN         to have a wedding  \n",
       "...             ...                       ...  \n",
       "21489           NaN         purchase of a car  \n",
       "21495           NaN          wedding ceremony  \n",
       "21497           NaN       building a property  \n",
       "21502           NaN    building a real estate  \n",
       "21510           NaN              car purchase  \n",
       "\n",
       "[2174 rows x 12 columns]"
      ]
     },
     "execution_count": 5,
     "metadata": {},
     "output_type": "execute_result"
    }
   ],
   "source": [
    "# Veamos la tabla filtrada con valores ausentes de la primera columna donde faltan datos\n",
    "\n",
    "tabla_filtrada= df[df['days_employed'].isna()] \n",
    "\n",
    "tabla_filtrada\n",
    "\n",
    "#tabla_filtrada['total_income'].count() --da resultado 0 sugiere que la info que falta en la columna 'total_income' coincide con las filas"
   ]
  },
  {
   "cell_type": "markdown",
   "metadata": {
    "id": "s_OvhONIfWOn"
   },
   "source": [
    "A simple vista, los valores ausentes parecen simétricos aunque todavía no podemos demostrarlo con certeza ya que solo podemos ver una pequeña muestra de los datos. Tendríamos que hacer un analisis mas exaustivo para poder confirmar o no nuetra teoría. "
   ]
  },
  {
   "cell_type": "code",
   "execution_count": null,
   "metadata": {
    "id": "JKr3gr3-fWOn",
    "outputId": "1633158d-2711-4aa3-cb0b-9a5fd81de0be"
   },
   "outputs": [
    {
     "name": "stdout",
     "output_type": "stream",
     "text": [
      "Cantidad de filas con valores ausentes en la tabla filtrada: 2174\n",
      "Cantidad total de filas: 21525\n",
      "El porcentaje de los valores ausentes sobre el conjunto de datos completo es: 10%\n"
     ]
    }
   ],
   "source": [
    "# Apliquemos múltiples condiciones para filtrar datos y veamos el número de filas en la tabla filtrada.\n",
    "\n",
    "tabla_filtrada= df[(df['days_employed'].isna()) & (df['total_income'].isna())]\n",
    "print(f'Cantidad de filas con valores ausentes en la tabla filtrada: {len(tabla_filtrada)}')\n",
    "\n",
    "print(f'Cantidad total de filas: {len(df)}')\n",
    "\n",
    "porcentaje_valores_ausentes= (len(tabla_filtrada)/ len(df))\n",
    "\n",
    "print(f'El porcentaje de los valores ausentes sobre el conjunto de datos completo es: {porcentaje_valores_ausentes:.0%}')\n"
   ]
  },
  {
   "cell_type": "markdown",
   "metadata": {
    "id": "1CLHKvk-fWOo"
   },
   "source": [
    "**Conclusión intermedia**\n",
    "\n",
    "El número de filas en la tabla filtrada coincide con la cantidad de valores ausentes. Podemos decir que los valores ausentes en la columna 'days_employed' coinciden con los valores ausentes en la columna 'total_income'.\n",
    "Los valores ausentes representan el 10% del total de los valores de la tabla. \n",
    "\n",
    "Por los datos que hemos analizado hasta ahora, podemos decir que los datos ausentes coinciden en ambas columnas 'days_employed' y 'total_income'.Para ver si alguna otra columna tiene ingerencia sobre el resultado, utilizaré la columna 'education' para seguir investigando. \n",
    "\n",
    "Primero voy a limpiar la tabla original con los datos para sacar todos los valores ausentes y luego voy a comparar la variable 'education' en la tabla limpia y en la tabla filtrada para ver que resultados arroja. A simple vista, pudimos observar más arriba, que la mayoría de las personas con valores ausentes tienen educacion secundaria. Voy a investigar un poco más el tema."
   ]
  },
  {
   "cell_type": "code",
   "execution_count": null,
   "metadata": {
    "id": "8sEUbtV4fWOo",
    "outputId": "cfd76979-4b95-4bd7-c519-576e82005323"
   },
   "outputs": [
    {
     "name": "stdout",
     "output_type": "stream",
     "text": [
      "<class 'pandas.core.frame.DataFrame'>\n",
      "Int64Index: 19351 entries, 0 to 21524\n",
      "Data columns (total 12 columns):\n",
      " #   Column            Non-Null Count  Dtype  \n",
      "---  ------            --------------  -----  \n",
      " 0   children          19351 non-null  int64  \n",
      " 1   days_employed     19351 non-null  float64\n",
      " 2   dob_years         19351 non-null  int64  \n",
      " 3   education         19351 non-null  object \n",
      " 4   education_id      19351 non-null  int64  \n",
      " 5   family_status     19351 non-null  object \n",
      " 6   family_status_id  19351 non-null  int64  \n",
      " 7   gender            19351 non-null  object \n",
      " 8   income_type       19351 non-null  object \n",
      " 9   debt              19351 non-null  int64  \n",
      " 10  total_income      19351 non-null  float64\n",
      " 11  purpose           19351 non-null  object \n",
      "dtypes: float64(2), int64(5), object(5)\n",
      "memory usage: 1.9+ MB\n"
     ]
    }
   ],
   "source": [
    "# Vamos a investigar a los clientes que no tienen datos sobre la característica identificada y la columna con los valores ausentes\n",
    "\n",
    "df_limpio= df.dropna()\n",
    "df_limpio.info()\n"
   ]
  },
  {
   "cell_type": "code",
   "execution_count": null,
   "metadata": {
    "id": "XyoznitxfWOo",
    "outputId": "7dbe4dd6-d7df-4100-fc0e-99cf027e57e9"
   },
   "outputs": [
    {
     "name": "stdout",
     "output_type": "stream",
     "text": [
      "Resultado utilizando education_id en la tabla limpia:\n",
      "1    13693\n",
      "0     4716\n",
      "2      675\n",
      "3      261\n",
      "4        6\n",
      "Name: education_id, dtype: int64\n",
      "\n",
      "Resultado utilizando education_id en la tabla filtrada:\n",
      "1    1540\n",
      "0     544\n",
      "2      69\n",
      "3      21\n",
      "Name: education_id, dtype: int64\n"
     ]
    }
   ],
   "source": [
    "#vamos a usar la variable education\n",
    "\n",
    "tabla_limpia= df_limpio['education_id']\n",
    "tabla_filtrada= tabla_filtrada['education_id']\n",
    "\n",
    "print('Resultado utilizando education_id en la tabla limpia:')\n",
    "print(tabla_limpia.value_counts())\n",
    "print()\n",
    "print('Resultado utilizando education_id en la tabla filtrada:')\n",
    "print(tabla_filtrada.value_counts())"
   ]
  },
  {
   "cell_type": "code",
   "execution_count": null,
   "metadata": {
    "id": "6S5C2sVvfWOo",
    "outputId": "2e1c266c-63e4-4266-d2a9-e08b9ac9bf8f"
   },
   "outputs": [
    {
     "name": "stdout",
     "output_type": "stream",
     "text": [
      "Distribucion tabla completa:\n",
      "1    70.8\n",
      "0    24.4\n",
      "2     3.5\n",
      "3     1.3\n",
      "4     0.0\n",
      "Name: education_id, dtype: float64\n",
      "\n",
      "Distribución valores ausentes:\n",
      "1    70.8\n",
      "0    25.0\n",
      "2     3.2\n",
      "3     1.0\n",
      "Name: education_id, dtype: float64\n"
     ]
    }
   ],
   "source": [
    "# Comprobación de la distribución\n",
    "\n",
    "long_tabla_limpa= len(tabla_limpia)\n",
    "long_tabla_filtrada= len(tabla_filtrada)\n",
    "\n",
    "print('Distribucion tabla completa:')\n",
    "print(round(tabla_limpia.value_counts() / long_tabla_limpa * 100,1))\n",
    "print()\n",
    "print('Distribución valores ausentes:')\n",
    "print(round(tabla_filtrada.value_counts() / long_tabla_filtrada * 100,1))"
   ]
  },
  {
   "cell_type": "markdown",
   "metadata": {
    "id": "i-d9DpUyfWOo"
   },
   "source": [
    "Podemos observar que la variable education_id arroja practicamente el mismo resultado tanto en la tabla filtrada como en la tabla completa. No tiene ingerencia en las columnas de days_employed y total_income.\n",
    "\n",
    "**Posibles razones por las que hay valores ausentes en los datos**\n",
    "\n",
    "En mi opinión, los valores ausentes en la columna 'days_employed' y 'total_income' estan relacionados entre sí. Si una persona no esta trabajando, es probable que no persiva un sueldo. Otra opción es que la persona no haya querido contestar a la pregunta relacionada con los días laborales y como los ingresos estan relacionados con esa respuesta, queda también sin contestar. \n"
   ]
  },
  {
   "cell_type": "code",
   "execution_count": null,
   "metadata": {
    "id": "rNAKH6UCfWOo",
    "outputId": "dab223cf-53b6-41f0-d3e0-f9ff7b850d4b"
   },
   "outputs": [
    {
     "name": "stdout",
     "output_type": "stream",
     "text": [
      "Información de datos limpios:\n",
      "           children  days_employed     dob_years  education_id  \\\n",
      "count  21525.000000   19351.000000  21525.000000  21525.000000   \n",
      "mean       0.538908   63046.497661     43.293380      0.817236   \n",
      "std        1.381587  140827.311974     12.574584      0.548138   \n",
      "min       -1.000000  -18388.949901      0.000000      0.000000   \n",
      "25%        0.000000   -2747.423625     33.000000      1.000000   \n",
      "50%        0.000000   -1203.369529     42.000000      1.000000   \n",
      "75%        1.000000    -291.095954     53.000000      1.000000   \n",
      "max       20.000000  401755.400475     75.000000      4.000000   \n",
      "\n",
      "       family_status_id          debt   total_income  \n",
      "count      21525.000000  21525.000000   19351.000000  \n",
      "mean           0.972544      0.080883   26787.568355  \n",
      "std            1.420324      0.272661   16475.450632  \n",
      "min            0.000000      0.000000    3306.762000  \n",
      "25%            0.000000      0.000000   16488.504500  \n",
      "50%            0.000000      0.000000   23202.870000  \n",
      "75%            1.000000      0.000000   32549.611000  \n",
      "max            4.000000      1.000000  362496.645000  \n",
      "\n",
      "Información de datos filtrados:\n",
      "count    2174.000000\n",
      "mean        0.800828\n",
      "std         0.530157\n",
      "min         0.000000\n",
      "25%         0.250000\n",
      "50%         1.000000\n",
      "75%         1.000000\n",
      "max         3.000000\n",
      "Name: education_id, dtype: float64\n"
     ]
    }
   ],
   "source": [
    "# Comprobando la distribución en el conjunto de datos entero\n",
    "\n",
    "print('Información de datos limpios:')\n",
    "print(df.describe())\n",
    "print()\n",
    "print('Información de datos filtrados:')\n",
    "print(tabla_filtrada.describe())\n"
   ]
  },
  {
   "cell_type": "markdown",
   "metadata": {
    "id": "YIqFsLvAfWOo"
   },
   "source": [
    "**Conclusión intermedia**\n",
    "\n",
    "La distribución de los datos es muy similar entre la tabla filtrada y los datos originales.\n",
    "\n",
    "Todo indca a que los valores ausentes son accidentales. Probablemente haya habido una falla al momento de carga de los datos .\n"
   ]
  },
  {
   "cell_type": "markdown",
   "metadata": {
    "id": "fzPZSW_5fWOp"
   },
   "source": [
    "**Conclusiones**\n",
    "\n",
    "Para concluir, podemos observar que la tabla de datos tiene información que se tendrá que abordar y transformar en las siguientes secciones, como por ejemplo los datos mal escritos o que no tienen sentido.\n",
    "También, podemos observar, que en dos de las columnas hay valores nulos. Estos representan el 10% de los datos cargados en esas columnas. En el análisis de los datos, la distrubución de ellos no cambia según la variable que se ponga, corroborando que los datos de las otras columnas no tienen ingerencia en los valores ausentes. Podemos concluir que esos valores ausentes son simétricos en ambas columnas.  No tenemos conocimiento de porque faltan esos datos ya que podría ser por distintos factores como por ejemplo falla técnica al momento de la carga de esos datos específicos, error humano al anotar esos datos o porque esa persona decidió no dar información específica sobre esos temas.\n",
    "\n",
    "Una vez analizados los valores ausentes, vamos a llevar adelante la transformación de los datos. Revisaremos las columnas en búsqueda de alguna falla e intentaremos solucionarla."
   ]
  },
  {
   "cell_type": "markdown",
   "metadata": {
    "id": "vUUrJkzPfWOp"
   },
   "source": [
    "## Transformación de datos\n"
   ]
  },
  {
   "cell_type": "code",
   "execution_count": null,
   "metadata": {
    "id": "xbY6BP7-fWOp",
    "outputId": "2818f013-80a5-4a39-97ec-f32443bdf372"
   },
   "outputs": [
    {
     "data": {
      "text/plain": [
       "secondary education    13750\n",
       "bachelor's degree       4718\n",
       "SECONDARY EDUCATION      772\n",
       "Secondary Education      711\n",
       "some college             668\n",
       "BACHELOR'S DEGREE        274\n",
       "Bachelor's Degree        268\n",
       "primary education        250\n",
       "Some College              47\n",
       "SOME COLLEGE              29\n",
       "PRIMARY EDUCATION         17\n",
       "Primary Education         15\n",
       "graduate degree            4\n",
       "GRADUATE DEGREE            1\n",
       "Graduate Degree            1\n",
       "Name: education, dtype: int64"
      ]
     },
     "execution_count": 11,
     "metadata": {},
     "output_type": "execute_result"
    }
   ],
   "source": [
    "# Veamos todos los valores en la columna de educación para verificar si será necesario corregir la ortografía y qué habrá que corregir exactamente\n",
    "\n",
    "df['education'].value_counts()"
   ]
  },
  {
   "cell_type": "code",
   "execution_count": null,
   "metadata": {
    "id": "t5yfsZoCfWOp",
    "outputId": "2d699815-7543-4292-d215-e8a715ec65c8",
    "scrolled": true
   },
   "outputs": [
    {
     "data": {
      "text/plain": [
       "0          bachelor's degree\n",
       "1        secondary education\n",
       "2        secondary education\n",
       "3        secondary education\n",
       "4        secondary education\n",
       "                ...         \n",
       "21520    secondary education\n",
       "21521    secondary education\n",
       "21522    secondary education\n",
       "21523    secondary education\n",
       "21524    secondary education\n",
       "Name: education, Length: 21525, dtype: object"
      ]
     },
     "execution_count": 12,
     "metadata": {},
     "output_type": "execute_result"
    }
   ],
   "source": [
    "# Arregla los registros si es necesario\n",
    "\n",
    "df['education'].str.lower()"
   ]
  },
  {
   "cell_type": "code",
   "execution_count": null,
   "metadata": {
    "id": "jA9HgwDBfWOp",
    "outputId": "a84d024a-5f1d-49b5-94f0-0eff03e9d519"
   },
   "outputs": [
    {
     "data": {
      "text/plain": [
       "secondary education    15233\n",
       "bachelor's degree       5260\n",
       "some college             744\n",
       "primary education        282\n",
       "graduate degree            6\n",
       "Name: education, dtype: int64"
      ]
     },
     "execution_count": 13,
     "metadata": {},
     "output_type": "execute_result"
    }
   ],
   "source": [
    "# Comprobar todos los valores en la columna para asegurarnos de que los hayamos corregido\n",
    "\n",
    "df['education'].str.lower().value_counts()"
   ]
  },
  {
   "cell_type": "code",
   "execution_count": null,
   "metadata": {
    "id": "gSRU_mMSfWOq",
    "outputId": "21f3212c-4e23-4b74-acef-123623902eab"
   },
   "outputs": [
    {
     "data": {
      "text/plain": [
       " 0     14149\n",
       " 1      4818\n",
       " 2      2055\n",
       " 3       330\n",
       " 20       76\n",
       "-1        47\n",
       " 4        41\n",
       " 5         9\n",
       "Name: children, dtype: int64"
      ]
     },
     "execution_count": 14,
     "metadata": {},
     "output_type": "execute_result"
    }
   ],
   "source": [
    "# Veamos la distribución de los valores en la columna `children`\n",
    "\n",
    "df['children'].value_counts()"
   ]
  },
  {
   "cell_type": "code",
   "execution_count": null,
   "metadata": {
    "id": "DRAdJlz3fWOq",
    "outputId": "1984e538-a8df-4d07-d5ea-4055bf1cb89d"
   },
   "outputs": [
    {
     "data": {
      "text/plain": [
       "0.6"
      ]
     },
     "execution_count": 15,
     "metadata": {},
     "output_type": "execute_result"
    }
   ],
   "source": [
    "ch_total= df['children'].count()\n",
    "\n",
    "ch_problematicos= df[df.children.isin([20,-1])]\n",
    "ch_problematicos= ch_problematicos['children'].count()\n",
    "\n",
    "porcentaje_val_problematicos= round(ch_problematicos / ch_total * 100,1)\n",
    "porcentaje_val_problematicos"
   ]
  },
  {
   "cell_type": "markdown",
   "metadata": {
    "id": "xttfNhEWfWOq"
   },
   "source": [
    "El porcentaje de datos problemáticos es bajo con lo cual no creo que afecte el resultado final. Es posible que hayan ocurrido por un error humano al cargar los datos. En este caso en lugar de eliminarlos los voy a asignar el 20 al 2 y el -1 a 1."
   ]
  },
  {
   "cell_type": "code",
   "execution_count": null,
   "metadata": {
    "id": "G_rs03UTfWOq"
   },
   "outputs": [],
   "source": [
    "\n",
    "df['children']= df['children'].replace([20,-1],[2,1])"
   ]
  },
  {
   "cell_type": "code",
   "execution_count": null,
   "metadata": {
    "id": "agk0iRlBfWOq",
    "outputId": "3ce4e319-47e1-4f94-ef96-b096b4c1e861"
   },
   "outputs": [
    {
     "data": {
      "text/plain": [
       "0    14149\n",
       "1     4865\n",
       "2     2131\n",
       "3      330\n",
       "4       41\n",
       "5        9\n",
       "Name: children, dtype: int64"
      ]
     },
     "execution_count": 17,
     "metadata": {},
     "output_type": "execute_result"
    }
   ],
   "source": [
    "# Comprobar la columna `children` de nuevo para asegurarnos de que todo está arreglado\n",
    "\n",
    "df['children'].value_counts()\n"
   ]
  },
  {
   "cell_type": "code",
   "execution_count": null,
   "metadata": {
    "id": "8yS0eFx0fWOq",
    "outputId": "ab08936d-7f93-4cc0-a05a-d8f9b887ad4c"
   },
   "outputs": [
    {
     "data": {
      "text/plain": [
       "0      -8437.673028\n",
       "1      -4024.803754\n",
       "2      -5623.422610\n",
       "3      -4124.747207\n",
       "4     340266.072047\n",
       "5       -926.185831\n",
       "6      -2879.202052\n",
       "7       -152.779569\n",
       "8      -6929.865299\n",
       "9      -2188.756445\n",
       "10     -4171.483647\n",
       "11      -792.701887\n",
       "12              NaN\n",
       "13     -1846.641941\n",
       "14     -1844.956182\n",
       "Name: days_employed, dtype: float64"
      ]
     },
     "execution_count": 18,
     "metadata": {},
     "output_type": "execute_result"
    }
   ],
   "source": [
    "# Encuentra datos problemáticos en `days_employed`, si existen, y calcula el porcentaje\n",
    "\n",
    "df['days_employed'].head()\n"
   ]
  },
  {
   "cell_type": "markdown",
   "metadata": {
    "id": "by3toBmUfWOq"
   },
   "source": [
    "La cantidad de datos problemáticos es muy alta. Se presentaron varios problemas. Por un lado estan los números negativos. Por otro lado los números positivos tambien son un gran problema porque son números que no tienen sentido en absoluto. No hay que olvidarse de que esta columna tiene valores ausentes."
   ]
  },
  {
   "cell_type": "code",
   "execution_count": null,
   "metadata": {
    "id": "IPXHt1oufWOq",
    "outputId": "43177b00-44da-482e-971f-ed6767da3373"
   },
   "outputs": [
    {
     "name": "stdout",
     "output_type": "stream",
     "text": [
      "Valores positivos:\n",
      "17.8\n",
      "Valores negativos:\n",
      "82.2\n",
      "Valores nulos:\n",
      "11.2\n"
     ]
    }
   ],
   "source": [
    "# Aborda los valores problemáticos\n",
    "\n",
    "valores_positivos= len(df[df['days_employed']>0])\n",
    "valores_positivos  #3445\n",
    "\n",
    "df_negativo= len(df[df['days_employed']< 0])\n",
    "df_negativo             #15906 negativos\n",
    "\n",
    "df_dias_trabajados= df['days_employed'].count()\n",
    "df_dias_trabajados                                 #19351 trabajados (sacando los datos nulos)\n",
    "\n",
    "valores_ausentes= df[df['days_employed'].isna()]\n",
    "valores_ausentes\n",
    "\n",
    "print('Valores positivos:')\n",
    "print(round(valores_positivos/ df_dias_trabajados* 100,1))\n",
    "print('Valores negativos:')\n",
    "print(round(df_negativo/ df_dias_trabajados* 100,1))\n",
    "print('Valores nulos:')\n",
    "print(round(len(valores_ausentes)/df_dias_trabajados *100,1))\n",
    "\n"
   ]
  },
  {
   "cell_type": "code",
   "execution_count": null,
   "metadata": {
    "id": "xkk4jFpzfWOr",
    "outputId": "48db0c45-5311-4837-9c94-f7f721baf0c7"
   },
   "outputs": [
    {
     "data": {
      "text/html": [
       "<div>\n",
       "<style scoped>\n",
       "    .dataframe tbody tr th:only-of-type {\n",
       "        vertical-align: middle;\n",
       "    }\n",
       "\n",
       "    .dataframe tbody tr th {\n",
       "        vertical-align: top;\n",
       "    }\n",
       "\n",
       "    .dataframe thead th {\n",
       "        text-align: right;\n",
       "    }\n",
       "</style>\n",
       "<table border=\"1\" class=\"dataframe\">\n",
       "  <thead>\n",
       "    <tr style=\"text-align: right;\">\n",
       "      <th></th>\n",
       "      <th>children</th>\n",
       "      <th>days_employed</th>\n",
       "      <th>dob_years</th>\n",
       "      <th>education</th>\n",
       "      <th>education_id</th>\n",
       "      <th>family_status</th>\n",
       "      <th>family_status_id</th>\n",
       "      <th>gender</th>\n",
       "      <th>income_type</th>\n",
       "      <th>debt</th>\n",
       "      <th>total_income</th>\n",
       "      <th>purpose</th>\n",
       "    </tr>\n",
       "  </thead>\n",
       "  <tbody>\n",
       "    <tr>\n",
       "      <th>0</th>\n",
       "      <td>1</td>\n",
       "      <td>-8437.673028</td>\n",
       "      <td>42</td>\n",
       "      <td>bachelor's degree</td>\n",
       "      <td>0</td>\n",
       "      <td>married</td>\n",
       "      <td>0</td>\n",
       "      <td>F</td>\n",
       "      <td>employee</td>\n",
       "      <td>0</td>\n",
       "      <td>40620.102</td>\n",
       "      <td>purchase of the house</td>\n",
       "    </tr>\n",
       "    <tr>\n",
       "      <th>1</th>\n",
       "      <td>1</td>\n",
       "      <td>-4024.803754</td>\n",
       "      <td>36</td>\n",
       "      <td>secondary education</td>\n",
       "      <td>1</td>\n",
       "      <td>married</td>\n",
       "      <td>0</td>\n",
       "      <td>F</td>\n",
       "      <td>employee</td>\n",
       "      <td>0</td>\n",
       "      <td>17932.802</td>\n",
       "      <td>car purchase</td>\n",
       "    </tr>\n",
       "    <tr>\n",
       "      <th>2</th>\n",
       "      <td>0</td>\n",
       "      <td>-5623.422610</td>\n",
       "      <td>33</td>\n",
       "      <td>Secondary Education</td>\n",
       "      <td>1</td>\n",
       "      <td>married</td>\n",
       "      <td>0</td>\n",
       "      <td>M</td>\n",
       "      <td>employee</td>\n",
       "      <td>0</td>\n",
       "      <td>23341.752</td>\n",
       "      <td>purchase of the house</td>\n",
       "    </tr>\n",
       "    <tr>\n",
       "      <th>3</th>\n",
       "      <td>3</td>\n",
       "      <td>-4124.747207</td>\n",
       "      <td>32</td>\n",
       "      <td>secondary education</td>\n",
       "      <td>1</td>\n",
       "      <td>married</td>\n",
       "      <td>0</td>\n",
       "      <td>M</td>\n",
       "      <td>employee</td>\n",
       "      <td>0</td>\n",
       "      <td>42820.568</td>\n",
       "      <td>supplementary education</td>\n",
       "    </tr>\n",
       "    <tr>\n",
       "      <th>5</th>\n",
       "      <td>0</td>\n",
       "      <td>-926.185831</td>\n",
       "      <td>27</td>\n",
       "      <td>bachelor's degree</td>\n",
       "      <td>0</td>\n",
       "      <td>civil partnership</td>\n",
       "      <td>1</td>\n",
       "      <td>M</td>\n",
       "      <td>business</td>\n",
       "      <td>0</td>\n",
       "      <td>40922.170</td>\n",
       "      <td>purchase of the house</td>\n",
       "    </tr>\n",
       "    <tr>\n",
       "      <th>...</th>\n",
       "      <td>...</td>\n",
       "      <td>...</td>\n",
       "      <td>...</td>\n",
       "      <td>...</td>\n",
       "      <td>...</td>\n",
       "      <td>...</td>\n",
       "      <td>...</td>\n",
       "      <td>...</td>\n",
       "      <td>...</td>\n",
       "      <td>...</td>\n",
       "      <td>...</td>\n",
       "      <td>...</td>\n",
       "    </tr>\n",
       "    <tr>\n",
       "      <th>21519</th>\n",
       "      <td>1</td>\n",
       "      <td>-2351.431934</td>\n",
       "      <td>37</td>\n",
       "      <td>graduate degree</td>\n",
       "      <td>4</td>\n",
       "      <td>divorced</td>\n",
       "      <td>3</td>\n",
       "      <td>M</td>\n",
       "      <td>employee</td>\n",
       "      <td>0</td>\n",
       "      <td>18551.846</td>\n",
       "      <td>buy commercial real estate</td>\n",
       "    </tr>\n",
       "    <tr>\n",
       "      <th>21520</th>\n",
       "      <td>1</td>\n",
       "      <td>-4529.316663</td>\n",
       "      <td>43</td>\n",
       "      <td>secondary education</td>\n",
       "      <td>1</td>\n",
       "      <td>civil partnership</td>\n",
       "      <td>1</td>\n",
       "      <td>F</td>\n",
       "      <td>business</td>\n",
       "      <td>0</td>\n",
       "      <td>35966.698</td>\n",
       "      <td>housing transactions</td>\n",
       "    </tr>\n",
       "    <tr>\n",
       "      <th>21522</th>\n",
       "      <td>1</td>\n",
       "      <td>-2113.346888</td>\n",
       "      <td>38</td>\n",
       "      <td>secondary education</td>\n",
       "      <td>1</td>\n",
       "      <td>civil partnership</td>\n",
       "      <td>1</td>\n",
       "      <td>M</td>\n",
       "      <td>employee</td>\n",
       "      <td>1</td>\n",
       "      <td>14347.610</td>\n",
       "      <td>property</td>\n",
       "    </tr>\n",
       "    <tr>\n",
       "      <th>21523</th>\n",
       "      <td>3</td>\n",
       "      <td>-3112.481705</td>\n",
       "      <td>38</td>\n",
       "      <td>secondary education</td>\n",
       "      <td>1</td>\n",
       "      <td>married</td>\n",
       "      <td>0</td>\n",
       "      <td>M</td>\n",
       "      <td>employee</td>\n",
       "      <td>1</td>\n",
       "      <td>39054.888</td>\n",
       "      <td>buying my own car</td>\n",
       "    </tr>\n",
       "    <tr>\n",
       "      <th>21524</th>\n",
       "      <td>2</td>\n",
       "      <td>-1984.507589</td>\n",
       "      <td>40</td>\n",
       "      <td>secondary education</td>\n",
       "      <td>1</td>\n",
       "      <td>married</td>\n",
       "      <td>0</td>\n",
       "      <td>F</td>\n",
       "      <td>employee</td>\n",
       "      <td>0</td>\n",
       "      <td>13127.587</td>\n",
       "      <td>to buy a car</td>\n",
       "    </tr>\n",
       "  </tbody>\n",
       "</table>\n",
       "<p>18080 rows × 12 columns</p>\n",
       "</div>"
      ],
      "text/plain": [
       "       children  days_employed  dob_years            education  education_id  \\\n",
       "0             1   -8437.673028         42    bachelor's degree             0   \n",
       "1             1   -4024.803754         36  secondary education             1   \n",
       "2             0   -5623.422610         33  Secondary Education             1   \n",
       "3             3   -4124.747207         32  secondary education             1   \n",
       "5             0    -926.185831         27    bachelor's degree             0   \n",
       "...         ...            ...        ...                  ...           ...   \n",
       "21519         1   -2351.431934         37      graduate degree             4   \n",
       "21520         1   -4529.316663         43  secondary education             1   \n",
       "21522         1   -2113.346888         38  secondary education             1   \n",
       "21523         3   -3112.481705         38  secondary education             1   \n",
       "21524         2   -1984.507589         40  secondary education             1   \n",
       "\n",
       "           family_status  family_status_id gender income_type  debt  \\\n",
       "0                married                 0      F    employee     0   \n",
       "1                married                 0      F    employee     0   \n",
       "2                married                 0      M    employee     0   \n",
       "3                married                 0      M    employee     0   \n",
       "5      civil partnership                 1      M    business     0   \n",
       "...                  ...               ...    ...         ...   ...   \n",
       "21519           divorced                 3      M    employee     0   \n",
       "21520  civil partnership                 1      F    business     0   \n",
       "21522  civil partnership                 1      M    employee     1   \n",
       "21523            married                 0      M    employee     1   \n",
       "21524            married                 0      F    employee     0   \n",
       "\n",
       "       total_income                     purpose  \n",
       "0         40620.102       purchase of the house  \n",
       "1         17932.802                car purchase  \n",
       "2         23341.752       purchase of the house  \n",
       "3         42820.568     supplementary education  \n",
       "5         40922.170       purchase of the house  \n",
       "...             ...                         ...  \n",
       "21519     18551.846  buy commercial real estate  \n",
       "21520     35966.698        housing transactions  \n",
       "21522     14347.610                    property  \n",
       "21523     39054.888           buying my own car  \n",
       "21524     13127.587                to buy a car  \n",
       "\n",
       "[18080 rows x 12 columns]"
      ]
     },
     "execution_count": 20,
     "metadata": {},
     "output_type": "execute_result"
    }
   ],
   "source": [
    "df=df.drop(df[df['days_employed']>0].index)\n",
    "df"
   ]
  },
  {
   "cell_type": "code",
   "execution_count": null,
   "metadata": {
    "id": "tCt16h9SfWOr"
   },
   "outputs": [],
   "source": [
    "# Cambio los valores negativos a positivos\n",
    "\n",
    "df['days_employed'] = df['days_employed'].abs()"
   ]
  },
  {
   "cell_type": "code",
   "execution_count": null,
   "metadata": {
    "id": "GLp0istOfWOr",
    "outputId": "2da69d4d-bfc7-4369-c07d-29cd0e6bc6c8"
   },
   "outputs": [
    {
     "data": {
      "text/plain": [
       "0        8437.673028\n",
       "1        4024.803754\n",
       "2        5623.422610\n",
       "3        4124.747207\n",
       "5         926.185831\n",
       "            ...     \n",
       "21519    2351.431934\n",
       "21520    4529.316663\n",
       "21522    2113.346888\n",
       "21523    3112.481705\n",
       "21524    1984.507589\n",
       "Name: days_employed, Length: 18080, dtype: float64"
      ]
     },
     "execution_count": 22,
     "metadata": {},
     "output_type": "execute_result"
    }
   ],
   "source": [
    "# Comprueba el resultado \n",
    "\n",
    "df['days_employed']"
   ]
  },
  {
   "cell_type": "markdown",
   "metadata": {
    "id": "-qg-PYiCfWOr"
   },
   "source": [
    "En esta columna podemos observar que aparece como edad 0 años. "
   ]
  },
  {
   "cell_type": "code",
   "execution_count": null,
   "metadata": {
    "id": "J7_KCiq2fWOr",
    "outputId": "e98aa5d8-ecbd-4414-9063-feb21489f077",
    "scrolled": true
   },
   "outputs": [
    {
     "name": "stdout",
     "output_type": "stream",
     "text": [
      "[ 0 19 20 21 22 23 24 25 26 27 28 29 30 31 32 33 34 35 36 37 38 39 40 41\n",
      " 42 43 44 45 46 47 48 49 50 51 52 53 54 55 56 57 58 59 60 61 62 63 64 65\n",
      " 66 67 68 69 70 71 72 73 74 75]\n"
     ]
    }
   ],
   "source": [
    "# Reviso `dob_years` en busca de valores sospechosos y busco el porcentaje\n",
    "\n",
    "lista_edades= df['dob_years'].unique()\n",
    "lista_edades.sort()\n",
    "print(lista_edades)\n"
   ]
  },
  {
   "cell_type": "code",
   "execution_count": null,
   "metadata": {
    "id": "DZ2pWh0XfWOr",
    "outputId": "e1210820-ed95-4e51-8ed4-91587243fc67"
   },
   "outputs": [
    {
     "data": {
      "text/plain": [
       "0.5"
      ]
     },
     "execution_count": 24,
     "metadata": {},
     "output_type": "execute_result"
    }
   ],
   "source": [
    "edad_prob= len(df[df['dob_years'] == 0])\n",
    " \n",
    "tot_edad= len(df['dob_years'])\n",
    "\n",
    "porcentaje= round(edad_prob / tot_edad *100,1)\n",
    "porcentaje"
   ]
  },
  {
   "cell_type": "markdown",
   "metadata": {
    "id": "czFuDSsgfWOr"
   },
   "source": [
    "Como es un número muy pequeño con respecto a todos los valores, lo voy a convertir en nulo ya que no sabemos a que categoría de edad puede asociarse."
   ]
  },
  {
   "cell_type": "code",
   "execution_count": null,
   "metadata": {
    "id": "AZ3HDMYJfWOr"
   },
   "outputs": [],
   "source": [
    "# Reemplazo valores ausentes \n",
    "\n",
    "df['dob_years']= df['dob_years'].replace([0,'NaN'])\n"
   ]
  },
  {
   "cell_type": "code",
   "execution_count": null,
   "metadata": {
    "id": "-1oZh1z6fWOr",
    "outputId": "ce620716-8c6c-4955-ef13-9257b96f9383"
   },
   "outputs": [
    {
     "data": {
      "text/plain": [
       "35    618\n",
       "41    605\n",
       "40    603\n",
       "34    602\n",
       "38    594\n",
       "42    593\n",
       "33    582\n",
       "39    570\n",
       "31    562\n",
       "36    555\n",
       "29    547\n",
       "30    544\n",
       "44    540\n",
       "37    537\n",
       "48    521\n",
       "32    509\n",
       "43    506\n",
       "28    504\n",
       "27    491\n",
       "45    487\n",
       "49    481\n",
       "47    469\n",
       "46    465\n",
       "50    457\n",
       "26    408\n",
       "52    389\n",
       "51    379\n",
       "53    358\n",
       "25    357\n",
       "54    334\n",
       "56    304\n",
       "55    282\n",
       "24    264\n",
       "23    255\n",
       "58    254\n",
       "57    249\n",
       "59    191\n",
       "22    182\n",
       "61    142\n",
       "60    135\n",
       "62    117\n",
       "21    111\n",
       "64     86\n",
       "63     77\n",
       "65     58\n",
       "20     51\n",
       "66     44\n",
       "67     36\n",
       "68     19\n",
       "19     14\n",
       "70     11\n",
       "69     11\n",
       "71     10\n",
       "72      5\n",
       "74      2\n",
       "73      2\n",
       "75      1\n",
       "Name: dob_years, dtype: int64"
      ]
     },
     "execution_count": 26,
     "metadata": {},
     "output_type": "execute_result"
    }
   ],
   "source": [
    "# Comprueba el resultado \n",
    "\n",
    "df['dob_years'].value_counts()"
   ]
  },
  {
   "cell_type": "code",
   "execution_count": null,
   "metadata": {
    "id": "bRU1AEzvfWOr",
    "outputId": "4fd7cdd6-f277-4a76-a7ea-badd9073b453"
   },
   "outputs": [
    {
     "data": {
      "text/plain": [
       "married              10507\n",
       "civil partnership     3600\n",
       "unmarried             2500\n",
       "divorced               997\n",
       "widow / widower        476\n",
       "Name: family_status, dtype: int64"
      ]
     },
     "execution_count": 27,
     "metadata": {},
     "output_type": "execute_result"
    }
   ],
   "source": [
    "# Veamos los valores de la columna family status\n",
    "\n",
    "df['family_status'].value_counts()"
   ]
  },
  {
   "cell_type": "markdown",
   "metadata": {
    "id": "dv6oyl2gfWOs"
   },
   "source": [
    "No veo valores problemáticos."
   ]
  },
  {
   "cell_type": "code",
   "execution_count": null,
   "metadata": {
    "id": "_HMdcTlnfWOs",
    "outputId": "efe82d99-b2f6-4616-da92-7527a8acd08a"
   },
   "outputs": [
    {
     "data": {
      "text/plain": [
       "F      11429\n",
       "M       6650\n",
       "XNA        1\n",
       "Name: gender, dtype: int64"
      ]
     },
     "execution_count": 30,
     "metadata": {},
     "output_type": "execute_result"
    }
   ],
   "source": [
    "# Investigo los valores en la columna gender\n",
    "\n",
    "df['gender'].value_counts() \n"
   ]
  },
  {
   "cell_type": "code",
   "execution_count": null,
   "metadata": {
    "id": "v_sw9Pg_fWOs"
   },
   "outputs": [],
   "source": [
    "# Aborda los valores problemáticos\n",
    "df['gender']= df['gender'].replace('XNA','NaN')\n"
   ]
  },
  {
   "cell_type": "code",
   "execution_count": null,
   "metadata": {
    "id": "oqjAaZAYfWOs",
    "outputId": "8bb2fe2b-7032-40e1-b5cf-e8f643ca0223"
   },
   "outputs": [
    {
     "data": {
      "text/plain": [
       "F      11429\n",
       "M       6650\n",
       "NaN        1\n",
       "Name: gender, dtype: int64"
      ]
     },
     "execution_count": 32,
     "metadata": {},
     "output_type": "execute_result"
    }
   ],
   "source": [
    "# Compruebo el resultado\n",
    "df['gender'].value_counts()\n"
   ]
  },
  {
   "cell_type": "code",
   "execution_count": null,
   "metadata": {
    "id": "2vuBXqCwfWOs",
    "outputId": "03f7969c-fe06-45ed-80f0-b68ac3b46d70"
   },
   "outputs": [
    {
     "data": {
      "text/plain": [
       "employee                       11119\n",
       "business                        5085\n",
       "civil servant                   1459\n",
       "retiree                          413\n",
       "entrepreneur                       2\n",
       "student                            1\n",
       "paternity / maternity leave        1\n",
       "Name: income_type, dtype: int64"
      ]
     },
     "execution_count": 33,
     "metadata": {},
     "output_type": "execute_result"
    }
   ],
   "source": [
    "# Veamos los valores en la columna income type\n",
    "\n",
    "df['income_type'].value_counts()"
   ]
  },
  {
   "cell_type": "markdown",
   "metadata": {
    "id": "R5G51UqMjoua"
   },
   "source": [
    "No veo valores problemáticos."
   ]
  },
  {
   "cell_type": "code",
   "execution_count": null,
   "metadata": {
    "id": "8AUNpJ9mfWOs",
    "outputId": "61ff2fac-a5ba-4a0d-bc7c-59232b21dadd"
   },
   "outputs": [
    {
     "data": {
      "text/plain": [
       "55"
      ]
     },
     "execution_count": 36,
     "metadata": {},
     "output_type": "execute_result"
    }
   ],
   "source": [
    "# Busco valores duplicados en el dataset\n",
    "\n",
    "df.duplicated().sum()\n"
   ]
  },
  {
   "cell_type": "code",
   "execution_count": null,
   "metadata": {
    "id": "W9hrCdPRfWOt"
   },
   "outputs": [],
   "source": [
    "# Elimino valores duplicados\n",
    "\n",
    "df= df.drop_duplicates().reset_index(drop= True)"
   ]
  },
  {
   "cell_type": "code",
   "execution_count": null,
   "metadata": {
    "id": "4QcFplTrfWOt",
    "outputId": "358aab33-4fea-4845-d859-09c9ef6c462c"
   },
   "outputs": [
    {
     "data": {
      "text/plain": [
       "0"
      ]
     },
     "execution_count": 38,
     "metadata": {},
     "output_type": "execute_result"
    }
   ],
   "source": [
    "# Última comprobación para ver si tenemos duplicados\n",
    "\n",
    "df.duplicated().sum()"
   ]
  },
  {
   "cell_type": "code",
   "execution_count": null,
   "metadata": {
    "id": "7kTVCZT6fWOt",
    "outputId": "2bd6805c-7293-4958-f454-c559cc54d816"
   },
   "outputs": [
    {
     "data": {
      "text/plain": [
       "(18025, 12)"
      ]
     },
     "execution_count": 39,
     "metadata": {},
     "output_type": "execute_result"
    }
   ],
   "source": [
    "# Compruebo el tamaño del conjunto de datos después de haber ejecutado estas primeras manipulaciones\n",
    "\n",
    "df.shape"
   ]
  },
  {
   "cell_type": "markdown",
   "metadata": {
    "id": "PvK7kLPzfWOt"
   },
   "source": [
    "Tuve que hacer cambios en varias columnas para arreglar contenido y datos para poder hacer el análisis posterior. Eliminé los valores duplicados quedándonos un conjunto de datos mejor.\n"
   ]
  },
  {
   "cell_type": "markdown",
   "metadata": {
    "id": "DzBiBQ9pfWOt"
   },
   "source": [
    "# Trabajar con valores ausentes"
   ]
  },
  {
   "cell_type": "code",
   "execution_count": null,
   "metadata": {
    "id": "ph-5iOfkfWOt",
    "outputId": "a4d8cda1-cdea-4981-8781-b443fbf9e6c5"
   },
   "outputs": [
    {
     "name": "stdout",
     "output_type": "stream",
     "text": [
      "<class 'pandas.core.frame.DataFrame'>\n",
      "RangeIndex: 18025 entries, 0 to 18024\n",
      "Data columns (total 12 columns):\n",
      " #   Column            Non-Null Count  Dtype  \n",
      "---  ------            --------------  -----  \n",
      " 0   children          18025 non-null  int64  \n",
      " 1   days_employed     15906 non-null  float64\n",
      " 2   dob_years         18025 non-null  int64  \n",
      " 3   education         18025 non-null  object \n",
      " 4   education_id      18025 non-null  int64  \n",
      " 5   family_status     18025 non-null  object \n",
      " 6   family_status_id  18025 non-null  int64  \n",
      " 7   gender            18025 non-null  object \n",
      " 8   income_type       18025 non-null  object \n",
      " 9   debt              18025 non-null  int64  \n",
      " 10  total_income      15906 non-null  float64\n",
      " 11  purpose           18025 non-null  object \n",
      "dtypes: float64(2), int64(5), object(5)\n",
      "memory usage: 1.7+ MB\n"
     ]
    }
   ],
   "source": [
    "# Inspecciono tabla\n",
    "\n",
    "df.info()"
   ]
  },
  {
   "cell_type": "markdown",
   "metadata": {
    "id": "cwLYGo4mfWOt"
   },
   "source": [
    "### Restaurar valores ausentes en `total_income`"
   ]
  },
  {
   "cell_type": "markdown",
   "metadata": {
    "id": "pyhWKaQEfWOt"
   },
   "source": [
    "Las columnas que tienen valores ausentes son 'total_income' y 'days_employed'. Para poder completar esos datos, vamos a crear funciones que nos van a permitir rellenar con mas facilidad los datos ausentes y al mismo tiempo poder rellenarlos de acuerdo a las distintas categorías que se presentan.\n"
   ]
  },
  {
   "cell_type": "code",
   "execution_count": null,
   "metadata": {
    "id": "sJ7FFmCUfWOt"
   },
   "outputs": [],
   "source": [
    "# Creo función que calcule la categoría de edad\n",
    "\n",
    "\n",
    "def edades (edad):\n",
    "    if edad <= 29:\n",
    "        return '<=29'\n",
    "    if edad <= 39:\n",
    "        return '30-39'\n",
    "    if edad <= 49:\n",
    "        return '40-49'\n",
    "    if edad <= 59:\n",
    "        return '50-59'\n",
    "    if edad <= 69:\n",
    "        return '60-69'\n",
    "    return '>= 70'\n",
    "        \n",
    "   "
   ]
  },
  {
   "cell_type": "code",
   "execution_count": null,
   "metadata": {
    "id": "c0MYmfnmfWOu",
    "outputId": "2c55a6c1-0064-44c6-9b69-3f6681c88e1e"
   },
   "outputs": [
    {
     "name": "stdout",
     "output_type": "stream",
     "text": [
      "30-39\n"
     ]
    }
   ],
   "source": [
    "# Prueba si la función funciona bien\n",
    "print(edades(35))\n"
   ]
  },
  {
   "cell_type": "code",
   "execution_count": null,
   "metadata": {
    "id": "3cx6_OsffWOu"
   },
   "outputs": [],
   "source": [
    "# Crear una nueva columna basada en la función\n",
    "\n",
    "df['edades']= df['dob_years'].apply(edades)"
   ]
  },
  {
   "cell_type": "code",
   "execution_count": null,
   "metadata": {
    "id": "pCEdKIjXfWOu",
    "outputId": "fff51aff-d8ad-4510-f641-132015e5458b"
   },
   "outputs": [
    {
     "data": {
      "text/plain": [
       "30-39    5661\n",
       "40-49    5257\n",
       "<=29     3182\n",
       "50-59    3180\n",
       "60-69     714\n",
       ">= 70      31\n",
       "Name: edades, dtype: int64"
      ]
     },
     "execution_count": 44,
     "metadata": {},
     "output_type": "execute_result"
    }
   ],
   "source": [
    "# Comprobar cómo los valores en la nueva columna\n",
    "\n",
    "df['edades'].value_counts()"
   ]
  },
  {
   "cell_type": "code",
   "execution_count": null,
   "metadata": {
    "id": "V3NdTdH9fWOu",
    "outputId": "3cd49f28-3069-4e23-a7ea-9e8f82b63601"
   },
   "outputs": [
    {
     "data": {
      "text/plain": [
       "0        40620.102\n",
       "1        17932.802\n",
       "2        23341.752\n",
       "3        42820.568\n",
       "4        40922.170\n",
       "           ...    \n",
       "18020    18551.846\n",
       "18021    35966.698\n",
       "18022    14347.610\n",
       "18023    39054.888\n",
       "18024    13127.587\n",
       "Name: total_income, Length: 15906, dtype: float64"
      ]
     },
     "execution_count": 45,
     "metadata": {},
     "output_type": "execute_result"
    }
   ],
   "source": [
    "# Creo una tabla sin valores ausentes y muestra algunas de sus filas \n",
    "\n",
    "ingresos_limpios= df['total_income'].dropna()\n",
    "ingresos_limpios\n"
   ]
  },
  {
   "cell_type": "code",
   "execution_count": null,
   "metadata": {
    "id": "7R75YlawfWOu",
    "outputId": "b7641271-c6c2-49a1-9c2a-929a111d55fb"
   },
   "outputs": [
    {
     "data": {
      "text/plain": [
       "edades\n",
       "30-39    28323.321499\n",
       "40-49    28585.144671\n",
       "50-59    27819.597854\n",
       "60-69    29104.068239\n",
       "<=29     25559.112824\n",
       ">= 70    28046.956800\n",
       "Name: total_income, dtype: float64"
      ]
     },
     "execution_count": 46,
     "metadata": {},
     "output_type": "execute_result"
    }
   ],
   "source": [
    "# Examina los valores medios de los ingresos en función de los factores que identificaste\n",
    "\n",
    "df.groupby('edades')['total_income'].mean()"
   ]
  },
  {
   "cell_type": "code",
   "execution_count": null,
   "metadata": {
    "id": "kdVKrSapfWOu",
    "outputId": "402a8b25-7f78-4788-a18a-ac9519b51a5e",
    "scrolled": true
   },
   "outputs": [
    {
     "data": {
      "text/plain": [
       "edades\n",
       "30-39    24721.6890\n",
       "40-49    24795.3485\n",
       "50-59    23807.9820\n",
       "60-69    25195.1730\n",
       "<=29     22798.6650\n",
       ">= 70    25804.8230\n",
       "Name: total_income, dtype: float64"
      ]
     },
     "execution_count": 47,
     "metadata": {},
     "output_type": "execute_result"
    }
   ],
   "source": [
    "# Examina los valores medianos de los ingresos en función de los factores que identificaste\n",
    "\n",
    "mediana= df.groupby('edades')['total_income'].median()\n",
    "mediana"
   ]
  },
  {
   "cell_type": "markdown",
   "metadata": {
    "id": "METJN7eNfWOv"
   },
   "source": [
    "Voy a utilizar la mediana para rellenar los datos ya que tenemos valores muy dispares."
   ]
  },
  {
   "cell_type": "code",
   "execution_count": null,
   "metadata": {
    "id": "1FAoviE7fWOv"
   },
   "outputs": [],
   "source": [
    "#  Creo una función para completar los valores ausentes\n",
    "\n",
    "\n",
    "def reemplazar_nan (df):\n",
    "    mediana= df.groupby('edades')['total_income'].median()\n",
    "    df.loc[(df['edades'] == '<=29') & df['total_income'].isna(),'total_income'] = mediana.loc['<=29']\n",
    "    df.loc[(df['edades'] == '30-39') & df['total_income'].isna(),'total_income'] = mediana.loc['30-39']\n",
    "    df.loc[(df['edades'] == '40-49') & df['total_income'].isna(),'total_income'] = mediana.loc['40-49']\n",
    "    df.loc[(df['edades'] == '50-59') & df['total_income'].isna(),'total_income'] = mediana.loc['50-59']\n",
    "    df.loc[(df['edades'] == '60-69') & df['total_income'].isna(),'total_income'] = mediana.loc['60-69']\n",
    "    df.loc[(df['edades'] == '>= 70') & df['total_income'].isna(),'total_income'] = mediana.loc['>= 70']\n",
    "   \n",
    "    return df\n",
    "\n"
   ]
  },
  {
   "cell_type": "code",
   "execution_count": null,
   "metadata": {
    "id": "S7cFj1zBfWOv",
    "outputId": "bca8ee05-070f-4575-c6ca-976c26f52def"
   },
   "outputs": [
    {
     "data": {
      "text/plain": [
       "children                       0\n",
       "days_employed        1846.641941\n",
       "dob_years                     54\n",
       "education           some college\n",
       "education_id                   2\n",
       "family_status            married\n",
       "family_status_id               0\n",
       "gender                         F\n",
       "income_type             employee\n",
       "debt                           0\n",
       "total_income           20873.317\n",
       "purpose             car purchase\n",
       "edades                     50-59\n",
       "Name: 12, dtype: object"
      ]
     },
     "execution_count": 49,
     "metadata": {},
     "output_type": "execute_result"
    }
   ],
   "source": [
    "# Comprueba si funciona\n",
    "\n",
    "reemplazar_nan(df).loc[12]"
   ]
  },
  {
   "cell_type": "code",
   "execution_count": null,
   "metadata": {
    "id": "RdzQHFt8fWOv",
    "outputId": "e7dba676-7867-46ed-f62e-b28bd93e1d70"
   },
   "outputs": [
    {
     "data": {
      "text/html": [
       "<div>\n",
       "<style scoped>\n",
       "    .dataframe tbody tr th:only-of-type {\n",
       "        vertical-align: middle;\n",
       "    }\n",
       "\n",
       "    .dataframe tbody tr th {\n",
       "        vertical-align: top;\n",
       "    }\n",
       "\n",
       "    .dataframe thead th {\n",
       "        text-align: right;\n",
       "    }\n",
       "</style>\n",
       "<table border=\"1\" class=\"dataframe\">\n",
       "  <thead>\n",
       "    <tr style=\"text-align: right;\">\n",
       "      <th></th>\n",
       "      <th>children</th>\n",
       "      <th>days_employed</th>\n",
       "      <th>dob_years</th>\n",
       "      <th>education</th>\n",
       "      <th>education_id</th>\n",
       "      <th>family_status</th>\n",
       "      <th>family_status_id</th>\n",
       "      <th>gender</th>\n",
       "      <th>income_type</th>\n",
       "      <th>debt</th>\n",
       "      <th>total_income</th>\n",
       "      <th>purpose</th>\n",
       "      <th>edades</th>\n",
       "    </tr>\n",
       "  </thead>\n",
       "  <tbody>\n",
       "    <tr>\n",
       "      <th>0</th>\n",
       "      <td>1</td>\n",
       "      <td>8437.673028</td>\n",
       "      <td>42</td>\n",
       "      <td>bachelor's degree</td>\n",
       "      <td>0</td>\n",
       "      <td>married</td>\n",
       "      <td>0</td>\n",
       "      <td>F</td>\n",
       "      <td>employee</td>\n",
       "      <td>0</td>\n",
       "      <td>40620.102</td>\n",
       "      <td>purchase of the house</td>\n",
       "      <td>40-49</td>\n",
       "    </tr>\n",
       "    <tr>\n",
       "      <th>1</th>\n",
       "      <td>1</td>\n",
       "      <td>4024.803754</td>\n",
       "      <td>36</td>\n",
       "      <td>secondary education</td>\n",
       "      <td>1</td>\n",
       "      <td>married</td>\n",
       "      <td>0</td>\n",
       "      <td>F</td>\n",
       "      <td>employee</td>\n",
       "      <td>0</td>\n",
       "      <td>17932.802</td>\n",
       "      <td>car purchase</td>\n",
       "      <td>30-39</td>\n",
       "    </tr>\n",
       "    <tr>\n",
       "      <th>2</th>\n",
       "      <td>0</td>\n",
       "      <td>5623.422610</td>\n",
       "      <td>33</td>\n",
       "      <td>Secondary Education</td>\n",
       "      <td>1</td>\n",
       "      <td>married</td>\n",
       "      <td>0</td>\n",
       "      <td>M</td>\n",
       "      <td>employee</td>\n",
       "      <td>0</td>\n",
       "      <td>23341.752</td>\n",
       "      <td>purchase of the house</td>\n",
       "      <td>30-39</td>\n",
       "    </tr>\n",
       "    <tr>\n",
       "      <th>3</th>\n",
       "      <td>3</td>\n",
       "      <td>4124.747207</td>\n",
       "      <td>32</td>\n",
       "      <td>secondary education</td>\n",
       "      <td>1</td>\n",
       "      <td>married</td>\n",
       "      <td>0</td>\n",
       "      <td>M</td>\n",
       "      <td>employee</td>\n",
       "      <td>0</td>\n",
       "      <td>42820.568</td>\n",
       "      <td>supplementary education</td>\n",
       "      <td>30-39</td>\n",
       "    </tr>\n",
       "    <tr>\n",
       "      <th>4</th>\n",
       "      <td>0</td>\n",
       "      <td>926.185831</td>\n",
       "      <td>27</td>\n",
       "      <td>bachelor's degree</td>\n",
       "      <td>0</td>\n",
       "      <td>civil partnership</td>\n",
       "      <td>1</td>\n",
       "      <td>M</td>\n",
       "      <td>business</td>\n",
       "      <td>0</td>\n",
       "      <td>40922.170</td>\n",
       "      <td>purchase of the house</td>\n",
       "      <td>&lt;=29</td>\n",
       "    </tr>\n",
       "    <tr>\n",
       "      <th>...</th>\n",
       "      <td>...</td>\n",
       "      <td>...</td>\n",
       "      <td>...</td>\n",
       "      <td>...</td>\n",
       "      <td>...</td>\n",
       "      <td>...</td>\n",
       "      <td>...</td>\n",
       "      <td>...</td>\n",
       "      <td>...</td>\n",
       "      <td>...</td>\n",
       "      <td>...</td>\n",
       "      <td>...</td>\n",
       "      <td>...</td>\n",
       "    </tr>\n",
       "    <tr>\n",
       "      <th>18020</th>\n",
       "      <td>1</td>\n",
       "      <td>2351.431934</td>\n",
       "      <td>37</td>\n",
       "      <td>graduate degree</td>\n",
       "      <td>4</td>\n",
       "      <td>divorced</td>\n",
       "      <td>3</td>\n",
       "      <td>M</td>\n",
       "      <td>employee</td>\n",
       "      <td>0</td>\n",
       "      <td>18551.846</td>\n",
       "      <td>buy commercial real estate</td>\n",
       "      <td>30-39</td>\n",
       "    </tr>\n",
       "    <tr>\n",
       "      <th>18021</th>\n",
       "      <td>1</td>\n",
       "      <td>4529.316663</td>\n",
       "      <td>43</td>\n",
       "      <td>secondary education</td>\n",
       "      <td>1</td>\n",
       "      <td>civil partnership</td>\n",
       "      <td>1</td>\n",
       "      <td>F</td>\n",
       "      <td>business</td>\n",
       "      <td>0</td>\n",
       "      <td>35966.698</td>\n",
       "      <td>housing transactions</td>\n",
       "      <td>40-49</td>\n",
       "    </tr>\n",
       "    <tr>\n",
       "      <th>18022</th>\n",
       "      <td>1</td>\n",
       "      <td>2113.346888</td>\n",
       "      <td>38</td>\n",
       "      <td>secondary education</td>\n",
       "      <td>1</td>\n",
       "      <td>civil partnership</td>\n",
       "      <td>1</td>\n",
       "      <td>M</td>\n",
       "      <td>employee</td>\n",
       "      <td>1</td>\n",
       "      <td>14347.610</td>\n",
       "      <td>property</td>\n",
       "      <td>30-39</td>\n",
       "    </tr>\n",
       "    <tr>\n",
       "      <th>18023</th>\n",
       "      <td>3</td>\n",
       "      <td>3112.481705</td>\n",
       "      <td>38</td>\n",
       "      <td>secondary education</td>\n",
       "      <td>1</td>\n",
       "      <td>married</td>\n",
       "      <td>0</td>\n",
       "      <td>M</td>\n",
       "      <td>employee</td>\n",
       "      <td>1</td>\n",
       "      <td>39054.888</td>\n",
       "      <td>buying my own car</td>\n",
       "      <td>30-39</td>\n",
       "    </tr>\n",
       "    <tr>\n",
       "      <th>18024</th>\n",
       "      <td>2</td>\n",
       "      <td>1984.507589</td>\n",
       "      <td>40</td>\n",
       "      <td>secondary education</td>\n",
       "      <td>1</td>\n",
       "      <td>married</td>\n",
       "      <td>0</td>\n",
       "      <td>F</td>\n",
       "      <td>employee</td>\n",
       "      <td>0</td>\n",
       "      <td>13127.587</td>\n",
       "      <td>to buy a car</td>\n",
       "      <td>40-49</td>\n",
       "    </tr>\n",
       "  </tbody>\n",
       "</table>\n",
       "<p>18025 rows × 13 columns</p>\n",
       "</div>"
      ],
      "text/plain": [
       "       children  days_employed  dob_years            education  education_id  \\\n",
       "0             1    8437.673028         42    bachelor's degree             0   \n",
       "1             1    4024.803754         36  secondary education             1   \n",
       "2             0    5623.422610         33  Secondary Education             1   \n",
       "3             3    4124.747207         32  secondary education             1   \n",
       "4             0     926.185831         27    bachelor's degree             0   \n",
       "...         ...            ...        ...                  ...           ...   \n",
       "18020         1    2351.431934         37      graduate degree             4   \n",
       "18021         1    4529.316663         43  secondary education             1   \n",
       "18022         1    2113.346888         38  secondary education             1   \n",
       "18023         3    3112.481705         38  secondary education             1   \n",
       "18024         2    1984.507589         40  secondary education             1   \n",
       "\n",
       "           family_status  family_status_id gender income_type  debt  \\\n",
       "0                married                 0      F    employee     0   \n",
       "1                married                 0      F    employee     0   \n",
       "2                married                 0      M    employee     0   \n",
       "3                married                 0      M    employee     0   \n",
       "4      civil partnership                 1      M    business     0   \n",
       "...                  ...               ...    ...         ...   ...   \n",
       "18020           divorced                 3      M    employee     0   \n",
       "18021  civil partnership                 1      F    business     0   \n",
       "18022  civil partnership                 1      M    employee     1   \n",
       "18023            married                 0      M    employee     1   \n",
       "18024            married                 0      F    employee     0   \n",
       "\n",
       "       total_income                     purpose edades  \n",
       "0         40620.102       purchase of the house  40-49  \n",
       "1         17932.802                car purchase  30-39  \n",
       "2         23341.752       purchase of the house  30-39  \n",
       "3         42820.568     supplementary education  30-39  \n",
       "4         40922.170       purchase of the house   <=29  \n",
       "...             ...                         ...    ...  \n",
       "18020     18551.846  buy commercial real estate  30-39  \n",
       "18021     35966.698        housing transactions  40-49  \n",
       "18022     14347.610                    property  30-39  \n",
       "18023     39054.888           buying my own car  30-39  \n",
       "18024     13127.587                to buy a car  40-49  \n",
       "\n",
       "[18025 rows x 13 columns]"
      ]
     },
     "execution_count": 50,
     "metadata": {},
     "output_type": "execute_result"
    }
   ],
   "source": [
    "# Aplícalo a cada fila\n",
    "\n",
    "reemplazar_nan(df)"
   ]
  },
  {
   "cell_type": "code",
   "execution_count": null,
   "metadata": {
    "id": "dNoC882sfWOv",
    "outputId": "ba0644cb-a0e2-4b1a-fb6b-91139034f143"
   },
   "outputs": [
    {
     "name": "stdout",
     "output_type": "stream",
     "text": [
      "<class 'pandas.core.frame.DataFrame'>\n",
      "RangeIndex: 18025 entries, 0 to 18024\n",
      "Data columns (total 13 columns):\n",
      " #   Column            Non-Null Count  Dtype  \n",
      "---  ------            --------------  -----  \n",
      " 0   children          18025 non-null  int64  \n",
      " 1   days_employed     15906 non-null  float64\n",
      " 2   dob_years         18025 non-null  int64  \n",
      " 3   education         18025 non-null  object \n",
      " 4   education_id      18025 non-null  int64  \n",
      " 5   family_status     18025 non-null  object \n",
      " 6   family_status_id  18025 non-null  int64  \n",
      " 7   gender            18025 non-null  object \n",
      " 8   income_type       18025 non-null  object \n",
      " 9   debt              18025 non-null  int64  \n",
      " 10  total_income      18025 non-null  float64\n",
      " 11  purpose           18025 non-null  object \n",
      " 12  edades            18025 non-null  object \n",
      "dtypes: float64(2), int64(5), object(6)\n",
      "memory usage: 1.8+ MB\n"
     ]
    }
   ],
   "source": [
    "# Comprobar el número de entradas en las columnas\n",
    "\n",
    "df.info()"
   ]
  },
  {
   "cell_type": "markdown",
   "metadata": {
    "id": "dVJxCJrGfWOv"
   },
   "source": [
    "###  Restaurar valores en `days_employed`"
   ]
  },
  {
   "cell_type": "markdown",
   "metadata": {
    "id": "HncIkqlffWOv"
   },
   "source": [
    "En este caso el parámetro que use para rellenar los valores ausentes fue el 'income_type'."
   ]
  },
  {
   "cell_type": "code",
   "execution_count": null,
   "metadata": {
    "id": "lpLD1nasfWOw",
    "outputId": "728c196e-95d8-4e0c-c186-41686f266d2e"
   },
   "outputs": [
    {
     "data": {
      "text/plain": [
       "employee                       11090\n",
       "business                        5080\n",
       "civil servant                   1457\n",
       "retiree                          394\n",
       "entrepreneur                       2\n",
       "student                            1\n",
       "paternity / maternity leave        1\n",
       "Name: income_type, dtype: int64"
      ]
     },
     "execution_count": 54,
     "metadata": {},
     "output_type": "execute_result"
    }
   ],
   "source": [
    "df['income_type'].value_counts()"
   ]
  },
  {
   "cell_type": "code",
   "execution_count": null,
   "metadata": {
    "id": "oQuUowpefWOw"
   },
   "outputs": [],
   "source": [
    "def profesiones (profesion):\n",
    "    if profesion == 'employee':\n",
    "        return 'employee'\n",
    "    if profesion == 'business':\n",
    "        return 'business'\n",
    "    if profesion == 'civil servent':\n",
    "        return 'civil servent'\n",
    "    if profesion == 'retiree':\n",
    "        return 'retiree'\n",
    "    if profesion == 'entrepreneur':\n",
    "        return 'entrepreneur'\n",
    "    if profesion == 'paternity / maternity leave':\n",
    "        return'paternity / maternity leave'\n",
    "    return 'student'\n",
    "        \n"
   ]
  },
  {
   "cell_type": "code",
   "execution_count": null,
   "metadata": {
    "id": "1vTisKvzfWOw"
   },
   "outputs": [],
   "source": [
    "df['profesiones']= df['income_type'].apply(profesiones)"
   ]
  },
  {
   "cell_type": "code",
   "execution_count": null,
   "metadata": {
    "id": "GS9LTcccfWOw",
    "outputId": "0b1a34f6-a667-453b-a87b-dd916a968a73"
   },
   "outputs": [
    {
     "data": {
      "text/plain": [
       "employee                       11090\n",
       "business                        5080\n",
       "student                         1458\n",
       "retiree                          394\n",
       "entrepreneur                       2\n",
       "paternity / maternity leave        1\n",
       "Name: profesiones, dtype: int64"
      ]
     },
     "execution_count": 57,
     "metadata": {},
     "output_type": "execute_result"
    }
   ],
   "source": [
    "df['profesiones'].value_counts()"
   ]
  },
  {
   "cell_type": "code",
   "execution_count": null,
   "metadata": {
    "id": "wpg3UQYEfWOw",
    "outputId": "98c812dd-e05b-4c35-937d-77f139d602ba"
   },
   "outputs": [
    {
     "data": {
      "text/plain": [
       "0        8437.673028\n",
       "1        4024.803754\n",
       "2        5623.422610\n",
       "3        4124.747207\n",
       "4         926.185831\n",
       "            ...     \n",
       "18020    2351.431934\n",
       "18021    4529.316663\n",
       "18022    2113.346888\n",
       "18023    3112.481705\n",
       "18024    1984.507589\n",
       "Name: days_employed, Length: 15906, dtype: float64"
      ]
     },
     "execution_count": 58,
     "metadata": {},
     "output_type": "execute_result"
    }
   ],
   "source": [
    "dias_empleo_limpio= df['days_employed'].dropna()\n",
    "dias_empleo_limpio"
   ]
  },
  {
   "cell_type": "code",
   "execution_count": null,
   "metadata": {
    "id": "Sbn02HJafWOw",
    "outputId": "19f41769-870c-42ca-b507-b6790264991e",
    "pycharm": {
     "name": "#%%\n"
    }
   },
   "outputs": [
    {
     "data": {
      "text/plain": [
       "profesiones\n",
       "business                       1547.382223\n",
       "employee                       1574.202821\n",
       "entrepreneur                    520.848083\n",
       "paternity / maternity leave    3296.759962\n",
       "retiree                                NaN\n",
       "student                        2689.137274\n",
       "Name: days_employed, dtype: float64"
      ]
     },
     "execution_count": 59,
     "metadata": {},
     "output_type": "execute_result"
    }
   ],
   "source": [
    "# Distribución de las medianas de `days_employed` en función de los parámetros identificados\n",
    "\n",
    "df.groupby('profesiones')['days_employed'].median()\n"
   ]
  },
  {
   "cell_type": "code",
   "execution_count": null,
   "metadata": {
    "id": "vrdyv06rfWOw",
    "outputId": "720c24b4-8574-4b04-d335-da83304d6705"
   },
   "outputs": [
    {
     "data": {
      "text/plain": [
       "profesiones\n",
       "business                       2111.524398\n",
       "employee                       2326.499216\n",
       "entrepreneur                    520.848083\n",
       "paternity / maternity leave    3296.759962\n",
       "retiree                                NaN\n",
       "student                        3397.748276\n",
       "Name: days_employed, dtype: float64"
      ]
     },
     "execution_count": 60,
     "metadata": {},
     "output_type": "execute_result"
    }
   ],
   "source": [
    "# Distribución de las medias de `days_employed` en función de los parámetros identificados\n",
    "\n",
    "df.groupby('profesiones')['days_employed'].mean()"
   ]
  },
  {
   "cell_type": "markdown",
   "metadata": {
    "id": "n1q47GgJfWOx"
   },
   "source": [
    "voy a utilizar la mediana para no dejar que los datos atípicos afecten la investigación."
   ]
  },
  {
   "cell_type": "code",
   "execution_count": null,
   "metadata": {
    "id": "0mL_HjwGfWOx"
   },
   "outputs": [],
   "source": [
    "# Escribamos una función que calcule medianas \n",
    "\n",
    "def reemplazar_nan (df):\n",
    "    mediana= df.groupby('profesiones')['days_employed'].median()\n",
    "    df.loc[(df['profesiones'] == 'business') & df['days_employed'].isna(),'days_employed'] = mediana.loc['business']\n",
    "    df.loc[(df['profesiones'] == 'employee') & df['days_employed'].isna(),'days_employed'] = mediana.loc['employee']\n",
    "    df.loc[(df['profesiones'] == 'entrepreneur') & df['days_employed'].isna(),'days_employed'] = mediana.loc['entrepreneur']\n",
    "    df.loc[(df['profesiones'] == 'paternity / maternity leave') & df['days_employed'].isna(),'days_employed'] = mediana.loc['paternity / maternity leave']\n",
    "    df.loc[(df['profesiones'] == 'retiree') & df['days_employed'].isna(),'days_employed'] = mediana.loc['retiree']\n",
    "    df.loc[(df['profesiones'] == 'student') & df['days_employed'].isna(),'days_employed'] = mediana.loc['student']\n",
    "   \n",
    "    return df\n"
   ]
  },
  {
   "cell_type": "markdown",
   "metadata": {
    "id": "Xdb06r2DfWOx"
   },
   "source": [
    "### Comprueba que la función funciona\n",
    "\n"
   ]
  },
  {
   "cell_type": "code",
   "execution_count": null,
   "metadata": {
    "id": "Xi55SxDhfWOx",
    "outputId": "39820cab-4a41-43bf-a204-2a79a1baccfa"
   },
   "outputs": [
    {
     "data": {
      "text/html": [
       "<div>\n",
       "<style scoped>\n",
       "    .dataframe tbody tr th:only-of-type {\n",
       "        vertical-align: middle;\n",
       "    }\n",
       "\n",
       "    .dataframe tbody tr th {\n",
       "        vertical-align: top;\n",
       "    }\n",
       "\n",
       "    .dataframe thead th {\n",
       "        text-align: right;\n",
       "    }\n",
       "</style>\n",
       "<table border=\"1\" class=\"dataframe\">\n",
       "  <thead>\n",
       "    <tr style=\"text-align: right;\">\n",
       "      <th></th>\n",
       "      <th>children</th>\n",
       "      <th>days_employed</th>\n",
       "      <th>dob_years</th>\n",
       "      <th>education</th>\n",
       "      <th>education_id</th>\n",
       "      <th>family_status</th>\n",
       "      <th>family_status_id</th>\n",
       "      <th>gender</th>\n",
       "      <th>income_type</th>\n",
       "      <th>debt</th>\n",
       "      <th>total_income</th>\n",
       "      <th>purpose</th>\n",
       "      <th>edades</th>\n",
       "      <th>profesiones</th>\n",
       "    </tr>\n",
       "  </thead>\n",
       "  <tbody>\n",
       "    <tr>\n",
       "      <th>0</th>\n",
       "      <td>1</td>\n",
       "      <td>8437.673028</td>\n",
       "      <td>42</td>\n",
       "      <td>bachelor's degree</td>\n",
       "      <td>0</td>\n",
       "      <td>married</td>\n",
       "      <td>0</td>\n",
       "      <td>F</td>\n",
       "      <td>employee</td>\n",
       "      <td>0</td>\n",
       "      <td>40620.102</td>\n",
       "      <td>purchase of the house</td>\n",
       "      <td>40-49</td>\n",
       "      <td>employee</td>\n",
       "    </tr>\n",
       "    <tr>\n",
       "      <th>1</th>\n",
       "      <td>1</td>\n",
       "      <td>4024.803754</td>\n",
       "      <td>36</td>\n",
       "      <td>secondary education</td>\n",
       "      <td>1</td>\n",
       "      <td>married</td>\n",
       "      <td>0</td>\n",
       "      <td>F</td>\n",
       "      <td>employee</td>\n",
       "      <td>0</td>\n",
       "      <td>17932.802</td>\n",
       "      <td>car purchase</td>\n",
       "      <td>30-39</td>\n",
       "      <td>employee</td>\n",
       "    </tr>\n",
       "    <tr>\n",
       "      <th>2</th>\n",
       "      <td>0</td>\n",
       "      <td>5623.422610</td>\n",
       "      <td>33</td>\n",
       "      <td>Secondary Education</td>\n",
       "      <td>1</td>\n",
       "      <td>married</td>\n",
       "      <td>0</td>\n",
       "      <td>M</td>\n",
       "      <td>employee</td>\n",
       "      <td>0</td>\n",
       "      <td>23341.752</td>\n",
       "      <td>purchase of the house</td>\n",
       "      <td>30-39</td>\n",
       "      <td>employee</td>\n",
       "    </tr>\n",
       "    <tr>\n",
       "      <th>3</th>\n",
       "      <td>3</td>\n",
       "      <td>4124.747207</td>\n",
       "      <td>32</td>\n",
       "      <td>secondary education</td>\n",
       "      <td>1</td>\n",
       "      <td>married</td>\n",
       "      <td>0</td>\n",
       "      <td>M</td>\n",
       "      <td>employee</td>\n",
       "      <td>0</td>\n",
       "      <td>42820.568</td>\n",
       "      <td>supplementary education</td>\n",
       "      <td>30-39</td>\n",
       "      <td>employee</td>\n",
       "    </tr>\n",
       "    <tr>\n",
       "      <th>4</th>\n",
       "      <td>0</td>\n",
       "      <td>926.185831</td>\n",
       "      <td>27</td>\n",
       "      <td>bachelor's degree</td>\n",
       "      <td>0</td>\n",
       "      <td>civil partnership</td>\n",
       "      <td>1</td>\n",
       "      <td>M</td>\n",
       "      <td>business</td>\n",
       "      <td>0</td>\n",
       "      <td>40922.170</td>\n",
       "      <td>purchase of the house</td>\n",
       "      <td>&lt;=29</td>\n",
       "      <td>business</td>\n",
       "    </tr>\n",
       "    <tr>\n",
       "      <th>...</th>\n",
       "      <td>...</td>\n",
       "      <td>...</td>\n",
       "      <td>...</td>\n",
       "      <td>...</td>\n",
       "      <td>...</td>\n",
       "      <td>...</td>\n",
       "      <td>...</td>\n",
       "      <td>...</td>\n",
       "      <td>...</td>\n",
       "      <td>...</td>\n",
       "      <td>...</td>\n",
       "      <td>...</td>\n",
       "      <td>...</td>\n",
       "      <td>...</td>\n",
       "    </tr>\n",
       "    <tr>\n",
       "      <th>18020</th>\n",
       "      <td>1</td>\n",
       "      <td>2351.431934</td>\n",
       "      <td>37</td>\n",
       "      <td>graduate degree</td>\n",
       "      <td>4</td>\n",
       "      <td>divorced</td>\n",
       "      <td>3</td>\n",
       "      <td>M</td>\n",
       "      <td>employee</td>\n",
       "      <td>0</td>\n",
       "      <td>18551.846</td>\n",
       "      <td>buy commercial real estate</td>\n",
       "      <td>30-39</td>\n",
       "      <td>employee</td>\n",
       "    </tr>\n",
       "    <tr>\n",
       "      <th>18021</th>\n",
       "      <td>1</td>\n",
       "      <td>4529.316663</td>\n",
       "      <td>43</td>\n",
       "      <td>secondary education</td>\n",
       "      <td>1</td>\n",
       "      <td>civil partnership</td>\n",
       "      <td>1</td>\n",
       "      <td>F</td>\n",
       "      <td>business</td>\n",
       "      <td>0</td>\n",
       "      <td>35966.698</td>\n",
       "      <td>housing transactions</td>\n",
       "      <td>40-49</td>\n",
       "      <td>business</td>\n",
       "    </tr>\n",
       "    <tr>\n",
       "      <th>18022</th>\n",
       "      <td>1</td>\n",
       "      <td>2113.346888</td>\n",
       "      <td>38</td>\n",
       "      <td>secondary education</td>\n",
       "      <td>1</td>\n",
       "      <td>civil partnership</td>\n",
       "      <td>1</td>\n",
       "      <td>M</td>\n",
       "      <td>employee</td>\n",
       "      <td>1</td>\n",
       "      <td>14347.610</td>\n",
       "      <td>property</td>\n",
       "      <td>30-39</td>\n",
       "      <td>employee</td>\n",
       "    </tr>\n",
       "    <tr>\n",
       "      <th>18023</th>\n",
       "      <td>3</td>\n",
       "      <td>3112.481705</td>\n",
       "      <td>38</td>\n",
       "      <td>secondary education</td>\n",
       "      <td>1</td>\n",
       "      <td>married</td>\n",
       "      <td>0</td>\n",
       "      <td>M</td>\n",
       "      <td>employee</td>\n",
       "      <td>1</td>\n",
       "      <td>39054.888</td>\n",
       "      <td>buying my own car</td>\n",
       "      <td>30-39</td>\n",
       "      <td>employee</td>\n",
       "    </tr>\n",
       "    <tr>\n",
       "      <th>18024</th>\n",
       "      <td>2</td>\n",
       "      <td>1984.507589</td>\n",
       "      <td>40</td>\n",
       "      <td>secondary education</td>\n",
       "      <td>1</td>\n",
       "      <td>married</td>\n",
       "      <td>0</td>\n",
       "      <td>F</td>\n",
       "      <td>employee</td>\n",
       "      <td>0</td>\n",
       "      <td>13127.587</td>\n",
       "      <td>to buy a car</td>\n",
       "      <td>40-49</td>\n",
       "      <td>employee</td>\n",
       "    </tr>\n",
       "  </tbody>\n",
       "</table>\n",
       "<p>18025 rows × 14 columns</p>\n",
       "</div>"
      ],
      "text/plain": [
       "       children  days_employed  dob_years            education  education_id  \\\n",
       "0             1    8437.673028         42    bachelor's degree             0   \n",
       "1             1    4024.803754         36  secondary education             1   \n",
       "2             0    5623.422610         33  Secondary Education             1   \n",
       "3             3    4124.747207         32  secondary education             1   \n",
       "4             0     926.185831         27    bachelor's degree             0   \n",
       "...         ...            ...        ...                  ...           ...   \n",
       "18020         1    2351.431934         37      graduate degree             4   \n",
       "18021         1    4529.316663         43  secondary education             1   \n",
       "18022         1    2113.346888         38  secondary education             1   \n",
       "18023         3    3112.481705         38  secondary education             1   \n",
       "18024         2    1984.507589         40  secondary education             1   \n",
       "\n",
       "           family_status  family_status_id gender income_type  debt  \\\n",
       "0                married                 0      F    employee     0   \n",
       "1                married                 0      F    employee     0   \n",
       "2                married                 0      M    employee     0   \n",
       "3                married                 0      M    employee     0   \n",
       "4      civil partnership                 1      M    business     0   \n",
       "...                  ...               ...    ...         ...   ...   \n",
       "18020           divorced                 3      M    employee     0   \n",
       "18021  civil partnership                 1      F    business     0   \n",
       "18022  civil partnership                 1      M    employee     1   \n",
       "18023            married                 0      M    employee     1   \n",
       "18024            married                 0      F    employee     0   \n",
       "\n",
       "       total_income                     purpose edades profesiones  \n",
       "0         40620.102       purchase of the house  40-49    employee  \n",
       "1         17932.802                car purchase  30-39    employee  \n",
       "2         23341.752       purchase of the house  30-39    employee  \n",
       "3         42820.568     supplementary education  30-39    employee  \n",
       "4         40922.170       purchase of the house   <=29    business  \n",
       "...             ...                         ...    ...         ...  \n",
       "18020     18551.846  buy commercial real estate  30-39    employee  \n",
       "18021     35966.698        housing transactions  40-49    business  \n",
       "18022     14347.610                    property  30-39    employee  \n",
       "18023     39054.888           buying my own car  30-39    employee  \n",
       "18024     13127.587                to buy a car  40-49    employee  \n",
       "\n",
       "[18025 rows x 14 columns]"
      ]
     },
     "execution_count": 62,
     "metadata": {},
     "output_type": "execute_result"
    }
   ],
   "source": [
    "# Aplicar la función al income_type\n",
    "\n",
    "\n",
    "reemplazar_nan(df)"
   ]
  },
  {
   "cell_type": "code",
   "execution_count": null,
   "metadata": {
    "id": "p-9enTalfWOx",
    "outputId": "0272763f-c5cc-4bf8-ded2-2ee4f8dac8cd"
   },
   "outputs": [
    {
     "data": {
      "text/plain": [
       "394"
      ]
     },
     "execution_count": 63,
     "metadata": {},
     "output_type": "execute_result"
    }
   ],
   "source": [
    "# Comprueba si la función funcionó\n",
    "\n",
    "df['days_employed'].isna().sum()"
   ]
  },
  {
   "cell_type": "code",
   "execution_count": null,
   "metadata": {
    "id": "hd5wr5e4fWOx"
   },
   "outputs": [],
   "source": [
    "# Reemplazar valores ausentes\n",
    "\n",
    "df['days_employed']= df['days_employed'].fillna(0)"
   ]
  },
  {
   "cell_type": "code",
   "execution_count": null,
   "metadata": {
    "id": "cvyhb9wjfWOx",
    "outputId": "91bf5392-bddb-43f8-e692-5e5c55858853"
   },
   "outputs": [
    {
     "name": "stdout",
     "output_type": "stream",
     "text": [
      "<class 'pandas.core.frame.DataFrame'>\n",
      "RangeIndex: 18025 entries, 0 to 18024\n",
      "Data columns (total 14 columns):\n",
      " #   Column            Non-Null Count  Dtype  \n",
      "---  ------            --------------  -----  \n",
      " 0   children          18025 non-null  int64  \n",
      " 1   days_employed     18025 non-null  float64\n",
      " 2   dob_years         18025 non-null  int64  \n",
      " 3   education         18025 non-null  object \n",
      " 4   education_id      18025 non-null  int64  \n",
      " 5   family_status     18025 non-null  object \n",
      " 6   family_status_id  18025 non-null  int64  \n",
      " 7   gender            18025 non-null  object \n",
      " 8   income_type       18025 non-null  object \n",
      " 9   debt              18025 non-null  int64  \n",
      " 10  total_income      18025 non-null  float64\n",
      " 11  purpose           18025 non-null  object \n",
      " 12  edades            18025 non-null  object \n",
      " 13  profesiones       18025 non-null  object \n",
      "dtypes: float64(2), int64(5), object(7)\n",
      "memory usage: 1.9+ MB\n"
     ]
    }
   ],
   "source": [
    "# Comprueba las entradas en todas las columnas: asegúrate de que hayamos corregido todos los valores ausentes\n",
    "\n",
    "df.info()"
   ]
  },
  {
   "cell_type": "markdown",
   "metadata": {
    "id": "8fchI-dTfWOx"
   },
   "source": [
    "## Clasificación de datos\n",
    "\n",
    "A continuaación crearé un nuevo dataframe que contenga solo las columnas necesarias para hacer el análisis de las hipótesis. \n"
   ]
  },
  {
   "cell_type": "code",
   "execution_count": null,
   "metadata": {
    "id": "dFh0XNrmfWOx",
    "outputId": "2b451fa2-cb79-47f3-bb30-57b8b2577c0c",
    "scrolled": true
   },
   "outputs": [
    {
     "data": {
      "text/html": [
       "<div>\n",
       "<style scoped>\n",
       "    .dataframe tbody tr th:only-of-type {\n",
       "        vertical-align: middle;\n",
       "    }\n",
       "\n",
       "    .dataframe tbody tr th {\n",
       "        vertical-align: top;\n",
       "    }\n",
       "\n",
       "    .dataframe thead th {\n",
       "        text-align: right;\n",
       "    }\n",
       "</style>\n",
       "<table border=\"1\" class=\"dataframe\">\n",
       "  <thead>\n",
       "    <tr style=\"text-align: right;\">\n",
       "      <th></th>\n",
       "      <th>children</th>\n",
       "      <th>family_status</th>\n",
       "      <th>family_status_id</th>\n",
       "      <th>total_income</th>\n",
       "      <th>purpose</th>\n",
       "      <th>debt</th>\n",
       "    </tr>\n",
       "  </thead>\n",
       "  <tbody>\n",
       "    <tr>\n",
       "      <th>0</th>\n",
       "      <td>1</td>\n",
       "      <td>married</td>\n",
       "      <td>0</td>\n",
       "      <td>40620.102</td>\n",
       "      <td>purchase of the house</td>\n",
       "      <td>0</td>\n",
       "    </tr>\n",
       "    <tr>\n",
       "      <th>1</th>\n",
       "      <td>1</td>\n",
       "      <td>married</td>\n",
       "      <td>0</td>\n",
       "      <td>17932.802</td>\n",
       "      <td>car purchase</td>\n",
       "      <td>0</td>\n",
       "    </tr>\n",
       "    <tr>\n",
       "      <th>2</th>\n",
       "      <td>0</td>\n",
       "      <td>married</td>\n",
       "      <td>0</td>\n",
       "      <td>23341.752</td>\n",
       "      <td>purchase of the house</td>\n",
       "      <td>0</td>\n",
       "    </tr>\n",
       "    <tr>\n",
       "      <th>3</th>\n",
       "      <td>3</td>\n",
       "      <td>married</td>\n",
       "      <td>0</td>\n",
       "      <td>42820.568</td>\n",
       "      <td>supplementary education</td>\n",
       "      <td>0</td>\n",
       "    </tr>\n",
       "    <tr>\n",
       "      <th>4</th>\n",
       "      <td>0</td>\n",
       "      <td>civil partnership</td>\n",
       "      <td>1</td>\n",
       "      <td>40922.170</td>\n",
       "      <td>purchase of the house</td>\n",
       "      <td>0</td>\n",
       "    </tr>\n",
       "    <tr>\n",
       "      <th>...</th>\n",
       "      <td>...</td>\n",
       "      <td>...</td>\n",
       "      <td>...</td>\n",
       "      <td>...</td>\n",
       "      <td>...</td>\n",
       "      <td>...</td>\n",
       "    </tr>\n",
       "    <tr>\n",
       "      <th>18020</th>\n",
       "      <td>1</td>\n",
       "      <td>divorced</td>\n",
       "      <td>3</td>\n",
       "      <td>18551.846</td>\n",
       "      <td>buy commercial real estate</td>\n",
       "      <td>0</td>\n",
       "    </tr>\n",
       "    <tr>\n",
       "      <th>18021</th>\n",
       "      <td>1</td>\n",
       "      <td>civil partnership</td>\n",
       "      <td>1</td>\n",
       "      <td>35966.698</td>\n",
       "      <td>housing transactions</td>\n",
       "      <td>0</td>\n",
       "    </tr>\n",
       "    <tr>\n",
       "      <th>18022</th>\n",
       "      <td>1</td>\n",
       "      <td>civil partnership</td>\n",
       "      <td>1</td>\n",
       "      <td>14347.610</td>\n",
       "      <td>property</td>\n",
       "      <td>1</td>\n",
       "    </tr>\n",
       "    <tr>\n",
       "      <th>18023</th>\n",
       "      <td>3</td>\n",
       "      <td>married</td>\n",
       "      <td>0</td>\n",
       "      <td>39054.888</td>\n",
       "      <td>buying my own car</td>\n",
       "      <td>1</td>\n",
       "    </tr>\n",
       "    <tr>\n",
       "      <th>18024</th>\n",
       "      <td>2</td>\n",
       "      <td>married</td>\n",
       "      <td>0</td>\n",
       "      <td>13127.587</td>\n",
       "      <td>to buy a car</td>\n",
       "      <td>0</td>\n",
       "    </tr>\n",
       "  </tbody>\n",
       "</table>\n",
       "<p>18025 rows × 6 columns</p>\n",
       "</div>"
      ],
      "text/plain": [
       "       children      family_status  family_status_id  total_income  \\\n",
       "0             1            married                 0     40620.102   \n",
       "1             1            married                 0     17932.802   \n",
       "2             0            married                 0     23341.752   \n",
       "3             3            married                 0     42820.568   \n",
       "4             0  civil partnership                 1     40922.170   \n",
       "...         ...                ...               ...           ...   \n",
       "18020         1           divorced                 3     18551.846   \n",
       "18021         1  civil partnership                 1     35966.698   \n",
       "18022         1  civil partnership                 1     14347.610   \n",
       "18023         3            married                 0     39054.888   \n",
       "18024         2            married                 0     13127.587   \n",
       "\n",
       "                          purpose  debt  \n",
       "0           purchase of the house     0  \n",
       "1                    car purchase     0  \n",
       "2           purchase of the house     0  \n",
       "3         supplementary education     0  \n",
       "4           purchase of the house     0  \n",
       "...                           ...   ...  \n",
       "18020  buy commercial real estate     0  \n",
       "18021        housing transactions     0  \n",
       "18022                    property     1  \n",
       "18023           buying my own car     1  \n",
       "18024                to buy a car     0  \n",
       "\n",
       "[18025 rows x 6 columns]"
      ]
     },
     "execution_count": 66,
     "metadata": {},
     "output_type": "execute_result"
    }
   ],
   "source": [
    "# Muestra los valores de los datos seleccionados para la clasificación\n",
    "\n",
    "df_nuevo= df[['children', 'family_status', 'family_status_id','total_income','purpose', 'debt']]\n",
    "df_nuevo.head()"
   ]
  },
  {
   "cell_type": "code",
   "execution_count": null,
   "metadata": {
    "id": "WS_bbjO4fWOx",
    "outputId": "def59fc2-201d-4aee-e436-980ba9546e38"
   },
   "outputs": [
    {
     "name": "stdout",
     "output_type": "stream",
     "text": [
      "Valores únicos en columna hijos:\n",
      " 0    10952\n",
      "1     4596\n",
      "2     2104\n",
      "3      324\n",
      "4       40\n",
      "5        9\n",
      "Name: children, dtype: int64 \n",
      "\n",
      "Valores únicos en columna estatus familiar:\n",
      " married              10470\n",
      "civil partnership     3586\n",
      "unmarried             2497\n",
      "divorced               997\n",
      "widow / widower        475\n",
      "Name: family_status, dtype: int64 \n",
      "\n",
      "Valores únicos en la colmuna total_income:\n",
      " count     18025.000000\n",
      "mean      27423.984513\n",
      "std       15993.793619\n",
      "min        3418.824000\n",
      "25%       18138.732000\n",
      "50%       24721.689000\n",
      "75%       32010.431000\n",
      "max      362496.645000\n",
      "Name: total_income, dtype: float64 \n",
      "\n",
      "Valores únicos en la columna purpose:\n",
      " wedding ceremony                            672\n",
      "having a wedding                            647\n",
      "to have a wedding                           642\n",
      "real estate transactions                    562\n",
      "buy commercial real estate                  557\n",
      "housing transactions                        556\n",
      "buying property for renting out             550\n",
      "transactions with commercial real estate    543\n",
      "housing                                     543\n",
      "property                                    541\n",
      "purchase of my own house                    538\n",
      "purchase of the house                       534\n",
      "construction of own property                533\n",
      "purchase of the house for my family         531\n",
      "transactions with my real estate            530\n",
      "building a property                         523\n",
      "buy residential real estate                 521\n",
      "buy real estate                             520\n",
      "housing renovation                          516\n",
      "building a real estate                      513\n",
      "buying my own car                           435\n",
      "going to university                         420\n",
      "second-hand car purchase                    407\n",
      "to own a car                                405\n",
      "car                                         403\n",
      "cars                                        397\n",
      "buying a second-hand car                    394\n",
      "to buy a car                                387\n",
      "car purchase                                384\n",
      "purchase of a car                           381\n",
      "university education                        381\n",
      "supplementary education                     378\n",
      "education                                   373\n",
      "to get a supplementary education            367\n",
      "getting an education                        367\n",
      "profile education                           366\n",
      "getting higher education                    359\n",
      "to become educated                          349\n",
      "Name: purpose, dtype: int64 \n",
      "\n",
      "Valores únicos en la columna debt:\n",
      " 0    16466\n",
      "1     1559\n",
      "Name: debt, dtype: int64 \n",
      "\n"
     ]
    }
   ],
   "source": [
    "# Comprobar los valores únicos\n",
    "\n",
    "print('Valores únicos en columna hijos:\\n',df_nuevo['children'].value_counts(),'\\n')\n",
    "print('Valores únicos en columna estatus familiar:\\n',df_nuevo['family_status'].value_counts(),'\\n')\n",
    "print('Valores únicos en la colmuna total_income:\\n',df_nuevo['total_income'].describe(),'\\n')\n",
    "print('Valores únicos en la columna purpose:\\n', df_nuevo['purpose'].value_counts(),'\\n')\n",
    "print('Valores únicos en la columna debt:\\n',df_nuevo['debt'].value_counts(),'\\n')"
   ]
  },
  {
   "cell_type": "markdown",
   "metadata": {
    "id": "vIbKZvJRfWOy"
   },
   "source": [
    "Voy a reestructurar la columna de 'purpose' creando una nueva que agrupe los datos según su propósito.\n"
   ]
  },
  {
   "cell_type": "code",
   "execution_count": null,
   "metadata": {
    "id": "GZXUMZXFfWOy"
   },
   "outputs": [],
   "source": [
    "# Escribamos una función para clasificar los datos en función de temas comunes\n",
    "\n",
    "def proposito (p):\n",
    "    if 'car' in p:\n",
    "        return 'compra auto'\n",
    "    if 'wedding' in p:\n",
    "        return 'matrimonio'\n",
    "    if 'house' in p or 'housing' in p or 'property' in p or 'construction' in p:\n",
    "        return 'vivienda'\n",
    "    if 'education' in p or 'educated' in p or 'university' in p:\n",
    "        return 'educacion'\n",
    "    else:\n",
    "        return 'real state'"
   ]
  },
  {
   "cell_type": "code",
   "execution_count": null,
   "metadata": {
    "id": "y3SdxVHefWOy",
    "outputId": "9fe17138-3f44-46de-e7a8-a76b439349be"
   },
   "outputs": [
    {
     "name": "stderr",
     "output_type": "stream",
     "text": [
      "/tmp/ipykernel_104/1846939113.py:3: SettingWithCopyWarning: \n",
      "A value is trying to be set on a copy of a slice from a DataFrame.\n",
      "Try using .loc[row_indexer,col_indexer] = value instead\n",
      "\n",
      "See the caveats in the documentation: https://pandas.pydata.org/pandas-docs/stable/user_guide/indexing.html#returning-a-view-versus-a-copy\n",
      "  df_nuevo['proposito']= df_nuevo['purpose'].apply(proposito)\n"
     ]
    }
   ],
   "source": [
    "# Crea una columna con las categorías y cuenta los valores en ellas\n",
    "\n",
    "df_nuevo['proposito']= df_nuevo['purpose'].apply(proposito)"
   ]
  },
  {
   "cell_type": "code",
   "execution_count": null,
   "metadata": {
    "id": "OIQgjhxufWOy",
    "outputId": "f714107f-ba4c-4e18-c2c5-e2a4112756a1"
   },
   "outputs": [
    {
     "data": {
      "text/plain": [
       "vivienda       5365\n",
       "real state     3746\n",
       "compra auto    3593\n",
       "educacion      3360\n",
       "matrimonio     1961\n",
       "Name: proposito, dtype: int64"
      ]
     },
     "execution_count": 70,
     "metadata": {},
     "output_type": "execute_result"
    }
   ],
   "source": [
    "# Revisar todos los datos numéricos en la columna seleccionada para la clasificación\n",
    "\n",
    "df_nuevo['proposito'].value_counts()"
   ]
  },
  {
   "cell_type": "code",
   "execution_count": null,
   "metadata": {
    "id": "UbSnsigWfWOy",
    "outputId": "7e94152c-779f-41ae-b96f-dcdaf091fd98"
   },
   "outputs": [
    {
     "data": {
      "text/plain": [
       "count        18025\n",
       "unique           5\n",
       "top       vivienda\n",
       "freq          5365\n",
       "Name: proposito, dtype: object"
      ]
     },
     "execution_count": 71,
     "metadata": {},
     "output_type": "execute_result"
    }
   ],
   "source": [
    "# Obtener estadísticas resumidas para la columna\n",
    "\n",
    "df_nuevo['proposito'].describe()"
   ]
  },
  {
   "cell_type": "markdown",
   "metadata": {
    "id": "opJmuxvnfWOy"
   },
   "source": [
    "**Conclusiones**\n",
    "\n",
    "A lo largo de estas secciones, realice la transformación de datos problemáticos (quedó todo el texto en minúscula, eliminé datos duplicados y sin sentido, transformé datos negativos en positivos), rellené los valores ausentes ( en el caso de la columna 'days_employed' rellene los valores ausentes con la mediana calculada sobre los días trabajados para cada una de las profesiones que aparecen en la tabla y para la columna ' total_income' rellené los valores ausentes con la mediana calculada sobre los ingresos totales para cada uno de los rangos de edad que establecí) y clasifiqué los datos (en esta parte arme una nueva tabla únicamente con las columnas necesarias para hacer el análisis de las hipótesis y la columna de 'purpose' decidí agruparla mediante una función de acuerdo a los temas comúnes ).  "
   ]
  },
  {
   "cell_type": "markdown",
   "metadata": {
    "id": "5iNRW_J2fWOz"
   },
   "source": [
    "## Comprobación de las hipótesis\n"
   ]
  },
  {
   "cell_type": "markdown",
   "metadata": {
    "id": "YvuCAUGffWOz"
   },
   "source": [
    "**¿Existe una correlación entre tener hijos y pagar a tiempo?**"
   ]
  },
  {
   "cell_type": "code",
   "execution_count": null,
   "metadata": {
    "id": "SIRhBqYyfWOz",
    "outputId": "b0ddaea2-aeda-4e79-b646-f1bc15da44af",
    "scrolled": true
   },
   "outputs": [
    {
     "data": {
      "text/plain": [
       "children  debt\n",
       "0         0       10056\n",
       "          1         896\n",
       "1         0        4163\n",
       "          1         433\n",
       "2         0        1904\n",
       "          1         200\n",
       "3         0         298\n",
       "          1          26\n",
       "4         0          36\n",
       "          1           4\n",
       "5         0           9\n",
       "Name: debt, dtype: int64"
      ]
     },
     "execution_count": 75,
     "metadata": {},
     "output_type": "execute_result"
    }
   ],
   "source": [
    "# Comprueba los datos sobre los hijos y los pagos puntuales\n",
    "\n",
    "df_hijos_pagos= df_nuevo.groupby('children')['debt'].value_counts()\n",
    "df_hijos_pagos\n"
   ]
  },
  {
   "cell_type": "code",
   "execution_count": null,
   "metadata": {
    "id": "eKQkqTwMfWOz",
    "outputId": "a0ba0cbf-99a0-47f0-fe5b-734196b207ca",
    "scrolled": true
   },
   "outputs": [
    {
     "name": "stdout",
     "output_type": "stream",
     "text": [
      "El porcentaje de deudores en personas sin hijos es: 8.2\n",
      "El porcentaje de deudores en personas con 1 hijo es: 9.4\n",
      "El porcentaje de deudores en personas con 2 hijos es: 9.5\n",
      "El porcentaje de deudores en personas con 3 hijos es: 8.0\n",
      "El porcentaje de deudores en personas con 4 hijos es: 10.0\n",
      "El porcentaje de deudores en personas con 5 hijos es: 0\n"
     ]
    }
   ],
   "source": [
    "print('El porcentaje de deudores en personas sin hijos es:' ,round(896/(10056+896)*100,1))\n",
    "print('El porcentaje de deudores en personas con 1 hijo es:',round(433/(4163+433)*100,1))\n",
    "print('El porcentaje de deudores en personas con 2 hijos es:',round(200/(1904+200)*100,1))\n",
    "print('El porcentaje de deudores en personas con 3 hijos es:',round(26/(298+26)*100,1))\n",
    "print('El porcentaje de deudores en personas con 4 hijos es:',round(4/(36+4)*100,1))\n",
    "print('El porcentaje de deudores en personas con 5 hijos es:',0)\n"
   ]
  },
  {
   "cell_type": "markdown",
   "metadata": {
    "id": "ZWkAzY4hfWOz"
   },
   "source": [
    "**Conclusión**\n",
    "\n",
    "No existe correlación entre la cantidad de hijos que tiene una famlia con el cumplimiento del pago de un credito. La mayoría tiene un porcentaje muy similar con respecto a los incumplimientos. No influye significativamente la cantidad de hijos que tenga.La única categoría que no tiene deudas, curiosamente es la que más hijos tiene pero al ser pocos datos no creo que sea representativa. El total de las familias que no pagan es aprox 8% del total.\n"
   ]
  },
  {
   "cell_type": "markdown",
   "metadata": {
    "id": "PnoESM6NfWOz"
   },
   "source": [
    "**¿Existe una correlación entre la situación familiar y el pago a tiempo?**"
   ]
  },
  {
   "cell_type": "code",
   "execution_count": null,
   "metadata": {
    "id": "lUrKQtI6fWOz",
    "outputId": "e39a6d10-36e2-4d9e-84ec-f569931e7aee"
   },
   "outputs": [
    {
     "data": {
      "text/plain": [
       "family_status      debt\n",
       "civil partnership  0       3227\n",
       "                   1        359\n",
       "divorced           0        923\n",
       "                   1         74\n",
       "married            0       9637\n",
       "                   1        833\n",
       "unmarried          0       2235\n",
       "                   1        262\n",
       "widow / widower    0        444\n",
       "                   1         31\n",
       "Name: debt, dtype: int64"
      ]
     },
     "execution_count": 77,
     "metadata": {},
     "output_type": "execute_result"
    }
   ],
   "source": [
    "# Comprueba los datos del estado familiar y los pagos a tiempo\n",
    "\n",
    "df_status_debt= df_nuevo.groupby('family_status')['debt'].value_counts()\n",
    "df_status_debt\n",
    "\n",
    "\n",
    "\n"
   ]
  },
  {
   "cell_type": "code",
   "execution_count": null,
   "metadata": {
    "id": "4ydcNh4gfWOz",
    "outputId": "133240d2-0044-4652-dd3a-d32ba65b067a"
   },
   "outputs": [
    {
     "name": "stdout",
     "output_type": "stream",
     "text": [
      "El porcentaje de deuda en personas convivientes es: 10.0\n",
      "El porcentaje de deuda en personas divorciadas es: 7.4\n",
      "El porcentaje de deuda en personas casadas es: 7.9\n",
      "El porcentaje de deuda en personas solteras es: 10.5\n",
      "El porcentaje de deuda en personas viudas es: 6.5\n"
     ]
    }
   ],
   "source": [
    "# Calcular la tasa de incumplimiento basada en el estado familiar\n",
    "\n",
    "print('El porcentaje de deuda en personas convivientes es:',round(359/(3227+359)*100,1))\n",
    "print('El porcentaje de deuda en personas divorciadas es:',round(74/(923+74)*100,1))\n",
    "print('El porcentaje de deuda en personas casadas es:',round(833/(9673+833)*100,1))\n",
    "print('El porcentaje de deuda en personas solteras es:',round(262/(2235+262)*100,1))\n",
    "print('El porcentaje de deuda en personas viudas es:',round(31/(444+31)*100,1))\n"
   ]
  },
  {
   "cell_type": "markdown",
   "metadata": {
    "id": "KocbUFbGfWOz"
   },
   "source": [
    "**Conclusión**\n",
    "\n",
    "Como se puede observar, el porcentaje de deudas es muy similar en todas las categorías. La que menos porcentaje de deudas tiene son los viudos pero estan muy parejos todos.Esto me indica que no hay correlación entre el status familiar y el pago de deuda."
   ]
  },
  {
   "cell_type": "markdown",
   "metadata": {
    "id": "v0n59bvpfWOz"
   },
   "source": [
    "**¿Existe una correlación entre el nivel de ingresos y el pago a tiempo?**"
   ]
  },
  {
   "cell_type": "code",
   "execution_count": null,
   "metadata": {
    "id": "sfhc1GzQfWOz",
    "outputId": "8b2bd587-a7e5-494e-d7db-09f081f58e6e"
   },
   "outputs": [
    {
     "data": {
      "text/html": [
       "<div>\n",
       "<style scoped>\n",
       "    .dataframe tbody tr th:only-of-type {\n",
       "        vertical-align: middle;\n",
       "    }\n",
       "\n",
       "    .dataframe tbody tr th {\n",
       "        vertical-align: top;\n",
       "    }\n",
       "\n",
       "    .dataframe thead th {\n",
       "        text-align: right;\n",
       "    }\n",
       "</style>\n",
       "<table border=\"1\" class=\"dataframe\">\n",
       "  <thead>\n",
       "    <tr style=\"text-align: right;\">\n",
       "      <th></th>\n",
       "      <th>count</th>\n",
       "      <th>mean</th>\n",
       "      <th>std</th>\n",
       "      <th>min</th>\n",
       "      <th>25%</th>\n",
       "      <th>50%</th>\n",
       "      <th>75%</th>\n",
       "      <th>max</th>\n",
       "    </tr>\n",
       "    <tr>\n",
       "      <th>debt</th>\n",
       "      <th></th>\n",
       "      <th></th>\n",
       "      <th></th>\n",
       "      <th></th>\n",
       "      <th></th>\n",
       "      <th></th>\n",
       "      <th></th>\n",
       "      <th></th>\n",
       "    </tr>\n",
       "  </thead>\n",
       "  <tbody>\n",
       "    <tr>\n",
       "      <th>0</th>\n",
       "      <td>16466.0</td>\n",
       "      <td>27526.950488</td>\n",
       "      <td>15997.210274</td>\n",
       "      <td>3418.824</td>\n",
       "      <td>18187.69525</td>\n",
       "      <td>24721.689</td>\n",
       "      <td>32226.20775</td>\n",
       "      <td>362496.645</td>\n",
       "    </tr>\n",
       "    <tr>\n",
       "      <th>1</th>\n",
       "      <td>1559.0</td>\n",
       "      <td>26336.468327</td>\n",
       "      <td>15922.154718</td>\n",
       "      <td>5430.683</td>\n",
       "      <td>17688.24150</td>\n",
       "      <td>23807.982</td>\n",
       "      <td>30283.48300</td>\n",
       "      <td>352136.354</td>\n",
       "    </tr>\n",
       "  </tbody>\n",
       "</table>\n",
       "</div>"
      ],
      "text/plain": [
       "        count          mean           std       min          25%        50%  \\\n",
       "debt                                                                          \n",
       "0     16466.0  27526.950488  15997.210274  3418.824  18187.69525  24721.689   \n",
       "1      1559.0  26336.468327  15922.154718  5430.683  17688.24150  23807.982   \n",
       "\n",
       "              75%         max  \n",
       "debt                           \n",
       "0     32226.20775  362496.645  \n",
       "1     30283.48300  352136.354  "
      ]
     },
     "execution_count": 79,
     "metadata": {},
     "output_type": "execute_result"
    }
   ],
   "source": [
    "# Comprueba los datos del nivel de ingresos y los pagos a tiempo\n",
    "\n",
    "df_nuevo.groupby('debt')['total_income'].describe()\n",
    "\n",
    "# Calcular la tasa de incumplimiento basada en el nivel de ingresos\n",
    "#df_nuevo[df_nuevo['debt']== 0]['total_income'].() #453258766.73\n",
    "#df_nuevo[df_nuevo['debt']== 1]['total_income'].sum() #41058554.122\n"
   ]
  },
  {
   "cell_type": "markdown",
   "metadata": {
    "id": "RDv0S_ycfWO0"
   },
   "source": [
    "**Conclusión**\n",
    "\n",
    "No creo que haya correlación entre el nivel de ingresos y el pago a tiempo. El porcentaje de las personas que no paga es del 8%. Es un valor muy parecido a los % de deuda vistos en las otras variables. "
   ]
  },
  {
   "cell_type": "markdown",
   "metadata": {
    "id": "bGGJ8y6VfWO0"
   },
   "source": [
    "**¿Cómo afecta el propósito del crédito a la tasa de incumplimiento?**"
   ]
  },
  {
   "cell_type": "code",
   "execution_count": null,
   "metadata": {
    "id": "9hzBZcRPfWO0",
    "outputId": "0e124889-8e3d-411c-fbb6-cc8305d31fd8"
   },
   "outputs": [
    {
     "data": {
      "text/plain": [
       "proposito    debt\n",
       "compra auto  0       3233\n",
       "             1        360\n",
       "educacion    0       3032\n",
       "             1        328\n",
       "matrimonio   0       1794\n",
       "             1        167\n",
       "real state   0       3437\n",
       "             1        309\n",
       "vivienda     0       4970\n",
       "             1        395\n",
       "Name: debt, dtype: int64"
      ]
     },
     "execution_count": 80,
     "metadata": {},
     "output_type": "execute_result"
    }
   ],
   "source": [
    "# Consulta los porcentajes de tasa de incumplimiento para cada propósito del crédito y analízalos\n",
    "\n",
    "df_proposito_debt= df_nuevo.groupby('proposito')['debt'].value_counts()\n",
    "df_proposito_debt\n"
   ]
  },
  {
   "cell_type": "code",
   "execution_count": null,
   "metadata": {
    "id": "EuTMZX8wfWO0",
    "outputId": "503feba8-bc71-47fe-bc92-125fcd9afbf4",
    "scrolled": true
   },
   "outputs": [
    {
     "name": "stdout",
     "output_type": "stream",
     "text": [
      "los porcentajes de deuda segun los difrentes propósitos son los siguientes:\n",
      "El porcentaje de deuda para comprar un auto es: 10.0\n",
      "El porcentaje de deuda para educación es: 9.8\n",
      "El porcentaje de deuda para matrimonio es: 8.5\n",
      "El porcentaje de deuda para real state es: 8.2\n",
      "El porcentaje de deuda para vivienda es: 7.4\n"
     ]
    }
   ],
   "source": [
    "print('Los porcentajes de deuda segun los difrentes propósitos son los siguientes:')\n",
    "print('El porcentaje de deuda para comprar un auto es:',round(360/(3233+360)*100,1))\n",
    "print('El porcentaje de deuda para educación es:',round(328/(3032+328)*100,1))\n",
    "print('El porcentaje de deuda para matrimonio es:',round(167/(1794+167)*100,1))\n",
    "print('El porcentaje de deuda para real state es:',round(309/(3437+309)*100,1))\n",
    "print('El porcentaje de deuda para vivienda es:', round(395/(4970+395)*100,1))\n"
   ]
  },
  {
   "cell_type": "markdown",
   "metadata": {
    "id": "y8BEU69TfWO0"
   },
   "source": [
    "**Conclusión**\n",
    "\n",
    "Nuevamente podemos observar que los porcentajes son muy parecidos, con lo cual no creo que haya correlacion entre el propósito con el que se pide el crédito y el cumplimiento de pago del mismo.\n"
   ]
  },
  {
   "cell_type": "markdown",
   "metadata": {
    "id": "_YNU9V7GfWO0"
   },
   "source": [
    "# Conclusión general \n",
    "\n",
    "Para concluir, las distintas opciones que se presentan no significan un elevado riesgo. No superan el 10%. Tampoco influye una característica u otra. No afecta drásticamente la cantidad de hijos que tenga, el estatus familiar, el propósito o los ingresos que tenga.  \n"
   ]
  }
 ],
 "metadata": {
  "ExecuteTimeLog": [
   {
    "duration": 2741,
    "start_time": "2021-10-21T01:08:49.480Z"
   },
   {
    "duration": 52,
    "start_time": "2021-10-21T01:08:53.315Z"
   },
   {
    "duration": 49,
    "start_time": "2021-10-21T01:08:57.432Z"
   },
   {
    "duration": 70,
    "start_time": "2021-10-21T01:09:07.706Z"
   }
  ],
  "colab": {
   "provenance": []
  },
  "kernelspec": {
   "display_name": "Python 3 (ipykernel)",
   "language": "python",
   "name": "python3"
  },
  "language_info": {
   "codemirror_mode": {
    "name": "ipython",
    "version": 3
   },
   "file_extension": ".py",
   "mimetype": "text/x-python",
   "name": "python",
   "nbconvert_exporter": "python",
   "pygments_lexer": "ipython3",
   "version": "3.9.13"
  },
  "toc": {
   "base_numbering": 1,
   "nav_menu": {},
   "number_sections": true,
   "sideBar": true,
   "skip_h1_title": true,
   "title_cell": "Table of Contents",
   "title_sidebar": "Contents",
   "toc_cell": false,
   "toc_position": {},
   "toc_section_display": true,
   "toc_window_display": false
  }
 },
 "nbformat": 4,
 "nbformat_minor": 1
}
