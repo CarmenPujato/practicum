{
 "cells": [
  {
   "cell_type": "markdown",
   "metadata": {
    "id": "omtAoFYaDBtt",
    "toc": true
   },
   "source": [
    "<h1>Table of Contents<span class=\"tocSkip\"></span></h1>\n",
    "<div class=\"toc\"><ul class=\"toc-item\"><li><span><a href=\"#Descripción-del-proyecto\" data-toc-modified-id=\"Descripción-del-proyecto-1\"><span class=\"toc-item-num\">1&nbsp;&nbsp;</span>Descripción del proyecto</a></span><ul class=\"toc-item\"><li><span><a href=\"#Descripción-de-datos-utilizados-en-la-primera-parte-del-proyecto:\" data-toc-modified-id=\"Descripción-de-datos-utilizados-en-la-primera-parte-del-proyecto:-1.1\"><span class=\"toc-item-num\">1.1&nbsp;&nbsp;</span>Descripción de datos utilizados en la primera parte del proyecto:</a></span></li><li><span><a href=\"#Descripción-de-datos-utilizados-en-la-segunda-parte-del-proyecto:\" data-toc-modified-id=\"Descripción-de-datos-utilizados-en-la-segunda-parte-del-proyecto:-1.2\"><span class=\"toc-item-num\">1.2&nbsp;&nbsp;</span>Descripción de datos utilizados en la segunda parte del proyecto:</a></span></li></ul></li><li><span><a href=\"#Parte-1.-Priorizar-hipótesis\" data-toc-modified-id=\"Parte-1.-Priorizar-hipótesis-2\"><span class=\"toc-item-num\">2&nbsp;&nbsp;</span>Parte 1. Priorizar hipótesis</a></span><ul class=\"toc-item\"><li><span><a href=\"#Importación-de-librerías-y-descarga-de-archivos\" data-toc-modified-id=\"Importación-de-librerías-y-descarga-de-archivos-2.1\"><span class=\"toc-item-num\">2.1&nbsp;&nbsp;</span>Importación de librerías y descarga de archivos</a></span></li><li><span><a href=\"#Análisis-de-datos\" data-toc-modified-id=\"Análisis-de-datos-2.2\"><span class=\"toc-item-num\">2.2&nbsp;&nbsp;</span>Análisis de datos</a></span></li></ul></li><li><span><a href=\"#Parte-2.-Análisis-de-test-A/B\" data-toc-modified-id=\"Parte-2.-Análisis-de-test-A/B-3\"><span class=\"toc-item-num\">3&nbsp;&nbsp;</span>Parte 2. Análisis de test A/B</a></span><ul class=\"toc-item\"><li><span><a href=\"#Importación-de-librerías-y-descarga-de--archivos\" data-toc-modified-id=\"Importación-de-librerías-y-descarga-de--archivos-3.1\"><span class=\"toc-item-num\">3.1&nbsp;&nbsp;</span>Importación de librerías y descarga de  archivos</a></span></li><li><span><a href=\"#Exploración-de-archivos\" data-toc-modified-id=\"Exploración-de-archivos-3.2\"><span class=\"toc-item-num\">3.2&nbsp;&nbsp;</span>Exploración de archivos</a></span></li><li><span><a href=\"#Tratamiento-de-datos\" data-toc-modified-id=\"Tratamiento-de-datos-3.3\"><span class=\"toc-item-num\">3.3&nbsp;&nbsp;</span>Tratamiento de datos</a></span></li><li><span><a href=\"#Análisis-de-datos\" data-toc-modified-id=\"Análisis-de-datos-3.4\"><span class=\"toc-item-num\">3.4&nbsp;&nbsp;</span>Análisis de datos</a></span></li></ul></li><li><span><a href=\"#Conclusiones\" data-toc-modified-id=\"Conclusiones-4\"><span class=\"toc-item-num\">4&nbsp;&nbsp;</span>Conclusiones</a></span></li></ul></div>"
   ]
  },
  {
   "cell_type": "markdown",
   "metadata": {
    "id": "Rq5xSg4EDBtu"
   },
   "source": [
    "# Proyecto toma de decisiones de negocio\n",
    "\n",
    "## Descripción del proyecto\n",
    "\n",
    "Analizaré junto con el departamento de marketing de una tienda en línea una lista de hipótesis que hemos recopilado con el objetivo de ayudar a aumentar los ingresos en la tienda.\n",
    "\n",
    "El trabajo será realizado en dos partes, la primera donde haré un análisis de las hipótesis recopiladas y priorizaré una de ellas y en la segunda parte, realizaré un análisis de test A/B\n",
    "\n",
    "\n",
    "### Descripción de datos utilizados en la primera parte del proyecto:\n",
    "\n",
    "Usaré una tabla con los siguientes datos:\n",
    "\n",
    "- Hypotheses: breves descripciones de las hipótesis\n",
    "- Reach: alcance del usuario, en una escala del uno a diez\n",
    "- Impact: impacto en los usuarios, en una escala del uno al diez\n",
    "- Confidence: confianza en la hipótesis, en una escala del uno al diez\n",
    "- Effort: los recursos necesarios para probar una hipótesis, en una escala del uno al diez. Cuanto mayor sea el valor Effort, más recursos requiere la prueba.\n",
    "\n",
    "### Descripción de datos utilizados en la segunda parte del proyecto:\n",
    "\n",
    "Usaré dos tablas:\n",
    "\n",
    "Tabla Orders:\n",
    "\n",
    "- transactionId: identificador de pedido\n",
    "- visitorId: identificador del usuario que realizó el pedido\n",
    "- date: fecha del pedido\n",
    "- revenue: ingresos del pedido\n",
    "- group: el grupo del test A/B al que pertenece el usuario\n",
    "\n",
    "Tabla Visits:\n",
    "\n",
    "- date: la fecha\n",
    "- group: grupo del test A/B\n",
    "- visits: el número de visitas en la fecha especificada para el grupo de test A/B especificado\n",
    "\n",
    "## Parte 1. Priorizar hipótesis\n",
    "\n",
    "### Importación de librerías y descarga de archivos "
   ]
  },
  {
   "cell_type": "code",
   "execution_count": null,
   "metadata": {
    "id": "enNv_WzJDBtu",
    "outputId": "9f362bfe-b7f0-4e8c-ca90-c95eaddfcdad"
   },
   "outputs": [
    {
     "data": {
      "text/html": [
       "<div>\n",
       "<style scoped>\n",
       "    .dataframe tbody tr th:only-of-type {\n",
       "        vertical-align: middle;\n",
       "    }\n",
       "\n",
       "    .dataframe tbody tr th {\n",
       "        vertical-align: top;\n",
       "    }\n",
       "\n",
       "    .dataframe thead th {\n",
       "        text-align: right;\n",
       "    }\n",
       "</style>\n",
       "<table border=\"1\" class=\"dataframe\">\n",
       "  <thead>\n",
       "    <tr style=\"text-align: right;\">\n",
       "      <th></th>\n",
       "      <th>Hypothesis</th>\n",
       "      <th>Reach</th>\n",
       "      <th>Impact</th>\n",
       "      <th>Confidence</th>\n",
       "      <th>Effort</th>\n",
       "    </tr>\n",
       "  </thead>\n",
       "  <tbody>\n",
       "    <tr>\n",
       "      <th>0</th>\n",
       "      <td>Add two new channels for attracting traffic. T...</td>\n",
       "      <td>3</td>\n",
       "      <td>10</td>\n",
       "      <td>8</td>\n",
       "      <td>6</td>\n",
       "    </tr>\n",
       "    <tr>\n",
       "      <th>1</th>\n",
       "      <td>Launch your own delivery service. This will sh...</td>\n",
       "      <td>2</td>\n",
       "      <td>5</td>\n",
       "      <td>4</td>\n",
       "      <td>10</td>\n",
       "    </tr>\n",
       "    <tr>\n",
       "      <th>2</th>\n",
       "      <td>Add product recommendation blocks to the store...</td>\n",
       "      <td>8</td>\n",
       "      <td>3</td>\n",
       "      <td>7</td>\n",
       "      <td>3</td>\n",
       "    </tr>\n",
       "    <tr>\n",
       "      <th>3</th>\n",
       "      <td>Change the category structure. This will incre...</td>\n",
       "      <td>8</td>\n",
       "      <td>3</td>\n",
       "      <td>3</td>\n",
       "      <td>8</td>\n",
       "    </tr>\n",
       "    <tr>\n",
       "      <th>4</th>\n",
       "      <td>Change the background color on the main page. ...</td>\n",
       "      <td>3</td>\n",
       "      <td>1</td>\n",
       "      <td>1</td>\n",
       "      <td>1</td>\n",
       "    </tr>\n",
       "    <tr>\n",
       "      <th>5</th>\n",
       "      <td>Add a customer review page. This will increase...</td>\n",
       "      <td>3</td>\n",
       "      <td>2</td>\n",
       "      <td>2</td>\n",
       "      <td>3</td>\n",
       "    </tr>\n",
       "    <tr>\n",
       "      <th>6</th>\n",
       "      <td>Show banners with current offers and sales on ...</td>\n",
       "      <td>5</td>\n",
       "      <td>3</td>\n",
       "      <td>8</td>\n",
       "      <td>3</td>\n",
       "    </tr>\n",
       "    <tr>\n",
       "      <th>7</th>\n",
       "      <td>Add a subscription form to all the main pages....</td>\n",
       "      <td>10</td>\n",
       "      <td>7</td>\n",
       "      <td>8</td>\n",
       "      <td>5</td>\n",
       "    </tr>\n",
       "    <tr>\n",
       "      <th>8</th>\n",
       "      <td>Launch a promotion that gives users discounts ...</td>\n",
       "      <td>1</td>\n",
       "      <td>9</td>\n",
       "      <td>9</td>\n",
       "      <td>5</td>\n",
       "    </tr>\n",
       "  </tbody>\n",
       "</table>\n",
       "</div>"
      ],
      "text/plain": [
       "                                          Hypothesis  Reach  Impact  \\\n",
       "0  Add two new channels for attracting traffic. T...      3      10   \n",
       "1  Launch your own delivery service. This will sh...      2       5   \n",
       "2  Add product recommendation blocks to the store...      8       3   \n",
       "3  Change the category structure. This will incre...      8       3   \n",
       "4  Change the background color on the main page. ...      3       1   \n",
       "5  Add a customer review page. This will increase...      3       2   \n",
       "6  Show banners with current offers and sales on ...      5       3   \n",
       "7  Add a subscription form to all the main pages....     10       7   \n",
       "8  Launch a promotion that gives users discounts ...      1       9   \n",
       "\n",
       "   Confidence  Effort  \n",
       "0           8       6  \n",
       "1           4      10  \n",
       "2           7       3  \n",
       "3           3       8  \n",
       "4           1       1  \n",
       "5           2       3  \n",
       "6           8       3  \n",
       "7           8       5  \n",
       "8           9       5  "
      ]
     },
     "execution_count": 1,
     "metadata": {},
     "output_type": "execute_result"
    }
   ],
   "source": [
    "# Importación de librerías\n",
    "\n",
    "import pandas as pd\n",
    "\n",
    "# Descarga de archivo\n",
    "\n",
    "data= pd.read_csv('/datasets/hypotheses_us.csv', sep=';')\n",
    "data"
   ]
  },
  {
   "cell_type": "markdown",
   "metadata": {
    "id": "Ec-ap7ltDBtv"
   },
   "source": [
    "### Análisis de datos\n",
    "\n",
    "Voy a analizar las hipótesis recopiladas para ver cual es más prometedora."
   ]
  },
  {
   "cell_type": "code",
   "execution_count": null,
   "metadata": {
    "id": "t7-qir--DBtw"
   },
   "outputs": [],
   "source": [
    "# Cambio nombre de columnas a minuscula\n",
    "data= data.rename(columns=str.lower)"
   ]
  },
  {
   "cell_type": "code",
   "execution_count": null,
   "metadata": {
    "id": "urwnbHObDBtw",
    "outputId": "83c90b73-512f-407d-93b5-f4b6aa4a9fbe"
   },
   "outputs": [
    {
     "data": {
      "text/html": [
       "<div>\n",
       "<style scoped>\n",
       "    .dataframe tbody tr th:only-of-type {\n",
       "        vertical-align: middle;\n",
       "    }\n",
       "\n",
       "    .dataframe tbody tr th {\n",
       "        vertical-align: top;\n",
       "    }\n",
       "\n",
       "    .dataframe thead th {\n",
       "        text-align: right;\n",
       "    }\n",
       "</style>\n",
       "<table border=\"1\" class=\"dataframe\">\n",
       "  <thead>\n",
       "    <tr style=\"text-align: right;\">\n",
       "      <th></th>\n",
       "      <th>hypothesis</th>\n",
       "      <th>ice</th>\n",
       "    </tr>\n",
       "  </thead>\n",
       "  <tbody>\n",
       "    <tr>\n",
       "      <th>8</th>\n",
       "      <td>Launch a promotion that gives users discounts ...</td>\n",
       "      <td>16.200000</td>\n",
       "    </tr>\n",
       "    <tr>\n",
       "      <th>0</th>\n",
       "      <td>Add two new channels for attracting traffic. T...</td>\n",
       "      <td>13.333333</td>\n",
       "    </tr>\n",
       "    <tr>\n",
       "      <th>7</th>\n",
       "      <td>Add a subscription form to all the main pages....</td>\n",
       "      <td>11.200000</td>\n",
       "    </tr>\n",
       "    <tr>\n",
       "      <th>6</th>\n",
       "      <td>Show banners with current offers and sales on ...</td>\n",
       "      <td>8.000000</td>\n",
       "    </tr>\n",
       "    <tr>\n",
       "      <th>2</th>\n",
       "      <td>Add product recommendation blocks to the store...</td>\n",
       "      <td>7.000000</td>\n",
       "    </tr>\n",
       "    <tr>\n",
       "      <th>1</th>\n",
       "      <td>Launch your own delivery service. This will sh...</td>\n",
       "      <td>2.000000</td>\n",
       "    </tr>\n",
       "    <tr>\n",
       "      <th>5</th>\n",
       "      <td>Add a customer review page. This will increase...</td>\n",
       "      <td>1.333333</td>\n",
       "    </tr>\n",
       "    <tr>\n",
       "      <th>3</th>\n",
       "      <td>Change the category structure. This will incre...</td>\n",
       "      <td>1.125000</td>\n",
       "    </tr>\n",
       "    <tr>\n",
       "      <th>4</th>\n",
       "      <td>Change the background color on the main page. ...</td>\n",
       "      <td>1.000000</td>\n",
       "    </tr>\n",
       "  </tbody>\n",
       "</table>\n",
       "</div>"
      ],
      "text/plain": [
       "                                          hypothesis        ice\n",
       "8  Launch a promotion that gives users discounts ...  16.200000\n",
       "0  Add two new channels for attracting traffic. T...  13.333333\n",
       "7  Add a subscription form to all the main pages....  11.200000\n",
       "6  Show banners with current offers and sales on ...   8.000000\n",
       "2  Add product recommendation blocks to the store...   7.000000\n",
       "1  Launch your own delivery service. This will sh...   2.000000\n",
       "5  Add a customer review page. This will increase...   1.333333\n",
       "3  Change the category structure. This will incre...   1.125000\n",
       "4  Change the background color on the main page. ...   1.000000"
      ]
     },
     "execution_count": 3,
     "metadata": {},
     "output_type": "execute_result"
    }
   ],
   "source": [
    "# Aplico el framework ICE para priorizar hipótesis\n",
    "\n",
    "data['ice']= (data['impact'] * data['confidence']) / data['effort']\n",
    "data[['hypothesis','ice']].sort_values(by='ice', ascending=False)"
   ]
  },
  {
   "cell_type": "markdown",
   "metadata": {
    "id": "zOWOSBXRDBtw"
   },
   "source": [
    "Podemos observar que las hipótesis más prometedoras según el método ICE son la hipótesis 8,0 y 7. Éstas tienen un alto impacto, alto grado de confianza y requiere un esfuerzo medio."
   ]
  },
  {
   "cell_type": "code",
   "execution_count": null,
   "metadata": {
    "id": "5_o7LIeADBtw",
    "outputId": "86d71c82-5341-476e-e3f3-84170be25ee6"
   },
   "outputs": [
    {
     "data": {
      "text/html": [
       "<div>\n",
       "<style scoped>\n",
       "    .dataframe tbody tr th:only-of-type {\n",
       "        vertical-align: middle;\n",
       "    }\n",
       "\n",
       "    .dataframe tbody tr th {\n",
       "        vertical-align: top;\n",
       "    }\n",
       "\n",
       "    .dataframe thead th {\n",
       "        text-align: right;\n",
       "    }\n",
       "</style>\n",
       "<table border=\"1\" class=\"dataframe\">\n",
       "  <thead>\n",
       "    <tr style=\"text-align: right;\">\n",
       "      <th></th>\n",
       "      <th>hypothesis</th>\n",
       "      <th>rice</th>\n",
       "    </tr>\n",
       "  </thead>\n",
       "  <tbody>\n",
       "    <tr>\n",
       "      <th>7</th>\n",
       "      <td>Add a subscription form to all the main pages....</td>\n",
       "      <td>112.0</td>\n",
       "    </tr>\n",
       "    <tr>\n",
       "      <th>2</th>\n",
       "      <td>Add product recommendation blocks to the store...</td>\n",
       "      <td>56.0</td>\n",
       "    </tr>\n",
       "    <tr>\n",
       "      <th>0</th>\n",
       "      <td>Add two new channels for attracting traffic. T...</td>\n",
       "      <td>40.0</td>\n",
       "    </tr>\n",
       "    <tr>\n",
       "      <th>6</th>\n",
       "      <td>Show banners with current offers and sales on ...</td>\n",
       "      <td>40.0</td>\n",
       "    </tr>\n",
       "    <tr>\n",
       "      <th>8</th>\n",
       "      <td>Launch a promotion that gives users discounts ...</td>\n",
       "      <td>16.2</td>\n",
       "    </tr>\n",
       "    <tr>\n",
       "      <th>3</th>\n",
       "      <td>Change the category structure. This will incre...</td>\n",
       "      <td>9.0</td>\n",
       "    </tr>\n",
       "    <tr>\n",
       "      <th>1</th>\n",
       "      <td>Launch your own delivery service. This will sh...</td>\n",
       "      <td>4.0</td>\n",
       "    </tr>\n",
       "    <tr>\n",
       "      <th>5</th>\n",
       "      <td>Add a customer review page. This will increase...</td>\n",
       "      <td>4.0</td>\n",
       "    </tr>\n",
       "    <tr>\n",
       "      <th>4</th>\n",
       "      <td>Change the background color on the main page. ...</td>\n",
       "      <td>3.0</td>\n",
       "    </tr>\n",
       "  </tbody>\n",
       "</table>\n",
       "</div>"
      ],
      "text/plain": [
       "                                          hypothesis   rice\n",
       "7  Add a subscription form to all the main pages....  112.0\n",
       "2  Add product recommendation blocks to the store...   56.0\n",
       "0  Add two new channels for attracting traffic. T...   40.0\n",
       "6  Show banners with current offers and sales on ...   40.0\n",
       "8  Launch a promotion that gives users discounts ...   16.2\n",
       "3  Change the category structure. This will incre...    9.0\n",
       "1  Launch your own delivery service. This will sh...    4.0\n",
       "5  Add a customer review page. This will increase...    4.0\n",
       "4  Change the background color on the main page. ...    3.0"
      ]
     },
     "execution_count": 4,
     "metadata": {},
     "output_type": "execute_result"
    }
   ],
   "source": [
    "# Aplico el framework RICE para priorizar hipótesis\n",
    "\n",
    "data['rice']= (data['reach'] * data['impact'] * data['confidence']) / data['effort']\n",
    "data[['hypothesis','rice']].sort_values(by='rice', ascending=False)"
   ]
  },
  {
   "cell_type": "markdown",
   "metadata": {
    "id": "x3h7dPUGDBtw"
   },
   "source": [
    "Podemos observar que las hipótesis más prometedoras según el método RICE son las hipótesis 7, 2 y 0. Las hipótesis 7 y 2 tienen alto grado de alcance mientras que la hipótesis 0 no tiene tanto."
   ]
  },
  {
   "cell_type": "code",
   "execution_count": null,
   "metadata": {
    "id": "rG7xrGpSDBtw",
    "outputId": "a78b935d-650a-48d4-d146-9f21cd64a872"
   },
   "outputs": [
    {
     "data": {
      "text/html": [
       "<div>\n",
       "<style scoped>\n",
       "    .dataframe tbody tr th:only-of-type {\n",
       "        vertical-align: middle;\n",
       "    }\n",
       "\n",
       "    .dataframe tbody tr th {\n",
       "        vertical-align: top;\n",
       "    }\n",
       "\n",
       "    .dataframe thead th {\n",
       "        text-align: right;\n",
       "    }\n",
       "</style>\n",
       "<table border=\"1\" class=\"dataframe\">\n",
       "  <thead>\n",
       "    <tr style=\"text-align: right;\">\n",
       "      <th></th>\n",
       "      <th>hypothesis</th>\n",
       "      <th>rice</th>\n",
       "      <th>ice</th>\n",
       "    </tr>\n",
       "  </thead>\n",
       "  <tbody>\n",
       "    <tr>\n",
       "      <th>7</th>\n",
       "      <td>Add a subscription form to all the main pages....</td>\n",
       "      <td>112.0</td>\n",
       "      <td>11.200000</td>\n",
       "    </tr>\n",
       "    <tr>\n",
       "      <th>2</th>\n",
       "      <td>Add product recommendation blocks to the store...</td>\n",
       "      <td>56.0</td>\n",
       "      <td>7.000000</td>\n",
       "    </tr>\n",
       "    <tr>\n",
       "      <th>0</th>\n",
       "      <td>Add two new channels for attracting traffic. T...</td>\n",
       "      <td>40.0</td>\n",
       "      <td>13.333333</td>\n",
       "    </tr>\n",
       "    <tr>\n",
       "      <th>6</th>\n",
       "      <td>Show banners with current offers and sales on ...</td>\n",
       "      <td>40.0</td>\n",
       "      <td>8.000000</td>\n",
       "    </tr>\n",
       "    <tr>\n",
       "      <th>8</th>\n",
       "      <td>Launch a promotion that gives users discounts ...</td>\n",
       "      <td>16.2</td>\n",
       "      <td>16.200000</td>\n",
       "    </tr>\n",
       "    <tr>\n",
       "      <th>3</th>\n",
       "      <td>Change the category structure. This will incre...</td>\n",
       "      <td>9.0</td>\n",
       "      <td>1.125000</td>\n",
       "    </tr>\n",
       "    <tr>\n",
       "      <th>1</th>\n",
       "      <td>Launch your own delivery service. This will sh...</td>\n",
       "      <td>4.0</td>\n",
       "      <td>2.000000</td>\n",
       "    </tr>\n",
       "    <tr>\n",
       "      <th>5</th>\n",
       "      <td>Add a customer review page. This will increase...</td>\n",
       "      <td>4.0</td>\n",
       "      <td>1.333333</td>\n",
       "    </tr>\n",
       "    <tr>\n",
       "      <th>4</th>\n",
       "      <td>Change the background color on the main page. ...</td>\n",
       "      <td>3.0</td>\n",
       "      <td>1.000000</td>\n",
       "    </tr>\n",
       "  </tbody>\n",
       "</table>\n",
       "</div>"
      ],
      "text/plain": [
       "                                          hypothesis   rice        ice\n",
       "7  Add a subscription form to all the main pages....  112.0  11.200000\n",
       "2  Add product recommendation blocks to the store...   56.0   7.000000\n",
       "0  Add two new channels for attracting traffic. T...   40.0  13.333333\n",
       "6  Show banners with current offers and sales on ...   40.0   8.000000\n",
       "8  Launch a promotion that gives users discounts ...   16.2  16.200000\n",
       "3  Change the category structure. This will incre...    9.0   1.125000\n",
       "1  Launch your own delivery service. This will sh...    4.0   2.000000\n",
       "5  Add a customer review page. This will increase...    4.0   1.333333\n",
       "4  Change the background color on the main page. ...    3.0   1.000000"
      ]
     },
     "execution_count": 5,
     "metadata": {},
     "output_type": "execute_result"
    }
   ],
   "source": [
    "# Muestro cambio en la priorización de hipótesis cuando utilizas RICE en lugar de ICE\n",
    "\n",
    "data[['hypothesis','rice','ice']].sort_values(by='rice', ascending=False)"
   ]
  },
  {
   "cell_type": "markdown",
   "metadata": {
    "id": "-9FmrmbIDBtw"
   },
   "source": [
    "Como podemos observar, las hipótesis 7 y 0 aparecen como prometedoras tanto en el análisis de ICE como en el de RICE. En este último la hipótesis 7 aparece como la más prometedora. En el análisis RICE también aparece como hipótesis prometedora la hipótesis 2. \n",
    "\n",
    "La hipótesis 7 tiene un alcance total (alcanza a todos los usuarios) y tiene un gran impacto también. La hipótesis 2 también tiene un alto grado de alcance aunque no tiene tanto impacto. En el caso de la hipótesis 0, tiene bajo alcance pero tiene un alto impacto. \n",
    "\n",
    "## Parte 2. Análisis de test A/B"
   ]
  },
  {
   "cell_type": "markdown",
   "metadata": {
    "id": "vcuNfSxpDBtx"
   },
   "source": [
    "### Importación de librerías y descarga de  archivos "
   ]
  },
  {
   "cell_type": "code",
   "execution_count": null,
   "metadata": {
    "id": "CmxyfFu3DBtx"
   },
   "outputs": [],
   "source": [
    "# Importación de librerías\n",
    "\n",
    "import scipy.stats as stats\n",
    "import datetime as dt\n",
    "import numpy as np\n",
    "import matplotlib.pyplot as plt\n",
    "\n",
    "# Descarga de archivos\n",
    "\n",
    "orders= pd.read_csv('/datasets/orders_us.csv')\n",
    "visits= pd.read_csv('/datasets/visitors_us.csv')\n",
    "\n"
   ]
  },
  {
   "cell_type": "markdown",
   "metadata": {
    "id": "7hzSXmsIDBtx"
   },
   "source": [
    "### Exploración de archivos "
   ]
  },
  {
   "cell_type": "code",
   "execution_count": null,
   "metadata": {
    "id": "q8rw4-8sDBtx",
    "outputId": "a49d863a-b785-4c0f-8e6e-a5c8b332e4bc"
   },
   "outputs": [
    {
     "name": "stdout",
     "output_type": "stream",
     "text": [
      "<class 'pandas.core.frame.DataFrame'>\n",
      "RangeIndex: 1197 entries, 0 to 1196\n",
      "Data columns (total 5 columns):\n",
      " #   Column         Non-Null Count  Dtype  \n",
      "---  ------         --------------  -----  \n",
      " 0   transactionId  1197 non-null   int64  \n",
      " 1   visitorId      1197 non-null   int64  \n",
      " 2   date           1197 non-null   object \n",
      " 3   revenue        1197 non-null   float64\n",
      " 4   group          1197 non-null   object \n",
      "dtypes: float64(1), int64(2), object(2)\n",
      "memory usage: 46.9+ KB\n"
     ]
    },
    {
     "data": {
      "text/html": [
       "<div>\n",
       "<style scoped>\n",
       "    .dataframe tbody tr th:only-of-type {\n",
       "        vertical-align: middle;\n",
       "    }\n",
       "\n",
       "    .dataframe tbody tr th {\n",
       "        vertical-align: top;\n",
       "    }\n",
       "\n",
       "    .dataframe thead th {\n",
       "        text-align: right;\n",
       "    }\n",
       "</style>\n",
       "<table border=\"1\" class=\"dataframe\">\n",
       "  <thead>\n",
       "    <tr style=\"text-align: right;\">\n",
       "      <th></th>\n",
       "      <th>transactionId</th>\n",
       "      <th>visitorId</th>\n",
       "      <th>date</th>\n",
       "      <th>revenue</th>\n",
       "      <th>group</th>\n",
       "    </tr>\n",
       "  </thead>\n",
       "  <tbody>\n",
       "    <tr>\n",
       "      <th>0</th>\n",
       "      <td>3667963787</td>\n",
       "      <td>3312258926</td>\n",
       "      <td>2019-08-15</td>\n",
       "      <td>30.4</td>\n",
       "      <td>B</td>\n",
       "    </tr>\n",
       "    <tr>\n",
       "      <th>1</th>\n",
       "      <td>2804400009</td>\n",
       "      <td>3642806036</td>\n",
       "      <td>2019-08-15</td>\n",
       "      <td>15.2</td>\n",
       "      <td>B</td>\n",
       "    </tr>\n",
       "    <tr>\n",
       "      <th>2</th>\n",
       "      <td>2961555356</td>\n",
       "      <td>4069496402</td>\n",
       "      <td>2019-08-15</td>\n",
       "      <td>10.2</td>\n",
       "      <td>A</td>\n",
       "    </tr>\n",
       "    <tr>\n",
       "      <th>3</th>\n",
       "      <td>3797467345</td>\n",
       "      <td>1196621759</td>\n",
       "      <td>2019-08-15</td>\n",
       "      <td>155.1</td>\n",
       "      <td>B</td>\n",
       "    </tr>\n",
       "    <tr>\n",
       "      <th>4</th>\n",
       "      <td>2282983706</td>\n",
       "      <td>2322279887</td>\n",
       "      <td>2019-08-15</td>\n",
       "      <td>40.5</td>\n",
       "      <td>B</td>\n",
       "    </tr>\n",
       "  </tbody>\n",
       "</table>\n",
       "</div>"
      ],
      "text/plain": [
       "   transactionId   visitorId        date  revenue group\n",
       "0     3667963787  3312258926  2019-08-15     30.4     B\n",
       "1     2804400009  3642806036  2019-08-15     15.2     B\n",
       "2     2961555356  4069496402  2019-08-15     10.2     A\n",
       "3     3797467345  1196621759  2019-08-15    155.1     B\n",
       "4     2282983706  2322279887  2019-08-15     40.5     B"
      ]
     },
     "execution_count": 7,
     "metadata": {},
     "output_type": "execute_result"
    }
   ],
   "source": [
    "# Exploración de dataset orders\n",
    "\n",
    "orders.info()\n",
    "orders.head()"
   ]
  },
  {
   "cell_type": "code",
   "execution_count": null,
   "metadata": {
    "id": "mYMCbZypDBtx",
    "outputId": "4b811a11-3499-4bc5-fd20-0702a42e3c42"
   },
   "outputs": [
    {
     "name": "stdout",
     "output_type": "stream",
     "text": [
      "<class 'pandas.core.frame.DataFrame'>\n",
      "RangeIndex: 62 entries, 0 to 61\n",
      "Data columns (total 3 columns):\n",
      " #   Column  Non-Null Count  Dtype \n",
      "---  ------  --------------  ----- \n",
      " 0   date    62 non-null     object\n",
      " 1   group   62 non-null     object\n",
      " 2   visits  62 non-null     int64 \n",
      "dtypes: int64(1), object(2)\n",
      "memory usage: 1.6+ KB\n"
     ]
    },
    {
     "data": {
      "text/html": [
       "<div>\n",
       "<style scoped>\n",
       "    .dataframe tbody tr th:only-of-type {\n",
       "        vertical-align: middle;\n",
       "    }\n",
       "\n",
       "    .dataframe tbody tr th {\n",
       "        vertical-align: top;\n",
       "    }\n",
       "\n",
       "    .dataframe thead th {\n",
       "        text-align: right;\n",
       "    }\n",
       "</style>\n",
       "<table border=\"1\" class=\"dataframe\">\n",
       "  <thead>\n",
       "    <tr style=\"text-align: right;\">\n",
       "      <th></th>\n",
       "      <th>date</th>\n",
       "      <th>group</th>\n",
       "      <th>visits</th>\n",
       "    </tr>\n",
       "  </thead>\n",
       "  <tbody>\n",
       "    <tr>\n",
       "      <th>0</th>\n",
       "      <td>2019-08-01</td>\n",
       "      <td>A</td>\n",
       "      <td>719</td>\n",
       "    </tr>\n",
       "    <tr>\n",
       "      <th>1</th>\n",
       "      <td>2019-08-02</td>\n",
       "      <td>A</td>\n",
       "      <td>619</td>\n",
       "    </tr>\n",
       "    <tr>\n",
       "      <th>2</th>\n",
       "      <td>2019-08-03</td>\n",
       "      <td>A</td>\n",
       "      <td>507</td>\n",
       "    </tr>\n",
       "    <tr>\n",
       "      <th>3</th>\n",
       "      <td>2019-08-04</td>\n",
       "      <td>A</td>\n",
       "      <td>717</td>\n",
       "    </tr>\n",
       "    <tr>\n",
       "      <th>4</th>\n",
       "      <td>2019-08-05</td>\n",
       "      <td>A</td>\n",
       "      <td>756</td>\n",
       "    </tr>\n",
       "  </tbody>\n",
       "</table>\n",
       "</div>"
      ],
      "text/plain": [
       "         date group  visits\n",
       "0  2019-08-01     A     719\n",
       "1  2019-08-02     A     619\n",
       "2  2019-08-03     A     507\n",
       "3  2019-08-04     A     717\n",
       "4  2019-08-05     A     756"
      ]
     },
     "execution_count": 8,
     "metadata": {},
     "output_type": "execute_result"
    }
   ],
   "source": [
    "# Exploración dataset visits\n",
    "\n",
    "visits.info()\n",
    "visits.head()"
   ]
  },
  {
   "cell_type": "markdown",
   "metadata": {
    "id": "uAlHT8zYDBtx"
   },
   "source": [
    "### Tratamiento de datos"
   ]
  },
  {
   "cell_type": "code",
   "execution_count": null,
   "metadata": {
    "id": "JfX3grEmDBtx",
    "scrolled": true
   },
   "outputs": [],
   "source": [
    "# Cambio tipo de dato a columna date para los dos datasets\n",
    "\n",
    "orders['date']= orders['date'].map(lambda x: dt.datetime.strptime(x,'%Y-%m-%d'))\n",
    "\n",
    "visits['date']= visits['date'].map(lambda x: dt.datetime.strptime(x,'%Y-%m-%d'))"
   ]
  },
  {
   "cell_type": "code",
   "execution_count": null,
   "metadata": {
    "id": "DhgMe4UkDBtx",
    "outputId": "f000a86c-64d0-443a-d2c6-5b0516c36c17"
   },
   "outputs": [
    {
     "data": {
      "text/html": [
       "<div>\n",
       "<style scoped>\n",
       "    .dataframe tbody tr th:only-of-type {\n",
       "        vertical-align: middle;\n",
       "    }\n",
       "\n",
       "    .dataframe tbody tr th {\n",
       "        vertical-align: top;\n",
       "    }\n",
       "\n",
       "    .dataframe thead th {\n",
       "        text-align: right;\n",
       "    }\n",
       "</style>\n",
       "<table border=\"1\" class=\"dataframe\">\n",
       "  <thead>\n",
       "    <tr style=\"text-align: right;\">\n",
       "      <th></th>\n",
       "      <th>transactionId</th>\n",
       "      <th>date</th>\n",
       "      <th>revenue</th>\n",
       "      <th>group</th>\n",
       "    </tr>\n",
       "    <tr>\n",
       "      <th>visitorId</th>\n",
       "      <th></th>\n",
       "      <th></th>\n",
       "      <th></th>\n",
       "      <th></th>\n",
       "    </tr>\n",
       "  </thead>\n",
       "  <tbody>\n",
       "    <tr>\n",
       "      <th>5114589</th>\n",
       "      <td>1</td>\n",
       "      <td>1</td>\n",
       "      <td>1</td>\n",
       "      <td>1</td>\n",
       "    </tr>\n",
       "    <tr>\n",
       "      <th>6958315</th>\n",
       "      <td>1</td>\n",
       "      <td>1</td>\n",
       "      <td>1</td>\n",
       "      <td>1</td>\n",
       "    </tr>\n",
       "    <tr>\n",
       "      <th>8300375</th>\n",
       "      <td>2</td>\n",
       "      <td>2</td>\n",
       "      <td>2</td>\n",
       "      <td>2</td>\n",
       "    </tr>\n",
       "    <tr>\n",
       "      <th>11685486</th>\n",
       "      <td>1</td>\n",
       "      <td>1</td>\n",
       "      <td>1</td>\n",
       "      <td>1</td>\n",
       "    </tr>\n",
       "    <tr>\n",
       "      <th>39475350</th>\n",
       "      <td>1</td>\n",
       "      <td>1</td>\n",
       "      <td>1</td>\n",
       "      <td>1</td>\n",
       "    </tr>\n",
       "    <tr>\n",
       "      <th>...</th>\n",
       "      <td>...</td>\n",
       "      <td>...</td>\n",
       "      <td>...</td>\n",
       "      <td>...</td>\n",
       "    </tr>\n",
       "    <tr>\n",
       "      <th>4266935830</th>\n",
       "      <td>2</td>\n",
       "      <td>1</td>\n",
       "      <td>1</td>\n",
       "      <td>2</td>\n",
       "    </tr>\n",
       "    <tr>\n",
       "      <th>4278982564</th>\n",
       "      <td>1</td>\n",
       "      <td>1</td>\n",
       "      <td>1</td>\n",
       "      <td>1</td>\n",
       "    </tr>\n",
       "    <tr>\n",
       "      <th>4279090005</th>\n",
       "      <td>1</td>\n",
       "      <td>1</td>\n",
       "      <td>1</td>\n",
       "      <td>1</td>\n",
       "    </tr>\n",
       "    <tr>\n",
       "      <th>4281247801</th>\n",
       "      <td>1</td>\n",
       "      <td>1</td>\n",
       "      <td>1</td>\n",
       "      <td>1</td>\n",
       "    </tr>\n",
       "    <tr>\n",
       "      <th>4283872382</th>\n",
       "      <td>1</td>\n",
       "      <td>1</td>\n",
       "      <td>1</td>\n",
       "      <td>1</td>\n",
       "    </tr>\n",
       "  </tbody>\n",
       "</table>\n",
       "<p>1031 rows × 4 columns</p>\n",
       "</div>"
      ],
      "text/plain": [
       "            transactionId  date  revenue  group\n",
       "visitorId                                      \n",
       "5114589                 1     1        1      1\n",
       "6958315                 1     1        1      1\n",
       "8300375                 2     2        2      2\n",
       "11685486                1     1        1      1\n",
       "39475350                1     1        1      1\n",
       "...                   ...   ...      ...    ...\n",
       "4266935830              2     1        1      2\n",
       "4278982564              1     1        1      1\n",
       "4279090005              1     1        1      1\n",
       "4281247801              1     1        1      1\n",
       "4283872382              1     1        1      1\n",
       "\n",
       "[1031 rows x 4 columns]"
      ]
     },
     "execution_count": 10,
     "metadata": {},
     "output_type": "execute_result"
    }
   ],
   "source": [
    "# Chequeo que los usarios esten en un solo grupo\n",
    "\n",
    "groups= orders.groupby('visitorId').agg('nunique')\n",
    "groups"
   ]
  },
  {
   "cell_type": "markdown",
   "metadata": {
    "id": "XlUKMUPADBty"
   },
   "source": [
    "Como podemos observar hay usuarios que estan en el grupo A y en el grupo B. Voy a analizar quienes son y los sacaré de la base de datos para que no influyan en el resultado."
   ]
  },
  {
   "cell_type": "code",
   "execution_count": null,
   "metadata": {
    "id": "akvqme6aDBty",
    "outputId": "b5f5e490-c296-4219-d1d4-13cc3d6cb854"
   },
   "outputs": [
    {
     "data": {
      "text/html": [
       "<div>\n",
       "<style scoped>\n",
       "    .dataframe tbody tr th:only-of-type {\n",
       "        vertical-align: middle;\n",
       "    }\n",
       "\n",
       "    .dataframe tbody tr th {\n",
       "        vertical-align: top;\n",
       "    }\n",
       "\n",
       "    .dataframe thead th {\n",
       "        text-align: right;\n",
       "    }\n",
       "</style>\n",
       "<table border=\"1\" class=\"dataframe\">\n",
       "  <thead>\n",
       "    <tr style=\"text-align: right;\">\n",
       "      <th></th>\n",
       "      <th>visitorId</th>\n",
       "      <th>transactionId</th>\n",
       "      <th>date</th>\n",
       "      <th>revenue</th>\n",
       "      <th>group</th>\n",
       "    </tr>\n",
       "  </thead>\n",
       "  <tbody>\n",
       "    <tr>\n",
       "      <th>0</th>\n",
       "      <td>8300375</td>\n",
       "      <td>2</td>\n",
       "      <td>2</td>\n",
       "      <td>2</td>\n",
       "      <td>2</td>\n",
       "    </tr>\n",
       "    <tr>\n",
       "      <th>1</th>\n",
       "      <td>199603092</td>\n",
       "      <td>5</td>\n",
       "      <td>5</td>\n",
       "      <td>4</td>\n",
       "      <td>2</td>\n",
       "    </tr>\n",
       "    <tr>\n",
       "      <th>2</th>\n",
       "      <td>232979603</td>\n",
       "      <td>2</td>\n",
       "      <td>1</td>\n",
       "      <td>2</td>\n",
       "      <td>2</td>\n",
       "    </tr>\n",
       "    <tr>\n",
       "      <th>3</th>\n",
       "      <td>237748145</td>\n",
       "      <td>5</td>\n",
       "      <td>4</td>\n",
       "      <td>3</td>\n",
       "      <td>2</td>\n",
       "    </tr>\n",
       "    <tr>\n",
       "      <th>4</th>\n",
       "      <td>276558944</td>\n",
       "      <td>2</td>\n",
       "      <td>2</td>\n",
       "      <td>2</td>\n",
       "      <td>2</td>\n",
       "    </tr>\n",
       "  </tbody>\n",
       "</table>\n",
       "</div>"
      ],
      "text/plain": [
       "   visitorId  transactionId  date  revenue  group\n",
       "0    8300375              2     2        2      2\n",
       "1  199603092              5     5        4      2\n",
       "2  232979603              2     1        2      2\n",
       "3  237748145              5     4        3      2\n",
       "4  276558944              2     2        2      2"
      ]
     },
     "execution_count": 11,
     "metadata": {},
     "output_type": "execute_result"
    }
   ],
   "source": [
    "# Busco usuarios que estan en los dos grupos\n",
    "\n",
    "double_group= groups.query('group ==2').reset_index()\n",
    "double_group.head()"
   ]
  },
  {
   "cell_type": "markdown",
   "metadata": {
    "id": "wBhhHbSqDBty"
   },
   "source": [
    "Podemos observar que 58 usuarios forman parte de los dos grupos de prueba. Ya que tienen compras en los dos grupos, los voy a sacar para que no distorsionen los resultados ya que no sabremos que grupo influyó más."
   ]
  },
  {
   "cell_type": "code",
   "execution_count": null,
   "metadata": {
    "id": "zFWSxIB0DBty",
    "outputId": "eb6a9206-6464-49b8-b3e7-2ad1679200c0"
   },
   "outputs": [
    {
     "data": {
      "text/html": [
       "<div>\n",
       "<style scoped>\n",
       "    .dataframe tbody tr th:only-of-type {\n",
       "        vertical-align: middle;\n",
       "    }\n",
       "\n",
       "    .dataframe tbody tr th {\n",
       "        vertical-align: top;\n",
       "    }\n",
       "\n",
       "    .dataframe thead th {\n",
       "        text-align: right;\n",
       "    }\n",
       "</style>\n",
       "<table border=\"1\" class=\"dataframe\">\n",
       "  <thead>\n",
       "    <tr style=\"text-align: right;\">\n",
       "      <th></th>\n",
       "      <th>transactionId</th>\n",
       "      <th>visitorId</th>\n",
       "      <th>date</th>\n",
       "      <th>revenue</th>\n",
       "      <th>group</th>\n",
       "    </tr>\n",
       "  </thead>\n",
       "  <tbody>\n",
       "    <tr>\n",
       "      <th>0</th>\n",
       "      <td>3667963787</td>\n",
       "      <td>3312258926</td>\n",
       "      <td>2019-08-15</td>\n",
       "      <td>30.4</td>\n",
       "      <td>B</td>\n",
       "    </tr>\n",
       "    <tr>\n",
       "      <th>1</th>\n",
       "      <td>2804400009</td>\n",
       "      <td>3642806036</td>\n",
       "      <td>2019-08-15</td>\n",
       "      <td>15.2</td>\n",
       "      <td>B</td>\n",
       "    </tr>\n",
       "    <tr>\n",
       "      <th>3</th>\n",
       "      <td>3797467345</td>\n",
       "      <td>1196621759</td>\n",
       "      <td>2019-08-15</td>\n",
       "      <td>155.1</td>\n",
       "      <td>B</td>\n",
       "    </tr>\n",
       "    <tr>\n",
       "      <th>4</th>\n",
       "      <td>2282983706</td>\n",
       "      <td>2322279887</td>\n",
       "      <td>2019-08-15</td>\n",
       "      <td>40.5</td>\n",
       "      <td>B</td>\n",
       "    </tr>\n",
       "    <tr>\n",
       "      <th>5</th>\n",
       "      <td>182168103</td>\n",
       "      <td>935554773</td>\n",
       "      <td>2019-08-15</td>\n",
       "      <td>35.0</td>\n",
       "      <td>B</td>\n",
       "    </tr>\n",
       "  </tbody>\n",
       "</table>\n",
       "</div>"
      ],
      "text/plain": [
       "   transactionId   visitorId       date  revenue group\n",
       "0     3667963787  3312258926 2019-08-15     30.4     B\n",
       "1     2804400009  3642806036 2019-08-15     15.2     B\n",
       "3     3797467345  1196621759 2019-08-15    155.1     B\n",
       "4     2282983706  2322279887 2019-08-15     40.5     B\n",
       "5      182168103   935554773 2019-08-15     35.0     B"
      ]
     },
     "execution_count": 12,
     "metadata": {},
     "output_type": "execute_result"
    }
   ],
   "source": [
    "# Creo nuevo dataset de orders filtrado \n",
    "\n",
    "dg= double_group['visitorId']\n",
    "\n",
    "orders_filtered= orders.query('visitorId not in (@dg)')\n",
    "orders_filtered.head()"
   ]
  },
  {
   "cell_type": "markdown",
   "metadata": {
    "id": "-uTAnWgWDBty"
   },
   "source": [
    "### Análisis de datos"
   ]
  },
  {
   "cell_type": "code",
   "execution_count": null,
   "metadata": {
    "id": "yYUz51fPDBty",
    "outputId": "70c23fb9-9f8d-4c67-f59d-9fc7fe6df41b"
   },
   "outputs": [
    {
     "data": {
      "text/html": [
       "<div>\n",
       "<style scoped>\n",
       "    .dataframe tbody tr th:only-of-type {\n",
       "        vertical-align: middle;\n",
       "    }\n",
       "\n",
       "    .dataframe tbody tr th {\n",
       "        vertical-align: top;\n",
       "    }\n",
       "\n",
       "    .dataframe thead th {\n",
       "        text-align: right;\n",
       "    }\n",
       "</style>\n",
       "<table border=\"1\" class=\"dataframe\">\n",
       "  <thead>\n",
       "    <tr style=\"text-align: right;\">\n",
       "      <th></th>\n",
       "      <th>date</th>\n",
       "      <th>group</th>\n",
       "    </tr>\n",
       "  </thead>\n",
       "  <tbody>\n",
       "    <tr>\n",
       "      <th>0</th>\n",
       "      <td>2019-08-15</td>\n",
       "      <td>B</td>\n",
       "    </tr>\n",
       "    <tr>\n",
       "      <th>7</th>\n",
       "      <td>2019-08-15</td>\n",
       "      <td>A</td>\n",
       "    </tr>\n",
       "    <tr>\n",
       "      <th>45</th>\n",
       "      <td>2019-08-16</td>\n",
       "      <td>A</td>\n",
       "    </tr>\n",
       "    <tr>\n",
       "      <th>47</th>\n",
       "      <td>2019-08-16</td>\n",
       "      <td>B</td>\n",
       "    </tr>\n",
       "    <tr>\n",
       "      <th>55</th>\n",
       "      <td>2019-08-01</td>\n",
       "      <td>A</td>\n",
       "    </tr>\n",
       "  </tbody>\n",
       "</table>\n",
       "</div>"
      ],
      "text/plain": [
       "         date group\n",
       "0  2019-08-15     B\n",
       "7  2019-08-15     A\n",
       "45 2019-08-16     A\n",
       "47 2019-08-16     B\n",
       "55 2019-08-01     A"
      ]
     },
     "execution_count": 13,
     "metadata": {},
     "output_type": "execute_result"
    }
   ],
   "source": [
    "# Armo una tabla con valores únicos de fechas y grupos de prueba\n",
    "\n",
    "dates_group= orders_filtered[['date','group']].drop_duplicates()\n",
    "dates_group.head()"
   ]
  },
  {
   "cell_type": "code",
   "execution_count": null,
   "metadata": {
    "id": "wEfaH3KmDBty",
    "outputId": "d2336875-dbfe-4c1c-cb9f-de9b3353a0c0"
   },
   "outputs": [
    {
     "data": {
      "text/html": [
       "<div>\n",
       "<style scoped>\n",
       "    .dataframe tbody tr th:only-of-type {\n",
       "        vertical-align: middle;\n",
       "    }\n",
       "\n",
       "    .dataframe tbody tr th {\n",
       "        vertical-align: top;\n",
       "    }\n",
       "\n",
       "    .dataframe thead th {\n",
       "        text-align: right;\n",
       "    }\n",
       "</style>\n",
       "<table border=\"1\" class=\"dataframe\">\n",
       "  <thead>\n",
       "    <tr style=\"text-align: right;\">\n",
       "      <th></th>\n",
       "      <th>date</th>\n",
       "      <th>group</th>\n",
       "      <th>transactionId</th>\n",
       "      <th>visitorId</th>\n",
       "      <th>revenue</th>\n",
       "    </tr>\n",
       "  </thead>\n",
       "  <tbody>\n",
       "    <tr>\n",
       "      <th>55</th>\n",
       "      <td>2019-08-01</td>\n",
       "      <td>A</td>\n",
       "      <td>23</td>\n",
       "      <td>19</td>\n",
       "      <td>2266.6</td>\n",
       "    </tr>\n",
       "    <tr>\n",
       "      <th>66</th>\n",
       "      <td>2019-08-01</td>\n",
       "      <td>B</td>\n",
       "      <td>17</td>\n",
       "      <td>17</td>\n",
       "      <td>967.2</td>\n",
       "    </tr>\n",
       "    <tr>\n",
       "      <th>175</th>\n",
       "      <td>2019-08-02</td>\n",
       "      <td>A</td>\n",
       "      <td>42</td>\n",
       "      <td>36</td>\n",
       "      <td>3734.9</td>\n",
       "    </tr>\n",
       "    <tr>\n",
       "      <th>173</th>\n",
       "      <td>2019-08-02</td>\n",
       "      <td>B</td>\n",
       "      <td>40</td>\n",
       "      <td>39</td>\n",
       "      <td>3535.3</td>\n",
       "    </tr>\n",
       "    <tr>\n",
       "      <th>291</th>\n",
       "      <td>2019-08-03</td>\n",
       "      <td>A</td>\n",
       "      <td>66</td>\n",
       "      <td>60</td>\n",
       "      <td>5550.1</td>\n",
       "    </tr>\n",
       "    <tr>\n",
       "      <th>...</th>\n",
       "      <td>...</td>\n",
       "      <td>...</td>\n",
       "      <td>...</td>\n",
       "      <td>...</td>\n",
       "      <td>...</td>\n",
       "    </tr>\n",
       "    <tr>\n",
       "      <th>533</th>\n",
       "      <td>2019-08-29</td>\n",
       "      <td>B</td>\n",
       "      <td>510</td>\n",
       "      <td>490</td>\n",
       "      <td>74576.7</td>\n",
       "    </tr>\n",
       "    <tr>\n",
       "      <th>757</th>\n",
       "      <td>2019-08-30</td>\n",
       "      <td>A</td>\n",
       "      <td>460</td>\n",
       "      <td>437</td>\n",
       "      <td>52363.7</td>\n",
       "    </tr>\n",
       "    <tr>\n",
       "      <th>690</th>\n",
       "      <td>2019-08-30</td>\n",
       "      <td>B</td>\n",
       "      <td>531</td>\n",
       "      <td>511</td>\n",
       "      <td>77863.5</td>\n",
       "    </tr>\n",
       "    <tr>\n",
       "      <th>958</th>\n",
       "      <td>2019-08-31</td>\n",
       "      <td>A</td>\n",
       "      <td>468</td>\n",
       "      <td>445</td>\n",
       "      <td>53212.0</td>\n",
       "    </tr>\n",
       "    <tr>\n",
       "      <th>930</th>\n",
       "      <td>2019-08-31</td>\n",
       "      <td>B</td>\n",
       "      <td>548</td>\n",
       "      <td>528</td>\n",
       "      <td>79651.2</td>\n",
       "    </tr>\n",
       "  </tbody>\n",
       "</table>\n",
       "<p>62 rows × 5 columns</p>\n",
       "</div>"
      ],
      "text/plain": [
       "          date group  transactionId  visitorId  revenue\n",
       "55  2019-08-01     A             23         19   2266.6\n",
       "66  2019-08-01     B             17         17    967.2\n",
       "175 2019-08-02     A             42         36   3734.9\n",
       "173 2019-08-02     B             40         39   3535.3\n",
       "291 2019-08-03     A             66         60   5550.1\n",
       "..         ...   ...            ...        ...      ...\n",
       "533 2019-08-29     B            510        490  74576.7\n",
       "757 2019-08-30     A            460        437  52363.7\n",
       "690 2019-08-30     B            531        511  77863.5\n",
       "958 2019-08-31     A            468        445  53212.0\n",
       "930 2019-08-31     B            548        528  79651.2\n",
       "\n",
       "[62 rows x 5 columns]"
      ]
     },
     "execution_count": 14,
     "metadata": {},
     "output_type": "execute_result"
    }
   ],
   "source": [
    "# Recopilamos los datos diarios acumulados sobre los pedidos\n",
    "\n",
    "orders_agg= dates_group.apply(lambda x: orders_filtered[np.logical_and(orders_filtered['date']<= x['date'], orders_filtered['group'] == x['group'])].agg({'date':'max','group':'max','transactionId':pd.Series.nunique,'visitorId':pd.Series.nunique,'revenue':'sum'}),axis=1).sort_values(by=['date','group'])\n",
    "orders_agg"
   ]
  },
  {
   "cell_type": "code",
   "execution_count": null,
   "metadata": {
    "id": "-71TO2gQDBty",
    "outputId": "d469b3f0-410f-41c2-c921-7e5ff41f1fe2"
   },
   "outputs": [
    {
     "data": {
      "text/html": [
       "<div>\n",
       "<style scoped>\n",
       "    .dataframe tbody tr th:only-of-type {\n",
       "        vertical-align: middle;\n",
       "    }\n",
       "\n",
       "    .dataframe tbody tr th {\n",
       "        vertical-align: top;\n",
       "    }\n",
       "\n",
       "    .dataframe thead th {\n",
       "        text-align: right;\n",
       "    }\n",
       "</style>\n",
       "<table border=\"1\" class=\"dataframe\">\n",
       "  <thead>\n",
       "    <tr style=\"text-align: right;\">\n",
       "      <th></th>\n",
       "      <th>date</th>\n",
       "      <th>group</th>\n",
       "      <th>visits</th>\n",
       "    </tr>\n",
       "  </thead>\n",
       "  <tbody>\n",
       "    <tr>\n",
       "      <th>55</th>\n",
       "      <td>2019-08-01</td>\n",
       "      <td>A</td>\n",
       "      <td>719</td>\n",
       "    </tr>\n",
       "    <tr>\n",
       "      <th>66</th>\n",
       "      <td>2019-08-01</td>\n",
       "      <td>B</td>\n",
       "      <td>713</td>\n",
       "    </tr>\n",
       "    <tr>\n",
       "      <th>175</th>\n",
       "      <td>2019-08-02</td>\n",
       "      <td>A</td>\n",
       "      <td>1338</td>\n",
       "    </tr>\n",
       "    <tr>\n",
       "      <th>173</th>\n",
       "      <td>2019-08-02</td>\n",
       "      <td>B</td>\n",
       "      <td>1294</td>\n",
       "    </tr>\n",
       "    <tr>\n",
       "      <th>291</th>\n",
       "      <td>2019-08-03</td>\n",
       "      <td>A</td>\n",
       "      <td>1845</td>\n",
       "    </tr>\n",
       "    <tr>\n",
       "      <th>...</th>\n",
       "      <td>...</td>\n",
       "      <td>...</td>\n",
       "      <td>...</td>\n",
       "    </tr>\n",
       "    <tr>\n",
       "      <th>533</th>\n",
       "      <td>2019-08-29</td>\n",
       "      <td>B</td>\n",
       "      <td>17708</td>\n",
       "    </tr>\n",
       "    <tr>\n",
       "      <th>757</th>\n",
       "      <td>2019-08-30</td>\n",
       "      <td>A</td>\n",
       "      <td>18037</td>\n",
       "    </tr>\n",
       "    <tr>\n",
       "      <th>690</th>\n",
       "      <td>2019-08-30</td>\n",
       "      <td>B</td>\n",
       "      <td>18198</td>\n",
       "    </tr>\n",
       "    <tr>\n",
       "      <th>958</th>\n",
       "      <td>2019-08-31</td>\n",
       "      <td>A</td>\n",
       "      <td>18736</td>\n",
       "    </tr>\n",
       "    <tr>\n",
       "      <th>930</th>\n",
       "      <td>2019-08-31</td>\n",
       "      <td>B</td>\n",
       "      <td>18916</td>\n",
       "    </tr>\n",
       "  </tbody>\n",
       "</table>\n",
       "<p>62 rows × 3 columns</p>\n",
       "</div>"
      ],
      "text/plain": [
       "          date group  visits\n",
       "55  2019-08-01     A     719\n",
       "66  2019-08-01     B     713\n",
       "175 2019-08-02     A    1338\n",
       "173 2019-08-02     B    1294\n",
       "291 2019-08-03     A    1845\n",
       "..         ...   ...     ...\n",
       "533 2019-08-29     B   17708\n",
       "757 2019-08-30     A   18037\n",
       "690 2019-08-30     B   18198\n",
       "958 2019-08-31     A   18736\n",
       "930 2019-08-31     B   18916\n",
       "\n",
       "[62 rows x 3 columns]"
      ]
     },
     "execution_count": 15,
     "metadata": {},
     "output_type": "execute_result"
    }
   ],
   "source": [
    "# Recopilo los datos diarios acumulados sobre las visitas\n",
    "\n",
    "visits_agg= dates_group.apply(lambda x: visits[np.logical_and(visits['date']<= x['date'], visits['group'] == x['group'])].agg({'date':'max','group':'max','visits':'sum'}),axis=1).sort_values(by=['date','group'])\n",
    "visits_agg"
   ]
  },
  {
   "cell_type": "code",
   "execution_count": null,
   "metadata": {
    "id": "XECeUJq5DBtz",
    "outputId": "ecc9d488-e00c-4b13-9bb0-b6b8f1050786"
   },
   "outputs": [
    {
     "data": {
      "text/html": [
       "<div>\n",
       "<style scoped>\n",
       "    .dataframe tbody tr th:only-of-type {\n",
       "        vertical-align: middle;\n",
       "    }\n",
       "\n",
       "    .dataframe tbody tr th {\n",
       "        vertical-align: top;\n",
       "    }\n",
       "\n",
       "    .dataframe thead th {\n",
       "        text-align: right;\n",
       "    }\n",
       "</style>\n",
       "<table border=\"1\" class=\"dataframe\">\n",
       "  <thead>\n",
       "    <tr style=\"text-align: right;\">\n",
       "      <th></th>\n",
       "      <th>date</th>\n",
       "      <th>group</th>\n",
       "      <th>orders</th>\n",
       "      <th>users</th>\n",
       "      <th>revenue</th>\n",
       "      <th>visits</th>\n",
       "    </tr>\n",
       "  </thead>\n",
       "  <tbody>\n",
       "    <tr>\n",
       "      <th>0</th>\n",
       "      <td>2019-08-01</td>\n",
       "      <td>A</td>\n",
       "      <td>23</td>\n",
       "      <td>19</td>\n",
       "      <td>2266.6</td>\n",
       "      <td>719</td>\n",
       "    </tr>\n",
       "    <tr>\n",
       "      <th>1</th>\n",
       "      <td>2019-08-01</td>\n",
       "      <td>B</td>\n",
       "      <td>17</td>\n",
       "      <td>17</td>\n",
       "      <td>967.2</td>\n",
       "      <td>713</td>\n",
       "    </tr>\n",
       "    <tr>\n",
       "      <th>2</th>\n",
       "      <td>2019-08-02</td>\n",
       "      <td>A</td>\n",
       "      <td>42</td>\n",
       "      <td>36</td>\n",
       "      <td>3734.9</td>\n",
       "      <td>1338</td>\n",
       "    </tr>\n",
       "    <tr>\n",
       "      <th>3</th>\n",
       "      <td>2019-08-02</td>\n",
       "      <td>B</td>\n",
       "      <td>40</td>\n",
       "      <td>39</td>\n",
       "      <td>3535.3</td>\n",
       "      <td>1294</td>\n",
       "    </tr>\n",
       "    <tr>\n",
       "      <th>4</th>\n",
       "      <td>2019-08-03</td>\n",
       "      <td>A</td>\n",
       "      <td>66</td>\n",
       "      <td>60</td>\n",
       "      <td>5550.1</td>\n",
       "      <td>1845</td>\n",
       "    </tr>\n",
       "  </tbody>\n",
       "</table>\n",
       "</div>"
      ],
      "text/plain": [
       "        date group  orders  users  revenue  visits\n",
       "0 2019-08-01     A      23     19   2266.6     719\n",
       "1 2019-08-01     B      17     17    967.2     713\n",
       "2 2019-08-02     A      42     36   3734.9    1338\n",
       "3 2019-08-02     B      40     39   3535.3    1294\n",
       "4 2019-08-03     A      66     60   5550.1    1845"
      ]
     },
     "execution_count": 16,
     "metadata": {},
     "output_type": "execute_result"
    }
   ],
   "source": [
    "# Uno las dos tablas orders_agg y visits_agg\n",
    "\n",
    "cumulative_data= orders_agg.merge(visits_agg, left_on=['date','group'], right_on=['date','group'])\n",
    "cumulative_data.columns=['date','group','orders','users','revenue','visits']\n",
    "cumulative_data.head()"
   ]
  },
  {
   "cell_type": "code",
   "execution_count": null,
   "metadata": {
    "id": "rc6OY8imDBtz",
    "outputId": "566e5e1e-cfff-4945-9b86-54a1e12e1651"
   },
   "outputs": [
    {
     "data": {
      "text/plain": [
       "<matplotlib.legend.Legend at 0x7f1d4c7ba550>"
      ]
     },
     "execution_count": 17,
     "metadata": {},
     "output_type": "execute_result"
    },
    {
     "data": {
      "image/png": "[encoded data removed]",
      "text/plain": [
       "<Figure size 1080x720 with 1 Axes>"
      ]
     },
     "metadata": {
      "needs_background": "light"
     },
     "output_type": "display_data"
    }
   ],
   "source": [
    "# Gráfico que muestar el ingreso acumulado por grupo\n",
    "\n",
    "# Agrupo ingresos por grupo A\n",
    "cumulative_rev_A= cumulative_data[cumulative_data['group']== \"A\"][['date','revenue','orders']]\n",
    "\n",
    "# Agrupo ingresos por grupo B\n",
    "cumulative_rev_B= cumulative_data[cumulative_data['group']== \"B\"][['date','revenue','orders']]\n",
    "\n",
    "\n",
    "# Gráfico A y B\n",
    "plt.figure(figsize=(15,10))\n",
    "plt.plot(cumulative_rev_A['date'], cumulative_rev_A['revenue'], label='A')\n",
    "plt.plot(cumulative_rev_B['date'], cumulative_rev_B['revenue'], label='B')\n",
    "plt.legend()\n"
   ]
  },
  {
   "cell_type": "markdown",
   "metadata": {
    "id": "zBDbqWM8DBtz"
   },
   "source": [
    "Como podemos observar, los ingresos aumentan constantemente para ambos grupos. Además, podemos ver que el grupo B tiene un pico de ingresos notable y a partir de ahí sigue en crecimiento constante. Esto puede deberse a un aumento en los pedidos o compra de pedidos muy caros que hacen aumentar los ingresos."
   ]
  },
  {
   "cell_type": "code",
   "execution_count": null,
   "metadata": {
    "id": "8PHaEg1HDBtz",
    "outputId": "8857bfd2-1dc8-4e58-83c3-e356729fcfba"
   },
   "outputs": [
    {
     "data": {
      "text/plain": [
       "<matplotlib.legend.Legend at 0x7f1d43cf4b20>"
      ]
     },
     "execution_count": 18,
     "metadata": {},
     "output_type": "execute_result"
    },
    {
     "data": {
      "image/png": "[encoded data removed]",
      "text/plain": [
       "<Figure size 1080x720 with 1 Axes>"
      ]
     },
     "metadata": {
      "needs_background": "light"
     },
     "output_type": "display_data"
    }
   ],
   "source": [
    "# Gráfico  que muestra el tamaño de pedido promedio acumulado por grupo\n",
    "\n",
    "plt.figure(figsize=(15,10))\n",
    "plt.plot(cumulative_rev_A['date'], cumulative_rev_A['revenue'] / cumulative_rev_A['orders'], label='A')\n",
    "plt.plot(cumulative_rev_B['date'], cumulative_rev_B['revenue'] / cumulative_rev_B['orders'], label='B')\n",
    "plt.legend()"
   ]
  },
  {
   "cell_type": "markdown",
   "metadata": {
    "id": "Ck4KpZjEDBtz"
   },
   "source": [
    "Como podemos observar en el gráfico, los datos son muy fluctuantes. A pesar de esas fluctuaciones, también podemos ver el pico que tiene el grupo B. A diferencia con el gráfico de los ingresos donde luego del pico los ingresos siguen aumentando, aca luego del pico, el tamaño de pedido promedio desciende. El grupo A dentro de las fluctuaciones que tiene, se mantuvo un poco más estable."
   ]
  },
  {
   "cell_type": "code",
   "execution_count": null,
   "metadata": {
    "id": "mKGsUht9DBtz",
    "outputId": "8a91ba88-470c-4487-c335-5715cd410494"
   },
   "outputs": [
    {
     "data": {
      "text/plain": [
       "<matplotlib.lines.Line2D at 0x7f1d443e4310>"
      ]
     },
     "execution_count": 19,
     "metadata": {},
     "output_type": "execute_result"
    },
    {
     "data": {
      "image/png": "[encoded data removed]",
      "text/plain": [
       "<Figure size 1080x720 with 1 Axes>"
      ]
     },
     "metadata": {
      "needs_background": "light"
     },
     "output_type": "display_data"
    }
   ],
   "source": [
    "# Gráfico que muestra la diferencia relativa en el tamaño de pedido promedio acumulado para el grupo B en comparación con el grupo A\n",
    "\n",
    "cumulative_revenueAB= cumulative_rev_A.merge(cumulative_rev_B, left_on='date',right_on='date',suffixes=['A','B'])\n",
    "\n",
    "plt.figure(figsize=(15,10))\n",
    "plt.plot(cumulative_revenueAB['date'],(cumulative_revenueAB['revenueB'] / cumulative_revenueAB['ordersB']) / (cumulative_revenueAB['revenueA']/cumulative_revenueAB['ordersA'])-1)\n",
    "plt.axhline(y=0, color='black',linestyle='--')"
   ]
  },
  {
   "cell_type": "markdown",
   "metadata": {
    "id": "Xs--Q3QcDBtz"
   },
   "source": [
    "Podemos observar que hay varios cambios repentinos y considerables. Al igual que en el gráfico anterios, luego del pico de pedidos, comienza a descender."
   ]
  },
  {
   "cell_type": "code",
   "execution_count": null,
   "metadata": {
    "id": "sWYb3e_-DBtz",
    "outputId": "da575251-d1a6-46f3-ca33-5faf52531e06"
   },
   "outputs": [
    {
     "data": {
      "text/plain": [
       "<matplotlib.legend.Legend at 0x7f1d443662b0>"
      ]
     },
     "execution_count": 20,
     "metadata": {},
     "output_type": "execute_result"
    },
    {
     "data": {
      "image/png": "[encoded data removed]",
      "text/plain": [
       "<Figure size 1080x720 with 1 Axes>"
      ]
     },
     "metadata": {
      "needs_background": "light"
     },
     "output_type": "display_data"
    }
   ],
   "source": [
    "# Calculo la tasa de conversión de cada grupo.\n",
    "\n",
    "cumulative_data['conversion']= cumulative_data['orders']/ cumulative_data['visits']\n",
    "\n",
    "# Separo datos por grupo de prueba A y B\n",
    "\n",
    "cumulative_data_a= cumulative_data[cumulative_data['group'] == 'A']\n",
    "\n",
    "cumulative_data_b= cumulative_data[cumulative_data['group'] == 'B']\n",
    "\n",
    "#Represento gráficamente las tasas de conversión diarias de los dos grupos\n",
    "\n",
    "plt.figure(figsize=(15,10))\n",
    "plt.plot(cumulative_data_a['date'],cumulative_data_a['conversion'], label='A')\n",
    "plt.plot(cumulative_data_b['date'],cumulative_data_b['conversion'], label='B')\n",
    "plt.legend()"
   ]
  },
  {
   "cell_type": "markdown",
   "metadata": {
    "id": "QHBlwQv1DBtz"
   },
   "source": [
    "El gráfico muestra que al principio de la prueba, el grupo A tenía una tasa de conversión más alta que B. Sin embargo, podemos observar que la tasa de conversión de B comenzó a aumentar hasta superar a la tasa de conversión de  A y se mantuvo ,aunque con algunas fluctuaciones, por encima de A. "
   ]
  },
  {
   "cell_type": "code",
   "execution_count": null,
   "metadata": {
    "id": "oLZGpPmVDBtz",
    "outputId": "1d777b5e-45d5-4b9f-f425-3abf4e8da300"
   },
   "outputs": [
    {
     "data": {
      "text/plain": [
       "<matplotlib.collections.PathCollection at 0x7f1d442e2790>"
      ]
     },
     "execution_count": 21,
     "metadata": {},
     "output_type": "execute_result"
    },
    {
     "data": {
      "image/png": "[encoded data removed]",
      "text/plain": [
       "<Figure size 432x288 with 1 Axes>"
      ]
     },
     "metadata": {
      "needs_background": "light"
     },
     "output_type": "display_data"
    }
   ],
   "source": [
    "#Trazo un gráfico de dispersión del número de pedidos por usuario\n",
    "\n",
    "# Busco cantidad de pedidos realizo cada usuario\n",
    "order_user= orders_filtered.drop(['group','revenue','date'], axis=1).groupby('visitorId',as_index=False).agg({'transactionId':pd.Series.nunique})\n",
    "order_user.columns=['visitorId','orders']\n",
    "\n",
    "# Gráfico de dispersión\n",
    "x_values= pd.Series(range(0,len(order_user)))\n",
    "plt.scatter(x_values, order_user['orders'])"
   ]
  },
  {
   "cell_type": "markdown",
   "metadata": {
    "id": "ecE_rTF0DBt0"
   },
   "source": [
    "Como demuestra el gráfico, la mayoría de los usuarios hicieron 1 pedido. En menor medida tenemos usuarios que hicieron 2 y 3 pedidos aunque no sabemos con exactitud cuantos fueron."
   ]
  },
  {
   "cell_type": "code",
   "execution_count": null,
   "metadata": {
    "id": "RRU5AUefDBt0",
    "outputId": "e24f3706-adb8-40b5-8ee9-f444be1a9e49"
   },
   "outputs": [
    {
     "data": {
      "text/plain": [
       "array([1., 2.])"
      ]
     },
     "execution_count": 22,
     "metadata": {},
     "output_type": "execute_result"
    }
   ],
   "source": [
    "# Calculo los percentiles 95 y 99 para el número de pedidos por usuario. \n",
    "np.percentile(order_user['orders'],[95,99])"
   ]
  },
  {
   "cell_type": "markdown",
   "metadata": {
    "id": "ODfLZmM_DBt0"
   },
   "source": [
    "Podemos observar que no más de 5% de los usuarios realizaron más de 1 pedido y no más del 1% de los usuarios realizaron más de 2 pedidos. (a partir de 2 ya es anómalo)"
   ]
  },
  {
   "cell_type": "code",
   "execution_count": null,
   "metadata": {
    "id": "GK4T4l5YDBt0",
    "outputId": "92c11390-4bd2-4afe-fe87-4d6e48bc8cd2"
   },
   "outputs": [
    {
     "data": {
      "text/plain": [
       "<matplotlib.collections.PathCollection at 0x7f1d442c3f40>"
      ]
     },
     "execution_count": 23,
     "metadata": {},
     "output_type": "execute_result"
    },
    {
     "data": {
      "image/png": "[encoded data removed]",
      "text/plain": [
       "<Figure size 432x288 with 1 Axes>"
      ]
     },
     "metadata": {
      "needs_background": "light"
     },
     "output_type": "display_data"
    }
   ],
   "source": [
    "# Trazo un gráfico de dispersión de los precios de los pedidos. \n",
    "\n",
    "x_values= pd.Series(range(0,len(orders_filtered['revenue'])))\n",
    "plt.scatter(x_values, orders_filtered['revenue'])\n"
   ]
  },
  {
   "cell_type": "markdown",
   "metadata": {
    "id": "aictQrdgDBt0"
   },
   "source": [
    "A simple vista, podemos observar que la mayoría de los precios de los pedidos estan por debajo de 1000. Sin embargo, podemos ver que tambíen hay precios por arriba de ese valor y uno muy superior cerca de los 20000.  "
   ]
  },
  {
   "cell_type": "code",
   "execution_count": null,
   "metadata": {
    "id": "fzbWoSKTDBt0",
    "outputId": "0f0ee547-29d4-4d68-b032-010beea09c9f"
   },
   "outputs": [
    {
     "data": {
      "text/plain": [
       "array([414.275, 830.3  ])"
      ]
     },
     "execution_count": 24,
     "metadata": {},
     "output_type": "execute_result"
    }
   ],
   "source": [
    "# Calculo los percentiles 95 y 99 de los precios de los pedidos. \n",
    "np.percentile(orders_filtered['revenue'], [95,99])"
   ]
  },
  {
   "cell_type": "markdown",
   "metadata": {
    "id": "HYmtXqi1DBt0"
   },
   "source": [
    "Podemos observar que no más del 5% de los precios superan 414 y no más del 1% superan 830. (Voy a tomar como datos atipicos a partir de 600 para eliminar entre el 5% y el 1% ."
   ]
  },
  {
   "cell_type": "code",
   "execution_count": null,
   "metadata": {
    "id": "SRs55gFFDBt0",
    "outputId": "fae04cd7-44ac-4988-84ac-d53d75e5b7c1"
   },
   "outputs": [
    {
     "name": "stdout",
     "output_type": "stream",
     "text": [
      "P_value: 0.011018084110014696\n",
      "Diferencia relativa grupo B: 0.1597977924896936\n"
     ]
    }
   ],
   "source": [
    "# Busco la significancia estadística de la diferencia en la conversión entre los grupos utilizando los datos en bruto\n",
    "\n",
    "# Separo los datos por grupo A y B\n",
    "\n",
    "orders_a= orders_filtered[orders_filtered['group'] == 'A'].groupby('visitorId', as_index=False).agg({'transactionId':pd.Series.nunique})\n",
    "orders_a.columns=['visitorId','orders']\n",
    "\n",
    "orders_b= orders_filtered[orders_filtered['group'] == 'B'].groupby('visitorId', as_index=False).agg({'transactionId':pd.Series.nunique})\n",
    "orders_b.columns=['visitorId','orders']\n",
    "\n",
    "# Calculo para cada grupo la cantidad de compras por usuario\n",
    "\n",
    "group_a= pd.concat([orders_a['orders'],pd.Series(0,index= np.arange(visits[visits['group']== 'A']['visits'].sum() - len(orders_a['orders'])),name='orders')],axis=0)\n",
    "\n",
    "group_b=  pd.concat([orders_b['orders'],pd.Series(0,index= np.arange(visits[visits['group']== 'B']['visits'].sum() - len(orders_b['orders'])),name='orders')],axis=0)\n",
    "\n",
    "# Calculo significación estadistíca\n",
    "print('P_value:',stats.mannwhitneyu(group_a,group_b)[1])\n",
    "\n",
    "# Calculo ganancia relativa de conversión grupo b\n",
    "print('Diferencia relativa grupo B:',group_b.mean() / group_a.mean()-1)"
   ]
  },
  {
   "cell_type": "markdown",
   "metadata": {
    "id": "59i5SQ2iDBt0"
   },
   "source": [
    "El p_value resultó ser menor a 0.05 de alpha, por lo que rechazo la hipótesis nula. El análisis de los datos sin procesar,mostró que la diferencia ente los grupos A y B es estadísticamente significativa. \n",
    "\n",
    "El grupo B tiene una ganancia de conversión relativa del 15% con respecto al grupo A."
   ]
  },
  {
   "cell_type": "code",
   "execution_count": null,
   "metadata": {
    "id": "5QT86ieuDBt1",
    "outputId": "97db528d-3de5-4ea5-beee-28b2c116ff43"
   },
   "outputs": [
    {
     "name": "stdout",
     "output_type": "stream",
     "text": [
      "P_value: 0.8622329690015668\n",
      "Diferencia relativa grupo b: 0.27834487693078414\n"
     ]
    }
   ],
   "source": [
    "# Busco la significancia estadística de la diferencia en el tamaño promedio de pedido entre los grupos utilizando los datos en bruto\n",
    "\n",
    "# Calculo significación estadistíca\n",
    "print('P_value:',stats.mannwhitneyu(orders_filtered[orders_filtered['group'] == 'A']['revenue'],orders_filtered[orders_filtered['group'] == 'B']['revenue'])[1])\n",
    "\n",
    "# Calculo ganancia relativa de conversión grupo b\n",
    "print('Diferencia relativa grupo b:',orders_filtered[orders_filtered['group'] == 'B']['revenue'].mean() / orders_filtered[orders_filtered['group'] == 'A']['revenue'].mean() -1)"
   ]
  },
  {
   "cell_type": "markdown",
   "metadata": {
    "id": "DK8KDrE3DBt1"
   },
   "source": [
    "El p_value es mayor que alpha(0.05), no tengo motivos para rechazar la hipótesis nula.\n",
    "\n",
    "El grupo B tiene un mayor tamaño promedio de pedidos (27%)."
   ]
  },
  {
   "cell_type": "markdown",
   "metadata": {
    "id": "qTNFOzU2DBt1"
   },
   "source": [
    "A continuación, voy a eliminar las anomalías de mis datos para ver como cambia el resultado de las pruebas."
   ]
  },
  {
   "cell_type": "code",
   "execution_count": null,
   "metadata": {
    "id": "a_X4on3uDBt1"
   },
   "outputs": [],
   "source": [
    "# Filtro los usuarios con muchas órdenes\n",
    "abnormal_orders= pd.concat([orders_a[orders_a['orders'] > 1]['visitorId'],orders_b[orders_b['orders'] > 1]['visitorId']],axis=0)\n",
    "\n",
    "# Filtro los datos por total de ingreso\n",
    "abnormal_revenue= orders_filtered[orders_filtered['revenue'] > 600]['visitorId']\n",
    "\n",
    "# Uno ambas tablas\n",
    "abnormal_users= pd.concat([abnormal_orders, abnormal_revenue], axis=0).drop_duplicates().sort_values()"
   ]
  },
  {
   "cell_type": "code",
   "execution_count": null,
   "metadata": {
    "id": "n2-hHBTSDBt1",
    "outputId": "6f5c967c-657f-4071-de84-305687263785"
   },
   "outputs": [
    {
     "name": "stdout",
     "output_type": "stream",
     "text": [
      "P_value: 0.006317042055931068\n",
      "Diferencia relativa entre los dos grupos: 0.19602815068535206\n"
     ]
    }
   ],
   "source": [
    "# Busco la significancia estadística de la diferencia en la conversión entre los grupos utilizando los datos filtrados\n",
    "\n",
    "# Separo por grupos\n",
    "a_filtered= pd.concat([orders_a[np.logical_not(orders_a['visitorId'].isin(abnormal_users))]['orders'],pd.Series(0,index= np.arange(visits[visits['group'] == 'A']['visits'].sum() - len(orders_a['orders'])),name='orders')],axis=0)\n",
    "\n",
    "b_filtered=  pd.concat([orders_b[np.logical_not(orders_b['visitorId'].isin(abnormal_users))]['orders'],pd.Series(0,index= np.arange(visits[visits['group'] == 'B']['visits'].sum() - len(orders_b['orders'])),name='orders')],axis=0)\n",
    "\n",
    "# Calculo significación estadistíca\n",
    "print('P_value:',stats.mannwhitneyu(a_filtered,b_filtered)[1])\n",
    "\n",
    "# Calculo ganancia relativa de conversión grupo b\n",
    "print('Diferencia relativa entre los dos grupos:',b_filtered.mean() / a_filtered.mean()-1)"
   ]
  },
  {
   "cell_type": "markdown",
   "metadata": {
    "id": "eHPelNqUDBt1"
   },
   "source": [
    "Teniendo en cuenta el valor alpha de 0.05, rechazo la hipótesis nula ya que la diferencia es estadísticamente significativa.\n",
    "\n",
    "En comparación con los datos por grupos sin sacar los valores anómalos, el p_value de los datos filtrados es menor que el de los datos en bruto.\n",
    "\n",
    "El grupo B sigue teniendo una ganancia relativa mayor al grupo A. En este caso, las ganancias en los datos filtrados es de 19% mientras que en los datos sin filtrar era de 15%."
   ]
  },
  {
   "cell_type": "code",
   "execution_count": null,
   "metadata": {
    "id": "VM5otMRHDBt1",
    "outputId": "295ed38f-278b-4edf-c084-82f6cc4afee1"
   },
   "outputs": [
    {
     "name": "stdout",
     "output_type": "stream",
     "text": [
      "P_value: 0.8343101668191173\n",
      "Diferencia relativa entre los dos grupos: 0.06074262145919951\n"
     ]
    }
   ],
   "source": [
    "# Busco la significancia estadística de la diferencia en el tamaño promedio de pedido entre los grupos utilizando los datos filtrados\n",
    "\n",
    "# Calculo significación estadistíca\n",
    "print('P_value:', stats.mannwhitneyu(orders_filtered[np.logical_and(orders_filtered['group'] == 'A',np.logical_not(orders_filtered['visitorId'].isin(abnormal_users)))]['revenue'],orders_filtered[np.logical_and(orders_filtered['group'] == 'B',np.logical_not(orders_filtered['visitorId'].isin(abnormal_users)))]['revenue'])[1])\n",
    "\n",
    "# Calculo ganancia relativa de conversión grupo b\n",
    "print('Diferencia relativa entre los dos grupos:',orders_filtered[np.logical_and(orders_filtered['group'] == 'B',np.logical_not(orders_filtered['visitorId'].isin(abnormal_users)))]['revenue'].mean() / orders_filtered[np.logical_and(orders_filtered['group'] == 'A',np.logical_not(orders_filtered['visitorId'].isin(abnormal_users)))]['revenue'].mean() -1)"
   ]
  },
  {
   "cell_type": "markdown",
   "metadata": {
    "id": "F3x8Gnp-DBt1"
   },
   "source": [
    "Como podemos observar, no tenemos motivos para rechazar la hipótesis nula y el tamaño promedio de pedidos del grupo B es apenas 6% más que el grupo A."
   ]
  },
  {
   "cell_type": "markdown",
   "metadata": {
    "id": "5by5i1XtDBt1"
   },
   "source": [
    "## Conclusiones\n"
   ]
  },
  {
   "cell_type": "markdown",
   "metadata": {
    "id": "nZvsfQJtDBt1"
   },
   "source": [
    "Para concluir, hay una leve diferencia entre los datos completos y los datos filtrados(sin anomalías). Con respecto a la diferencia en la conversión podemos observar que hay una diferencia estadíasticamente significativa. Antes del filtrado de datos, el valor_p era de 0.011 luego de sacar los valores atípicos paso a ser de 0.006. El grupo B paso a tener una diferencia relativa con respecto al grupo A de 15% a 19%.\n",
    "\n",
    "En relación a la diferencia en el tamaño promedio, el valor p no mostro cambios significativos mientras que la diferencia relativa del grupo B con respecto al grupo A disminuyó considerablemente. Paso de 27% a un 6% luego de filtrar los datos. A pesar de todo esto el grupo B sigue teniendo la delantera con respecto al grupo A.\n"
   ]
  }
 ],
 "metadata": {
  "colab": {
   "provenance": []
  },
  "kernelspec": {
   "display_name": "Python 3 (ipykernel)",
   "language": "python",
   "name": "python3"
  },
  "language_info": {
   "codemirror_mode": {
    "name": "ipython",
    "version": 3
   },
   "file_extension": ".py",
   "mimetype": "text/x-python",
   "name": "python",
   "nbconvert_exporter": "python",
   "pygments_lexer": "ipython3",
   "version": "3.9.13"
  },
  "toc": {
   "base_numbering": 1,
   "nav_menu": {},
   "number_sections": true,
   "sideBar": true,
   "skip_h1_title": true,
   "title_cell": "Table of Contents",
   "title_sidebar": "Contents",
   "toc_cell": true,
   "toc_position": {},
   "toc_section_display": true,
   "toc_window_display": false
  }
 },
 "nbformat": 4,
 "nbformat_minor": 1
}
